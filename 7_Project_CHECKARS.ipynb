{
  "nbformat": 4,
  "nbformat_minor": 0,
  "metadata": {
    "colab": {
      "name": "Project CHECKARS.ipynb",
      "provenance": [],
      "collapsed_sections": []
    },
    "kernelspec": {
      "name": "python3",
      "display_name": "Python 3"
    }
  },
  "cells": [
    {
      "cell_type": "markdown",
      "metadata": {
        "id": "YAmw_s-VtIaV"
      },
      "source": [
        "# Project - Storytelling / Dashboards on Cars\n",
        "\n",
        "## Let's remember cars dataset:\n",
        "The dataset contains the information of 10.000 cars. There are 9 different columns:\n",
        "- Make (Car brand, example: Ford)\n",
        "- Model (The Model of the Car, example: Focus)\n",
        "- Year (The Year in which the car was build, example: 2012)\n",
        "- Variant (The car model version showing the PS, example: 1.6 Trendline)\n",
        "- Kms (The kilometers the cars has been driven, example: 90000)\n",
        "- Price (The offered price for the car, example: 10000)\n",
        "- Doors (How many doors the car has, example: 4)\n",
        "- Kind (Type of car, example: Pick-Up)\n",
        "- Location (Where the car is located, example: Buenos Aires)\n",
        "\n",
        "--- \n",
        "## The Task:\n",
        "\n",
        "Use the results from the previous week and build a story around the dataset. Prepare that in a form of a report or a presentation. Use your visuals.\n",
        "\n",
        "When reviewing and presenting your project focus more on the content - your results, conclusions and advise for the cars company! No need to share your code.\n",
        "\n",
        "Bonus:\n",
        "\n",
        "Remember our lecture about KPIs? Think about what metrics you would like to monitor for this dataset and design a dashboard (could be even a picture of a drawn sketch on a piece of paper)."
      ]
    },
    {
      "cell_type": "code",
      "metadata": {
        "id": "AckRu5ccGF61"
      },
      "source": [
        "# Imports\n",
        "import pandas as pd\n",
        "import seaborn as sns\n",
        "\n",
        "#reading data\n",
        "cars = pd.read_csv(\"https://raw.githubusercontent.com/juliandnl/redi_ss20/master/cars.csv\")"
      ],
      "execution_count": null,
      "outputs": []
    },
    {
      "cell_type": "code",
      "metadata": {
        "id": "uHU1xAZVWvvp"
      },
      "source": [
        ""
      ],
      "execution_count": null,
      "outputs": []
    },
    {
      "cell_type": "code",
      "metadata": {
        "colab": {
          "base_uri": "https://localhost:8080/",
          "height": 94
        },
        "id": "t_oU8YSOt-b0",
        "cellView": "form",
        "outputId": "d65b67e8-f975-4990-b243-6367c933a38f"
      },
      "source": [
        "#@title Review Criteria:\n",
        "%%html\n",
        "<h3><input type=\"checkbox\"> 1. Was the presentation clear / easy to understand? <br></h3>  \n",
        "<h3><input type=\"checkbox\"> 1. Was the bonus question prepared? <br></h3>  "
      ],
      "execution_count": null,
      "outputs": [
        {
          "output_type": "display_data",
          "data": {
            "text/html": [
              "<h3><input type=\"checkbox\"> 1. Was the presentation clear / easy to understand? <br></h3>  \n",
              "<h3><input type=\"checkbox\"> 1. Was the bonus question prepared? <br></h3>  "
            ],
            "text/plain": [
              "<IPython.core.display.HTML object>"
            ]
          },
          "metadata": {
            "tags": []
          }
        }
      ]
    },
    {
      "cell_type": "code",
      "metadata": {
        "id": "fRTB2f8LuOsP"
      },
      "source": [
        "input(\"Do you have any feedback?\")"
      ],
      "execution_count": null,
      "outputs": []
    }
  ]
}