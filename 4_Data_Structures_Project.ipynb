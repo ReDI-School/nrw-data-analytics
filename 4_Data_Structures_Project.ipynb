{
  "nbformat": 4,
  "nbformat_minor": 0,
  "metadata": {
    "colab": {
      "name": "4. Data Structures Project.ipynb",
      "provenance": [],
      "collapsed_sections": []
    },
    "kernelspec": {
      "name": "python3",
      "display_name": "Python 3"
    }
  },
  "cells": [
    {
      "cell_type": "markdown",
      "metadata": {
        "id": "YAmw_s-VtIaV"
      },
      "source": [
        "# Project - APIs and Data Structures\n",
        "Description select one of the following APIs. Read the instruction on how to access the information from it. Access the data from the API. Analyze the content.\n",
        "\n",
        "Steps to do:\n",
        "1. Select an API\n",
        "2. Read the documentation for the API\n",
        "3. Analyze the content\n",
        "\n",
        "--- \n",
        "# Questions\n",
        "1. What kind of data can you get from the API?\n",
        "2. Does the data contain lists? What is the content of these lists?\n",
        "3. Does the data contain dictionaries? What is the content of the dictionaries?\n",
        "\n",
        "Recommended API:\n",
        "- https://jobs.github.com/api\n",
        "\n",
        "More APIs:\n",
        "- https://www.alphavantage.co/\n",
        "- https://github.com/workforce-data-initiative/skills-api/wiki/API-Overview\n",
        "- https://www.quandl.com/\n",
        "- https://vpic.nhtsa.dot.gov/api/\n",
        "- https://github.com/openaddresses/openaddresses"
      ]
    },
    {
      "cell_type": "code",
      "metadata": {
        "id": "e3BETDCSNRGO"
      },
      "source": [
        "import requests\n",
        "import pandas as pd"
      ],
      "execution_count": null,
      "outputs": []
    },
    {
      "cell_type": "code",
      "metadata": {
        "id": "youByTMRkl6p"
      },
      "source": [
        "# Example\n",
        "url = \"https://jobs.github.com/positions.json?description=python&part_time=true&location=germany\"\n",
        "jobs = requests.get(url, timeout=5)"
      ],
      "execution_count": null,
      "outputs": []
    },
    {
      "cell_type": "code",
      "metadata": {
        "id": "nessl3K9nHsu"
      },
      "source": [
        "jobs = jobs.json()"
      ],
      "execution_count": null,
      "outputs": []
    },
    {
      "cell_type": "markdown",
      "metadata": {
        "id": "62GxlDFlhO1K"
      },
      "source": [
        "question 1: the API can provide data in JSON format"
      ]
    },
    {
      "cell_type": "code",
      "metadata": {
        "colab": {
          "base_uri": "https://localhost:8080/"
        },
        "id": "0ETwOnMVp4qi",
        "outputId": "e848319f-faf9-4692-fd72-158d8de5245c"
      },
      "source": [
        "type(jobs)"
      ],
      "execution_count": null,
      "outputs": [
        {
          "output_type": "execute_result",
          "data": {
            "text/plain": [
              "list"
            ]
          },
          "metadata": {
            "tags": []
          },
          "execution_count": 16
        }
      ]
    },
    {
      "cell_type": "code",
      "metadata": {
        "colab": {
          "base_uri": "https://localhost:8080/"
        },
        "id": "-8rI4_ShSwia",
        "outputId": "9e7d9521-1d4d-4aaf-d3b6-48cb17645cb6"
      },
      "source": [
        "jobs[0]"
      ],
      "execution_count": null,
      "outputs": [
        {
          "output_type": "execute_result",
          "data": {
            "text/plain": [
              "{'company': 'InnoGames GmbH',\n",
              " 'company_logo': 'https://jobs.github.com/rails/active_storage/blobs/eyJfcmFpbHMiOnsibWVzc2FnZSI6IkJBaHBBbStkIiwiZXhwIjpudWxsLCJwdXIiOiJibG9iX2lkIn19--a225a028a7aa91c1e14d01fb6828332fd0659dcf/logo_innogames_devlop.png',\n",
              " 'company_url': 'http:',\n",
              " 'created_at': 'Mon Mar 22 10:29:29 UTC 2021',\n",
              " 'description': '<p>As a <strong>Hadoop Engineer</strong>, you will join our agile, cross-functional team to advance the development of our next-generation Big Data infrastructure &amp; tools with your interest in innovative software architecture and knowledge of object-oriented programming. <strong>Together as a team</strong>, we are proud to early adopt new features and always strive for innovations in products and technologies.</p>\\n<p><strong>Your mission:</strong></p>\\n<ul>\\n<li>\\n<strong>Develop data tools.</strong> Work closely with our Analytics department to shape and design our data tools.</li>\\n<li>\\n<strong>Enhance our services.</strong> Continuously improve our Hadoop services with your knowledge of software architecture and high-quality code.</li>\\n<li>\\n<strong>Find solutions.</strong> Work on data-centric, complex problems using distributed systems.</li>\\n<li>\\n<strong>Process big data.</strong> Enable analysis of massive data sources by creating high-quality data transformation pipelines and platforms.</li>\\n<li>\\n<strong>Collaborate across teams.</strong> Optimize, maintain and configure the Hadoop infrastructure and other components (e.g., Kafka and Flink) in close collaboration with System Administration.</li>\\n<li>\\n<strong>Grow professionally.</strong> Take your time for personal development and visiting conferences.</li>\\n</ul>\\n<p><strong>Your skill set:</strong></p>\\n<ul>\\n<li>\\n<strong>Big data focus.</strong> You want to have an impact on our team\\'s performance based on your practical IT knowledge in the Big Data environment, especially in the area of Data Engineering.</li>\\n<li>\\n<strong>Professional expertise.</strong> You have worked for 4+ years with components of common Hadoop distributions (esp. Spark, Hive, Kafka, HBase), ideally with certification.</li>\\n<li>\\n<strong>Software craftsmanship.</strong> You are experienced and well-versed in software architecture and -design, database structures and -design, and object-oriented/functional programming.</li>\\n<li>\\n<strong>Analytics support.</strong> You know your way around analytics tools, for example, using Python &amp; SQL.</li>\\n<li>\\n<strong>Can-do attitude.</strong> You are passionate about finding solutions, and you will always find a way based on your hands-on mentality.</li>\\n<li>\\n<strong>Agile mindset.</strong> You are experienced working with agile methodologies (Kanban or Scrum), and you appreciate having a lot of flexibility in a dynamic environment.</li>\\n<li>\\n<strong>Open-minded team player.</strong> You are eager to use your English skills every day &amp; confident working in an international, multicultural environment.</li>\\n</ul>\\n<p><strong>Your power-ups:</strong></p>\\n<ul>\\n<li>\\n<strong>Hybrid working model.</strong> Contribute from your home in any German city - our company adapted to a hybrid working model, offering remote work even after all the COVID limitations are gone.</li>\\n<li>\\n<strong>Flexible working hours.</strong> We offer trust-based working hours as well as active-breaks - play table tennis with your team, work out in our gym or go to our rooftop terrace to get some fresh air.</li>\\n<li>\\n<strong>Equipment delivery.</strong> If you are interested in remote work, we will send all the needed equipment to your home office.</li>\\n<li>\\n<strong>Relocation assistance.</strong> If you are interested in relocating to Hamburg/Germany, we will help you relocate to Hamburg/Germany regarding all the needed resources.</li>\\n<li>\\n<strong>Team of specialists.</strong> Shape the success story of InnoGames with a great team of driven experts in an international culture.</li>\\n<li>\\n<strong>Dynamic people.</strong> Work as part of an agile multicultural team – enabling you and your team to form and actively optimize work processes.</li>\\n<li>\\n<strong>Creative processes.</strong> We are offering an atmosphere to empower creative thinking and strong results.</li>\\n<li>\\n<strong>Team events.</strong> Participate in regular team events (e.g., curling, cooking, paintball), barbecue together on our rooftop terrace, and enjoy regular company-get-togethers.</li>\\n<li>\\n<strong>English first.</strong> Our company language is English, and we support all our employees and their partners with optional German lessons.</li>\\n<li>\\n<strong>Outstanding remuneration.</strong> We are offering competitive compensation &amp; exceptional benefits, ranging from a company gym to smartphone/tablet of your own choice for personal use.</li>\\n<li>\\n<strong>Career opportunities.</strong> We actively support personal development, pay for any necessary textbooks as well as sending you to conferences.</li>\\n<li>\\n<strong>Transportation support.</strong> We contribute to your public transport ticket and subsidize contributions to the company pension plan.</li>\\n<li>\\n<strong>Food &amp; drinks.</strong> We offer free drinks and fresh fruit to contribute to your health and wellbeing; enjoy the meals delivered by our in-house canteen or cook on your own in one of our employee kitchens.</li>\\n<li>\\n<strong>Comfy offices.</strong> Learn more about our charms and benefits in our virtual office tour.</li>\\n</ul>\\n<p><strong>Our story:</strong></p>\\n<p>InnoGames is Germany’s leading developer and publisher of mobile and online games. The company based in Hamburg is best known for Forge of Empires, Elvenar and Tribal Wars. InnoGames’ complete portfolio encompasses seven live games and several mobile titles in production.</p>\\n<p>Born as a hobby, InnoGames today has a team of 400 employees from more than 30 nations who share the passion of creating unique games that players across the globe enjoy for years. In order to further expand our success and to realize new projects, we are constantly looking for young talents, experienced professionals, and creative thinkers.</p>\\n<p>Excited to start your journey with InnoGames and join our dynamic team as a <strong>Hadoop Engineer</strong>? We look forward to receiving your application through our <a href=\"https://www.innogames.com/career/detail/job/hadoop-engineer-big-data/?s=GitHub\">online application form</a>. <strong>Maximilian Kaeding</strong> would be happy to answer any questions you may have.</p>\\n<p><strong>Apply and #stayhome!</strong> Due to the <strong>coronavirus</strong> outbreak, we switched our operations company-wide to home office and turned our hiring process into <strong>a fully virtual one</strong>. When hiring, we are also open for our new team members starting their work remotely at the time being or adjusting contract start dates accordingly. Stay home and safe!</p>\\n',\n",
              " 'how_to_apply': '<p><a href=\"https://www.innogames.com/career/detail/job/hadoop-engineer-big-data/?s=Github\">https://www.innogames.com/career/detail/job/hadoop-engineer-big-data/?s=Github</a></p>\\n',\n",
              " 'id': '95a48b30-f4f2-4d11-9382-b786d9b2a096',\n",
              " 'location': 'Hamburg',\n",
              " 'title': 'Hadoop Engineer - Big Data',\n",
              " 'type': 'Full Time',\n",
              " 'url': 'https://jobs.github.com/positions/95a48b30-f4f2-4d11-9382-b786d9b2a096'}"
            ]
          },
          "metadata": {
            "tags": []
          },
          "execution_count": 17
        }
      ]
    },
    {
      "cell_type": "markdown",
      "metadata": {
        "id": "I8pKPHJlQCEZ"
      },
      "source": [
        "The content of the list are:  company, company website, date of job listing, location, title, type, job description and how to apply."
      ]
    },
    {
      "cell_type": "markdown",
      "metadata": {
        "id": "xnQMN5CQt90T"
      },
      "source": [
        "--- \n",
        "# Review\n",
        "\n",
        "This section is only for the reviewing team!\n",
        "\n",
        "Guideline how to review:\n",
        "https://docs.google.com/presentation/d/1YORFwlfVQo9ogj7jR9t6_pqxmGIlpBSGubbp1UdtcBQ/edit?usp=sharing\n"
      ]
    },
    {
      "cell_type": "code",
      "metadata": {
        "id": "t_oU8YSOt-b0",
        "cellView": "form",
        "colab": {
          "base_uri": "https://localhost:8080/",
          "height": 167
        },
        "outputId": "93ddd7eb-1532-463c-9ad1-37939b5ae501"
      },
      "source": [
        "#@title Review Criteria:\n",
        "%%html\n",
        "<h3><input type=\"checkbox\"> 1. Are all questions answered? <br></h3> \n",
        "<h3><input type=\"checkbox\"> 2. Does all code run through? <br></h3> \n",
        "<h3><input type=\"checkbox\"> 3. Are the conclusions understandable?  <br></h3> \n",
        "<h3><input type=\"checkbox\"> 4. Are the bonus question answered?  <br></h3> "
      ],
      "execution_count": null,
      "outputs": [
        {
          "output_type": "display_data",
          "data": {
            "text/html": [
              "<h3><input type=\"checkbox\"> 1. Are all questions answered? <br></h3> \n",
              "<h3><input type=\"checkbox\"> 2. Does all code run through? <br></h3> \n",
              "<h3><input type=\"checkbox\"> 3. Are the conclusions understandable?  <br></h3> \n",
              "<h3><input type=\"checkbox\"> 4. Are the bonus question answered?  <br></h3> "
            ],
            "text/plain": [
              "<IPython.core.display.HTML object>"
            ]
          },
          "metadata": {
            "tags": []
          }
        }
      ]
    },
    {
      "cell_type": "code",
      "metadata": {
        "id": "fRTB2f8LuOsP"
      },
      "source": [
        "input(\"Do you have any feedback?\")"
      ],
      "execution_count": null,
      "outputs": []
    }
  ]
}