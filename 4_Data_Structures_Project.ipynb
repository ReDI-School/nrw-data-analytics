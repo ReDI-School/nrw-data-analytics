{
  "nbformat": 4,
  "nbformat_minor": 0,
  "metadata": {
    "colab": {
      "name": "4. Data Structures Project.ipynb",
      "provenance": [],
      "collapsed_sections": []
    },
    "kernelspec": {
      "name": "python3",
      "display_name": "Python 3"
    }
  },
  "cells": [
    {
      "cell_type": "markdown",
      "metadata": {
        "id": "YAmw_s-VtIaV"
      },
      "source": [
        "# Project - APIs and Data Structures\n",
        "Description select one of the following APIs. Read the instruction on how to access the information from it. Access the data from the API. Analyze the content.\n",
        "\n",
        "Steps to do:\n",
        "1. Select an API\n",
        "2. Read the documentation for the API\n",
        "3. Analyze the content\n",
        "\n",
        "--- \n",
        "# Questions\n",
        "1. What kind of data can you get from the API?\n",
        "2. Does the data contain lists? What is the content of these lists?\n",
        "3. Does the data contain dictionaries? What is the content of the dictionaries?\n",
        "\n",
        "Recommended API:\n",
        "- https://jobs.github.com/api\n",
        "\n",
        "More APIs:\n",
        "- https://www.alphavantage.co/\n",
        "- https://github.com/workforce-data-initiative/skills-api/wiki/API-Overview\n",
        "- https://www.quandl.com/\n",
        "- https://vpic.nhtsa.dot.gov/api/\n",
        "- https://github.com/openaddresses/openaddresses"
      ]
    },
    {
      "cell_type": "markdown",
      "metadata": {
        "id": "xnQMN5CQt90T"
      },
      "source": [
        "--- \n",
        "# Review\n",
        "\n",
        "This section is only for the reviewing team!\n",
        "\n",
        "Guideline how to review:\n",
        "https://docs.google.com/presentation/d/1YORFwlfVQo9ogj7jR9t6_pqxmGIlpBSGubbp1UdtcBQ/edit?usp=sharing\n"
      ]
    },
    {
      "cell_type": "code",
      "metadata": {
        "id": "t_oU8YSOt-b0",
        "cellView": "form",
        "colab": {
          "base_uri": "https://localhost:8080/",
          "height": 167
        },
        "outputId": "93ddd7eb-1532-463c-9ad1-37939b5ae501"
      },
      "source": [
        "#@title Review Criteria:\n",
        "%%html\n",
        "<h3><input type=\"checkbox\"> 1. Are all questions answered? <br></h3> \n",
        "<h3><input type=\"checkbox\"> 2. Does all code run through? <br></h3> \n",
        "<h3><input type=\"checkbox\"> 3. Are the conclusions understandable?  <br></h3> \n",
        "<h3><input type=\"checkbox\"> 4. Are the bonus question answered?  <br></h3> "
      ],
      "execution_count": null,
      "outputs": [
        {
          "output_type": "display_data",
          "data": {
            "text/html": [
              "<h3><input type=\"checkbox\"> 1. Are all questions answered? <br></h3> \n",
              "<h3><input type=\"checkbox\"> 2. Does all code run through? <br></h3> \n",
              "<h3><input type=\"checkbox\"> 3. Are the conclusions understandable?  <br></h3> \n",
              "<h3><input type=\"checkbox\"> 4. Are the bonus question answered?  <br></h3> "
            ],
            "text/plain": [
              "<IPython.core.display.HTML object>"
            ]
          },
          "metadata": {
            "tags": []
          }
        }
      ]
    },
    {
      "cell_type": "code",
      "metadata": {
        "id": "fRTB2f8LuOsP"
      },
      "source": [
        "input(\"Do you have any feedback?\")"
      ],
      "execution_count": null,
      "outputs": []
    }
  ]
}