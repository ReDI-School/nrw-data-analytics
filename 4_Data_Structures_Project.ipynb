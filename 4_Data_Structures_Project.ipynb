{
  "cells": [
    {
      "cell_type": "markdown",
      "metadata": {
        "id": "YAmw_s-VtIaV"
      },
      "source": [
        "# Project : APIs and Data Structures\n",
        "\n",
        "## Description: \n",
        "You will learn how to use a public API to read information provided by the API using the data structures that you learnt until now. \n",
        "\n",
        "--- \n",
        "### Steps:\n",
        "1. Select an API from the list below\n",
        "2. Read the documentation for the API\n",
        "3. Analyze the content\n",
        "4. Answer the questions and share your responses\n",
        "\n",
        "--- \n",
        "### List of Public APIs:\n",
        "- https://www.alphavantage.co/\n",
        "- https://github.com/workforce-data-initiative/skills-api/wiki/API-Overview\n",
        "- https://www.quandl.com/\n",
        "- https://vpic.nhtsa.dot.gov/api/\n",
        "- https://github.com/openaddresses/openaddresses\n",
        "\n",
        "--- \n",
        "### Questions\n",
        "1. What kind of data can you get from the API?\n",
        "2. Does the data contain lists? What is the content of these lists?\n",
        "3. Does the data contain dictionaries? What is the content of the dictionaries?\n",
        "4. Can you use the data to showcase anything useful from the APIs?"
      ]
    },
    {
      "cell_type": "markdown",
      "metadata": {
        "id": "xnQMN5CQt90T"
      },
      "source": [
        "--- \n",
        "# Review\n",
        "\n",
        "This section is for the reviewing team!\n",
        "\n",
        "Guidelines on [how to review](https://docs.google.com/presentation/d/1YORFwlfVQo9ogj7jR9t6_pqxmGIlpBSGubbp1UdtcBQ/edit?usp=sharing)\n"
      ]
    },
    {
      "cell_type": "markdown",
      "metadata": {
        "cellView": "form",
        "colab": {
          "base_uri": "https://localhost:8080/",
          "height": 167
        },
        "id": "t_oU8YSOt-b0",
        "outputId": "93ddd7eb-1532-463c-9ad1-37939b5ae501"
      },
      "source": [
        "### Review Criteria:\n",
        "\n",
        "1. Are all questions answered? \n",
        "2. Does all code run through? \n",
        "3. Are the conclusions understandable?  \n",
        "4. Are the bonus question answered?  \n",
        "\n",
        "Do you have any feedback?"
      ]
    }
  ],
  "metadata": {
    "colab": {
      "collapsed_sections": [],
      "name": "4. Data Structures Project.ipynb",
      "provenance": []
    },
    "kernelspec": {
      "display_name": "Python 3",
      "name": "python3"
    }
  },
  "nbformat": 4,
  "nbformat_minor": 0
}
