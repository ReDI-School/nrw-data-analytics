{
  "nbformat": 4,
  "nbformat_minor": 0,
  "metadata": {
    "colab": {
      "name": "2. Project Intro to Pandas [Filters & Groupby].ipynb",
      "provenance": [],
      "collapsed_sections": []
    },
    "kernelspec": {
      "name": "python3",
      "display_name": "Python 3"
    }
  },
  "cells": [
    {
      "cell_type": "markdown",
      "metadata": {
        "id": "jHXW5E0kZ38J"
      },
      "source": [
        "![Immoscout](https://raw.githubusercontent.com/juliandnl/redi_ss20/master/image.png)"
      ]
    },
    {
      "cell_type": "code",
      "metadata": {
        "id": "a6OnaoTVfAt9"
      },
      "source": [
        ""
      ],
      "execution_count": null,
      "outputs": []
    },
    {
      "cell_type": "markdown",
      "metadata": {
        "id": "KAxkfPwXadvb"
      },
      "source": [
        "# Project - Intro to Pandas [Filter and Group]\n",
        "\n",
        "--- \n",
        "## The description:\n",
        "Hi all! You're already familiar with the Immobilienscout 24 dataset from the last project. In this project, we will explore the dataset further by sorting, filtering and grouping.\n",
        "\n",
        "--- \n",
        "## The dataset:\n",
        "The datasets contains information about rental appartments in Berlin. \n",
        "One row is for one appartment. The dataset contains 6 columns.  \n",
        "- Region: is the Berlin district, where the flat is located\n",
        "- Condition: is the condition of the flat\n",
        "- Rooms: The number of rooms the flat has\n",
        "- Rent: Monthly rent for the flat\n",
        "- Year_Construction: The year in which the house was build\n",
        "- Space: How many square meters does the flat has?\n",
        "\n",
        "--- \n",
        "## The Task:\n",
        "\n",
        "1. How many apartments are there in Mitte in a 'well-kept' condition?\n",
        "2. How many apartments are there in Kreuzberg built before 1900?\n",
        "3. What are the average spaces of the apartments having 4 rooms?\n",
        "4. Which is the most expensive region on average and what is the maximum rent for this region?\n",
        "\n",
        "Bonus:\n",
        "5. What are the min, max and average number of rooms of the apartments in Köpenick?\n"
      ]
    },
    {
      "cell_type": "markdown",
      "metadata": {
        "id": "k2Gv9pEiU4Ao"
      },
      "source": [
        "# 1.How many apartments are there in Mitte in a 'well-kept' condition?"
      ]
    },
    {
      "cell_type": "markdown",
      "metadata": {
        "id": "FrujnQH60Wt3"
      },
      "source": [
        "# 2.How many apartments are there in Kreuzberg built before 1900?"
      ]
    },
    {
      "cell_type": "markdown",
      "metadata": {
        "id": "KwB1lNjx0YdA"
      },
      "source": [
        "# 3.What are the average spaces of the apartments by the number of rooms?"
      ]
    },
    {
      "cell_type": "markdown",
      "metadata": {
        "id": "pWtdIHKbqq7R"
      },
      "source": [
        "# 4.Which is the most expensive region on average and what is the maximum rent for this region?"
      ]
    },
    {
      "cell_type": "markdown",
      "metadata": {
        "id": "tcXNCkyBCSuH"
      },
      "source": [
        "# Bonus Question:\n",
        "5. What are the min, max and average number of rooms of the apartments in Köpenick?\n"
      ]
    },
    {
      "cell_type": "markdown",
      "metadata": {
        "id": "wTOrpLU3ydPb"
      },
      "source": [
        "--- \n",
        "# Review\n",
        "\n",
        "This section is only for the reviewing team!\n",
        "\n",
        "Guideline how to review:\n",
        "https://docs.google.com/presentation/d/1YORFwlfVQo9ogj7jR9t6_pqxmGIlpBSGubbp1UdtcBQ/edit?usp=sharing\n"
      ]
    },
    {
      "cell_type": "code",
      "metadata": {
        "colab": {
          "base_uri": "https://localhost:8080/",
          "height": 167
        },
        "id": "9vtETkgtq3EZ",
        "outputId": "2dddcbf9-d5fa-49cf-9ea4-e528223f54ae"
      },
      "source": [
        "#@title Review Criteria:\n",
        "%%html\n",
        "<h3><input type=\"checkbox\"> 1. Are all questions answered? <br></h3> \n",
        "<h3><input type=\"checkbox\"> 2. Does all code run through? <br></h3> \n",
        "<h3><input type=\"checkbox\"> 3. Are the conclusions understandable?  <br></h3> \n",
        "<h3><input type=\"checkbox\"> 4. Are the bonus question answered?  <br></h3> "
      ],
      "execution_count": null,
      "outputs": [
        {
          "output_type": "display_data",
          "data": {
            "text/html": [
              "<h3><input type=\"checkbox\"> 1. Are all questions answered? <br></h3> \n",
              "<h3><input type=\"checkbox\"> 2. Does all code run through? <br></h3> \n",
              "<h3><input type=\"checkbox\"> 3. Are the conclusions understandable?  <br></h3> \n",
              "<h3><input type=\"checkbox\"> 4. Are the bonus question answered?  <br></h3> "
            ],
            "text/plain": [
              "<IPython.core.display.HTML object>"
            ]
          },
          "metadata": {
            "tags": []
          }
        }
      ]
    },
    {
      "cell_type": "code",
      "metadata": {
        "id": "fsfgxKrtrA-f"
      },
      "source": [
        "input(\"Do you have any feedback?\")"
      ],
      "execution_count": null,
      "outputs": []
    },
    {
      "cell_type": "markdown",
      "metadata": {
        "id": "-_xXkEtXJdI3"
      },
      "source": [
        ""
      ]
    }
  ]
}