{
  "nbformat": 4,
  "nbformat_minor": 0,
  "metadata": {
    "colab": {
      "name": "2. Project Intro to Pandas [Filters & Groupby].ipynb",
      "provenance": [],
      "collapsed_sections": []
    },
    "kernelspec": {
      "name": "python3",
      "display_name": "Python 3"
    }
  },
  "cells": [
    {
      "cell_type": "markdown",
      "metadata": {
        "id": "jHXW5E0kZ38J"
      },
      "source": [
        "![Immoscout](https://raw.githubusercontent.com/juliandnl/redi_ss20/master/image.png)"
      ]
    },
    {
      "cell_type": "code",
      "metadata": {
        "id": "a6OnaoTVfAt9"
      },
      "source": [
        ""
      ],
      "execution_count": null,
      "outputs": []
    },
    {
      "cell_type": "markdown",
      "metadata": {
        "id": "KAxkfPwXadvb"
      },
      "source": [
        "# Project - Intro to Pandas [Filter and Group]\n",
        "\n",
        "--- \n",
        "## The description:\n",
        "Hi all! You're already familiar with the Immobilienscout 24 dataset from the last project. In this project, we will explore the dataset further by sorting, filtering and grouping.\n",
        "\n",
        "--- \n",
        "## The dataset:\n",
        "The datasets contains information about rental appartments in Berlin. \n",
        "One row is for one appartment. The dataset contains 6 columns.  \n",
        "- Region: is the Berlin district, where the flat is located\n",
        "- Condition: is the condition of the flat\n",
        "- Rooms: The number of rooms the flat has\n",
        "- Rent: Monthly rent for the flat\n",
        "- Year_Construction: The year in which the house was build\n",
        "- Space: How many square meters does the flat has?\n",
        "\n",
        "--- \n",
        "## The Task:\n",
        "\n",
        "1. How many apartments is in Mitte in a 'well-kept' condition?\n",
        "2. How many apartments are there in Kreuzberg built before 1900?\n",
        "3. What are the average spaces of the apartments having 4 rooms?\n",
        "4. Which is the most expensive region on average and what is the maximum rent for this region?\n",
        "\n",
        "Bonus:\n",
        "5. What are the min, max and average number of rooms of the apartments in Köpenick?\n"
      ]
    },
    {
      "cell_type": "code",
      "metadata": {
        "id": "lhduQalLT4mA"
      },
      "source": [
        "# Imports\n",
        "import pandas as pd"
      ],
      "execution_count": null,
      "outputs": []
    },
    {
      "cell_type": "code",
      "metadata": {
        "id": "v9cxv3jwUp5Z",
        "colab": {
          "base_uri": "https://localhost:8080/",
          "height": 204
        },
        "outputId": "e2d7b113-7e77-4624-b7f2-d09b0dc0eb7e"
      },
      "source": [
        "# Read in dataset\n",
        "rentals = pd.read_csv(\"https://raw.githubusercontent.com/juliandnl/redi_ss20/master/berlin_rental.csv\")\n",
        "rentals.head()"
      ],
      "execution_count": null,
      "outputs": [
        {
          "output_type": "execute_result",
          "data": {
            "text/html": [
              "<div>\n",
              "<style scoped>\n",
              "    .dataframe tbody tr th:only-of-type {\n",
              "        vertical-align: middle;\n",
              "    }\n",
              "\n",
              "    .dataframe tbody tr th {\n",
              "        vertical-align: top;\n",
              "    }\n",
              "\n",
              "    .dataframe thead th {\n",
              "        text-align: right;\n",
              "    }\n",
              "</style>\n",
              "<table border=\"1\" class=\"dataframe\">\n",
              "  <thead>\n",
              "    <tr style=\"text-align: right;\">\n",
              "      <th></th>\n",
              "      <th>Region</th>\n",
              "      <th>Condition</th>\n",
              "      <th>Rooms</th>\n",
              "      <th>Rent</th>\n",
              "      <th>Year_Construction</th>\n",
              "      <th>Space</th>\n",
              "    </tr>\n",
              "  </thead>\n",
              "  <tbody>\n",
              "    <tr>\n",
              "      <th>0</th>\n",
              "      <td>Mitte</td>\n",
              "      <td>first_time_use</td>\n",
              "      <td>4.0</td>\n",
              "      <td>2659.00</td>\n",
              "      <td>2019</td>\n",
              "      <td>117.20</td>\n",
              "    </tr>\n",
              "    <tr>\n",
              "      <th>1</th>\n",
              "      <td>Kreuzberg</td>\n",
              "      <td>first_time_use</td>\n",
              "      <td>1.0</td>\n",
              "      <td>1200.00</td>\n",
              "      <td>2020</td>\n",
              "      <td>29.33</td>\n",
              "    </tr>\n",
              "    <tr>\n",
              "      <th>2</th>\n",
              "      <td>Köpenick</td>\n",
              "      <td>well_kept</td>\n",
              "      <td>2.0</td>\n",
              "      <td>979.00</td>\n",
              "      <td>1997</td>\n",
              "      <td>83.61</td>\n",
              "    </tr>\n",
              "    <tr>\n",
              "      <th>3</th>\n",
              "      <td>Wilmersdorf</td>\n",
              "      <td>well_kept</td>\n",
              "      <td>4.0</td>\n",
              "      <td>1830.22</td>\n",
              "      <td>1900</td>\n",
              "      <td>171.18</td>\n",
              "    </tr>\n",
              "    <tr>\n",
              "      <th>4</th>\n",
              "      <td>Kreuzberg</td>\n",
              "      <td>first_time_use</td>\n",
              "      <td>2.0</td>\n",
              "      <td>2272.00</td>\n",
              "      <td>2020</td>\n",
              "      <td>88.27</td>\n",
              "    </tr>\n",
              "  </tbody>\n",
              "</table>\n",
              "</div>"
            ],
            "text/plain": [
              "        Region       Condition  Rooms     Rent  Year_Construction   Space\n",
              "0        Mitte  first_time_use    4.0  2659.00               2019  117.20\n",
              "1    Kreuzberg  first_time_use    1.0  1200.00               2020   29.33\n",
              "2     Köpenick       well_kept    2.0   979.00               1997   83.61\n",
              "3  Wilmersdorf       well_kept    4.0  1830.22               1900  171.18\n",
              "4    Kreuzberg  first_time_use    2.0  2272.00               2020   88.27"
            ]
          },
          "metadata": {
            "tags": []
          },
          "execution_count": 3
        }
      ]
    },
    {
      "cell_type": "markdown",
      "metadata": {
        "id": "k2Gv9pEiU4Ao"
      },
      "source": [
        "# 1.How many apartments is in Mitte in a 'well-kept' condition?"
      ]
    },
    {
      "cell_type": "code",
      "metadata": {
        "id": "tDe02TLz0U4W",
        "colab": {
          "base_uri": "https://localhost:8080/",
          "height": 235
        },
        "outputId": "35f53313-a754-47b2-f70b-731d8cc5a71d"
      },
      "source": [
        "# your code\n",
        "ren=rentals[(rentals['Region'] == 'Mitte') & (rentals['Condition'] == 'well_kept')]\n",
        "ren"
      ],
      "execution_count": null,
      "outputs": [
        {
          "output_type": "execute_result",
          "data": {
            "text/html": [
              "<div>\n",
              "<style scoped>\n",
              "    .dataframe tbody tr th:only-of-type {\n",
              "        vertical-align: middle;\n",
              "    }\n",
              "\n",
              "    .dataframe tbody tr th {\n",
              "        vertical-align: top;\n",
              "    }\n",
              "\n",
              "    .dataframe thead th {\n",
              "        text-align: right;\n",
              "    }\n",
              "</style>\n",
              "<table border=\"1\" class=\"dataframe\">\n",
              "  <thead>\n",
              "    <tr style=\"text-align: right;\">\n",
              "      <th></th>\n",
              "      <th>Region</th>\n",
              "      <th>Condition</th>\n",
              "      <th>Rooms</th>\n",
              "      <th>Rent</th>\n",
              "      <th>Year_Construction</th>\n",
              "      <th>Space</th>\n",
              "    </tr>\n",
              "  </thead>\n",
              "  <tbody>\n",
              "    <tr>\n",
              "      <th>15</th>\n",
              "      <td>Mitte</td>\n",
              "      <td>well_kept</td>\n",
              "      <td>2.0</td>\n",
              "      <td>1505.60</td>\n",
              "      <td>2018</td>\n",
              "      <td>75.28</td>\n",
              "    </tr>\n",
              "    <tr>\n",
              "      <th>272</th>\n",
              "      <td>Mitte</td>\n",
              "      <td>well_kept</td>\n",
              "      <td>3.0</td>\n",
              "      <td>1639.00</td>\n",
              "      <td>2014</td>\n",
              "      <td>96.00</td>\n",
              "    </tr>\n",
              "    <tr>\n",
              "      <th>392</th>\n",
              "      <td>Mitte</td>\n",
              "      <td>well_kept</td>\n",
              "      <td>1.0</td>\n",
              "      <td>924.44</td>\n",
              "      <td>2000</td>\n",
              "      <td>61.14</td>\n",
              "    </tr>\n",
              "    <tr>\n",
              "      <th>608</th>\n",
              "      <td>Mitte</td>\n",
              "      <td>well_kept</td>\n",
              "      <td>3.0</td>\n",
              "      <td>1800.00</td>\n",
              "      <td>2013</td>\n",
              "      <td>80.95</td>\n",
              "    </tr>\n",
              "    <tr>\n",
              "      <th>735</th>\n",
              "      <td>Mitte</td>\n",
              "      <td>well_kept</td>\n",
              "      <td>2.0</td>\n",
              "      <td>1350.00</td>\n",
              "      <td>2014</td>\n",
              "      <td>68.00</td>\n",
              "    </tr>\n",
              "    <tr>\n",
              "      <th>736</th>\n",
              "      <td>Mitte</td>\n",
              "      <td>well_kept</td>\n",
              "      <td>3.0</td>\n",
              "      <td>3500.00</td>\n",
              "      <td>2009</td>\n",
              "      <td>165.00</td>\n",
              "    </tr>\n",
              "  </tbody>\n",
              "</table>\n",
              "</div>"
            ],
            "text/plain": [
              "    Region  Condition  Rooms     Rent  Year_Construction   Space\n",
              "15   Mitte  well_kept    2.0  1505.60               2018   75.28\n",
              "272  Mitte  well_kept    3.0  1639.00               2014   96.00\n",
              "392  Mitte  well_kept    1.0   924.44               2000   61.14\n",
              "608  Mitte  well_kept    3.0  1800.00               2013   80.95\n",
              "735  Mitte  well_kept    2.0  1350.00               2014   68.00\n",
              "736  Mitte  well_kept    3.0  3500.00               2009  165.00"
            ]
          },
          "metadata": {
            "tags": []
          },
          "execution_count": 44
        }
      ]
    },
    {
      "cell_type": "code",
      "metadata": {
        "colab": {
          "base_uri": "https://localhost:8080/"
        },
        "id": "AA927mSv-r8e",
        "outputId": "519538a2-2b08-48b2-c90f-e7ca41389621"
      },
      "source": [
        "len(ren)"
      ],
      "execution_count": null,
      "outputs": [
        {
          "output_type": "execute_result",
          "data": {
            "text/plain": [
              "6"
            ]
          },
          "metadata": {
            "tags": []
          },
          "execution_count": 45
        }
      ]
    },
    {
      "cell_type": "markdown",
      "metadata": {
        "id": "FrujnQH60Wt3"
      },
      "source": [
        "# 2.How many apartments are there in Kreuzberg built before 1900?"
      ]
    },
    {
      "cell_type": "code",
      "metadata": {
        "id": "xJk9wWKI0djC",
        "colab": {
          "base_uri": "https://localhost:8080/",
          "height": 328
        },
        "outputId": "57d52d1b-5635-4e24-ddc5-59473dc09012"
      },
      "source": [
        "K19=rentals[(rentals['Region']=='Kreuzberg') & (rentals['Year_Construction']<=1900)]\n",
        "K19"
      ],
      "execution_count": null,
      "outputs": [
        {
          "output_type": "execute_result",
          "data": {
            "text/html": [
              "<div>\n",
              "<style scoped>\n",
              "    .dataframe tbody tr th:only-of-type {\n",
              "        vertical-align: middle;\n",
              "    }\n",
              "\n",
              "    .dataframe tbody tr th {\n",
              "        vertical-align: top;\n",
              "    }\n",
              "\n",
              "    .dataframe thead th {\n",
              "        text-align: right;\n",
              "    }\n",
              "</style>\n",
              "<table border=\"1\" class=\"dataframe\">\n",
              "  <thead>\n",
              "    <tr style=\"text-align: right;\">\n",
              "      <th></th>\n",
              "      <th>Region</th>\n",
              "      <th>Condition</th>\n",
              "      <th>Rooms</th>\n",
              "      <th>Rent</th>\n",
              "      <th>Year_Construction</th>\n",
              "      <th>Space</th>\n",
              "    </tr>\n",
              "  </thead>\n",
              "  <tbody>\n",
              "    <tr>\n",
              "      <th>76</th>\n",
              "      <td>Kreuzberg</td>\n",
              "      <td>first_time_use</td>\n",
              "      <td>5.0</td>\n",
              "      <td>4400.0</td>\n",
              "      <td>1867</td>\n",
              "      <td>236.00</td>\n",
              "    </tr>\n",
              "    <tr>\n",
              "      <th>401</th>\n",
              "      <td>Kreuzberg</td>\n",
              "      <td>refurbished</td>\n",
              "      <td>4.0</td>\n",
              "      <td>2850.0</td>\n",
              "      <td>1895</td>\n",
              "      <td>127.00</td>\n",
              "    </tr>\n",
              "    <tr>\n",
              "      <th>553</th>\n",
              "      <td>Kreuzberg</td>\n",
              "      <td>mint_condition</td>\n",
              "      <td>3.0</td>\n",
              "      <td>2039.0</td>\n",
              "      <td>1900</td>\n",
              "      <td>110.00</td>\n",
              "    </tr>\n",
              "    <tr>\n",
              "      <th>697</th>\n",
              "      <td>Kreuzberg</td>\n",
              "      <td>first_time_use_after_refurbishment</td>\n",
              "      <td>2.0</td>\n",
              "      <td>1399.0</td>\n",
              "      <td>1874</td>\n",
              "      <td>50.00</td>\n",
              "    </tr>\n",
              "    <tr>\n",
              "      <th>716</th>\n",
              "      <td>Kreuzberg</td>\n",
              "      <td>no_information</td>\n",
              "      <td>2.0</td>\n",
              "      <td>1236.5</td>\n",
              "      <td>1900</td>\n",
              "      <td>46.02</td>\n",
              "    </tr>\n",
              "    <tr>\n",
              "      <th>720</th>\n",
              "      <td>Kreuzberg</td>\n",
              "      <td>no_information</td>\n",
              "      <td>1.0</td>\n",
              "      <td>914.0</td>\n",
              "      <td>1900</td>\n",
              "      <td>33.70</td>\n",
              "    </tr>\n",
              "    <tr>\n",
              "      <th>724</th>\n",
              "      <td>Kreuzberg</td>\n",
              "      <td>no_information</td>\n",
              "      <td>2.0</td>\n",
              "      <td>1266.0</td>\n",
              "      <td>1900</td>\n",
              "      <td>47.13</td>\n",
              "    </tr>\n",
              "    <tr>\n",
              "      <th>725</th>\n",
              "      <td>Kreuzberg</td>\n",
              "      <td>no_information</td>\n",
              "      <td>2.0</td>\n",
              "      <td>1282.5</td>\n",
              "      <td>1900</td>\n",
              "      <td>44.40</td>\n",
              "    </tr>\n",
              "    <tr>\n",
              "      <th>737</th>\n",
              "      <td>Kreuzberg</td>\n",
              "      <td>no_information</td>\n",
              "      <td>1.0</td>\n",
              "      <td>843.0</td>\n",
              "      <td>1900</td>\n",
              "      <td>32.20</td>\n",
              "    </tr>\n",
              "  </tbody>\n",
              "</table>\n",
              "</div>"
            ],
            "text/plain": [
              "        Region                           Condition  ...  Year_Construction   Space\n",
              "76   Kreuzberg                      first_time_use  ...               1867  236.00\n",
              "401  Kreuzberg                         refurbished  ...               1895  127.00\n",
              "553  Kreuzberg                      mint_condition  ...               1900  110.00\n",
              "697  Kreuzberg  first_time_use_after_refurbishment  ...               1874   50.00\n",
              "716  Kreuzberg                      no_information  ...               1900   46.02\n",
              "720  Kreuzberg                      no_information  ...               1900   33.70\n",
              "724  Kreuzberg                      no_information  ...               1900   47.13\n",
              "725  Kreuzberg                      no_information  ...               1900   44.40\n",
              "737  Kreuzberg                      no_information  ...               1900   32.20\n",
              "\n",
              "[9 rows x 6 columns]"
            ]
          },
          "metadata": {
            "tags": []
          },
          "execution_count": 46
        }
      ]
    },
    {
      "cell_type": "code",
      "metadata": {
        "colab": {
          "base_uri": "https://localhost:8080/"
        },
        "id": "SEA66VASBtqD",
        "outputId": "7e3233ad-5e4d-43db-ca18-9673b5f4b418"
      },
      "source": [
        "len(K19)"
      ],
      "execution_count": null,
      "outputs": [
        {
          "output_type": "execute_result",
          "data": {
            "text/plain": [
              "9"
            ]
          },
          "metadata": {
            "tags": []
          },
          "execution_count": 47
        }
      ]
    },
    {
      "cell_type": "markdown",
      "metadata": {
        "id": "KwB1lNjx0YdA"
      },
      "source": [
        "# 3.What are the average spaces of the apartments by the number of rooms?"
      ]
    },
    {
      "cell_type": "code",
      "metadata": {
        "id": "rSMSFNK20bzt",
        "colab": {
          "base_uri": "https://localhost:8080/"
        },
        "outputId": "485cb97d-9826-4370-82dc-a092a00ce76b"
      },
      "source": [
        "# your code\n",
        "# sorted list of different room #\n",
        "rooms = sorted(list(set(rentals.Rooms)))\n",
        "# loop over roomnumbers (rnr)\n",
        "for rnr in rooms:\n",
        "  # slice of the rental dataFrame with rnr rooms\n",
        "  slicernr = rentals[rentals[\"Rooms\"] == rnr]\n",
        "  # list of spaces assocciated with those rooms\n",
        "  spaces = slicernr[\"Space\"]\n",
        "  # sum of all Spaces\n",
        "  sumofallspaces = sum(list(spaces))\n",
        "  # Number of appartments with rnr rooms\n",
        "  num = len(slicernr)\n",
        "  # mean appartment size for this roomnumber\n",
        "  mean = sumofallspaces/num\n",
        "  print(rnr,'room:', mean,\"m2\")"
      ],
      "execution_count": null,
      "outputs": [
        {
          "output_type": "stream",
          "text": [
            "1.0 room: 34.470747663551386 m2\n",
            "1.5 room: 41.361111111111114 m2\n",
            "2.0 room: 65.01572519083967 m2\n",
            "2.5 room: 90.463125 m2\n",
            "3.0 room: 99.40316666666664 m2\n",
            "3.5 room: 98.0375 m2\n",
            "4.0 room: 130.86333333333332 m2\n",
            "4.5 room: 106.1 m2\n",
            "5.0 room: 194.40052631578948 m2\n",
            "6.0 room: 237.0 m2\n",
            "7.0 room: 251.0 m2\n"
          ],
          "name": "stdout"
        }
      ]
    },
    {
      "cell_type": "code",
      "metadata": {
        "colab": {
          "base_uri": "https://localhost:8080/"
        },
        "id": "SbST76opEH5J",
        "outputId": "3ef3c39d-bfa0-4a78-8575-2352d7d05a5f"
      },
      "source": [
        "set(rentals.Rooms)"
      ],
      "execution_count": null,
      "outputs": [
        {
          "output_type": "execute_result",
          "data": {
            "text/plain": [
              "{1.0, 1.5, 2.0, 2.5, 3.0, 3.5, 4.0, 4.5, 5.0, 6.0, 7.0}"
            ]
          },
          "metadata": {
            "tags": []
          },
          "execution_count": 49
        }
      ]
    },
    {
      "cell_type": "code",
      "metadata": {
        "colab": {
          "base_uri": "https://localhost:8080/",
          "height": 421
        },
        "id": "zigddmlHhyov",
        "outputId": "dfbec9a6-3043-460e-d2e7-42095783775e"
      },
      "source": [
        "rentals.groupby(\"Rooms\").mean()[[\"Space\"]]"
      ],
      "execution_count": null,
      "outputs": [
        {
          "output_type": "execute_result",
          "data": {
            "text/html": [
              "<div>\n",
              "<style scoped>\n",
              "    .dataframe tbody tr th:only-of-type {\n",
              "        vertical-align: middle;\n",
              "    }\n",
              "\n",
              "    .dataframe tbody tr th {\n",
              "        vertical-align: top;\n",
              "    }\n",
              "\n",
              "    .dataframe thead th {\n",
              "        text-align: right;\n",
              "    }\n",
              "</style>\n",
              "<table border=\"1\" class=\"dataframe\">\n",
              "  <thead>\n",
              "    <tr style=\"text-align: right;\">\n",
              "      <th></th>\n",
              "      <th>Space</th>\n",
              "    </tr>\n",
              "    <tr>\n",
              "      <th>Rooms</th>\n",
              "      <th></th>\n",
              "    </tr>\n",
              "  </thead>\n",
              "  <tbody>\n",
              "    <tr>\n",
              "      <th>1.0</th>\n",
              "      <td>34.470748</td>\n",
              "    </tr>\n",
              "    <tr>\n",
              "      <th>1.5</th>\n",
              "      <td>41.361111</td>\n",
              "    </tr>\n",
              "    <tr>\n",
              "      <th>2.0</th>\n",
              "      <td>65.015725</td>\n",
              "    </tr>\n",
              "    <tr>\n",
              "      <th>2.5</th>\n",
              "      <td>90.463125</td>\n",
              "    </tr>\n",
              "    <tr>\n",
              "      <th>3.0</th>\n",
              "      <td>99.403167</td>\n",
              "    </tr>\n",
              "    <tr>\n",
              "      <th>3.5</th>\n",
              "      <td>98.037500</td>\n",
              "    </tr>\n",
              "    <tr>\n",
              "      <th>4.0</th>\n",
              "      <td>130.863333</td>\n",
              "    </tr>\n",
              "    <tr>\n",
              "      <th>4.5</th>\n",
              "      <td>106.100000</td>\n",
              "    </tr>\n",
              "    <tr>\n",
              "      <th>5.0</th>\n",
              "      <td>194.400526</td>\n",
              "    </tr>\n",
              "    <tr>\n",
              "      <th>6.0</th>\n",
              "      <td>237.000000</td>\n",
              "    </tr>\n",
              "    <tr>\n",
              "      <th>7.0</th>\n",
              "      <td>251.000000</td>\n",
              "    </tr>\n",
              "  </tbody>\n",
              "</table>\n",
              "</div>"
            ],
            "text/plain": [
              "            Space\n",
              "Rooms            \n",
              "1.0     34.470748\n",
              "1.5     41.361111\n",
              "2.0     65.015725\n",
              "2.5     90.463125\n",
              "3.0     99.403167\n",
              "3.5     98.037500\n",
              "4.0    130.863333\n",
              "4.5    106.100000\n",
              "5.0    194.400526\n",
              "6.0    237.000000\n",
              "7.0    251.000000"
            ]
          },
          "metadata": {
            "tags": []
          },
          "execution_count": 50
        }
      ]
    },
    {
      "cell_type": "code",
      "metadata": {
        "id": "iPxOZet4hvri"
      },
      "source": [
        ""
      ],
      "execution_count": null,
      "outputs": []
    },
    {
      "cell_type": "markdown",
      "metadata": {
        "id": "pWtdIHKbqq7R"
      },
      "source": [
        "# 4.Which is the most expensive region on average and what is the maximum rent for this region?"
      ]
    },
    {
      "cell_type": "code",
      "metadata": {
        "id": "Nj8RyUuEqwjc",
        "colab": {
          "base_uri": "https://localhost:8080/"
        },
        "outputId": "8f3f225c-5dca-4980-8a5a-7dafa8e53e7b"
      },
      "source": [
        "rentals.groupby(\"Region\")['Rent'].mean()"
      ],
      "execution_count": null,
      "outputs": [
        {
          "output_type": "execute_result",
          "data": {
            "text/plain": [
              "Region\n",
              "Charlottenburg     1753.452532\n",
              "Friedrichsfelde    1043.871731\n",
              "Kreuzberg          2049.138085\n",
              "Köpenick           1125.475818\n",
              "Mitte              2408.725033\n",
              "Neukölln           1188.114915\n",
              "Prenzlauer         1996.962264\n",
              "Tiergarten         1914.824795\n",
              "Wedding             847.138571\n",
              "Wilmersdorf        1748.646226\n",
              "Name: Rent, dtype: float64"
            ]
          },
          "metadata": {
            "tags": []
          },
          "execution_count": 51
        }
      ]
    },
    {
      "cell_type": "code",
      "metadata": {
        "colab": {
          "base_uri": "https://localhost:8080/"
        },
        "id": "iBWi3g17m5GP",
        "outputId": "5789162b-b9f2-46b1-a80b-7c5bceb95cdf"
      },
      "source": [
        "rentals.groupby(\"Region\")['Rent'].max()"
      ],
      "execution_count": null,
      "outputs": [
        {
          "output_type": "execute_result",
          "data": {
            "text/plain": [
              "Region\n",
              "Charlottenburg      9774.00\n",
              "Friedrichsfelde     2138.68\n",
              "Kreuzberg           6450.00\n",
              "Köpenick            2159.20\n",
              "Mitte              14207.00\n",
              "Neukölln            2295.00\n",
              "Prenzlauer          5930.00\n",
              "Tiergarten          4945.00\n",
              "Wedding             1949.26\n",
              "Wilmersdorf         5876.35\n",
              "Name: Rent, dtype: float64"
            ]
          },
          "metadata": {
            "tags": []
          },
          "execution_count": 52
        }
      ]
    },
    {
      "cell_type": "code",
      "metadata": {
        "colab": {
          "base_uri": "https://localhost:8080/",
          "height": 390
        },
        "id": "206OEYNhj1I5",
        "outputId": "815909f9-0546-4955-b817-ce8c8159b249"
      },
      "source": [
        "rentals.groupby('Region')['Rent'].describe()[['mean','max']]"
      ],
      "execution_count": null,
      "outputs": [
        {
          "output_type": "execute_result",
          "data": {
            "text/html": [
              "<div>\n",
              "<style scoped>\n",
              "    .dataframe tbody tr th:only-of-type {\n",
              "        vertical-align: middle;\n",
              "    }\n",
              "\n",
              "    .dataframe tbody tr th {\n",
              "        vertical-align: top;\n",
              "    }\n",
              "\n",
              "    .dataframe thead th {\n",
              "        text-align: right;\n",
              "    }\n",
              "</style>\n",
              "<table border=\"1\" class=\"dataframe\">\n",
              "  <thead>\n",
              "    <tr style=\"text-align: right;\">\n",
              "      <th></th>\n",
              "      <th>mean</th>\n",
              "      <th>max</th>\n",
              "    </tr>\n",
              "    <tr>\n",
              "      <th>Region</th>\n",
              "      <th></th>\n",
              "      <th></th>\n",
              "    </tr>\n",
              "  </thead>\n",
              "  <tbody>\n",
              "    <tr>\n",
              "      <th>Charlottenburg</th>\n",
              "      <td>1753.452532</td>\n",
              "      <td>9774.00</td>\n",
              "    </tr>\n",
              "    <tr>\n",
              "      <th>Friedrichsfelde</th>\n",
              "      <td>1043.871731</td>\n",
              "      <td>2138.68</td>\n",
              "    </tr>\n",
              "    <tr>\n",
              "      <th>Kreuzberg</th>\n",
              "      <td>2049.138085</td>\n",
              "      <td>6450.00</td>\n",
              "    </tr>\n",
              "    <tr>\n",
              "      <th>Köpenick</th>\n",
              "      <td>1125.475818</td>\n",
              "      <td>2159.20</td>\n",
              "    </tr>\n",
              "    <tr>\n",
              "      <th>Mitte</th>\n",
              "      <td>2408.725033</td>\n",
              "      <td>14207.00</td>\n",
              "    </tr>\n",
              "    <tr>\n",
              "      <th>Neukölln</th>\n",
              "      <td>1188.114915</td>\n",
              "      <td>2295.00</td>\n",
              "    </tr>\n",
              "    <tr>\n",
              "      <th>Prenzlauer</th>\n",
              "      <td>1996.962264</td>\n",
              "      <td>5930.00</td>\n",
              "    </tr>\n",
              "    <tr>\n",
              "      <th>Tiergarten</th>\n",
              "      <td>1914.824795</td>\n",
              "      <td>4945.00</td>\n",
              "    </tr>\n",
              "    <tr>\n",
              "      <th>Wedding</th>\n",
              "      <td>847.138571</td>\n",
              "      <td>1949.26</td>\n",
              "    </tr>\n",
              "    <tr>\n",
              "      <th>Wilmersdorf</th>\n",
              "      <td>1748.646226</td>\n",
              "      <td>5876.35</td>\n",
              "    </tr>\n",
              "  </tbody>\n",
              "</table>\n",
              "</div>"
            ],
            "text/plain": [
              "                        mean       max\n",
              "Region                                \n",
              "Charlottenburg   1753.452532   9774.00\n",
              "Friedrichsfelde  1043.871731   2138.68\n",
              "Kreuzberg        2049.138085   6450.00\n",
              "Köpenick         1125.475818   2159.20\n",
              "Mitte            2408.725033  14207.00\n",
              "Neukölln         1188.114915   2295.00\n",
              "Prenzlauer       1996.962264   5930.00\n",
              "Tiergarten       1914.824795   4945.00\n",
              "Wedding           847.138571   1949.26\n",
              "Wilmersdorf      1748.646226   5876.35"
            ]
          },
          "metadata": {
            "tags": []
          },
          "execution_count": 53
        }
      ]
    },
    {
      "cell_type": "markdown",
      "metadata": {
        "id": "tcXNCkyBCSuH"
      },
      "source": [
        "# Bonus Question:\n",
        "5. What are the min, max and average number of rooms of the apartments in Köpenick?\n"
      ]
    },
    {
      "cell_type": "code",
      "metadata": {
        "id": "D-Z8PguZAGgf",
        "colab": {
          "base_uri": "https://localhost:8080/",
          "height": 390
        },
        "outputId": "a7011577-70aa-49c5-a1cb-2864bee335ce"
      },
      "source": [
        "kmmm = rentals.groupby('Region')['Rooms'].describe()[['mean','max','min']]\n",
        "kmmm"
      ],
      "execution_count": null,
      "outputs": [
        {
          "output_type": "execute_result",
          "data": {
            "text/html": [
              "<div>\n",
              "<style scoped>\n",
              "    .dataframe tbody tr th:only-of-type {\n",
              "        vertical-align: middle;\n",
              "    }\n",
              "\n",
              "    .dataframe tbody tr th {\n",
              "        vertical-align: top;\n",
              "    }\n",
              "\n",
              "    .dataframe thead th {\n",
              "        text-align: right;\n",
              "    }\n",
              "</style>\n",
              "<table border=\"1\" class=\"dataframe\">\n",
              "  <thead>\n",
              "    <tr style=\"text-align: right;\">\n",
              "      <th></th>\n",
              "      <th>mean</th>\n",
              "      <th>max</th>\n",
              "      <th>min</th>\n",
              "    </tr>\n",
              "    <tr>\n",
              "      <th>Region</th>\n",
              "      <th></th>\n",
              "      <th></th>\n",
              "      <th></th>\n",
              "    </tr>\n",
              "  </thead>\n",
              "  <tbody>\n",
              "    <tr>\n",
              "      <th>Charlottenburg</th>\n",
              "      <td>2.525316</td>\n",
              "      <td>5.0</td>\n",
              "      <td>1.0</td>\n",
              "    </tr>\n",
              "    <tr>\n",
              "      <th>Friedrichsfelde</th>\n",
              "      <td>2.500000</td>\n",
              "      <td>4.5</td>\n",
              "      <td>1.0</td>\n",
              "    </tr>\n",
              "    <tr>\n",
              "      <th>Kreuzberg</th>\n",
              "      <td>2.489362</td>\n",
              "      <td>5.0</td>\n",
              "      <td>1.0</td>\n",
              "    </tr>\n",
              "    <tr>\n",
              "      <th>Köpenick</th>\n",
              "      <td>2.281818</td>\n",
              "      <td>4.0</td>\n",
              "      <td>1.0</td>\n",
              "    </tr>\n",
              "    <tr>\n",
              "      <th>Mitte</th>\n",
              "      <td>2.754902</td>\n",
              "      <td>5.0</td>\n",
              "      <td>1.0</td>\n",
              "    </tr>\n",
              "    <tr>\n",
              "      <th>Neukölln</th>\n",
              "      <td>2.279661</td>\n",
              "      <td>5.0</td>\n",
              "      <td>1.0</td>\n",
              "    </tr>\n",
              "    <tr>\n",
              "      <th>Prenzlauer</th>\n",
              "      <td>2.660377</td>\n",
              "      <td>6.0</td>\n",
              "      <td>1.0</td>\n",
              "    </tr>\n",
              "    <tr>\n",
              "      <th>Tiergarten</th>\n",
              "      <td>2.736842</td>\n",
              "      <td>5.0</td>\n",
              "      <td>1.0</td>\n",
              "    </tr>\n",
              "    <tr>\n",
              "      <th>Wedding</th>\n",
              "      <td>1.726190</td>\n",
              "      <td>4.0</td>\n",
              "      <td>1.0</td>\n",
              "    </tr>\n",
              "    <tr>\n",
              "      <th>Wilmersdorf</th>\n",
              "      <td>2.613208</td>\n",
              "      <td>7.0</td>\n",
              "      <td>1.0</td>\n",
              "    </tr>\n",
              "  </tbody>\n",
              "</table>\n",
              "</div>"
            ],
            "text/plain": [
              "                     mean  max  min\n",
              "Region                             \n",
              "Charlottenburg   2.525316  5.0  1.0\n",
              "Friedrichsfelde  2.500000  4.5  1.0\n",
              "Kreuzberg        2.489362  5.0  1.0\n",
              "Köpenick         2.281818  4.0  1.0\n",
              "Mitte            2.754902  5.0  1.0\n",
              "Neukölln         2.279661  5.0  1.0\n",
              "Prenzlauer       2.660377  6.0  1.0\n",
              "Tiergarten       2.736842  5.0  1.0\n",
              "Wedding          1.726190  4.0  1.0\n",
              "Wilmersdorf      2.613208  7.0  1.0"
            ]
          },
          "metadata": {
            "tags": []
          },
          "execution_count": 57
        }
      ]
    },
    {
      "cell_type": "code",
      "metadata": {
        "colab": {
          "base_uri": "https://localhost:8080/",
          "height": 359
        },
        "id": "P2Ed1nqlyUnL",
        "outputId": "14698c8b-61c2-4b73-c95d-c42719761c33"
      },
      "source": [
        "kmmmID = kmmm.reset_index()\n",
        "kmmmID"
      ],
      "execution_count": null,
      "outputs": [
        {
          "output_type": "execute_result",
          "data": {
            "text/html": [
              "<div>\n",
              "<style scoped>\n",
              "    .dataframe tbody tr th:only-of-type {\n",
              "        vertical-align: middle;\n",
              "    }\n",
              "\n",
              "    .dataframe tbody tr th {\n",
              "        vertical-align: top;\n",
              "    }\n",
              "\n",
              "    .dataframe thead th {\n",
              "        text-align: right;\n",
              "    }\n",
              "</style>\n",
              "<table border=\"1\" class=\"dataframe\">\n",
              "  <thead>\n",
              "    <tr style=\"text-align: right;\">\n",
              "      <th></th>\n",
              "      <th>Region</th>\n",
              "      <th>mean</th>\n",
              "      <th>max</th>\n",
              "      <th>min</th>\n",
              "    </tr>\n",
              "  </thead>\n",
              "  <tbody>\n",
              "    <tr>\n",
              "      <th>0</th>\n",
              "      <td>Charlottenburg</td>\n",
              "      <td>2.525316</td>\n",
              "      <td>5.0</td>\n",
              "      <td>1.0</td>\n",
              "    </tr>\n",
              "    <tr>\n",
              "      <th>1</th>\n",
              "      <td>Friedrichsfelde</td>\n",
              "      <td>2.500000</td>\n",
              "      <td>4.5</td>\n",
              "      <td>1.0</td>\n",
              "    </tr>\n",
              "    <tr>\n",
              "      <th>2</th>\n",
              "      <td>Kreuzberg</td>\n",
              "      <td>2.489362</td>\n",
              "      <td>5.0</td>\n",
              "      <td>1.0</td>\n",
              "    </tr>\n",
              "    <tr>\n",
              "      <th>3</th>\n",
              "      <td>Köpenick</td>\n",
              "      <td>2.281818</td>\n",
              "      <td>4.0</td>\n",
              "      <td>1.0</td>\n",
              "    </tr>\n",
              "    <tr>\n",
              "      <th>4</th>\n",
              "      <td>Mitte</td>\n",
              "      <td>2.754902</td>\n",
              "      <td>5.0</td>\n",
              "      <td>1.0</td>\n",
              "    </tr>\n",
              "    <tr>\n",
              "      <th>5</th>\n",
              "      <td>Neukölln</td>\n",
              "      <td>2.279661</td>\n",
              "      <td>5.0</td>\n",
              "      <td>1.0</td>\n",
              "    </tr>\n",
              "    <tr>\n",
              "      <th>6</th>\n",
              "      <td>Prenzlauer</td>\n",
              "      <td>2.660377</td>\n",
              "      <td>6.0</td>\n",
              "      <td>1.0</td>\n",
              "    </tr>\n",
              "    <tr>\n",
              "      <th>7</th>\n",
              "      <td>Tiergarten</td>\n",
              "      <td>2.736842</td>\n",
              "      <td>5.0</td>\n",
              "      <td>1.0</td>\n",
              "    </tr>\n",
              "    <tr>\n",
              "      <th>8</th>\n",
              "      <td>Wedding</td>\n",
              "      <td>1.726190</td>\n",
              "      <td>4.0</td>\n",
              "      <td>1.0</td>\n",
              "    </tr>\n",
              "    <tr>\n",
              "      <th>9</th>\n",
              "      <td>Wilmersdorf</td>\n",
              "      <td>2.613208</td>\n",
              "      <td>7.0</td>\n",
              "      <td>1.0</td>\n",
              "    </tr>\n",
              "  </tbody>\n",
              "</table>\n",
              "</div>"
            ],
            "text/plain": [
              "            Region      mean  max  min\n",
              "0   Charlottenburg  2.525316  5.0  1.0\n",
              "1  Friedrichsfelde  2.500000  4.5  1.0\n",
              "2        Kreuzberg  2.489362  5.0  1.0\n",
              "3         Köpenick  2.281818  4.0  1.0\n",
              "4            Mitte  2.754902  5.0  1.0\n",
              "5         Neukölln  2.279661  5.0  1.0\n",
              "6       Prenzlauer  2.660377  6.0  1.0\n",
              "7       Tiergarten  2.736842  5.0  1.0\n",
              "8          Wedding  1.726190  4.0  1.0\n",
              "9      Wilmersdorf  2.613208  7.0  1.0"
            ]
          },
          "metadata": {
            "tags": []
          },
          "execution_count": 58
        }
      ]
    },
    {
      "cell_type": "code",
      "metadata": {
        "colab": {
          "base_uri": "https://localhost:8080/",
          "height": 80
        },
        "id": "RRr_5sCvuYru",
        "outputId": "d42bad4e-feeb-46ad-900d-fbca4b78ece0"
      },
      "source": [
        "kmmmID[kmmmID['Region'] == 'Köpenick']"
      ],
      "execution_count": null,
      "outputs": [
        {
          "output_type": "execute_result",
          "data": {
            "text/html": [
              "<div>\n",
              "<style scoped>\n",
              "    .dataframe tbody tr th:only-of-type {\n",
              "        vertical-align: middle;\n",
              "    }\n",
              "\n",
              "    .dataframe tbody tr th {\n",
              "        vertical-align: top;\n",
              "    }\n",
              "\n",
              "    .dataframe thead th {\n",
              "        text-align: right;\n",
              "    }\n",
              "</style>\n",
              "<table border=\"1\" class=\"dataframe\">\n",
              "  <thead>\n",
              "    <tr style=\"text-align: right;\">\n",
              "      <th></th>\n",
              "      <th>Region</th>\n",
              "      <th>mean</th>\n",
              "      <th>max</th>\n",
              "      <th>min</th>\n",
              "    </tr>\n",
              "  </thead>\n",
              "  <tbody>\n",
              "    <tr>\n",
              "      <th>3</th>\n",
              "      <td>Köpenick</td>\n",
              "      <td>2.281818</td>\n",
              "      <td>4.0</td>\n",
              "      <td>1.0</td>\n",
              "    </tr>\n",
              "  </tbody>\n",
              "</table>\n",
              "</div>"
            ],
            "text/plain": [
              "     Region      mean  max  min\n",
              "3  Köpenick  2.281818  4.0  1.0"
            ]
          },
          "metadata": {
            "tags": []
          },
          "execution_count": 59
        }
      ]
    },
    {
      "cell_type": "markdown",
      "metadata": {
        "id": "wTOrpLU3ydPb"
      },
      "source": [
        "--- \n",
        "# Review\n",
        "\n",
        "This section is only for the reviewing team!\n",
        "\n",
        "Guideline how to review:\n",
        "https://docs.google.com/presentation/d/1YORFwlfVQo9ogj7jR9t6_pqxmGIlpBSGubbp1UdtcBQ/edit?usp=sharing\n"
      ]
    },
    {
      "cell_type": "code",
      "metadata": {
        "colab": {
          "base_uri": "https://localhost:8080/",
          "height": 167
        },
        "id": "9vtETkgtq3EZ",
        "outputId": "2dddcbf9-d5fa-49cf-9ea4-e528223f54ae"
      },
      "source": [
        "#@title Review Criteria:\n",
        "%%html\n",
        "<h3><input type=\"checkbox\"> 1. Are all questions answered? <br></h3> \n",
        "<h3><input type=\"checkbox\"> 2. Does all code run through? <br></h3> \n",
        "<h3><input type=\"checkbox\"> 3. Are the conclusions understandable?  <br></h3> \n",
        "<h3><input type=\"checkbox\"> 4. Are the bonus question answered?  <br></h3> "
      ],
      "execution_count": null,
      "outputs": [
        {
          "output_type": "display_data",
          "data": {
            "text/html": [
              "<h3><input type=\"checkbox\"> 1. Are all questions answered? <br></h3> \n",
              "<h3><input type=\"checkbox\"> 2. Does all code run through? <br></h3> \n",
              "<h3><input type=\"checkbox\"> 3. Are the conclusions understandable?  <br></h3> \n",
              "<h3><input type=\"checkbox\"> 4. Are the bonus question answered?  <br></h3> "
            ],
            "text/plain": [
              "<IPython.core.display.HTML object>"
            ]
          },
          "metadata": {
            "tags": []
          }
        }
      ]
    },
    {
      "cell_type": "code",
      "metadata": {
        "id": "fsfgxKrtrA-f"
      },
      "source": [
        "input(\"Do you have any feedback?\")"
      ],
      "execution_count": null,
      "outputs": []
    },
    {
      "cell_type": "markdown",
      "metadata": {
        "id": "-_xXkEtXJdI3"
      },
      "source": [
        ""
      ]
    }
  ]
}