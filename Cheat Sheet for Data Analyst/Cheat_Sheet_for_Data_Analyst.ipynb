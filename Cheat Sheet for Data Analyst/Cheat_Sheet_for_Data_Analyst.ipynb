{
  "nbformat": 4,
  "nbformat_minor": 0,
  "metadata": {
    "colab": {
      "name": "Cheat_Sheet_for_Data_Analyst.ipynb",
      "provenance": [],
      "collapsed_sections": []
    },
    "kernelspec": {
      "name": "python3",
      "display_name": "Python 3"
    },
    "language_info": {
      "name": "python"
    }
  },
  "cells": [
    {
      "cell_type": "markdown",
      "metadata": {
        "id": "JjVA7go5BaYt"
      },
      "source": [
        "## Import Packages and Libraries\n",
        "This is the lineup of the most important Python libraries for data analytics:\n",
        "\n",
        "### Data Processing and Modeling:\n",
        "\n",
        "*   NumPy\n",
        "*   Pandas\n",
        "\n",
        "### Data Visualization\n",
        "\n",
        "*   Matplotlib\n",
        "*   Seaborn\n",
        "\n",
        "**Note**❗: Import only the packages which will be used!"
      ]
    },
    {
      "cell_type": "code",
      "metadata": {
        "id": "ShdIq_X-FBZe"
      },
      "source": [
        "import numpy as np #np is an alias pointing to Numpy\n",
        "import pandas as pd #pd is an alias pointing to Pandas\n",
        "\n",
        "import matplotlib.pyplot as plt #plt is an alias pointing to Matplotlib\n",
        "import seaborn as sns #sns is an alias pointing to Seaborn"
      ],
      "execution_count": null,
      "outputs": []
    },
    {
      "cell_type": "markdown",
      "metadata": {
        "id": "BPZedE1-VOZF"
      },
      "source": [
        "## Read the Dataset\n",
        "Import a dataset often depends on the format of the file (Excel, CSV, text, SPSS, Stata, etc.). These are the most important ways to read the datasets:\n",
        "\n",
        "**Notes**❗: \n",
        "\n",
        "*   CSV stands for comma-separated values.\n",
        "*   You need to pay attention when writing the path of the datatset.\n",
        "\n",
        "\n",
        "\n",
        "\n",
        "\n"
      ]
    },
    {
      "cell_type": "code",
      "metadata": {
        "id": "WANR_b4WXZ1E"
      },
      "source": [
        "dataFrame = pd.read_csv('path/file.csv')\n",
        "dataFrame = pd.read_excel('path/file.xlsx')"
      ],
      "execution_count": null,
      "outputs": []
    },
    {
      "cell_type": "markdown",
      "metadata": {
        "id": "pj3TZk2ggJLx"
      },
      "source": [
        "## Inspecting the Data Frame\n",
        "\n",
        "The main intentions of inspecting our data are:\n",
        "\n",
        "*   To have an idea of the size of the dataset.\n",
        "*   To get the data type of each variable in the dataset.\n",
        "*   To identify whether there are missing values in the dataset.\n",
        "\n",
        "And also for another reasons...\n",
        "\n",
        "**Note**❗: shape is Attribute and not methods like head, info and describe.\n"
      ]
    },
    {
      "cell_type": "code",
      "metadata": {
        "id": "mIRCG9wcgTvL"
      },
      "source": [
        "# Print the head of the Data Frame\n",
        "print(dataFrame.head())\n",
        "\n",
        "# Print information about Data Frame\n",
        "print(dataFrame.info())\n",
        "\n",
        "# Print the shape of Data Frame\n",
        "print(dataFrame.shape)\n",
        "\n",
        "# Print a description of Data Frame\n",
        "print(dataFrame.describe())\n",
        "\n",
        "df.shape # Attribute\n",
        "df.head()# Method"
      ],
      "execution_count": null,
      "outputs": []
    },
    {
      "cell_type": "markdown",
      "metadata": {
        "id": "LA68fxp0izuL"
      },
      "source": [
        "## Sort the Rows in the Data Frame\n",
        "\n",
        "Pandas `sort_values()` method sorts a data frame in Ascending or Descending order of passed Column.\n",
        "\n",
        "**Note**❗: `sort_values()` sorts Ascending by deafult."
      ]
    },
    {
      "cell_type": "code",
      "metadata": {
        "id": "ZZ8Ggm8yi-5l"
      },
      "source": [
        "# One column\n",
        "dataFrame.sort_values(\"col 1\", ascending=True)\n",
        "\n",
        "# Multiple columns\n",
        "dataFrame.sort_values([\"col 1\", \"col 2\"], ascending=[True, False])"
      ],
      "execution_count": null,
      "outputs": []
    },
    {
      "cell_type": "markdown",
      "metadata": {
        "id": "_3XeNeo-9sSd"
      },
      "source": [
        "## Explicit Indexes\n",
        "\n",
        "*   Columns and Index\n",
        "*   Setting a column as the Index\n",
        "*   Subsetting with Index\n",
        "*   Sort Index\n"
      ]
    },
    {
      "cell_type": "code",
      "metadata": {
        "id": "vyvB_bfB_xv0"
      },
      "source": [
        "# Columns and Index\n",
        "dataFrame.columns\n",
        "dataFrame.index\n",
        "\n",
        "# Setting a column as the Index\n",
        "dataFrame_ind = dataFrame.set_index(\"col\")\n",
        "\n",
        "# Subsetting with Index\n",
        "dataFrame[dataFrame[\"col\"].isin([\"row 1\", \"row 2\"])] # First way\n",
        "dataFrame.loc[[\"row 1\", \"row 2\"]] # Second way\n",
        "\n",
        "# Sort Index\n",
        "dataFrame_index = dataFrame.set_index([\"col 1\", \"col 2\"])\n",
        "dataFrame_index.sort_index(level=[\"col 1\", \"col 2\"], ascending=[True, False])"
      ],
      "execution_count": null,
      "outputs": []
    },
    {
      "cell_type": "markdown",
      "metadata": {
        "id": "2MiOl57FBknO"
      },
      "source": [
        "## Slicing and Subsetting\n",
        "\n",
        "*   Slicing columns\n",
        "*   Slicing by dates\n",
        "*   Subsetting by row/column number\n",
        "*   Subsetting with conditions\n",
        "*   Subsetting rows by categorical variables\n",
        "*   Adding a new column\n",
        "*   Writing to CSV-File\n",
        "\n",
        "**Notes**❗:\n",
        "\n",
        "*   The Data frame should be sorted before slicing.\n",
        "*  **i**loc: i for integer\n",
        "*   Logical Operators in Pandas are (&, | and ~)\n",
        "*   The parentheses (...) is **important**❗\n",
        "\n",
        "\n",
        "\n",
        "\n",
        "\n",
        "\n",
        "\n",
        "\n"
      ]
    },
    {
      "cell_type": "code",
      "metadata": {
        "id": "Rfz3fyEhCbtm"
      },
      "source": [
        "# Slicing columns\n",
        "dataFrame_sorted.loc[:, \"col_index 1\":\"col_index 2\"]\n",
        "\n",
        "# Slicing by date\n",
        "dataFrame_sorted.loc[\"yyyy-mm-dd\":\"yyyy-mm-dd\"]\n",
        "\n",
        "# Subsetting by row/column number\n",
        "dataFrame.iloc[3:6, 1:5])\n",
        "\n",
        "# Subsetting with conditions\n",
        "SubSet = dataFrame[(dataFrame['col 1']<1000)& (dataFrame['col 2'] == 'value in col 2')]\n",
        "\n",
        "# Subsetting rows by categorical variables\n",
        "listName = [\"value 1\", \"value 2\", \"value 3\", \"value 4\"] # List of values in a column\n",
        "SubSet = dataFrame[dataFrame[\"col\"].isin(listName)]\n",
        "\n",
        "# Adding a new column\n",
        "dataFrame[\"new column\"] = dataFrame[\"col 1 with integer values\"] / dataFrame[\"col 2 with integer values\"] \n",
        "\n",
        "# Writing to CSV-File\n",
        "dataFrame.to_csv(\"dataFrame_with_new_column.csv\")"
      ],
      "execution_count": null,
      "outputs": []
    },
    {
      "cell_type": "markdown",
      "metadata": {
        "id": "yHHY0A92Mnt_"
      },
      "source": [
        "## Visualizing the Data\n",
        "\n",
        "\n",
        "*   Histograms\n",
        "*   Barplots\n",
        "*   Lineplots\n",
        "*   Scatterplots\n",
        "*   Boxplot **(Comparison)**\n",
        "\n",
        "**Notes**❗:\n",
        "\n",
        "* Adjust the number of bars, or bins, using the **\"bins\"** argument. Increasing or decreasing this can give us a better idea of what the distribution looks like.\n",
        "\n"
      ]
    },
    {
      "cell_type": "code",
      "metadata": {
        "id": "N7I00GuaM97A"
      },
      "source": [
        "# Histograms\n",
        "dataFrame[\"col\"].hist()\n",
        "dataFrame[\"col\"].hist(bins=30)\n",
        "\n",
        "dog_pack[dog_pack[\"col 1\"]==\"value in col 1\"][\"col 2\"].hist(alpha=0.7)\n",
        "dog_pack[dog_pack[\"col 1\"]==\"value in col 1\"][\"col 2\"].hist(alpha=0.7)\n",
        "plt.legend([\"value in col 1\", \"value in col 1\"])\n",
        "\n",
        "\n",
        "# Barplots\n",
        "dataFrame.plot(kind=\"bar\", title=\"Title of the Plot\")\n",
        "\n",
        "# Lineplots\n",
        "dataFrame.plot(x=\"col 1\", y=\"col 2\", kind=\"line\")\n",
        "\n",
        "# Scatterplots\n",
        "dataFrame.plot(x=\"col 1\", y=\"col 2\", kind=\"scatter\")\n",
        "\n",
        "sns.scatterplot(x='col 1', \n",
        "                y='col 2',\n",
        "                hue='col 3', # This will be plotted in different colors.\n",
        "                data=dataFrame)\n",
        "\n",
        "plt.show() # To show the Plot\n",
        "\n",
        "# Boxplot\n",
        "sns.boxplot(x='col 1', \n",
        "            y='col 2',\n",
        "            hue='col 3', # This will be plotted in different colors.\n",
        "            data=dataFrame)"
      ],
      "execution_count": null,
      "outputs": []
    },
    {
      "cell_type": "markdown",
      "metadata": {
        "id": "9FuZVs0TPmgP"
      },
      "source": [
        "## Missing Values\n",
        "\n",
        "*   Detecting missing values\n",
        "*   Detecting any missing values\n",
        "*   Counting missing values\n",
        "*   Removing missing values\n",
        "*   Replacing missing values\n",
        "\n"
      ]
    },
    {
      "cell_type": "code",
      "metadata": {
        "id": "oMP3yMwTP5yJ"
      },
      "source": [
        "# Detecting missing values\n",
        "dataFrame.isna() # It returns True or False\n",
        "\n",
        "# Detecting any missing values\n",
        "dataFrame.isna().any()\n",
        "\n",
        "# Counting missing values\n",
        "dataFrame.isna().sum()\n",
        "\n",
        "# Removing missing values\n",
        "dataFrame.dropna()\n",
        "\n",
        "# Replacing missing values\n",
        "dogs.fillna(0)"
      ],
      "execution_count": null,
      "outputs": []
    },
    {
      "cell_type": "markdown",
      "metadata": {
        "id": "7u_cwMdSWhtj"
      },
      "source": [
        "## Important Defentions\n",
        "\n",
        "### KPI: \n",
        "KPI (Key Performance Indicator) is a type of performance measurement. KPIs evaluate the success of an organization or of a particular activity (such as projects, programs, products and other initiatives) in which it engages.\n",
        "\n",
        "Depending on the project you are working with it could be:\n",
        "*  number of new customers per month\n",
        "*  sum of the orders value per day\n",
        "*  Net Promoter Score (NPS)\n",
        "\n",
        "And many many more...\n",
        "\n",
        "### Model Bucket:\n",
        "\n",
        "*   Change over time\n",
        "*   **Comparison**\n",
        "*   **Part of a whole**\n",
        "*   **A Correlation**\n",
        "*   **Ranking**\n",
        "*   **Distribution**\n",
        "*   Flows and relationships\n",
        "*   Geospatial\n",
        "\n",
        "### Numerical Data\n",
        "\n",
        "\n",
        "*   Cumulative sum\n",
        "*   Sum\n",
        "*   Median\n",
        "*   Minimum\n",
        "*   Maximum\n",
        "*   Standard deviation\n",
        "*   Quantil \n",
        "*   Mode\n",
        "*   Count Values\n",
        "*   Variance\n"
      ]
    },
    {
      "cell_type": "code",
      "metadata": {
        "id": "K-otVX5-CilR"
      },
      "source": [
        "# Median\n",
        "dataFrame[\"col\"].median()\n",
        "\n",
        "# Mode\n",
        "dataFrame.mode()\n",
        "\n",
        "# Minimum\n",
        "dataFrame[\"col\"].min()\n",
        "\n",
        "# Maximum\n",
        "dataFrame[\"col\"].max()\n",
        "\n",
        "# Unbiased Variance\n",
        "dataFrame.var() # unbiased variance\n",
        "\n",
        "# Standard deviation\n",
        "dataFrame[\"col\"].std()\n",
        "\n",
        "# Sum\n",
        "dataFrame.sum()\n",
        "\n",
        "# Quantil\n",
        "dataFrame.quantile()\n",
        " \n",
        "# Count Values\n",
        "dataFrame[\"col\"].value_counts(sort=True) # Sort is False by default."
      ],
      "execution_count": null,
      "outputs": []
    }
  ]
}