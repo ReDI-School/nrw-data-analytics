{
  "nbformat": 4,
  "nbformat_minor": 0,
  "metadata": {
    "colab": {
      "name": "Cheat Sheet for Data Analyst",
      "provenance": []
    },
    "kernelspec": {
      "name": "python3",
      "display_name": "Python 3"
    },
    "language_info": {
      "name": "python"
    }
  },
  "cells": [
    {
      "cell_type": "markdown",
      "metadata": {
        "id": "JjVA7go5BaYt"
      },
      "source": [
        "## Import Packages and Libraries\n",
        "This is the lineup of the most important Python libraries for data analytics:\n",
        "\n",
        "### Data Processing and Modeling:\n",
        "\n",
        "*   NumPy\n",
        "*   Pandas\n",
        "\n",
        "### Data Visualization\n",
        "\n",
        "*   Matplotlib\n",
        "*   Seaborn\n",
        "\n",
        "**Note**: Import only the packages which will be used!"
      ]
    },
    {
      "cell_type": "code",
      "metadata": {
        "id": "ShdIq_X-FBZe"
      },
      "source": [
        "import numpy as np #np is an alias pointing to Numpy\n",
        "import pandas as pd #pd is an alias pointing to Pandas\n",
        "\n",
        "import matplotlib.pyplot as plt #plt is an alias pointing to Matplotlib\n",
        "import seaborn as sns #sns is an alias pointing to Seaborn"
      ],
      "execution_count": null,
      "outputs": []
    },
    {
      "cell_type": "markdown",
      "metadata": {
        "id": "BPZedE1-VOZF"
      },
      "source": [
        "## Read the Dataset\n",
        "Import a dataset often depends on the format of the file (Excel, CSV, text, SPSS, Stata, etc.). These are the most important ways to read the datasets:\n",
        "\n",
        "**Notes**: \n",
        "\n",
        "*   CSV stands for comma-separated values.\n",
        "*   You need to pay attention when writing the path of the datatset.\n",
        "\n",
        "\n",
        "\n",
        "\n",
        "\n"
      ]
    },
    {
      "cell_type": "code",
      "metadata": {
        "id": "WANR_b4WXZ1E"
      },
      "source": [
        "dataFrame = pd.read_csv('path/file.csv')\n",
        "dataFrame = pd.read_excel('path/file.xlsx')"
      ],
      "execution_count": null,
      "outputs": []
    },
    {
      "cell_type": "markdown",
      "metadata": {
        "id": "pj3TZk2ggJLx"
      },
      "source": [
        "## Inspecting the Data Frame\n",
        "\n",
        "The main intentions of inspecting our data are:\n",
        "\n",
        "*   To have an idea of the size of the dataset.\n",
        "*   To get the data type of each variable in the dataset.\n",
        "*   To identify whether there are missing values in the dataset.\n",
        "\n",
        "And also for another reasons...\n",
        "\n",
        "**Notes**: shape is Attribute and not methods like head, info and describe.\n"
      ]
    },
    {
      "cell_type": "code",
      "metadata": {
        "id": "mIRCG9wcgTvL"
      },
      "source": [
        "# Print the head of the Data Frame\n",
        "print(dataFrame.head())\n",
        "\n",
        "# Print information about Data Frame\n",
        "print(dataFrame.info())\n",
        "\n",
        "# Print the shape of Data Frame\n",
        "print(dataFrame.shape)\n",
        "\n",
        "# Print a description of Data Frame\n",
        "print(dataFrame.describe())\n",
        "\n",
        "df.shape # Attribute\n",
        "df.head()# Method"
      ],
      "execution_count": null,
      "outputs": []
    },
    {
      "cell_type": "markdown",
      "metadata": {
        "id": "LA68fxp0izuL"
      },
      "source": [
        "## Sort the Rows in the Data Frame\n",
        "\n",
        "Pandas `sort_values()` method sorts a data frame in Ascending or Descending order of passed Column.\n",
        "\n",
        "**Note**: `sort_values()` sorts Ascending by deafult."
      ]
    },
    {
      "cell_type": "code",
      "metadata": {
        "id": "ZZ8Ggm8yi-5l"
      },
      "source": [
        "# One column\n",
        "dataFrame.sort_values(\"col1\", ascending=True)\n",
        "\n",
        "# Multiple columns\n",
        "dataFrame.sort_values([\"col1\", \"col2\"], ascending=[True, False])"
      ],
      "execution_count": null,
      "outputs": []
    }
  ]
}