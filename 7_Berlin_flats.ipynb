{
  "nbformat": 4,
  "nbformat_minor": 0,
  "metadata": {
    "colab": {
      "name": "Berlin_flats.ipynb",
      "provenance": [],
      "collapsed_sections": []
    },
    "kernelspec": {
      "name": "python3",
      "display_name": "Python 3"
    }
  },
  "cells": [
    {
      "cell_type": "markdown",
      "metadata": {
        "id": "jHXW5E0kZ38J"
      },
      "source": [
        "![Immoscout](https://raw.githubusercontent.com/juliandnl/redi_ss20/master/image.png)"
      ]
    },
    {
      "cell_type": "markdown",
      "metadata": {
        "id": "KAxkfPwXadvb"
      },
      "source": [
        "### Immobilien Scout 24 Dataset \n",
        "It contains entries from rental flats in Berlin. Lets explore the dataset and find a suitable flat for my friend Josy, who is currently, desperately searching for a new flat in Berlin."
      ]
    },
    {
      "cell_type": "markdown",
      "metadata": {
        "id": "JM8aJEFXUxQO"
      },
      "source": [
        "### Import Packages"
      ]
    },
    {
      "cell_type": "code",
      "metadata": {
        "id": "lhduQalLT4mA"
      },
      "source": [
        "import pandas as pd"
      ],
      "execution_count": null,
      "outputs": []
    },
    {
      "cell_type": "markdown",
      "metadata": {
        "id": "c0FRT4TxUwLZ"
      },
      "source": [
        "### Load Dataset"
      ]
    },
    {
      "cell_type": "code",
      "metadata": {
        "id": "v9cxv3jwUp5Z"
      },
      "source": [
        "rentals = pd.read_csv(\"https://raw.githubusercontent.com/juliandnl/redi_ss20/master/berlin_rental.csv\")"
      ],
      "execution_count": null,
      "outputs": []
    },
    {
      "cell_type": "markdown",
      "metadata": {
        "id": "k2Gv9pEiU4Ao"
      },
      "source": [
        "### Berlin Rental Flat Dataset\n",
        "We have 6 relevant columns: \n",
        "- URL: is the link to the rental expose. You can have a look at the flat!\n",
        "- Region: is the Berlin district, where the flat is located\n",
        "- Condition: is the condition of the flat\n",
        "- Rooms: The number of rooms the flat has\n",
        "- Rent: Monthly rent for the flat\n",
        "- Year_Construction: The year in which the house was build\n",
        "- Space: How many square meters does the flat has?\n",
        "\n",
        "---\n",
        "\n",
        "Exercise:\n",
        "1. How many rows does the dataset have?\n",
        "2. How many different Regions are there?\n",
        "3. What is the maximum rent? What is the minimum rent?\n",
        "4. What is the smallest flat?"
      ]
    },
    {
      "cell_type": "code",
      "metadata": {
        "id": "udlvMYZPZ0Wt"
      },
      "source": [
        "# your code"
      ],
      "execution_count": null,
      "outputs": []
    },
    {
      "cell_type": "code",
      "metadata": {
        "id": "zLb8bSjUZ0Z5"
      },
      "source": [
        ""
      ],
      "execution_count": null,
      "outputs": []
    },
    {
      "cell_type": "markdown",
      "metadata": {
        "id": "Qxz2P6GYUu0e"
      },
      "source": [
        "### Groupby\n",
        "\n",
        "Let's practice groupby!\n",
        "If you need some help: \n",
        "https://pandas.pydata.org/pandas-docs/stable/reference/api/pandas.DataFrame.groupby.html\n",
        "\n",
        "---\n",
        "Exercise\n",
        "1. Groupby Region - What is on average the most expensive region?\n",
        "2. What is the mean rent for the different amount of rooms?\n",
        "3. What is the mean rent per condition?"
      ]
    },
    {
      "cell_type": "code",
      "metadata": {
        "id": "xDTvKiSs6G_n"
      },
      "source": [
        "# your code"
      ],
      "execution_count": null,
      "outputs": []
    },
    {
      "cell_type": "code",
      "metadata": {
        "id": "aYGd73o46HDW"
      },
      "source": [
        ""
      ],
      "execution_count": null,
      "outputs": []
    },
    {
      "cell_type": "markdown",
      "metadata": {
        "id": "_zvx8zuJWkz7"
      },
      "source": [
        "--- \n",
        "\n",
        "Exercise \n",
        "\n",
        "1. Which region has the best price per square meter? The cheapest square meter price?\n",
        "2. Which region has on average the oldest buildings?\n",
        "3. Which region has the best \"in shape\" flats to offer?\n",
        "4. Does the shape have an influence on the price per square meter?"
      ]
    },
    {
      "cell_type": "code",
      "metadata": {
        "id": "-Qr-jO--6GkB"
      },
      "source": [
        "# your code"
      ],
      "execution_count": null,
      "outputs": []
    },
    {
      "cell_type": "code",
      "metadata": {
        "id": "FDb_suYP6Gs4"
      },
      "source": [
        ""
      ],
      "execution_count": null,
      "outputs": []
    },
    {
      "cell_type": "markdown",
      "metadata": {
        "id": "UQxoVu9RWk7C"
      },
      "source": [
        "### Plot\n",
        "Plotting with pandas. Need some help?\n",
        "- https://pandas.pydata.org/pandas-docs/stable/user_guide/visualization.html\n",
        "\n",
        "---  \n",
        "Exercise\n",
        "1. Explore the distribution of the rent\n",
        "2. What is the relationship between the construction year and the rent?\n"
      ]
    },
    {
      "cell_type": "code",
      "metadata": {
        "id": "Z38IhcleZxfU"
      },
      "source": [
        "# your code"
      ],
      "execution_count": null,
      "outputs": []
    },
    {
      "cell_type": "code",
      "metadata": {
        "id": "z7K_oerrZxnw"
      },
      "source": [
        ""
      ],
      "execution_count": null,
      "outputs": []
    },
    {
      "cell_type": "markdown",
      "metadata": {
        "id": "ENwCT7XBWumX"
      },
      "source": [
        "### Find a good flat!\n",
        "My friend Josy is looking for a flat. She is still a student and cannot afford an expensive flat. Are there flats with a rent less than 500€ and more than 25 sqm (Space). She would like to move to Kreuzberg, Wedding, Prenzlauer Berg or Mitte. Any flats available for her? Is there a flat with two rooms and these constraints?"
      ]
    },
    {
      "cell_type": "code",
      "metadata": {
        "id": "WzbLA8mhbeee"
      },
      "source": [
        "# your code"
      ],
      "execution_count": null,
      "outputs": []
    },
    {
      "cell_type": "markdown",
      "metadata": {
        "id": "uf2GBUvDbNwV"
      },
      "source": [
        "Did you find any suitable flats? Send me the url via Slack!"
      ]
    }
  ]
}