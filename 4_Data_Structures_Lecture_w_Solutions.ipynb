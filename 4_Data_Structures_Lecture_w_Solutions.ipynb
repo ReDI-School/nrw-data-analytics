{
  "nbformat": 4,
  "nbformat_minor": 0,
  "metadata": {
    "colab": {
      "provenance": [],
      "collapsed_sections": [
        "dUkg9VlWwICc",
        "-oSu6gR9bjdj",
        "2niJlWMAZMCu",
        "_rehYX145nEk",
        "g4-XjayC8KO7",
        "wzPgAr_s_CrC",
        "ttLJtH1d0guL",
        "UBSLRWEeqE-W"
      ]
    },
    "kernelspec": {
      "display_name": "Python 3",
      "language": "python",
      "name": "python3"
    }
  },
  "cells": [
    {
      "cell_type": "markdown",
      "metadata": {
        "id": "qer4yHhf4pcx"
      },
      "source": [
        "# Data Structures in Python\n",
        "\n",
        "There are different several different data structures in Python. One you have already got to know: Pandas Dataframes. Today we will talk about two more data structures: Lists and Dictionaries. They are extremely powerful and widely used. How and why, you will see in the session.\n"
      ]
    },
    {
      "cell_type": "markdown",
      "source": [
        "## Questions\n",
        "\n",
        "1.   How many car manufacturers are there?\n",
        "2.   How many different cars models does Volkswagen produce?\n",
        "\n"
      ],
      "metadata": {
        "id": "dUkg9VlWwICc"
      }
    },
    {
      "cell_type": "code",
      "metadata": {
        "id": "ibugBvYeIqOj"
      },
      "source": [
        "# Imports\n",
        "import pandas as pd\n",
        "import requests\n",
        "pd.options.plotting.backend = \"plotly\""
      ],
      "execution_count": 1,
      "outputs": []
    },
    {
      "cell_type": "markdown",
      "metadata": {
        "id": "zGosk8ZzDmMu"
      },
      "source": [
        "### 1. How many car markers are there?"
      ]
    },
    {
      "cell_type": "code",
      "metadata": {
        "id": "hZZUDIL8exDu"
      },
      "source": [
        "# fetch the data from the API\n",
        "url = \" https://vpic.nhtsa.dot.gov/api/vehicles/GetAllMakes?format=json\"\n",
        "all_makes = requests.get(url, timeout=5)    # The get() method sends a GET request to the specified url., timeout: indicates how many seconds to wait for the client to make a connection and/or send a response.\n",
        "all_makes = all_makes.json()[\"Results\"]     # Selects the values from the \"Results\" in the first element of the JSON structure"
      ],
      "execution_count": 2,
      "outputs": []
    },
    {
      "cell_type": "code",
      "source": [
        "# inspect the data\n",
        "all_makes[0:5] # gives the first five elements of a list - called slice notation (list[start:end])"
      ],
      "metadata": {
        "colab": {
          "base_uri": "https://localhost:8080/"
        },
        "id": "FwOC-xQW1bt2",
        "outputId": "79ed4424-66c0-42cd-927d-abc47e8006a7"
      },
      "execution_count": 3,
      "outputs": [
        {
          "output_type": "execute_result",
          "data": {
            "text/plain": [
              "[{'Make_ID': 11897, 'Make_Name': ' MID-TOWN TRAILERS'},\n",
              " {'Make_ID': 4877, 'Make_Name': '1/OFF KUSTOMS, LLC'},\n",
              " {'Make_ID': 11257, 'Make_Name': '102 IRONWORKS, INC.'},\n",
              " {'Make_ID': 6387, 'Make_Name': '17 CREEK ENTERPRISES'},\n",
              " {'Make_ID': 9172, 'Make_Name': '1M CUSTOM CAR TRANSPORTS, INC.'}]"
            ]
          },
          "metadata": {},
          "execution_count": 3
        }
      ]
    },
    {
      "cell_type": "code",
      "metadata": {
        "colab": {
          "base_uri": "https://localhost:8080/"
        },
        "id": "bL30VHKVHMXT",
        "outputId": "0f464b5a-f0b2-445e-a7f2-6eeac5d13a5b"
      },
      "source": [
        "type(all_makes)"
      ],
      "execution_count": 4,
      "outputs": [
        {
          "output_type": "execute_result",
          "data": {
            "text/plain": [
              "list"
            ]
          },
          "metadata": {},
          "execution_count": 4
        }
      ]
    },
    {
      "cell_type": "markdown",
      "metadata": {
        "id": "kHkZV38fGi_b"
      },
      "source": [
        "New data type! **Lists**! \n",
        "Why are lists so powerful:\n",
        "- We can store all sorts of information inside them, even other data structures (only one data type per list)\n",
        "- They are mutable: We can change lists and their content, we can add and delete elements of a list\n",
        "- Lists can be transformed to dataframes\n",
        "\n",
        "- Is written as a list of comma-separated values (items) between square brackets. Important thing about a list is that items in a list need not be of the same type."
      ]
    },
    {
      "cell_type": "code",
      "metadata": {
        "colab": {
          "base_uri": "https://localhost:8080/"
        },
        "id": "lCAR8DbyG6Dr",
        "outputId": "dd6b90ec-e04d-4a48-81e2-769ca0e6c5e6"
      },
      "source": [
        "# accessing elements in lists\n",
        "# To access values in lists, we use the square brackets for slicing along with the index or indices to obtain value available at that index. For example:\n",
        "all_makes[1] # gives us the second element of the list, since the index always starts at 0"
      ],
      "execution_count": 5,
      "outputs": [
        {
          "output_type": "execute_result",
          "data": {
            "text/plain": [
              "{'Make_ID': 4877, 'Make_Name': '1/OFF KUSTOMS, LLC'}"
            ]
          },
          "metadata": {},
          "execution_count": 5
        }
      ]
    },
    {
      "cell_type": "code",
      "metadata": {
        "colab": {
          "base_uri": "https://localhost:8080/"
        },
        "id": "HQa3iq4pZaKS",
        "outputId": "a77836d8-430f-4666-8af6-5a6a9c013cd8"
      },
      "source": [
        "#  -1 provides the list’s last element, -2 provides the list’s second last item, and so on.\n",
        "all_makes[-1]"
      ],
      "execution_count": 6,
      "outputs": [
        {
          "output_type": "execute_result",
          "data": {
            "text/plain": [
              "{'Make_ID': 11713, 'Make_Name': 'ZZKNOWN'}"
            ]
          },
          "metadata": {},
          "execution_count": 6
        }
      ]
    },
    {
      "cell_type": "code",
      "metadata": {
        "id": "Fp-5wk1qLfcy"
      },
      "source": [
        "# add an element to a list\n",
        "all_makes.append({'Make_ID': 1340, 'Make_Name': '1A Kathis carbrand'})"
      ],
      "execution_count": 7,
      "outputs": []
    },
    {
      "cell_type": "code",
      "source": [
        "all_makes[-1] # constists of two key-value pairs"
      ],
      "metadata": {
        "colab": {
          "base_uri": "https://localhost:8080/"
        },
        "id": "EhN0QA6X4b0j",
        "outputId": "2c9f58e9-6488-463b-d2a2-db392f43fc40"
      },
      "execution_count": 8,
      "outputs": [
        {
          "output_type": "execute_result",
          "data": {
            "text/plain": [
              "{'Make_ID': 1340, 'Make_Name': '1A Kathis carbrand'}"
            ]
          },
          "metadata": {},
          "execution_count": 8
        }
      ]
    },
    {
      "cell_type": "code",
      "metadata": {
        "id": "3mDSrgEHHWH1",
        "colab": {
          "base_uri": "https://localhost:8080/"
        },
        "outputId": "871b76c2-ec16-4953-dfb6-49debc0848d1"
      },
      "source": [
        "# Answering our initial question: Here is the list of all makes\n",
        "makes_list = [make[\"Make_Name\"] for make in all_makes]\n",
        "makes_list"
      ],
      "execution_count": 9,
      "outputs": [
        {
          "output_type": "execute_result",
          "data": {
            "text/plain": [
              "[' MID-TOWN TRAILERS',\n",
              " '1/OFF KUSTOMS, LLC',\n",
              " '102 IRONWORKS, INC.',\n",
              " '17 CREEK ENTERPRISES',\n",
              " '1M CUSTOM CAR TRANSPORTS, INC.',\n",
              " '1ST CHOICE MANUFACTURING INC',\n",
              " '2-G TRAILER CO LLC',\n",
              " '2231545 ONTARIO',\n",
              " '24/7 ONSITE CAMERAS INC',\n",
              " '280 TRAILERS',\n",
              " '3 CUSTOM SOLUTIONS',\n",
              " '3 STAR MFG LTD',\n",
              " '3&1 ENTERPRISES, LLC DBA IMPACT TRAILERS',\n",
              " '33 EAST MAINTENANCE INC',\n",
              " '357 GOLF CARTS',\n",
              " '36 FEET LLC',\n",
              " '3C CATTLE FEEDERS INC.',\n",
              " '3D CUSTOM ALUMINUM',\n",
              " '3M DYNAMIC MESSAGE SYSTEMS',\n",
              " '3T MFG.',\n",
              " '4 BOSS',\n",
              " '4 STAR FABRICATION',\n",
              " '4 W ',\n",
              " '4 X 4 TRAILERS LTD',\n",
              " '4-8 ENTERPRISES',\n",
              " '4-STAR TRAILERS INC.',\n",
              " '4L TRAILERS',\n",
              " '4M FARM & TRAILER SALES',\n",
              " '5 STARR TRAILER COMPANY, INC',\n",
              " '505 FABRICATION',\n",
              " '5280 TRAILERWORKS',\n",
              " '55 GRILLS',\n",
              " '58TH STREET CUSTOMS',\n",
              " '5JS WELDING',\n",
              " '5M TRAILERS',\n",
              " '5R RANCH TRAILERS',\n",
              " '6 & 34 TRAILERS & MFG, INC.',\n",
              " '6186433 MB LTD / IRONMEN INDUSTRIES',\n",
              " '7 SEAS TRAILERS',\n",
              " '7 SONS CONSTRUCTION',\n",
              " \"702 TRAILER'S & WELDING LLC\",\n",
              " '7X OFFROAD',\n",
              " '801 TRAILER MANUFACTURING',\n",
              " '818',\n",
              " '9149-0847 QUEBEC INC.',\n",
              " 'A & A MANUFACTURING',\n",
              " 'A & B INDUSTRIES',\n",
              " 'A & D COMPANY',\n",
              " 'A & E FABRICATORS',\n",
              " 'A & E TRAILERS',\n",
              " 'A & F TRAILER MFG INC',\n",
              " 'A & H',\n",
              " 'A & K TRAILERS',\n",
              " 'A & L SMOKERS',\n",
              " 'A & L TRAILERS',\n",
              " 'A & M FABRICATIONS',\n",
              " 'A & R CUSTOM TRAILERS',\n",
              " 'A & W TRAILOR MANUFACTURE',\n",
              " 'A BAR K TRAILERS',\n",
              " 'A SMITH GT BENTLEY',\n",
              " 'A TEAM TRAILERS, LTD.',\n",
              " 'A TO Z AUTO',\n",
              " 'A TO Z METAL WORKS CO.',\n",
              " 'A TRINITY TRAILER',\n",
              " 'A&A STEEL ENTERPRISES LTD.',\n",
              " 'A&D ',\n",
              " 'A&P WELDING',\n",
              " 'A&R ECONOMY CARGO TRAILERS',\n",
              " 'A-1 CUSTOM TRAILER AKA TOW MASTER',\n",
              " 'A-1 HITCH & TRAILER SALES, INC.',\n",
              " 'A-1 TRUCK REPAIR',\n",
              " 'A-BAR-D MFG.',\n",
              " 'A-N-S MANUFACTURING, INC.',\n",
              " 'A. B. CHANCE COMPANY',\n",
              " 'A. BERGMAN',\n",
              " 'A.A. TRAILER',\n",
              " 'A.G.A EL AMIGUITO',\n",
              " 'A.N. BOWLING',\n",
              " 'A.P.C. MOTOR COMPANY',\n",
              " 'A.P.E, INC',\n",
              " 'A.Q. MANUFACTURING',\n",
              " 'A.R.M.',\n",
              " 'A.S.C.',\n",
              " 'A.T.M.',\n",
              " 'A1 CYCLES',\n",
              " 'A1 FOOD TRUCK DEPOT LLC',\n",
              " 'A2M2 TRAILERS',\n",
              " 'A2Z',\n",
              " 'AA MUFFLER AND WELDING',\n",
              " 'AA SCREEN SUPPLY',\n",
              " 'AA WELDING',\n",
              " 'AAA MARINE',\n",
              " 'AAA TRAILER SALES LLC',\n",
              " 'AAD WELDING, INC.',\n",
              " 'AAPEX TRAILERS INC',\n",
              " 'AAR WELDING',\n",
              " 'AARON WORLDWIDE MACHINE CO., INC.',\n",
              " 'AAS',\n",
              " 'ABASTECEDORA DE TRACTOPARTES Y REFACCIONES',\n",
              " 'ABBA TRAILERS LLC',\n",
              " 'ABC ENTERPRISES',\n",
              " 'ABC MANUFACTURING',\n",
              " 'ABCMFG, INC',\n",
              " 'ABD EQUIPMENT & PARTS LLC',\n",
              " 'ABI',\n",
              " 'ABI CARAVANS LTD',\n",
              " 'ABILITY METALS',\n",
              " 'ABLE INDUSTRIES',\n",
              " 'ABS',\n",
              " 'ABSOLUTE CONCEPTS',\n",
              " 'ABSOLUTE PERFORMANCE',\n",
              " 'ABSOLUTE TRAILER SALES',\n",
              " 'ABSOLUTELY WILD RANCH',\n",
              " 'ABTEC OF WISCONSIN, INC.',\n",
              " 'ABU',\n",
              " 'AC CUSTOMS',\n",
              " 'AC PROPULSION',\n",
              " 'ACADEMI TRAINING CENTER',\n",
              " 'ACC TRAILRITE',\n",
              " 'ACCEL TRAILERS INC.',\n",
              " 'ACCELERATED MEDIA TECHNOLOGIES',\n",
              " 'ACCELERATED SPEED DYNAMICS, INC',\n",
              " 'ACCELERATED TANKS AND TRAILERS',\n",
              " 'ACCU-TEK TRAILER MANUFACTURING, INC.',\n",
              " 'ACCU-WELD TRUCK BODY & TRAILER INC',\n",
              " 'ACCURATE CYCLE ENGINEERING',\n",
              " 'ACCUSTOMX',\n",
              " 'ACE',\n",
              " 'ACE CUSTOM TRAILERS',\n",
              " 'ACE METALWORKS LLC',\n",
              " 'ACE MFG',\n",
              " 'ACE MOTORCYCLE',\n",
              " 'ACE OF SPADES',\n",
              " 'ACE TRAILERS',\n",
              " 'ACE TRUCK BODY CO.',\n",
              " 'ACELA, INC',\n",
              " 'ACES CHOPPERWORKS',\n",
              " 'ACG',\n",
              " 'ACI',\n",
              " 'ACKER-BUILT',\n",
              " 'ACME',\n",
              " 'ACME CRYOGENICS, INC.',\n",
              " 'ACME GROUP',\n",
              " 'ACME INDUSTRIES',\n",
              " 'ACME TRAILER WORKS',\n",
              " 'ACRO TRAILER COMPANY',\n",
              " 'ACTION ENTERPRISES & FABRICATION',\n",
              " 'ACTION EQUIPMENT',\n",
              " 'ACTION INDUSTRIAL STUDIO',\n",
              " 'ACTION SIGNS AND BILLBOARDS',\n",
              " 'ACTION TRAILERS',\n",
              " 'ACTION WELDING & FABRICATION, INC.',\n",
              " 'ACTIVEDOGS',\n",
              " 'ACTIVITY TRAILER',\n",
              " 'ACTIVMO AUTO',\n",
              " 'ACURA',\n",
              " 'ACV INC',\n",
              " 'ADAM TRAILERS',\n",
              " 'ADAMS EQUIPMENT',\n",
              " 'ADAMS MFG',\n",
              " 'ADDAX OVERLAND LLC',\n",
              " 'ADDCO',\n",
              " 'ADIRONDACK KABINS, LLC',\n",
              " 'ADIRONDACK KOTTAGES',\n",
              " 'ADIRONDACK WHITE PINE CABINS',\n",
              " 'ADLY',\n",
              " 'ADM MANUFACTURING',\n",
              " 'ADMIRAL DRIVE SYSTEMS',\n",
              " 'ADMIRAL TRAILERS',\n",
              " 'ADMIRATION HOMES',\n",
              " 'ADMW',\n",
              " 'ADRENALINE',\n",
              " 'ADRIAN HOMES',\n",
              " 'ADS MANUFACTURING',\n",
              " 'ADVANCE ENGINEERED PRODUCTS',\n",
              " 'ADVANCE LIFTS',\n",
              " 'ADVANCE MECHANICAL SERVICE',\n",
              " 'ADVANCE METAL FABRICATION AND MACHINE',\n",
              " 'ADVANCE PUMP & EQUIPMENT',\n",
              " 'ADVANCED BOAT',\n",
              " 'ADVANCED BOAT TRAILERS, INC.',\n",
              " 'ADVANCED CONTAINMENT SYSTEMS, INC',\n",
              " 'ADVANCED CUSTOMS & CONVERSIONS',\n",
              " 'ADVANCED DIRECTIONAL DRILLING SERVICES',\n",
              " 'ADVANCED FABRICATION',\n",
              " 'ADVANCED FABRICATORS INC',\n",
              " 'ADVANCED FIELD SERVICES, LLC',\n",
              " 'ADVANCED MANUFACTURING & POWER SYSTEMS, INC.',\n",
              " 'ADVANCED METAL PRODUCTS, INC',\n",
              " 'ADVANCED METALCRAFT & CO',\n",
              " 'ADVANCED PORTABLE BUILDINGS & TRAILERS',\n",
              " 'ADVANCED STRIPING EQUIPMENT',\n",
              " 'ADVANCED TRAILER CONCEPTS, INC.',\n",
              " 'ADVANCED TRAILER SERVICE, INC.',\n",
              " 'ADVANCED TRAILER SOLUTIONS',\n",
              " 'ADVANCED TRAILER SYSTEMS',\n",
              " 'ADVANCED TRANSPORT TECHNOLOGIES INC.',\n",
              " 'ADVANCED WELDING AND MANUFACTURING',\n",
              " 'ADVANTAGE CUSTOMS',\n",
              " 'ADVANTAGE TERRAFAB, LLC',\n",
              " 'ADVANTAGE TRAILERS',\n",
              " 'ADVENTURE',\n",
              " 'ADVENTURE SPORTS PRODUCTS, INC',\n",
              " 'ADVENTURE TRAILERS',\n",
              " 'AEC ENTERPRISES',\n",
              " 'AEP NORTH AMERICA',\n",
              " 'AERO',\n",
              " 'AERO BUILD LLC',\n",
              " 'AERO FIBERGLASS COMPANY',\n",
              " 'AERO FLITE',\n",
              " 'AERO MOTO',\n",
              " 'AERO MOTORS',\n",
              " 'AERO MOTORSPORTS',\n",
              " 'AERO TEARDROPS, LLC',\n",
              " 'AERO TRAILERS',\n",
              " 'AEROBILT MANUFACTURING',\n",
              " 'AEROGLAS',\n",
              " 'AEROPUP TRAILERS LLC',\n",
              " 'AEROSWINT TRAILERS',\n",
              " 'AEROTECH COATINGS LLC',\n",
              " 'AEROTEK',\n",
              " 'AEROVAULT',\n",
              " 'AFAB PETROLEUM EQUIPMENT & STEEL FABRICATION',\n",
              " 'AFC COMPANY',\n",
              " 'AFCR',\n",
              " 'AFFORDABLE ALUMINUM',\n",
              " 'AFFORDABLE TRAILERS',\n",
              " 'AFTER HOURS',\n",
              " 'AFTER-MARKET SPECIALTIES',\n",
              " 'AG DRYER SERVICES INC.',\n",
              " 'AG INDUSTRIAL, INC',\n",
              " 'AG SHIELD MANUFACTURING',\n",
              " 'AG SPRAY EQUIPMENT',\n",
              " 'AG SPRAY EQUIPMENT,INC.',\n",
              " 'AG WORKS INTERNATIONAL',\n",
              " 'AG-QUIP, INC.',\n",
              " 'AG. BELT TRAILER',\n",
              " 'AGA GAS CENTRAL, INC',\n",
              " 'AGAMS, CO. LTD',\n",
              " 'AGAZU',\n",
              " 'AGB',\n",
              " \"AGC LSV'S\",\n",
              " 'AGRI-DRAIN CORP',\n",
              " 'AGRIFLEET LEASING CORPORATION',\n",
              " \"AGUILAR'S WELDING, INC.\",\n",
              " 'AGVANTAGE MANUFACTURING CORP.',\n",
              " 'AHGO FOOD TRAILERS',\n",
              " 'AHOY! HOUSEBOATS AND FISHHOUSES',\n",
              " 'AI TRAILERS',\n",
              " 'AIMHIGH',\n",
              " 'AINLEY KENNELS & FABRICATION, INC.',\n",
              " 'AIR EASY LLC DBA AVENTURA-X',\n",
              " 'AIR RESPONDER',\n",
              " 'AIR-FLO',\n",
              " 'AIR-TOW TRAILERS',\n",
              " 'AIRBAGGED TRAILERS, INC.',\n",
              " 'AIRBURNERS',\n",
              " 'AIRSTREAM',\n",
              " 'AIRSTREAM INC.',\n",
              " 'AIRTECH TOOLS',\n",
              " 'AIRTRONICS METAL PRODUCTS',\n",
              " 'AIRY',\n",
              " 'AJAX TOCCO MAGNETHERMIC CORPORATION',\n",
              " 'AJAX TOOLS, INC.',\n",
              " 'AJAX TRAILERS, INC',\n",
              " 'AJR INC.',\n",
              " 'AKY',\n",
              " \"AL'S MOTORSICKLE SHOP INC.\",\n",
              " 'AL-JON, INC.',\n",
              " 'ALAMEDA TRAILER SALES',\n",
              " 'ALAN RITCHEY, INC.',\n",
              " 'ALASKA EXTREME TRAILER',\n",
              " 'ALASKA FRONTIER FABRICATION LLC',\n",
              " 'ALASKA SEA KING',\n",
              " 'ALBERT BÖCKER GMBH & CO. KG',\n",
              " 'ALBERT LEA',\n",
              " 'ALBRIGHT BIKES',\n",
              " 'ALC MANUFACTURING',\n",
              " 'ALCAN TRAILERS, LLC',\n",
              " 'ALCAN TRAVELER, INC',\n",
              " 'ALCOM LLC',\n",
              " 'ALDURA',\n",
              " 'ALEPH GROUP, INC.',\n",
              " 'ALEWINE MOTORS, INC.',\n",
              " 'ALEXANDER DENNIS LIMITED',\n",
              " \"ALEXANDER'S MACHINE AND MAINTENANCE SERVICE COMPANY\",\n",
              " 'ALFA CARGO LLC',\n",
              " 'ALFA ROMEO',\n",
              " 'ALFRED INDUSTRIES',\n",
              " 'ALIEN',\n",
              " 'ALIEN ENGINEERED PRODUCTS',\n",
              " 'ALINER',\n",
              " 'ALISO TRAILER MFG. INC.',\n",
              " 'ALKANE',\n",
              " 'ALKOTA CLEANING SYSTEMS, INC.',\n",
              " 'ALL ABOUT TRAILERS',\n",
              " 'ALL AMERICAN BIG TWIN',\n",
              " 'ALL AMERICAN CHOPPERS CO.',\n",
              " 'ALL AMERICAN MANUFACTURING LLC',\n",
              " 'ALL AMERICAN MANUFACTURING, INC.',\n",
              " 'ALL AMERICAN TRAILER MANUFACTURERS',\n",
              " 'ALL AMERICAN UTILITIES LLC',\n",
              " 'ALL AROUND TRAILERS',\n",
              " 'ALL BOAT MANUFACTURING',\n",
              " 'ALL CUSTOM ',\n",
              " 'ALL CUSTOM FABRICATIONS',\n",
              " 'ALL DAY LAWN',\n",
              " 'ALL FAB TRAILERS',\n",
              " 'ALL GOOD EQUIPMENT',\n",
              " 'ALL IN ONE CUSTOM FABRICATION & DESIGN',\n",
              " 'ALL MARINE TRAILERS',\n",
              " 'ALL PHASE TRAILER AND EQUIPMENT',\n",
              " 'ALL PRO CYCLES',\n",
              " 'ALL RIGHT STEEL, LLC.',\n",
              " 'ALL SEASONS MANUFACTURING',\n",
              " 'ALL SOUTH EQUIPMENT CO. INC.',\n",
              " 'ALL STAR CARTS & VEHICLES, INC.',\n",
              " 'ALL STAR SOLUTIONS',\n",
              " 'ALL STAR TRAILERS',\n",
              " 'ALL STAR TRAILERS FABRICATION',\n",
              " 'ALL STATE',\n",
              " 'ALL STEEL TRAILER, LLC',\n",
              " 'ALL WHEEL DRIVE EQUIPMENT MFG., INC.',\n",
              " 'ALL WORLD TRAILERS LLC',\n",
              " 'ALL-IN-ONE PRODUCTS',\n",
              " 'ALLARD MOTOR WORKS',\n",
              " 'ALLCO TRAILER MANUFACTURING',\n",
              " 'ALLEN BOAT COMPANY',\n",
              " 'ALLEN FABRICATORS INC.',\n",
              " \"ALLEN'S\",\n",
              " \"ALLEN'S MFG INC.\",\n",
              " 'ALLENTOWN SHOTCRETE TECHNOLOGY, INC.',\n",
              " 'ALLEY RAT CUSTOM CYCLES LLC',\n",
              " 'ALLEYKAT KUSTOMS OF ARIZONA',\n",
              " 'ALLIANCE NORTH AMERICA, INC',\n",
              " 'ALLIANCE RV',\n",
              " 'ALLIANZ SWEEPER COMPANY',\n",
              " 'ALLIED MACHINE INC',\n",
              " 'ALLIED MANUFACTURING, INC.',\n",
              " 'ALLIED TRAILER WORKS (ATW)',\n",
              " 'ALLIED WELDING SERVICES',\n",
              " 'ALLISON DUMP BODIES & TRAILERS',\n",
              " 'ALLMAND BROS, INC.',\n",
              " 'ALLMAND BROTHERS',\n",
              " 'ALLOUTHUNTING',\n",
              " 'ALLOY',\n",
              " 'ALLOY CUSTOM PRODUCTS',\n",
              " 'ALLOY CUSTOM VACUUM PRODUCTS INC',\n",
              " 'ALLROAD ORV',\n",
              " 'ALLSTATES PRODUCTION EQUIPMENT COMPANY',\n",
              " 'ALLURE TRAILERS',\n",
              " 'ALLVAN CORPORATION',\n",
              " 'ALMAR MANUFACTURING',\n",
              " 'ALMAX HOLDING LIMITED',\n",
              " 'ALMIGHTY TRAILERS LLC',\n",
              " 'ALPACAMPER',\n",
              " 'ALPHA BOATS UNLIMITED',\n",
              " 'ALPHA CARGO TRAILERS LLC',\n",
              " 'ALPHA PRODUCTS INTERNATIONAL',\n",
              " 'ALPHA TANK BUILDERS',\n",
              " 'ALPHAHD TRAILERS',\n",
              " 'ALPINE',\n",
              " 'ALPINE INDUSTRIAL, LLC',\n",
              " 'ALPINE TRAILERS, LLC',\n",
              " 'ALPINE WELDING & FABRICATION INC',\n",
              " 'ALSALOR CORP.',\n",
              " 'ALTA',\n",
              " 'ALTAMONT TECHNOLOGIES, INC',\n",
              " 'ALTEC',\n",
              " 'ALTEC ENVIRONMENTAL PRODUCTS',\n",
              " 'ALTEC INDUSTRIES, INC.',\n",
              " 'ALTITUDE TEARDROP',\n",
              " 'ALUM-A-FAB INC.',\n",
              " 'ALUM-LINE, INC.',\n",
              " 'ALUMA',\n",
              " 'ALUMA PRO TRAILERS, LLC.',\n",
              " 'ALUMA TOWER COMPANY',\n",
              " 'ALUMACAR',\n",
              " 'ALUMAICE',\n",
              " 'ALUMATECH TRAILERS',\n",
              " 'ALUMATREK',\n",
              " 'ALUMAX TRAILERS',\n",
              " 'ALUMI TECH',\n",
              " 'ALUMINA, INC.',\n",
              " 'ALUMINATOR TRAILERS LLC',\n",
              " 'ALUMINEX FABRICATION',\n",
              " 'ALUMINUM CARGO TRAILERS INC',\n",
              " 'ALUMINUM MODEL',\n",
              " 'ALUMINUM TRAILER CO.',\n",
              " 'ALUMINUM TRAILERS, INC.',\n",
              " 'ALUMINX',\n",
              " 'ALUMITUFF MANUFACTURING',\n",
              " 'ALUMMIKON TRAILERS',\n",
              " 'ALVAREZ',\n",
              " 'ALVEY WELDING LLC',\n",
              " 'ALWAYS READY CART CARE LLC',\n",
              " 'AM GENERAL',\n",
              " 'AM MACHINERY INC.',\n",
              " 'AMACSA',\n",
              " 'AMARON TRAILERS',\n",
              " 'AMAZE-N-TOW',\n",
              " 'AMAZE-N-TOW, LLC.',\n",
              " 'AMAZING TRAILERS',\n",
              " 'AMBER WAVES INC.',\n",
              " 'AMBERS',\n",
              " 'AMC',\n",
              " 'AMC APARATOS MECANICOS DE CALIDAD',\n",
              " 'AMD',\n",
              " 'AMELIT, INC.',\n",
              " 'AMEN CHASSIS WORKS',\n",
              " 'AMERATRAIL',\n",
              " 'AMERI-CAMP',\n",
              " 'AMERI-CAN ENGINEERING, INC.',\n",
              " 'AMERI-CARTS',\n",
              " 'AMERICA EV',\n",
              " \"AMERICA'S BEST CARGO\",\n",
              " 'AMERICAN AIRBOAT CORPORATION',\n",
              " 'AMERICAN AIRPORT SUPPORT & RESCUE SYSTEMS',\n",
              " 'AMERICAN AUGERS',\n",
              " 'AMERICAN BEST CORPORATION',\n",
              " 'AMERICAN BOS CORP',\n",
              " 'AMERICAN CARTS',\n",
              " 'AMERICAN CLASSIC MOTORS INC.',\n",
              " 'AMERICAN CONTROL AND ENGINEERING SERVICE, INC.',\n",
              " 'AMERICAN CRAFTED TRAILERS, INC.',\n",
              " 'AMERICAN CUSTOM COACH',\n",
              " 'AMERICAN CUSTOM GOLF CARS, INC.',\n",
              " 'AMERICAN DOZER INC.',\n",
              " 'AMERICAN EAGLE TRAILERS INC.',\n",
              " 'AMERICAN EAGLE TRAILERS, INC.',\n",
              " 'AMERICAN ELECTRIC VEHICLE COMPANY, LLC',\n",
              " 'AMERICAN ELECTRONIC SIGN CO',\n",
              " 'AMERICAN FARRIER SYSTEMS LLC',\n",
              " 'AMERICAN HAULER',\n",
              " 'AMERICAN HAULER INC.',\n",
              " 'AMERICAN HAWG CHOPPERS INC',\n",
              " 'AMERICAN HOMESTAR CORPORATION',\n",
              " 'AMERICAN HOTROD MANUFACTURING, LLC',\n",
              " 'AMERICAN INTEGRATED SECURITY GROUP',\n",
              " 'AMERICAN IRONHORSE',\n",
              " 'AMERICAN IRONHORSE MOTORCYCLES',\n",
              " 'AMERICAN KULTURE CYCLES',\n",
              " 'AMERICAN KULTURE ROD AND CYCLE SHOPPE',\n",
              " 'AMERICAN LAFRANCE',\n",
              " 'AMERICAN LANDMASTER',\n",
              " 'AMERICAN LIFAN',\n",
              " 'AMERICAN MADE',\n",
              " 'AMERICAN MADE CHASSIS',\n",
              " 'AMERICAN MANUFACTURING OPERATIONS',\n",
              " 'AMERICAN MANUFACTURING OPERATIONS, INC.',\n",
              " 'AMERICAN MANUFACTURING SUPPORT',\n",
              " 'AMERICAN METAL FABRICATION',\n",
              " 'AMERICAN MOBILE VENDING',\n",
              " 'AMERICAN MOTORCYCLE CORPORATION',\n",
              " 'AMERICAN MOTORS',\n",
              " 'AMERICAN NOMAD MANUFACTURING',\n",
              " 'AMERICAN PERFORMANCE TECHNOLOGIES',\n",
              " 'AMERICAN PISTON',\n",
              " 'AMERICAN PNEUMATIC TOOLS',\n",
              " 'AMERICAN PRIDE',\n",
              " 'AMERICAN PRIDE TRAILERS',\n",
              " 'AMERICAN PRODUCTS',\n",
              " 'AMERICAN Q-TEC',\n",
              " 'AMERICAN QUANTUM CYCLES',\n",
              " 'AMERICAN RECREATIONAL VEHICLES',\n",
              " 'AMERICAN ROAD TRAILERS',\n",
              " 'AMERICAN SCOOTER MANUFACTURING',\n",
              " 'AMERICAN SKIER',\n",
              " 'AMERICAN SPORT TRAILER',\n",
              " 'AMERICAN SPORTWORKS',\n",
              " 'AMERICAN SPRAY TECHNOLOGIES',\n",
              " 'AMERICAN STAR METAL FABRICATION',\n",
              " 'AMERICAN STEEL FABRICATORS',\n",
              " 'AMERICAN STEEL HORSE CYCLES',\n",
              " 'AMERICAN STEEL V-TWIN',\n",
              " 'AMERICAN SUPER CYCLE',\n",
              " 'AMERICAN SUPERSTAR ',\n",
              " 'AMERICAN SURPLUS & MFG',\n",
              " 'AMERICAN TANK',\n",
              " 'AMERICAN TEARDROP',\n",
              " 'AMERICAN THUNDER TRYKE',\n",
              " 'AMERICAN TOTE',\n",
              " 'AMERICAN TRAILER AND MANUFACTURING LLC.',\n",
              " 'AMERICAN TRAILER BUILDERS',\n",
              " 'AMERICAN TRAILER COMPANY',\n",
              " 'AMERICAN TRAILER MANUFACTURING COMPANY',\n",
              " 'AMERICAN TRAILER MFG',\n",
              " 'AMERICAN TRAILER MFG. CO',\n",
              " 'AMERICAN TRAILER SYSTEMS',\n",
              " 'AMERICAN TRAILERS',\n",
              " 'AMERICAN TRAILERS CO',\n",
              " 'AMERICAN TRAVEL SYSTEMS, INC.',\n",
              " 'AMERICAN TRUCK & TRAILER BODY',\n",
              " 'AMERICAN TRUCK COMPANY',\n",
              " 'AMERICAN VACUUM',\n",
              " 'AMERICAN VAN',\n",
              " 'AMERICAN VINTAGE MOTORCYCLE',\n",
              " 'AMERICAN WARRIOR MOTORCYCLES',\n",
              " 'AMERICAN WASH COMPANY',\n",
              " 'AMERICAN WELDING & MACHINE CO',\n",
              " 'AMERICAN WELDING SERVICE',\n",
              " 'AMERICAN WOOD SPLITTERS, INC.',\n",
              " 'AMERICANA',\n",
              " 'AMERICANA CHOPPER',\n",
              " 'AMERIFAB INDUSTRIES',\n",
              " 'AMERIMAX',\n",
              " 'AMERIQUIP',\n",
              " 'AMERITECH CORPORATION',\n",
              " 'AMERITRAIL, INC.',\n",
              " 'AMFAB',\n",
              " 'AMIGO MOTORS',\n",
              " 'AMKO SERVICE COMPANY',\n",
              " 'AMP CUSTOMS',\n",
              " 'AMP MARINE LLC',\n",
              " 'AMP MOTOR VEHICLES',\n",
              " 'AMP TRAILERS MFG.',\n",
              " \"AMP'D UP TRAILERS\",\n",
              " 'AMPERE',\n",
              " 'AMPHI-RANGER',\n",
              " 'AMPHIBIAN BOAT TRAILERS, INC.',\n",
              " 'AMRAD PRODUCTS AND SUPPLY COMPANY, INC.',\n",
              " 'AMS',\n",
              " 'AMS GLOBAL',\n",
              " 'AMW',\n",
              " 'ANACONDA',\n",
              " 'ANAHEIM WELDING & FABRICATION',\n",
              " 'ANAMNESIS CORPORATION',\n",
              " 'ANARCHY MOTORCYCLE COMPANY',\n",
              " 'ANCHI',\n",
              " 'ANDERSON CUSTOM IRON WORKS',\n",
              " 'ANDERSON INDUSTRIES',\n",
              " 'ANDERSON MFG.',\n",
              " 'ANDERSON REPAIR',\n",
              " 'ANDERSON TRUCK BODY & EQUIPMENT',\n",
              " 'ANDREWS EQUIPMENT SERVICE OF WASHINGTON INC.',\n",
              " 'ANDROS ENGINEERING',\n",
              " \"ANDY'S WELDING\",\n",
              " \"ANESKO'S CUSTOM TRAILERS\",\n",
              " 'ANHUI ANKAI',\n",
              " 'ANLIE',\n",
              " 'ANTIOCH',\n",
              " 'ANTRIM METALWORKING & REPAIR',\n",
              " 'ANVIL',\n",
              " 'ANVIL PRODUCTS CORPORATION',\n",
              " 'ANVIL TRAILER',\n",
              " 'ANYSIZER CHASSIS MANUFACTURING CO',\n",
              " 'ANYTHING GOES CYCLES',\n",
              " 'ANYTHING IN IRON, INC.',\n",
              " 'AP TRAILERS LLC',\n",
              " 'APA',\n",
              " 'APACHE',\n",
              " 'APACHE GOLF CARS',\n",
              " 'APACHE SINCA INDUSTRIES INC',\n",
              " 'APACHE TRAILER',\n",
              " 'APC EQUIPMENT',\n",
              " 'APEX CUSTOM TRAILERS',\n",
              " 'APEX MANUFACTURING CO.',\n",
              " 'APEX MOTOR',\n",
              " 'API',\n",
              " 'APLUS TRAILERS',\n",
              " 'APM',\n",
              " 'APOGEE',\n",
              " 'APOGEE TRAILERS',\n",
              " 'APOGEE TRAILERS LLC',\n",
              " 'APOLLO',\n",
              " 'APOLLO CHOPPERS',\n",
              " 'APOLLO TRAILER COMPANY',\n",
              " 'APPALACHIAN TEARDROP COMPANY',\n",
              " 'APPALACHIAN TRAILER SALES',\n",
              " 'APPALACHIAN TRAILERS INC.',\n",
              " 'APPLEQUIST MANUFACTURING, INC.',\n",
              " 'APPLETON STEEL, INC.',\n",
              " 'APPLIED CRYO TECHNOLOGIES',\n",
              " 'APPLIED RESEARCH/VERTEK',\n",
              " 'APRILIA',\n",
              " 'APS SYSTEMS',\n",
              " 'APTERA MOTORS',\n",
              " 'AQUACRAFT INC',\n",
              " 'AQUAHAWK',\n",
              " 'ARBOC',\n",
              " 'ARC',\n",
              " 'ARC LINE MANUFACTURING LLC',\n",
              " 'ARC MANUFACTURING',\n",
              " 'ARC ZONE',\n",
              " 'ARCADE IRON MOTORCYCLE COMPANY',\n",
              " 'ARCADIA',\n",
              " 'ARCH CARGO TRAILERS',\n",
              " 'ARCH MOTORCYCLE CO',\n",
              " 'ARCHER MANUFACTURING CORPORATION',\n",
              " 'ARCHITECTURAL WELDING & DESIGN',\n",
              " 'ARCIMOTO',\n",
              " 'ARCS',\n",
              " 'ARCTIC BLAST',\n",
              " 'ARCTIC CAT',\n",
              " 'ARCTICMAX',\n",
              " 'ARCWELD',\n",
              " 'AREA 51',\n",
              " 'ARENA WERKS',\n",
              " 'ARGO FAB, INC',\n",
              " 'ARGO TRAILERS',\n",
              " 'ARGO TRAILERS GA',\n",
              " 'ARISING INDUSTRIES, INC',\n",
              " 'ARISTOCRAT INDUSTRIES, INC.',\n",
              " 'ARIZONA MACHINE & FABRICATION, INC.',\n",
              " 'ARIZONA TRAILER MANUFACTURING',\n",
              " 'ARIZONA TRAILER SPECIALISTS',\n",
              " 'ARIZONA WOODRIVER OUTFITTERS, LLC',\n",
              " 'ARK CUSTOM TRAILERS',\n",
              " 'ARKFELD',\n",
              " 'ARKTO CAMPERS LTD.',\n",
              " 'ARLEN NESS ENTERPRISES, INC.',\n",
              " 'ARMADILLO CAMPER KITS',\n",
              " 'ARMADILLO TRAILER MFG.',\n",
              " 'ARMBRUSTER STAGEWAY',\n",
              " 'ARMLIFT',\n",
              " 'ARMOR CARGO TRAILERS, LLC',\n",
              " 'ARMOR CHASSIS',\n",
              " 'ARMOR LITE ',\n",
              " 'ARMOR LITE EXCEL, LLC',\n",
              " 'ARMOR LITE TRAILER',\n",
              " 'ARMORTECK',\n",
              " 'ARMSTRONG TRAILER MANUFACTURING CO., INC.',\n",
              " 'ARMSTRONG TRAILER PRODUCTS, INC.',\n",
              " 'ARMSTRONG TRAILERS',\n",
              " 'ARNDT TRAILER MANUFACTURING',\n",
              " 'ARNING INDUSTRIES, INC.',\n",
              " 'ARNOLD MACHINE',\n",
              " 'ARO SA',\n",
              " 'ARRIBA CUEBALL TRAILER MFG L.L.C.',\n",
              " 'ARROW DUMP TRAILERS',\n",
              " 'ARROW TANK AND ENGINEERING CO.',\n",
              " 'ARROWHEAD',\n",
              " 'ARROWHEAD TRAILER MFG., INC.',\n",
              " 'ARSENAL OF VIRGINIA',\n",
              " 'ARSENAL TRAILER MANUFACTURING INC',\n",
              " 'ART',\n",
              " 'ART IN MOTION',\n",
              " 'ART ROLL TECH',\n",
              " \"ART'S PORTABLE WELDING\",\n",
              " \"ART'S WAY\",\n",
              " 'ARTECH PARTS FABRICATION',\n",
              " 'ASA',\n",
              " 'ASC, INC.',\n",
              " 'ASE',\n",
              " 'ASH COMPANY OF MOUNTAIN LAKE',\n",
              " 'ASHCAN FAB. CO.',\n",
              " 'ASHCROFT ENTERPRISES',\n",
              " 'ASHFORD MFG',\n",
              " \"ASHLEY'S CAROLINA CARS\",\n",
              " \"ASHLEY'S WELDING AND METAL FABRICATION\",\n",
              " 'ASI TRAILERS',\n",
              " 'ASPEN CUSTOM TRAILERS',\n",
              " 'ASPEN TRAIL',\n",
              " 'ASPEN TRAILER COMPANY LTD.',\n",
              " 'ASPEN TRAILER INC.',\n",
              " 'ASPHALT EQUIPMENT & SERVICE',\n",
              " 'ASPHALT MACHINERY',\n",
              " 'ASPHALT ZIPPER INC',\n",
              " 'ASPHALT ZIPPER TRAILER',\n",
              " 'ASSAULT TRAILERS LLC',\n",
              " 'ASSOCIATED SIDE DUMP DEVELOPMENT, INC.',\n",
              " 'ASTEC INDUSTRIES INC.',\n",
              " 'ASTEC MOBILE SCREENS',\n",
              " 'ASTEC UNDERGROUND',\n",
              " 'ASTON MARTIN',\n",
              " 'ASTON METAL ART',\n",
              " 'ASTORIA',\n",
              " 'ASTORIA INDUSTRIES, INC.',\n",
              " 'ASTRO HAVEN ENTERPRISES',\n",
              " 'ASTUR N.C. TOOLING, INC',\n",
              " 'ASUNA',\n",
              " 'ATC TRAILERS',\n",
              " 'ATEC AANHANGWAGENS',\n",
              " 'ATEK TRAILERS',\n",
              " 'ATF MFG, LLC',\n",
              " 'ATG',\n",
              " 'ATK',\n",
              " 'ATLANTA FABRICATING & EQUIPMENT CO',\n",
              " 'ATLANTIC MARINE TRAILERS',\n",
              " 'ATLANTIC TRAILERS',\n",
              " 'ATLAS',\n",
              " 'ATLAS COPCO',\n",
              " 'ATLAS CUSTOM TRAILERS',\n",
              " 'ATLAS LIFT TRAILERS, INC.',\n",
              " 'ATLAS MFG CO INC',\n",
              " 'ATLAS SPECIALTY PRODUCTS',\n",
              " 'ATOKA TRAILER & MFG.',\n",
              " 'ATOMIC ELECTRIC VEHICLES',\n",
              " 'ATR',\n",
              " 'ATRO',\n",
              " 'ATSATV',\n",
              " 'ATT R&D',\n",
              " 'ATTITUDE CUSTOM CYCLES, INC.',\n",
              " 'ATWOOD TRAILERS',\n",
              " 'AUCTIONEERING SYSTEMS, INC.',\n",
              " 'AUDETTE',\n",
              " 'AUDI',\n",
              " 'AUGUST METAL WORKS',\n",
              " 'AUGUSTA RV',\n",
              " 'AULICK INDUSTRIES',\n",
              " 'AURORA MODULAR INDUSTRIES',\n",
              " 'AURORA TRAILERS',\n",
              " 'AUSRV INC.',\n",
              " 'AUSTIN ELECTRIC',\n",
              " 'AUSTIN EV METRO',\n",
              " 'AUSTIN WELDING SERVICE',\n",
              " 'AUSTRALIAN OFF ROAD',\n",
              " 'AUTO CRAFT WHOLESALE AUTO',\n",
              " 'AUTO DECOR MATANE INC.',\n",
              " 'AUTO MOTION IND.',\n",
              " 'AUTO TANQUES Y TOLVAS TROY S.A. DE C.V.',\n",
              " 'AUTO TRANSPORT SERVICE',\n",
              " 'AUTO TRUCK',\n",
              " 'AUTO-MANIA',\n",
              " 'AUTOCAR',\n",
              " 'AUTOCAR INDUSTRIES',\n",
              " 'AUTOCAR LTD',\n",
              " 'AUTOCYCLE LLC',\n",
              " 'AUTODELTA USA INC',\n",
              " 'AUTOKAD',\n",
              " 'AUTOMATED BIOMASS SYSTEMS',\n",
              " 'AUTOMATED ENGINEERING SYSTEMS INC',\n",
              " 'AUTOMATED WASTE EQUIPMENT CO., INC.',\n",
              " 'AUTOMOBILI PININFARINA',\n",
              " 'AUTOMOTIVE TRANSFORMATION INC.',\n",
              " 'AUTUMN RIDGE',\n",
              " 'AUWAERTER-ANHAENGER UND AUFBAUTEN GMBH & CO. KG',\n",
              " 'AVAILABLE MATERIALS HANDLING',\n",
              " 'AVALANCHE',\n",
              " 'AVANTI',\n",
              " 'AVANTI MARINE USA INC.',\n",
              " 'AVANTI MOTORCYCLES',\n",
              " 'AVERA MOTORS',\n",
              " 'AVESCO WELDING & FABRICATION',\n",
              " 'AVILA MANUFACTURING',\n",
              " 'AWC',\n",
              " 'AWESOME REBUILD',\n",
              " 'AWS TRAILERS',\n",
              " 'AXIS CORPORATION',\n",
              " 'AZIMUTH INC.',\n",
              " 'AZLAND',\n",
              " 'AZTEC TRAILER',\n",
              " 'AZURE DYNAMIC INC.',\n",
              " 'AZURE DYNAMICS',\n",
              " 'B & B ENTERPRISES',\n",
              " 'B & B FABRICATORS',\n",
              " 'B & B TRAILER SALES',\n",
              " 'B & B TRAILERS',\n",
              " 'B & E TRAILER SALES INC.',\n",
              " 'B & G SUPPLY',\n",
              " 'B & H CUSTOMS',\n",
              " 'B & H TRAILERS',\n",
              " 'B & H WELDING SERVICES',\n",
              " 'B & K TRAILERS, INC.',\n",
              " 'B & L TRAILER MANUFACTURER',\n",
              " 'B & M ENTERPRISES',\n",
              " 'B & M HI-LITE',\n",
              " 'B & M MANUFACTURING',\n",
              " 'B & M TRAILER SALES',\n",
              " 'B & O CUSTOM TRAILERS',\n",
              " 'B & R TRAILERS',\n",
              " 'B & R WELDING',\n",
              " 'B & S CONCESSION',\n",
              " 'B & S TRAILER SALES',\n",
              " 'B & T MANUFACTURING DBA XTREME TRAILER',\n",
              " 'B & W CONSTRUCTION',\n",
              " 'B & W FABRICATION, LLC',\n",
              " 'B & W FABRICATION, LLC / RED RHINO',\n",
              " 'B & W MANTRAD',\n",
              " 'B & W TRAILERS',\n",
              " 'B AND L FABRICATION',\n",
              " 'B AND L TRAILERS',\n",
              " 'B AND M TRAILER SALES',\n",
              " 'B AND M TRAILERS LLC',\n",
              " 'B AND S SUPPLY',\n",
              " \"B B'S TRAILERS\",\n",
              " 'B&A TRAILERS INC.',\n",
              " 'B&B MICRO MANUFACTURING INC',\n",
              " 'B&D',\n",
              " 'B&G TRAILERS INC',\n",
              " 'B&K TRAILERS',\n",
              " 'B&M PERFORMANCE CYCLES',\n",
              " 'B&W',\n",
              " 'B&W WELDING & REPAIR',\n",
              " \"B'S IN A POD CAMPING LLC\",\n",
              " 'B+B TRAILERS',\n",
              " 'B-LINE CORPORATION',\n",
              " 'B-WELDING',\n",
              " 'B.C. TRAILERS INC',\n",
              " 'B.E.E. WELDING',\n",
              " 'B.K. JONES BUILDERS LLC',\n",
              " 'B.L. INDUSTRIES, INC.',\n",
              " 'B.T. CUSTOM TRAILERS',\n",
              " 'B.T.L. TRAILERS',\n",
              " 'BACH BUILT CHOPPERS',\n",
              " 'BACK 40 CREATIONS',\n",
              " 'BACK 40 SUPPLY',\n",
              " 'BACK OFF LOWBOYS',\n",
              " 'BACK PORCH HOMES',\n",
              " 'BACK TRACK TRAILERS',\n",
              " 'BACK YARD CHOPPERS',\n",
              " 'BACKROAD CHOPPERS',\n",
              " 'BACKROADS OVERLOAD CO.',\n",
              " 'BACKTREK',\n",
              " 'BACKWATER TRAILERS',\n",
              " 'BACKWATER-CUSTOMS',\n",
              " 'BACKWOODS CHOPPERS',\n",
              " 'BACKWOODS TRAILER SALES & MANUFACTURER',\n",
              " 'BACKYARD CHOPPERS',\n",
              " 'BACKYARD STRUCTURES',\n",
              " 'BACKYARD TRAILERS, LLC',\n",
              " 'BAD 2D BONE TRAILERS',\n",
              " 'BAD ASS CHOPPERS',\n",
              " 'BAD BOY BUGGY',\n",
              " 'BAD BOY ENTERPRISES',\n",
              " 'BAD BOY INC.',\n",
              " 'BAD BOY TRAILERS',\n",
              " 'BAD BOYS CHOPPERS',\n",
              " 'BAD BOYZ TOYZ',\n",
              " 'BAD ISLAND TOYZ',\n",
              " 'BADAC',\n",
              " 'BADASS INDUSTRIES',\n",
              " 'BADGE BOYZ CUSTOMZ',\n",
              " 'BADGER EQUIPMENT',\n",
              " 'BADGER UTILITY INC.',\n",
              " 'BADLANDS STEEL WORX',\n",
              " 'BADSEY BULLET U.S.A, INC.',\n",
              " \"BAGGETT'S TRAILER CONNECTION\",\n",
              " 'BAGLEY INC.',\n",
              " 'BAHN WAGEN',\n",
              " 'BAHR CUSTOM BOATS & TRAILERS',\n",
              " 'BAILLIE DIESEL, INC.',\n",
              " 'BAIR BODIES AND TRAILERS',\n",
              " 'BAIRD & SLASKA MFG',\n",
              " 'BAJA CUSTOM TRAILERS',\n",
              " 'BAJA STEEL INC',\n",
              " 'BAJAJ AUTO',\n",
              " 'BAKER',\n",
              " 'BAKERS TRAILER',\n",
              " 'BAKKURA MOBILITY',\n",
              " 'BAKU TRAILERS',\n",
              " 'BALBI RIMORCHI SRL',\n",
              " 'BALDOR GENERATORS',\n",
              " 'BALE RUNNER MFG.',\n",
              " 'BALES EQUIPMENT TRAILERS LLC',\n",
              " 'BALESTRA',\n",
              " 'BALKO',\n",
              " 'BALLARD POWER SYSTEMS INC.',\n",
              " 'BALLEWS',\n",
              " 'BALLISTIC TRAILERS',\n",
              " 'BALON CORPORATION',\n",
              " 'BALTIC INDUSTRIES INC',\n",
              " 'BALZER',\n",
              " 'BAMA LSV',\n",
              " 'BANDIT',\n",
              " 'BANDIT CHOPPERS LLC',\n",
              " 'BANDIT TRAILERS, LLC',\n",
              " 'BANDY TRAILERS',\n",
              " 'BANENS',\n",
              " 'BANTAM TRAILERS USA',\n",
              " 'BAODIAO',\n",
              " 'BAR H WELDING',\n",
              " 'BAR T Z UNLIMITED',\n",
              " 'BAR Y',\n",
              " 'BAR-BEL FABRICATING',\n",
              " 'BARCLAY TRUCK REBUILDERS',\n",
              " 'BARCO INDUSTRIAL SUPPLY',\n",
              " 'BARCO PUMP CO.',\n",
              " 'BARCROFT WELDING AND ORNAMENTAL IRON',\n",
              " 'BARE KNUCKLE CHOPPERS',\n",
              " 'BARE METAL, LLC',\n",
              " \"BARLOW'S WELDING\",\n",
              " 'BARNSTORM CYCLES',\n",
              " 'BARNTS SALES COMPANY LLC',\n",
              " 'BARNYARD CUSTOMS',\n",
              " 'BARON MOTORCYCLES, INC.',\n",
              " 'BARON USA INC',\n",
              " 'BARRETO MANUFACTURING',\n",
              " 'BARRETT TRAILERS',\n",
              " 'BARRETT TRAILERS, INC.',\n",
              " 'BARRIER SYSTEMS',\n",
              " 'BARRO AG WELDING AND TRAILER REPAIR',\n",
              " \"BARRY'S TRAILERS\",\n",
              " 'BARSTOW KUSTOM ',\n",
              " 'BARTEL WELDING',\n",
              " 'BARTLEY CORPORATION',\n",
              " 'BARTON INVESTMENT GROUP MANUFACTURING, LLC',\n",
              " 'BASE CAMP RECREATIONAL VEHICLES',\n",
              " 'BASECAMP',\n",
              " 'BASOGLU KARAVAN SANAYI VE TICARET A.S.',\n",
              " 'BASSCAT',\n",
              " 'BATCO',\n",
              " 'BATTLE WAGON TRAILERS',\n",
              " 'BATTLE WAGON TRAILERS (KTD INDUSTRIES)',\n",
              " 'BAUER',\n",
              " 'BAUER BUILT MANUFACTURING, INC.',\n",
              " 'BAUGHMAN PRODUCTS',\n",
              " 'BAUSS MANUFACTURING INC.',\n",
              " 'BAUTISTA WELDING & CUSTOM TRAILERS MANUFACTURING LLC',\n",
              " 'BAUXLITE',\n",
              " 'BAY AREA METAL FABRICATION',\n",
              " 'BAY BRIDGE MANUFACTURING',\n",
              " 'BAY CITY CHOPPERS',\n",
              " 'BAY EQUIPMENT AND REPAIR (BEAR)',\n",
              " 'BAY MANUFACTURING',\n",
              " 'BAY TOWN CHOPPERS',\n",
              " 'BAYER TRAILERS',\n",
              " 'BAYSHORE',\n",
              " 'BAYSHORE SYSTEMS, INC',\n",
              " 'BAZ MFG.',\n",
              " 'BAZOOKA FARMSTAR TRAILERS',\n",
              " \"BAZZELL'S\",\n",
              " 'BB BUGGIES',\n",
              " 'BB ROLLAHOME',\n",
              " 'BBC',\n",
              " 'BBK',\n",
              " 'BBQ PITS BY KLOSE',\n",
              " 'BC TRAILERS',\n",
              " 'BCA FABRICATION LLC',\n",
              " 'BCA INDUSTRIES',\n",
              " 'BCD TRAILER LLC',\n",
              " 'BCI MANUFACTURING',\n",
              " 'BCI TRAILERS',\n",
              " 'BCL FABRICATION',\n",
              " 'BE SEEN ADVERTISING AND CUSTOM DESIGNS',\n",
              " 'BEACH CITY MOTORCYCLES',\n",
              " 'BEACH KING INC',\n",
              " 'BEALL TRAILERS',\n",
              " 'BEAM GLOBAL',\n",
              " 'BEAMCO',\n",
              " 'BEAN & CONQUEST, INC.',\n",
              " 'BEAN TRAILER',\n",
              " 'BEAR',\n",
              " 'BEAR BONES',\n",
              " 'BEAR RIVER FABRICATION & MACHINE',\n",
              " 'BEAR RIVER TRAILERS',\n",
              " 'BEAR RIVER TRAILERS LLC',\n",
              " 'BEAR STEEL',\n",
              " 'BEAR TEARDROPS LLC',\n",
              " 'BEAR TRACK PRODUCTS',\n",
              " 'BEAR TRAILER MANUFACTURING',\n",
              " 'BEARCAT',\n",
              " 'BEARDS',\n",
              " 'BEAST',\n",
              " 'BEAST CUSTOM CYCLE',\n",
              " 'BEAST MODE',\n",
              " 'BEAUER',\n",
              " 'BEAVERFIT USA',\n",
              " 'BECK TRAILER MANUFACTURING INC',\n",
              " \"BECK'S MOBILE HOME AND RV CENTER\",\n",
              " 'BECKENRIDGE',\n",
              " 'BEDARD TANKERS INC',\n",
              " 'BEE TRAILERS',\n",
              " 'BEEHIVE ROAD WELDING',\n",
              " 'BEHNKE ENTERPRISES',\n",
              " 'BEIJING NORTH HUADE NEOPLAN BUS',\n",
              " 'BEILER MACHINE',\n",
              " 'BEIQI FOTON MOTOR / BEIJING BUS BRANCH',\n",
              " 'BELL CUSTOM PRODUCTS',\n",
              " 'BELL MACHINE & FABRICATION',\n",
              " 'BELL POWER SYSTEMS, INC.',\n",
              " 'BELLA CYCLES',\n",
              " 'BELLACAR',\n",
              " \"BELLUE'S WELDING\",\n",
              " 'BELLWETHER / PREMIER',\n",
              " 'BELMONT MACHINE',\n",
              " 'BELMONT TRAILERS',\n",
              " 'BELOTTI MFG. INC.',\n",
              " 'BELSHE INDUSTRIES',\n",
              " 'BENCHMARK',\n",
              " 'BENCHMARK MOTORCYCLES AND UTILITY TRAILERS',\n",
              " 'BENCHMARK TRAILERS',\n",
              " 'BENDRON ENTERPRISES',\n",
              " 'BENELLI',\n",
              " 'BENELLI Q.J. SRL',\n",
              " 'BENNETT ENTERPRISES',\n",
              " \"BENNETT'S GARAGE & TOWING\",\n",
              " 'BENSON',\n",
              " 'BENSON/WABASH',\n",
              " 'BENTECH INDUSTRIES',\n",
              " 'BENTLEY',\n",
              " 'BENTLEY INDUSTRIES, LLC',\n",
              " 'BENTLEY TRAILERS & CUSTOM COACHES',\n",
              " 'BENZHOU VEHICLE INDUSTRY GROUP CO.',\n",
              " 'BEP',\n",
              " 'BERG EQUIPMENT CORPORATION',\n",
              " \"BERGEI'S BAD BOYZ BIKES\",\n",
              " 'BERGGIE',\n",
              " 'BERGKAMP',\n",
              " 'BERING TRUCK CORPORATION',\n",
              " 'BERKELMANS WELDING AND MFG. INC.',\n",
              " 'BERKON',\n",
              " 'BERLON INDUSTRIES, LLC',\n",
              " 'BERNIER TRAILER',\n",
              " 'BERT JENSEN & SONS, INC',\n",
              " 'BERT WALTERS AND SONS',\n",
              " 'BERTOLINI',\n",
              " 'BES&T INC',\n",
              " 'BESLER INDUSTRIES',\n",
              " 'BEST ALUMINUM STRIPING EQUIPMENT',\n",
              " ...]"
            ]
          },
          "metadata": {},
          "execution_count": 9
        }
      ]
    },
    {
      "cell_type": "code",
      "metadata": {
        "colab": {
          "base_uri": "https://localhost:8080/"
        },
        "id": "0kOXXuBbHoda",
        "outputId": "890a606b-9730-4bdf-e1db-02c697265065"
      },
      "source": [
        "len(makes_list)"
      ],
      "execution_count": 10,
      "outputs": [
        {
          "output_type": "execute_result",
          "data": {
            "text/plain": [
              "10688"
            ]
          },
          "metadata": {},
          "execution_count": 10
        }
      ]
    },
    {
      "cell_type": "markdown",
      "metadata": {
        "id": "sAL7P9q2HsVw"
      },
      "source": [
        "**Conclusion:**\n",
        "There are 10687 different car makers in the world. "
      ]
    },
    {
      "cell_type": "markdown",
      "metadata": {
        "id": "Az3kd0m-FtvI"
      },
      "source": [
        "New data type! **Dictionaries**!\n",
        "What makes dictionaries so powerful?\n",
        "- Key-Value pairs\n",
        "- Mutable\n",
        "- can be referred to by using the key name.\n",
        "- we can store them as json"
      ]
    },
    {
      "cell_type": "code",
      "metadata": {
        "colab": {
          "base_uri": "https://localhost:8080/"
        },
        "id": "1xQakZO09hU8",
        "outputId": "39537941-2472-4eb9-e7dc-123d939ff5bc"
      },
      "source": [
        "type(all_makes[0])"
      ],
      "execution_count": 11,
      "outputs": [
        {
          "output_type": "execute_result",
          "data": {
            "text/plain": [
              "dict"
            ]
          },
          "metadata": {},
          "execution_count": 11
        }
      ]
    },
    {
      "cell_type": "code",
      "metadata": {
        "colab": {
          "base_uri": "https://localhost:8080/"
        },
        "id": "b0mB1uHjGMTc",
        "outputId": "56bea690-f70e-48f9-8337-1e07affd9a4f"
      },
      "source": [
        "all_makes[0]"
      ],
      "execution_count": 12,
      "outputs": [
        {
          "output_type": "execute_result",
          "data": {
            "text/plain": [
              "{'Make_ID': 11897, 'Make_Name': ' MID-TOWN TRAILERS'}"
            ]
          },
          "metadata": {},
          "execution_count": 12
        }
      ]
    },
    {
      "cell_type": "code",
      "metadata": {
        "colab": {
          "base_uri": "https://localhost:8080/"
        },
        "id": "M7g-uq8NGXv1",
        "outputId": "45b82414-b655-4588-c027-ca41848a2ee9"
      },
      "source": [
        "all_makes[0].keys()"
      ],
      "execution_count": 13,
      "outputs": [
        {
          "output_type": "execute_result",
          "data": {
            "text/plain": [
              "dict_keys(['Make_ID', 'Make_Name'])"
            ]
          },
          "metadata": {},
          "execution_count": 13
        }
      ]
    },
    {
      "cell_type": "code",
      "metadata": {
        "colab": {
          "base_uri": "https://localhost:8080/"
        },
        "id": "379XfdcZHbSB",
        "outputId": "a3cf8a85-9ae8-4e92-d507-1fdb0639f437"
      },
      "source": [
        "all_makes[0].values()"
      ],
      "execution_count": 14,
      "outputs": [
        {
          "output_type": "execute_result",
          "data": {
            "text/plain": [
              "dict_values([11897, ' MID-TOWN TRAILERS'])"
            ]
          },
          "metadata": {},
          "execution_count": 14
        }
      ]
    },
    {
      "cell_type": "code",
      "source": [
        "# Answering our initial question: Here is the dictionary of all makes\n",
        "makes_dict = {make[\"Make_Name\"]:make[\"Make_ID\"] for make in all_makes}\n",
        "makes_dict\n",
        "len(makes_dict)"
      ],
      "metadata": {
        "colab": {
          "base_uri": "https://localhost:8080/"
        },
        "id": "8IakqG9P7Yoh",
        "outputId": "89e7ae28-5d99-4ae7-b7ce-c39db051d967"
      },
      "execution_count": 15,
      "outputs": [
        {
          "output_type": "execute_result",
          "data": {
            "text/plain": [
              "10688"
            ]
          },
          "metadata": {},
          "execution_count": 15
        }
      ]
    },
    {
      "cell_type": "markdown",
      "metadata": {
        "id": "U09JM4LgH6FO"
      },
      "source": [
        "### 2. How many different cars does Volkswagen produce?\n",
        "In order to solve the second question, we can look for APIs to pull the information!"
      ]
    },
    {
      "cell_type": "code",
      "metadata": {
        "colab": {
          "base_uri": "https://localhost:8080/"
        },
        "id": "-c00xMs0L34O",
        "outputId": "d265a7ff-afff-467f-bb52-df53cb0bf1ce"
      },
      "source": [
        "# Check if a certain key is in a dictionary - in the values above, no Volkswagen are listed\n",
        "'Volkswagen' in makes_dict.keys()"
      ],
      "execution_count": 16,
      "outputs": [
        {
          "output_type": "execute_result",
          "data": {
            "text/plain": [
              "False"
            ]
          },
          "metadata": {},
          "execution_count": 16
        }
      ]
    },
    {
      "cell_type": "code",
      "metadata": {
        "id": "cKiiF1AiIGGn"
      },
      "source": [
        "url = \" https://vpic.nhtsa.dot.gov/api/vehicles/GetModelsForMake/VOLKSWAGEN?format=json\"\n",
        "vw_models = requests.get(url, timeout=5)\n",
        "vw_models = vw_models.json()[\"Results\"]"
      ],
      "execution_count": 17,
      "outputs": []
    },
    {
      "cell_type": "code",
      "metadata": {
        "id": "ApokqVJEJmvA"
      },
      "source": [
        "model_names = [model[\"Model_Name\"] for model in vw_models]"
      ],
      "execution_count": 18,
      "outputs": []
    },
    {
      "cell_type": "code",
      "metadata": {
        "colab": {
          "base_uri": "https://localhost:8080/"
        },
        "id": "OeF56MU0IINo",
        "outputId": "1eb4b55a-51b1-4cd0-cfbb-eb9c2bd947e6"
      },
      "source": [
        "len(model_names)"
      ],
      "execution_count": 19,
      "outputs": [
        {
          "output_type": "execute_result",
          "data": {
            "text/plain": [
              "44"
            ]
          },
          "metadata": {},
          "execution_count": 19
        }
      ]
    },
    {
      "cell_type": "markdown",
      "metadata": {
        "id": "qBOCAyisA8i7"
      },
      "source": [
        "\n",
        "# Data Structures\n",
        "\n",
        "Data structures are a way of organizing and storing data so that information can be accessed and worked with efficiently. They define the relationship between the data, and the operations that can be performed on the data. There are many various kinds of data structures defined that make it easier for the data scientists and computer engineers alike to concentrate on the main picture of solving larger problems rather than getting lost in the details of data description and access.\n",
        "\n",
        "![image](https://av-eks-blogoptimized.s3.amazonaws.com/17699Append-a-Dictionary-to-a-list-in-Python-5-i2tutorials.png)\n",
        "\n",
        "`list` :\n",
        "- Mutable i.e. contents can be modified by methods such as append()\n",
        "- Sequence of Python objects of ANY type\n",
        "- 0-based index \n",
        "\n",
        "`dictionnaries` :\n",
        "- Mutable\n",
        "- key-value pairs, with the requirement that the keys are unique (within one dictionary)\n"
      ]
    },
    {
      "cell_type": "markdown",
      "metadata": {
        "id": "0mnOHaZpZ1CU"
      },
      "source": [
        "# 1. Lists"
      ]
    },
    {
      "cell_type": "markdown",
      "metadata": {
        "id": "-oSu6gR9bjdj"
      },
      "source": [
        "### Creating a list"
      ]
    },
    {
      "cell_type": "code",
      "metadata": {
        "colab": {
          "base_uri": "https://localhost:8080/"
        },
        "id": "1gUdm3jfzlCB",
        "outputId": "b21cb87a-520a-41e4-ab98-c128928eab6e"
      },
      "source": [
        "# Creating an empty list\n",
        "empty = []\n",
        "print(empty)\n",
        "type(empty)"
      ],
      "execution_count": 20,
      "outputs": [
        {
          "output_type": "stream",
          "name": "stdout",
          "text": [
            "[]\n"
          ]
        },
        {
          "output_type": "execute_result",
          "data": {
            "text/plain": [
              "list"
            ]
          },
          "metadata": {},
          "execution_count": 20
        }
      ]
    },
    {
      "cell_type": "code",
      "metadata": {
        "colab": {
          "base_uri": "https://localhost:8080/"
        },
        "id": "X6_VTC9moTAM",
        "outputId": "ac6b08c0-6ad8-4219-a3b1-36a293b8a916"
      },
      "source": [
        "# using square brackets with initial values\n",
        "numbers = [1, 2, 3, 4, 5, 6, 7, 8]\n",
        "numbers"
      ],
      "execution_count": 21,
      "outputs": [
        {
          "output_type": "execute_result",
          "data": {
            "text/plain": [
              "[1, 2, 3, 4, 5, 6, 7, 8]"
            ]
          },
          "metadata": {},
          "execution_count": 21
        }
      ]
    },
    {
      "cell_type": "code",
      "metadata": {
        "colab": {
          "base_uri": "https://localhost:8080/"
        },
        "id": "jBqfcq6Q4-Yl",
        "outputId": "5c85be82-8d6e-4007-dadc-11a4a6606c13"
      },
      "source": [
        "# By mixing data types: Lists can contain multple data types\n",
        "mixed = ['VW', 19000, 22000.00]\n",
        "print(mixed)"
      ],
      "execution_count": 22,
      "outputs": [
        {
          "output_type": "stream",
          "name": "stdout",
          "text": [
            "['VW', 19000, 22000.0]\n"
          ]
        }
      ]
    },
    {
      "cell_type": "code",
      "metadata": {
        "colab": {
          "base_uri": "https://localhost:8080/"
        },
        "id": "fIeu752k15FL",
        "outputId": "ad88c505-32b6-4028-eeed-f64febaebf4a"
      },
      "source": [
        "# creating a multi-dimensional list (nesting a list inside a list)\n",
        "nested = [['ReDi', 'is'], ['fun']]\n",
        "print(nested)"
      ],
      "execution_count": 23,
      "outputs": [
        {
          "output_type": "stream",
          "name": "stdout",
          "text": [
            "[['ReDi', 'is'], ['fun']]\n"
          ]
        }
      ]
    },
    {
      "cell_type": "markdown",
      "metadata": {
        "id": "2niJlWMAZMCu"
      },
      "source": [
        "#### **Exercise**\n",
        "Create a list named ***first_list*** containing a name of a car brand, a price and a kilometer amount."
      ]
    },
    {
      "cell_type": "code",
      "metadata": {
        "id": "70zc8aGr0p2O",
        "colab": {
          "base_uri": "https://localhost:8080/"
        },
        "outputId": "4bb8ca32-6f28-4b29-f8c8-033a05f768a2"
      },
      "source": [
        "first_list = ['BMW', 50.000, 2.000]\n",
        "print(\"My first list: \")\n",
        "print(first_list)"
      ],
      "execution_count": 24,
      "outputs": [
        {
          "output_type": "stream",
          "name": "stdout",
          "text": [
            "My first list: \n",
            "['BMW', 50.0, 2.0]\n"
          ]
        }
      ]
    },
    {
      "cell_type": "markdown",
      "metadata": {
        "id": "_rehYX145nEk"
      },
      "source": [
        "### Access item within a list\n",
        "Items in lists can be accessed using indices in a similar fashion to strings.\n",
        "\n",
        "![image](https://media.geeksforgeeks.org/wp-content/uploads/List-Slicing.jpg)\n"
      ]
    },
    {
      "cell_type": "code",
      "metadata": {
        "colab": {
          "base_uri": "https://localhost:8080/"
        },
        "id": "b5kUpdmp2bKY",
        "outputId": "b33c3258-30be-46cb-9f34-e793845f66e0"
      },
      "source": [
        "# access first item (remember: index starts at 0, NOT at 1)\n",
        "numbers[0]"
      ],
      "execution_count": 25,
      "outputs": [
        {
          "output_type": "execute_result",
          "data": {
            "text/plain": [
              "1"
            ]
          },
          "metadata": {},
          "execution_count": 25
        }
      ]
    },
    {
      "cell_type": "code",
      "metadata": {
        "colab": {
          "base_uri": "https://localhost:8080/"
        },
        "id": "j5XB0hVZ6S5E",
        "outputId": "9c69e497-940a-474f-fa61-f943e3d8d6ff"
      },
      "source": [
        "# access items in reverse, starting from the last indice\n",
        "numbers[-2] # second to last item"
      ],
      "execution_count": 26,
      "outputs": [
        {
          "output_type": "execute_result",
          "data": {
            "text/plain": [
              "7"
            ]
          },
          "metadata": {},
          "execution_count": 26
        }
      ]
    },
    {
      "cell_type": "code",
      "source": [
        "# access multiple items within a list from an index to the end of the list\n",
        "numbers[-7:-1]\n",
        "numbers[1:]"
      ],
      "metadata": {
        "id": "nDcW0RqaEp6x",
        "colab": {
          "base_uri": "https://localhost:8080/"
        },
        "outputId": "34cac876-0b61-4104-b22e-bbb289f8e217"
      },
      "execution_count": 27,
      "outputs": [
        {
          "output_type": "execute_result",
          "data": {
            "text/plain": [
              "[2, 3, 4, 5, 6, 7, 8]"
            ]
          },
          "metadata": {},
          "execution_count": 27
        }
      ]
    },
    {
      "cell_type": "code",
      "source": [
        "# access all items until specific index\n",
        "numbers[:1]"
      ],
      "metadata": {
        "id": "CsD4qhJCE0ru",
        "colab": {
          "base_uri": "https://localhost:8080/"
        },
        "outputId": "81b693cb-8c0d-496e-fa10-f1d4af89aa96"
      },
      "execution_count": 28,
      "outputs": [
        {
          "output_type": "execute_result",
          "data": {
            "text/plain": [
              "[1]"
            ]
          },
          "metadata": {},
          "execution_count": 28
        }
      ]
    },
    {
      "cell_type": "code",
      "source": [
        "# access all values between two indices\n",
        "numbers[4:6]"
      ],
      "metadata": {
        "id": "968A8K_zE5Hl",
        "colab": {
          "base_uri": "https://localhost:8080/"
        },
        "outputId": "8330b804-42be-4775-8b97-4d7269ba68cf"
      },
      "execution_count": 29,
      "outputs": [
        {
          "output_type": "execute_result",
          "data": {
            "text/plain": [
              "[5, 6]"
            ]
          },
          "metadata": {},
          "execution_count": 29
        }
      ]
    },
    {
      "cell_type": "code",
      "source": [
        "# access elements in a nested list\n",
        "nested[1][0]"
      ],
      "metadata": {
        "colab": {
          "base_uri": "https://localhost:8080/",
          "height": 35
        },
        "id": "vhjkggT-M7_b",
        "outputId": "d8b6ab80-8e0a-4260-ae6e-68a4d3a746fa"
      },
      "execution_count": 30,
      "outputs": [
        {
          "output_type": "execute_result",
          "data": {
            "text/plain": [
              "'fun'"
            ],
            "application/vnd.google.colaboratory.intrinsic+json": {
              "type": "string"
            }
          },
          "metadata": {},
          "execution_count": 30
        }
      ]
    },
    {
      "cell_type": "markdown",
      "metadata": {
        "id": "Gt67LsqQaSlt"
      },
      "source": [
        "#### **Exercise**\n",
        "- Access the first element of the list 'nested'. \n",
        "- Of what type is the first element of this list 'nested'?\n",
        "- Access the last element from the list 'mixed'\n",
        "- Get the length of the list 'numbers'\n",
        "- Extract items 0 to 5 from makes_list\n",
        "- Extract items 1:3 from makes_list"
      ]
    },
    {
      "cell_type": "code",
      "metadata": {
        "id": "46gi16Y0izNh",
        "colab": {
          "base_uri": "https://localhost:8080/"
        },
        "outputId": "35ba30b1-3ff0-4642-bbbc-7a6ca78e6ae2"
      },
      "source": [
        "# Access the first element of the list 'nested'.\n",
        "first = nested[0]\n",
        "print(first)\n",
        "# Of what type is the first element of this list 'nested'?\n",
        "type(first)"
      ],
      "execution_count": 31,
      "outputs": [
        {
          "output_type": "stream",
          "name": "stdout",
          "text": [
            "['ReDi', 'is']\n"
          ]
        },
        {
          "output_type": "execute_result",
          "data": {
            "text/plain": [
              "list"
            ]
          },
          "metadata": {},
          "execution_count": 31
        }
      ]
    },
    {
      "cell_type": "code",
      "source": [
        "# access the last element from the list 'mixed'\n",
        "last = mixed[-1]\n",
        "# Get the length of the list 'numbers'\n",
        "print(len(numbers))\n",
        "# Extract items 0 to 5 from makes_list\n",
        "print(makes_list[0:6])\n",
        "# Extract items 1:3 from makes_list\n",
        "print(makes_list[1:3])"
      ],
      "metadata": {
        "colab": {
          "base_uri": "https://localhost:8080/"
        },
        "id": "wkzXkqVHc28f",
        "outputId": "de2b63e1-7c95-4886-ab2f-8db9198bc95b"
      },
      "execution_count": 42,
      "outputs": [
        {
          "output_type": "stream",
          "name": "stdout",
          "text": [
            "8\n",
            "['Tesla2', ' MID-TOWN TRAILERS', '1/OFF KUSTOMS, LLC', '102 IRONWORKS, INC.', '17 CREEK ENTERPRISES', '1M CUSTOM CAR TRANSPORTS, INC.']\n",
            "[' MID-TOWN TRAILERS', '1/OFF KUSTOMS, LLC']\n"
          ]
        }
      ]
    },
    {
      "cell_type": "markdown",
      "source": [
        "### Since lists are a mutable data type, once a list has been created:\n",
        "\n",
        "* Elements can be modified.\n",
        "* Individual values can be replaced.\n",
        "* The order of elements can be changed.\n",
        "* Elements can be added and deleted.\n"
      ],
      "metadata": {
        "id": "YGNbYFx-ON7E"
      }
    },
    {
      "cell_type": "markdown",
      "metadata": {
        "id": "wzPgAr_s_CrC"
      },
      "source": [
        "### Replace element"
      ]
    },
    {
      "cell_type": "code",
      "metadata": {
        "id": "l--tYWXG92go",
        "colab": {
          "base_uri": "https://localhost:8080/",
          "height": 35
        },
        "outputId": "e205faf3-dec7-4a7e-bbd1-3a44f3d0c61c"
      },
      "source": [
        "# currently the first value of letters is 'a'\n",
        "letters = [\"a\", \"b\"]\n",
        "letters[0]"
      ],
      "execution_count": 33,
      "outputs": [
        {
          "output_type": "execute_result",
          "data": {
            "text/plain": [
              "'a'"
            ],
            "application/vnd.google.colaboratory.intrinsic+json": {
              "type": "string"
            }
          },
          "metadata": {},
          "execution_count": 33
        }
      ]
    },
    {
      "cell_type": "code",
      "metadata": {
        "id": "BZGy8c8bov2q",
        "colab": {
          "base_uri": "https://localhost:8080/"
        },
        "outputId": "97813b71-a90a-4157-9aaa-44c152dc8618"
      },
      "source": [
        "# we can overwrite this value, by specifiying a new value for the same index\n",
        "letters[0] = 'Hey I am new'\n",
        "letters"
      ],
      "execution_count": 34,
      "outputs": [
        {
          "output_type": "execute_result",
          "data": {
            "text/plain": [
              "['Hey I am new', 'b']"
            ]
          },
          "metadata": {},
          "execution_count": 34
        }
      ]
    },
    {
      "cell_type": "markdown",
      "metadata": {
        "id": "g4-XjayC8KO7"
      },
      "source": [
        "### Adding and deleting elements"
      ]
    },
    {
      "cell_type": "code",
      "metadata": {
        "id": "7l9O1BOz89Sg",
        "colab": {
          "base_uri": "https://localhost:8080/"
        },
        "outputId": "b63a9d07-386a-4a73-eae5-82647eafb73a"
      },
      "source": [
        "# append to the end of a list\n",
        "makes_list.append(\"brandnew carbrand\")\n",
        "\n",
        "print(\"brandnew carbrand\" in makes_list)\n",
        "print(makes_list.index(\"brandnew carbrand\"))"
      ],
      "execution_count": 35,
      "outputs": [
        {
          "output_type": "stream",
          "name": "stdout",
          "text": [
            "True\n",
            "10688\n"
          ]
        }
      ]
    },
    {
      "cell_type": "code",
      "metadata": {
        "id": "MCzG_Dqf9V9K"
      },
      "source": [
        "# Extending with a dictionary\n",
        "my_dict = {\"car_brand\":\"tesla\"}"
      ],
      "execution_count": 36,
      "outputs": []
    },
    {
      "cell_type": "code",
      "metadata": {
        "id": "UYn06yndAoNH",
        "colab": {
          "base_uri": "https://localhost:8080/"
        },
        "outputId": "89275788-6df3-42ec-f5a1-bc6b53c7f614"
      },
      "source": [
        "more_letters = ['e', 'f', 'g']\n",
        "letters.append(my_dict)\n",
        "letters"
      ],
      "execution_count": 37,
      "outputs": [
        {
          "output_type": "execute_result",
          "data": {
            "text/plain": [
              "['Hey I am new', 'b', {'car_brand': 'tesla'}]"
            ]
          },
          "metadata": {},
          "execution_count": 37
        }
      ]
    },
    {
      "cell_type": "code",
      "metadata": {
        "id": "KgMcKp5W9fI7",
        "colab": {
          "base_uri": "https://localhost:8080/"
        },
        "outputId": "dc6636f9-ea18-4fbd-f5e0-b952a1832e79"
      },
      "source": [
        "# insert an element at the specific index\n",
        "makes_list.insert(0, 'Tesla2')\n",
        "makes_list[0:5]"
      ],
      "execution_count": 38,
      "outputs": [
        {
          "output_type": "execute_result",
          "data": {
            "text/plain": [
              "['Tesla2',\n",
              " ' MID-TOWN TRAILERS',\n",
              " '1/OFF KUSTOMS, LLC',\n",
              " '102 IRONWORKS, INC.',\n",
              " '17 CREEK ENTERPRISES']"
            ]
          },
          "metadata": {},
          "execution_count": 38
        }
      ]
    },
    {
      "cell_type": "code",
      "source": [
        "# deleting an element\n",
        "print(letters)\n",
        "del letters[2]\n",
        "print(letters)"
      ],
      "metadata": {
        "colab": {
          "base_uri": "https://localhost:8080/"
        },
        "id": "l6xFjpEhRARX",
        "outputId": "3af67b0c-3cc0-4973-8f27-78358a72ad0f"
      },
      "execution_count": 39,
      "outputs": [
        {
          "output_type": "stream",
          "name": "stdout",
          "text": [
            "['Hey I am new', 'b', {'car_brand': 'tesla'}]\n",
            "['Hey I am new', 'b']\n"
          ]
        }
      ]
    },
    {
      "cell_type": "markdown",
      "metadata": {
        "id": "SxpzGoM_Z_RU"
      },
      "source": [
        "# 2. Dictionaries \n",
        "Dictionaries are mappings of key value pairs."
      ]
    },
    {
      "cell_type": "markdown",
      "source": [
        "### Creating a dictionary"
      ],
      "metadata": {
        "id": "_x-j9qBhUXGD"
      }
    },
    {
      "cell_type": "code",
      "metadata": {
        "id": "45C_FS-eoR-3",
        "colab": {
          "base_uri": "https://localhost:8080/"
        },
        "outputId": "521ca1ad-4219-4076-b1bb-b306958d14fa"
      },
      "source": [
        "# Create an empty dict using constructor\n",
        "dictionary = dict()\n",
        "dictionary"
      ],
      "execution_count": 43,
      "outputs": [
        {
          "output_type": "execute_result",
          "data": {
            "text/plain": [
              "{}"
            ]
          },
          "metadata": {},
          "execution_count": 43
        }
      ]
    },
    {
      "cell_type": "code",
      "metadata": {
        "id": "El6HcTagolLw",
        "colab": {
          "base_uri": "https://localhost:8080/"
        },
        "outputId": "978f41aa-aa5b-4d0f-8633-d7e3786e2d37"
      },
      "source": [
        "# Create an empty dict using curley braces\n",
        "dictionary = {}\n",
        "dictionary"
      ],
      "execution_count": 44,
      "outputs": [
        {
          "output_type": "execute_result",
          "data": {
            "text/plain": [
              "{}"
            ]
          },
          "metadata": {},
          "execution_count": 44
        }
      ]
    },
    {
      "cell_type": "code",
      "metadata": {
        "id": "oRTWGBtvpYcb",
        "colab": {
          "base_uri": "https://localhost:8080/"
        },
        "outputId": "f69da6c4-5597-4ed0-b68e-e1df7f4fd916"
      },
      "source": [
        "# Use curley braces to create a dictionary with initial key/values\n",
        "cars = {\"1\": \"Tesla\",\n",
        "        '2': 'VW',\n",
        "        '3': ['BMW', 'Hyundai']}\n",
        "cars"
      ],
      "execution_count": 45,
      "outputs": [
        {
          "output_type": "execute_result",
          "data": {
            "text/plain": [
              "{'1': 'Tesla', '2': 'VW', '3': ['BMW', 'Hyundai']}"
            ]
          },
          "metadata": {},
          "execution_count": 45
        }
      ]
    },
    {
      "cell_type": "markdown",
      "metadata": {
        "id": "ttLJtH1d0guL"
      },
      "source": [
        "#### **Exercise**\n",
        "\n",
        "Create a dictionnary `country_main_city` with keys\n",
        "\n",
        "\n",
        " `['France', 'Germany', 'Syria', 'Turkey', 'Nigeria', 'Argentina']`\n",
        "\n",
        " And values \n",
        "\n",
        "` ['Paris', 'Berlin', 'Damascus', 'Ankara', 'Abuja', 'Buenos Aires']`"
      ]
    },
    {
      "cell_type": "code",
      "metadata": {
        "id": "kgaQnYxfAjyj",
        "colab": {
          "base_uri": "https://localhost:8080/"
        },
        "outputId": "5e3b9358-723d-405b-bc8c-1426cfa03b2c"
      },
      "source": [
        "country_dictionary = {\n",
        "    'France':'Paris',\n",
        "    'Germany':'Berlin',\n",
        "    'Syria':'Damascus',\n",
        "    'Turkey': 'Ankara', \n",
        "    'Nigeria': 'Abuja',  \n",
        "    'Argentina':'Buenos Aires'\n",
        "}\n",
        "country_dictionary"
      ],
      "execution_count": 46,
      "outputs": [
        {
          "output_type": "execute_result",
          "data": {
            "text/plain": [
              "{'France': 'Paris',\n",
              " 'Germany': 'Berlin',\n",
              " 'Syria': 'Damascus',\n",
              " 'Turkey': 'Ankara',\n",
              " 'Nigeria': 'Abuja',\n",
              " 'Argentina': 'Buenos Aires'}"
            ]
          },
          "metadata": {},
          "execution_count": 46
        }
      ]
    },
    {
      "cell_type": "markdown",
      "source": [
        "### Access an element"
      ],
      "metadata": {
        "id": "XuThCpfWWAFk"
      }
    },
    {
      "cell_type": "code",
      "source": [
        "# accessing an element using key\n",
        "country_dictionary['France']"
      ],
      "metadata": {
        "colab": {
          "base_uri": "https://localhost:8080/",
          "height": 35
        },
        "id": "Wn7rORndV-lR",
        "outputId": "dc24957e-6669-4140-daa7-a35de829ddbe"
      },
      "execution_count": 47,
      "outputs": [
        {
          "output_type": "execute_result",
          "data": {
            "text/plain": [
              "'Paris'"
            ],
            "application/vnd.google.colaboratory.intrinsic+json": {
              "type": "string"
            }
          },
          "metadata": {},
          "execution_count": 47
        }
      ]
    },
    {
      "cell_type": "code",
      "metadata": {
        "id": "hM4prk4bA4HO",
        "colab": {
          "base_uri": "https://localhost:8080/"
        },
        "outputId": "78b8a014-8a93-44f4-c05d-0da51c4084cb"
      },
      "source": [
        "# accessing an element using get()\n",
        "print(country_dictionary.get('France'))"
      ],
      "execution_count": 48,
      "outputs": [
        {
          "output_type": "stream",
          "name": "stdout",
          "text": [
            "Paris\n"
          ]
        }
      ]
    },
    {
      "cell_type": "markdown",
      "metadata": {
        "id": "0JQVmd5_1aUn"
      },
      "source": [
        "#### **Exercise**\n",
        "\n",
        "Using the dictionnary `country_main_city` and extract the capital of Nigeria"
      ]
    },
    {
      "cell_type": "code",
      "source": [
        "country_dictionary['Nigeria']"
      ],
      "metadata": {
        "id": "F9mhllmmU8As",
        "colab": {
          "base_uri": "https://localhost:8080/",
          "height": 35
        },
        "outputId": "2852c2ce-7e2e-40ba-ab73-76448c42e187"
      },
      "execution_count": 49,
      "outputs": [
        {
          "output_type": "execute_result",
          "data": {
            "text/plain": [
              "'Abuja'"
            ],
            "application/vnd.google.colaboratory.intrinsic+json": {
              "type": "string"
            }
          },
          "metadata": {},
          "execution_count": 49
        }
      ]
    },
    {
      "cell_type": "markdown",
      "metadata": {
        "id": "UBSLRWEeqE-W"
      },
      "source": [
        "### Add a key/value pair to an existing dictionary"
      ]
    },
    {
      "cell_type": "code",
      "metadata": {
        "id": "37H75RGQAANc",
        "colab": {
          "base_uri": "https://localhost:8080/"
        },
        "outputId": "a5e4d5c2-7ae7-4839-f697-51d073a30005"
      },
      "source": [
        "# adding Ghana\n",
        "country_dictionary[\"Ghana\"] = \"Accra\"\n",
        "country_dictionary"
      ],
      "execution_count": 50,
      "outputs": [
        {
          "output_type": "execute_result",
          "data": {
            "text/plain": [
              "{'France': 'Paris',\n",
              " 'Germany': 'Berlin',\n",
              " 'Syria': 'Damascus',\n",
              " 'Turkey': 'Ankara',\n",
              " 'Nigeria': 'Abuja',\n",
              " 'Argentina': 'Buenos Aires',\n",
              " 'Ghana': 'Accra'}"
            ]
          },
          "metadata": {},
          "execution_count": 50
        }
      ]
    },
    {
      "cell_type": "code",
      "metadata": {
        "id": "juO8YO9_BQVD"
      },
      "source": [
        "# adding Nigeria\n",
        "country_dictionary['Nigeria'] = 'Lagos'"
      ],
      "execution_count": 51,
      "outputs": []
    },
    {
      "cell_type": "markdown",
      "metadata": {
        "id": "xmHWK2hHq7c_"
      },
      "source": [
        "### Update value for existing key"
      ]
    },
    {
      "cell_type": "code",
      "metadata": {
        "id": "UsTOsCz0BdoU",
        "colab": {
          "base_uri": "https://localhost:8080/"
        },
        "outputId": "a265cc87-c6f0-4079-91c8-d7c6586f46a5"
      },
      "source": [
        "# initially the value for France is Paris, but we assign a new value to the key\n",
        "country_dictionary['France'] = 'Marseille'\n",
        "country_dictionary"
      ],
      "execution_count": 52,
      "outputs": [
        {
          "output_type": "execute_result",
          "data": {
            "text/plain": [
              "{'France': 'Marseille',\n",
              " 'Germany': 'Berlin',\n",
              " 'Syria': 'Damascus',\n",
              " 'Turkey': 'Ankara',\n",
              " 'Nigeria': 'Lagos',\n",
              " 'Argentina': 'Buenos Aires',\n",
              " 'Ghana': 'Accra'}"
            ]
          },
          "metadata": {},
          "execution_count": 52
        }
      ]
    },
    {
      "cell_type": "markdown",
      "metadata": {
        "id": "fuO7wPXA1p8r"
      },
      "source": [
        "#### **Exercise**\n",
        "\n",
        "Add the capital of Italy to the dictionnary `country_main_city`"
      ]
    },
    {
      "cell_type": "code",
      "metadata": {
        "id": "IAsTUtUeAHOk",
        "colab": {
          "base_uri": "https://localhost:8080/"
        },
        "outputId": "0df0f10b-c982-4352-97ad-33e7db6b5b35"
      },
      "source": [
        "# adding Italy\n",
        "country_dictionary['Italy'] = 'Roma'\n",
        "country_dictionary"
      ],
      "execution_count": 53,
      "outputs": [
        {
          "output_type": "execute_result",
          "data": {
            "text/plain": [
              "{'France': 'Marseille',\n",
              " 'Germany': 'Berlin',\n",
              " 'Syria': 'Damascus',\n",
              " 'Turkey': 'Ankara',\n",
              " 'Nigeria': 'Lagos',\n",
              " 'Argentina': 'Buenos Aires',\n",
              " 'Ghana': 'Accra',\n",
              " 'Italy': 'Roma'}"
            ]
          },
          "metadata": {},
          "execution_count": 53
        }
      ]
    },
    {
      "cell_type": "markdown",
      "metadata": {
        "id": "_ot60Snlra6K"
      },
      "source": [
        "### Get keys"
      ]
    },
    {
      "cell_type": "code",
      "metadata": {
        "id": "Lv726tMhrYnh",
        "colab": {
          "base_uri": "https://localhost:8080/"
        },
        "outputId": "ef86fa83-d011-4932-9e83-481d939a8545"
      },
      "source": [
        "list(country_dictionary.keys())"
      ],
      "execution_count": 54,
      "outputs": [
        {
          "output_type": "execute_result",
          "data": {
            "text/plain": [
              "['France',\n",
              " 'Germany',\n",
              " 'Syria',\n",
              " 'Turkey',\n",
              " 'Nigeria',\n",
              " 'Argentina',\n",
              " 'Ghana',\n",
              " 'Italy']"
            ]
          },
          "metadata": {},
          "execution_count": 54
        }
      ]
    },
    {
      "cell_type": "markdown",
      "metadata": {
        "id": "WGJyKhKgrf11"
      },
      "source": [
        "### Get values"
      ]
    },
    {
      "cell_type": "code",
      "metadata": {
        "id": "F7F-fNMMrhT5",
        "colab": {
          "base_uri": "https://localhost:8080/"
        },
        "outputId": "76a17107-71be-42da-a330-e3951866176a"
      },
      "source": [
        "list(country_dictionary.values())"
      ],
      "execution_count": 55,
      "outputs": [
        {
          "output_type": "execute_result",
          "data": {
            "text/plain": [
              "['Marseille',\n",
              " 'Berlin',\n",
              " 'Damascus',\n",
              " 'Ankara',\n",
              " 'Lagos',\n",
              " 'Buenos Aires',\n",
              " 'Accra',\n",
              " 'Roma']"
            ]
          },
          "metadata": {},
          "execution_count": 55
        }
      ]
    },
    {
      "cell_type": "markdown",
      "source": [
        "## Additional Resources:\n",
        "\n",
        "\n",
        "* https://www.geeksforgeeks.org/python-data-structures/\n",
        "* https://realpython.com/lessons/lists-mutable-dynamic/\n",
        "\n"
      ],
      "metadata": {
        "id": "Xgca5W-mKGDK"
      }
    }
  ]
}