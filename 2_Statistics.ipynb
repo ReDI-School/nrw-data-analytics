{
  "nbformat": 4,
  "nbformat_minor": 0,
  "metadata": {
    "colab": {
      "provenance": [],
      "collapsed_sections": [
        "BIIOTUNRAf0q",
        "3QSOcnFgVUZ4",
        "GhkLdq4sVced",
        "Y8col7-UWixq",
        "cwdcoV5_bwDG"
      ]
    },
    "kernelspec": {
      "name": "python3",
      "display_name": "Python 3"
    }
  },
  "cells": [
    {
      "cell_type": "markdown",
      "source": [
        "Main guiding reference: https://www.crashkurs-statistik.de/ (unfortunately rather unusable as of September 2022)<br>\n",
        "A possible strong help is the chrome extension https://support.deepl.com/hc/de/articles/4407516019218-Verf%C3%BCgbarkeit-von-Browsererweiterungen "
      ],
      "metadata": {
        "id": "B0jnuyvIt-fD"
      }
    },
    {
      "cell_type": "markdown",
      "metadata": {
        "id": "rQoxNcYMVvkd"
      },
      "source": [
        "## Statistics and repeated events\n",
        "\n",
        "**Statistics** is a field that deals with the collection and analysis of data\n",
        "\n",
        "A key assumption in classical statistics, is the fact that you can observe a certain event **repeatdely**\n",
        "\n",
        "Examples:\n",
        "- *Height*: you can go outside and you will see lots of people! You can observe the different heights, so this fulfills the assumption of repeated observations\n",
        "\n",
        "- *World War*: in the last 5000 years there have only been two big world wars. This is **not** something we can observe repeatedly (and we don't want to repeat it!)\n",
        "\n",
        "- *Seasonal flu*: every year during spring or fall, people usually get a flu. You might not get sick, or you might get sick more than once in a given year. But it is something you can observe repeatedly year after year\n",
        "\n",
        "- *Coronavirus*: a new kind of virus that we have not seen before. It didn't even exist a year ago. This is **not** something we observe repeatedly\n",
        "\n",
        "\n",
        "\n"
      ]
    },
    {
      "cell_type": "markdown",
      "source": [
        "Why do we care about `count` from the `describe` function? Well, it tells us something about the size of the data set, and about missing values (more on that later in the course). Most importantly, it tells us something about whether we have **enough data** to do a good analysis (number n of data points)\n"
      ],
      "metadata": {
        "id": "CaZlwCjozdZW"
      }
    },
    {
      "cell_type": "markdown",
      "source": [
        "## Statistics and its subdivisions\n",
        "Statistics is commonly subdivided in several subfields: \n",
        "* descriptive statistics\n",
        "* inferential statistics\n",
        "* exploratory data analysis\n",
        "\n",
        "\n",
        "A typical introductory course in statistics will restrict itself on that agenda: \n",
        "* descriptive statistics\n",
        "  * metrics/statistics/parameters/modes/moments\n",
        "  * diagrams, tables\n",
        "\n",
        "* probability theory \n",
        "  * combinatorics \n",
        "  * Law of Large Numbers\n",
        "  * Central Limit Theorem\n",
        "  * Law of Bayes\n",
        "  * Distributions\n",
        "\n",
        "* inferential statistics \n",
        "  * hypothesis testing\n",
        "    * one-sided vs two-sided\n",
        "  * choose a test\n",
        "  * validity of assumptions\n",
        "  * sensitivity / specificity\n",
        "\n",
        "\n"
      ],
      "metadata": {
        "id": "eGlAyQj91T1W"
      }
    },
    {
      "cell_type": "markdown",
      "source": [
        "An advanced course in statistics such as \"multivariate statiscs\" implicitly covers exploratory data analysis. It typically present ANOVA, linear regression techniques and dimensionality reduction techniques. Those may or may not be presented as part of a machine learning course that uses minor, but important differences in definition. Perhaps most notably as an example inferential statistics is understood in machine learning as \"probability inference\" (calculating a probability value from a model), whilst it has a complete different meaning in classical statistics (infering models for a statistical test)."
      ],
      "metadata": {
        "id": "_z-OCcd6RsH0"
      }
    },
    {
      "cell_type": "markdown",
      "source": [
        "A few crash courses on the path to understanding statistics:\n",
        "* https://www.youtube.com/watch?v=I10q6fjPxJ0 (an overly optimistic overview covering a basic course's knowledge)\n",
        "* https://www.youtube.com/watch?v=hZxnzfnt5v8 (types of data)\n",
        "* https://www.youtube.com/watch?v=UaptUhOushw (which test should one chose and what is the motivation for regression)\n",
        "* https://www.youtube.com/watch?v=rulIUAN0U3w (another way of chosing tests)\n",
        "* https://www.youtube.com/watch?v=ulk_JWckJ78 (again the same idea about chosing tests according to type of data, sample and purpose)\n",
        "* https://www.youtube.com/watch?v=p2c4C2D7ZZc (specifically fisher's exact test as an example; compare categories) => Exercise\n",
        " \n",
        "\n"
      ],
      "metadata": {
        "id": "XsIKUjVwcbAM"
      }
    },
    {
      "cell_type": "markdown",
      "source": [
        "Note that nowdays machine learning typically is the basis for roles of a work as a data analyst. The above concepts coming from statistics and exploratory data-analysis are reorganized and additional concepts get introduced suc as different scoring metrics like Precision and Recall in addition to sensitivity and specificity. "
      ],
      "metadata": {
        "id": "fbRB1u2Bla_e"
      }
    },
    {
      "cell_type": "markdown",
      "source": [
        "EDA can be understood as an initial practice of machine learning. Although there is no theory connecting AI, ML and statistics including EDA, the wikipedia gives a good overview of what the connection are. In the latter I adopt an ML point of view."
      ],
      "metadata": {
        "id": "unaknsBdmu26"
      }
    },
    {
      "cell_type": "markdown",
      "metadata": {
        "id": "uB361ru2OyDx"
      },
      "source": [
        "## Import Packages"
      ]
    },
    {
      "cell_type": "code",
      "metadata": {
        "id": "JPFyTLeRO5Yz"
      },
      "source": [
        "import pandas as pd\n",
        "import inspect"
      ],
      "execution_count": null,
      "outputs": []
    },
    {
      "cell_type": "markdown",
      "metadata": {
        "id": "NCcK1TjtO7IQ"
      },
      "source": [
        "## Import dataset"
      ]
    },
    {
      "cell_type": "code",
      "metadata": {
        "id": "2-uvgXBNZ7po"
      },
      "source": [
        "# function help hit 'TAB' or 'ctrl-space' after a '.'\n",
        "# but first import the library for which documentation is requested\n",
        "# also check 'Tools - kexboard shortcuts'\n",
        "df = pd.read_csv(\n",
        "  filepath_or_buffer='https://raw.githubusercontent.com/aaronmcdaid/P2---Data-Analytics-With-Python/master/Berlin/WS%202019/5.%20Datasets/titanic_dataset/train.csv',\n",
        ")"
      ],
      "execution_count": null,
      "outputs": []
    },
    {
      "cell_type": "code",
      "metadata": {
        "id": "8NL4dkK5aLPP",
        "colab": {
          "base_uri": "https://localhost:8080/",
          "height": 219
        },
        "outputId": "d6e7de15-9e2a-445b-be52-2c6242f85df3"
      },
      "source": [
        "df.head(4)\n",
        "# the n is for the amount of rows you want to see"
      ],
      "execution_count": null,
      "outputs": [
        {
          "output_type": "execute_result",
          "data": {
            "text/plain": [
              "   PassengerId  Survived  Pclass  \\\n",
              "0            1         0       3   \n",
              "1            2         1       1   \n",
              "2            3         1       3   \n",
              "3            4         1       1   \n",
              "\n",
              "                                                Name     Sex   Age  SibSp  \\\n",
              "0                            Braund, Mr. Owen Harris    male  22.0      1   \n",
              "1  Cumings, Mrs. John Bradley (Florence Briggs Th...  female  38.0      1   \n",
              "2                             Heikkinen, Miss. Laina  female  26.0      0   \n",
              "3       Futrelle, Mrs. Jacques Heath (Lily May Peel)  female  35.0      1   \n",
              "\n",
              "   Parch            Ticket     Fare Cabin Embarked  \n",
              "0      0         A/5 21171   7.2500   NaN        S  \n",
              "1      0          PC 17599  71.2833   C85        C  \n",
              "2      0  STON/O2. 3101282   7.9250   NaN        S  \n",
              "3      0            113803  53.1000  C123        S  "
            ],
            "text/html": [
              "\n",
              "  <div id=\"df-2129a13d-000c-408d-bfea-aabef45f09db\">\n",
              "    <div class=\"colab-df-container\">\n",
              "      <div>\n",
              "<style scoped>\n",
              "    .dataframe tbody tr th:only-of-type {\n",
              "        vertical-align: middle;\n",
              "    }\n",
              "\n",
              "    .dataframe tbody tr th {\n",
              "        vertical-align: top;\n",
              "    }\n",
              "\n",
              "    .dataframe thead th {\n",
              "        text-align: right;\n",
              "    }\n",
              "</style>\n",
              "<table border=\"1\" class=\"dataframe\">\n",
              "  <thead>\n",
              "    <tr style=\"text-align: right;\">\n",
              "      <th></th>\n",
              "      <th>PassengerId</th>\n",
              "      <th>Survived</th>\n",
              "      <th>Pclass</th>\n",
              "      <th>Name</th>\n",
              "      <th>Sex</th>\n",
              "      <th>Age</th>\n",
              "      <th>SibSp</th>\n",
              "      <th>Parch</th>\n",
              "      <th>Ticket</th>\n",
              "      <th>Fare</th>\n",
              "      <th>Cabin</th>\n",
              "      <th>Embarked</th>\n",
              "    </tr>\n",
              "  </thead>\n",
              "  <tbody>\n",
              "    <tr>\n",
              "      <th>0</th>\n",
              "      <td>1</td>\n",
              "      <td>0</td>\n",
              "      <td>3</td>\n",
              "      <td>Braund, Mr. Owen Harris</td>\n",
              "      <td>male</td>\n",
              "      <td>22.0</td>\n",
              "      <td>1</td>\n",
              "      <td>0</td>\n",
              "      <td>A/5 21171</td>\n",
              "      <td>7.2500</td>\n",
              "      <td>NaN</td>\n",
              "      <td>S</td>\n",
              "    </tr>\n",
              "    <tr>\n",
              "      <th>1</th>\n",
              "      <td>2</td>\n",
              "      <td>1</td>\n",
              "      <td>1</td>\n",
              "      <td>Cumings, Mrs. John Bradley (Florence Briggs Th...</td>\n",
              "      <td>female</td>\n",
              "      <td>38.0</td>\n",
              "      <td>1</td>\n",
              "      <td>0</td>\n",
              "      <td>PC 17599</td>\n",
              "      <td>71.2833</td>\n",
              "      <td>C85</td>\n",
              "      <td>C</td>\n",
              "    </tr>\n",
              "    <tr>\n",
              "      <th>2</th>\n",
              "      <td>3</td>\n",
              "      <td>1</td>\n",
              "      <td>3</td>\n",
              "      <td>Heikkinen, Miss. Laina</td>\n",
              "      <td>female</td>\n",
              "      <td>26.0</td>\n",
              "      <td>0</td>\n",
              "      <td>0</td>\n",
              "      <td>STON/O2. 3101282</td>\n",
              "      <td>7.9250</td>\n",
              "      <td>NaN</td>\n",
              "      <td>S</td>\n",
              "    </tr>\n",
              "    <tr>\n",
              "      <th>3</th>\n",
              "      <td>4</td>\n",
              "      <td>1</td>\n",
              "      <td>1</td>\n",
              "      <td>Futrelle, Mrs. Jacques Heath (Lily May Peel)</td>\n",
              "      <td>female</td>\n",
              "      <td>35.0</td>\n",
              "      <td>1</td>\n",
              "      <td>0</td>\n",
              "      <td>113803</td>\n",
              "      <td>53.1000</td>\n",
              "      <td>C123</td>\n",
              "      <td>S</td>\n",
              "    </tr>\n",
              "  </tbody>\n",
              "</table>\n",
              "</div>\n",
              "      <button class=\"colab-df-convert\" onclick=\"convertToInteractive('df-2129a13d-000c-408d-bfea-aabef45f09db')\"\n",
              "              title=\"Convert this dataframe to an interactive table.\"\n",
              "              style=\"display:none;\">\n",
              "        \n",
              "  <svg xmlns=\"http://www.w3.org/2000/svg\" height=\"24px\"viewBox=\"0 0 24 24\"\n",
              "       width=\"24px\">\n",
              "    <path d=\"M0 0h24v24H0V0z\" fill=\"none\"/>\n",
              "    <path d=\"M18.56 5.44l.94 2.06.94-2.06 2.06-.94-2.06-.94-.94-2.06-.94 2.06-2.06.94zm-11 1L8.5 8.5l.94-2.06 2.06-.94-2.06-.94L8.5 2.5l-.94 2.06-2.06.94zm10 10l.94 2.06.94-2.06 2.06-.94-2.06-.94-.94-2.06-.94 2.06-2.06.94z\"/><path d=\"M17.41 7.96l-1.37-1.37c-.4-.4-.92-.59-1.43-.59-.52 0-1.04.2-1.43.59L10.3 9.45l-7.72 7.72c-.78.78-.78 2.05 0 2.83L4 21.41c.39.39.9.59 1.41.59.51 0 1.02-.2 1.41-.59l7.78-7.78 2.81-2.81c.8-.78.8-2.07 0-2.86zM5.41 20L4 18.59l7.72-7.72 1.47 1.35L5.41 20z\"/>\n",
              "  </svg>\n",
              "      </button>\n",
              "      \n",
              "  <style>\n",
              "    .colab-df-container {\n",
              "      display:flex;\n",
              "      flex-wrap:wrap;\n",
              "      gap: 12px;\n",
              "    }\n",
              "\n",
              "    .colab-df-convert {\n",
              "      background-color: #E8F0FE;\n",
              "      border: none;\n",
              "      border-radius: 50%;\n",
              "      cursor: pointer;\n",
              "      display: none;\n",
              "      fill: #1967D2;\n",
              "      height: 32px;\n",
              "      padding: 0 0 0 0;\n",
              "      width: 32px;\n",
              "    }\n",
              "\n",
              "    .colab-df-convert:hover {\n",
              "      background-color: #E2EBFA;\n",
              "      box-shadow: 0px 1px 2px rgba(60, 64, 67, 0.3), 0px 1px 3px 1px rgba(60, 64, 67, 0.15);\n",
              "      fill: #174EA6;\n",
              "    }\n",
              "\n",
              "    [theme=dark] .colab-df-convert {\n",
              "      background-color: #3B4455;\n",
              "      fill: #D2E3FC;\n",
              "    }\n",
              "\n",
              "    [theme=dark] .colab-df-convert:hover {\n",
              "      background-color: #434B5C;\n",
              "      box-shadow: 0px 1px 3px 1px rgba(0, 0, 0, 0.15);\n",
              "      filter: drop-shadow(0px 1px 2px rgba(0, 0, 0, 0.3));\n",
              "      fill: #FFFFFF;\n",
              "    }\n",
              "  </style>\n",
              "\n",
              "      <script>\n",
              "        const buttonEl =\n",
              "          document.querySelector('#df-2129a13d-000c-408d-bfea-aabef45f09db button.colab-df-convert');\n",
              "        buttonEl.style.display =\n",
              "          google.colab.kernel.accessAllowed ? 'block' : 'none';\n",
              "\n",
              "        async function convertToInteractive(key) {\n",
              "          const element = document.querySelector('#df-2129a13d-000c-408d-bfea-aabef45f09db');\n",
              "          const dataTable =\n",
              "            await google.colab.kernel.invokeFunction('convertToInteractive',\n",
              "                                                     [key], {});\n",
              "          if (!dataTable) return;\n",
              "\n",
              "          const docLinkHtml = 'Like what you see? Visit the ' +\n",
              "            '<a target=\"_blank\" href=https://colab.research.google.com/notebooks/data_table.ipynb>data table notebook</a>'\n",
              "            + ' to learn more about interactive tables.';\n",
              "          element.innerHTML = '';\n",
              "          dataTable['output_type'] = 'display_data';\n",
              "          await google.colab.output.renderOutput(dataTable, element);\n",
              "          const docLink = document.createElement('div');\n",
              "          docLink.innerHTML = docLinkHtml;\n",
              "          element.appendChild(docLink);\n",
              "        }\n",
              "      </script>\n",
              "    </div>\n",
              "  </div>\n",
              "  "
            ]
          },
          "metadata": {},
          "execution_count": 4
        }
      ]
    },
    {
      "cell_type": "markdown",
      "source": [
        "## First Statistical Concepts (Who, What, How?)"
      ],
      "metadata": {
        "id": "lYQb0DZMhNDM"
      }
    },
    {
      "cell_type": "markdown",
      "source": [
        "It is about who got the data (its objectivity)? What is the data (its validity)? How has it been obatined (its reliability)? More generally this step is about cognitive bias. e.g. what do the column SibSp and Parch mean? (https://towardsdatascience.com/predicting-the-survival-of-titanic-passengers-30870ccc7e8). More generally all sorts of bias can/must be taken into account (https://en.wikipedia.org/wiki/List_of_cognitive_biases, https://en.wikipedia.org/wiki/List_of_fallacies)"
      ],
      "metadata": {
        "id": "6l_NB1fBo9Ye"
      }
    },
    {
      "cell_type": "code",
      "source": [
        "df.nunique()"
      ],
      "metadata": {
        "id": "LOs9N32e2EtB",
        "outputId": "7840fae2-0298-475b-ea3a-bc15bebe6919",
        "colab": {
          "base_uri": "https://localhost:8080/"
        }
      },
      "execution_count": null,
      "outputs": [
        {
          "output_type": "execute_result",
          "data": {
            "text/plain": [
              "PassengerId    891\n",
              "Survived         2\n",
              "Pclass           3\n",
              "Name           891\n",
              "Sex              2\n",
              "Age             88\n",
              "SibSp            7\n",
              "Parch            7\n",
              "Ticket         681\n",
              "Fare           248\n",
              "Cabin          147\n",
              "Embarked         3\n",
              "dtype: int64"
            ]
          },
          "metadata": {},
          "execution_count": 5
        }
      ]
    },
    {
      "cell_type": "markdown",
      "source": [
        "**First Statistical Concepts**<br>\n",
        "**- Data types?**"
      ],
      "metadata": {
        "id": "1BllyQNF8eMj"
      }
    },
    {
      "cell_type": "code",
      "source": [
        "# https://pbpython.com/pandas_dtypes.html\n",
        "df.dtypes"
      ],
      "metadata": {
        "id": "fE3z3N0A9CmW",
        "outputId": "f768c473-2779-4e71-8739-86c8df010660",
        "colab": {
          "base_uri": "https://localhost:8080/"
        }
      },
      "execution_count": null,
      "outputs": [
        {
          "output_type": "execute_result",
          "data": {
            "text/plain": [
              "PassengerId      int64\n",
              "Survived         int64\n",
              "Pclass           int64\n",
              "Name            object\n",
              "Sex             object\n",
              "Age            float64\n",
              "SibSp            int64\n",
              "Parch            int64\n",
              "Ticket          object\n",
              "Fare           float64\n",
              "Cabin           object\n",
              "Embarked        object\n",
              "dtype: object"
            ]
          },
          "metadata": {},
          "execution_count": 6
        }
      ]
    },
    {
      "cell_type": "markdown",
      "source": [
        "see https://www.crashkurs-statistik.de/merkmals-und-skalentypen/#skalentypen, but keep in mind that Tukey had an own vision about this. He noticeably treated rank separately<br>\n",
        "object, int64 => typically categorical, qualitative (nominal, ordinal) e.g. Madrid, Spain?! <br>\n",
        "int64 => quantitative, categorical?! <br>\n",
        "float64 => typically numerical<br>\n",
        "An important classification is found under the terminology \"level of measurment\" discrete, continuous, nominal, ordinal(rank), ratio<br>\n",
        "Tukey had his own definitions for this.<br>\n",
        "Any rank based column in the dataset?\n",
        "\n",
        "\n"
      ],
      "metadata": {
        "id": "vMrlhrywUVoB"
      }
    },
    {
      "cell_type": "markdown",
      "metadata": {
        "id": "2UBIqeI3VIWb"
      },
      "source": [
        "## First statistical functions\n",
        "\n",
        "Let's take a look at the data with `describe`. It will show you different values, but what do they mean?"
      ]
    },
    {
      "cell_type": "code",
      "metadata": {
        "id": "finNRDnnVmEu",
        "colab": {
          "base_uri": "https://localhost:8080/",
          "height": 300
        },
        "outputId": "634110a3-1433-4f67-8cfa-d80b4cc6a7ea"
      },
      "source": [
        "# summary statistics\n",
        "df.describe()"
      ],
      "execution_count": null,
      "outputs": [
        {
          "output_type": "execute_result",
          "data": {
            "text/plain": [
              "       PassengerId    Survived      Pclass         Age       SibSp  \\\n",
              "count   891.000000  891.000000  891.000000  714.000000  891.000000   \n",
              "mean    446.000000    0.383838    2.308642   29.699118    0.523008   \n",
              "std     257.353842    0.486592    0.836071   14.526497    1.102743   \n",
              "min       1.000000    0.000000    1.000000    0.420000    0.000000   \n",
              "25%     223.500000    0.000000    2.000000   20.125000    0.000000   \n",
              "50%     446.000000    0.000000    3.000000   28.000000    0.000000   \n",
              "75%     668.500000    1.000000    3.000000   38.000000    1.000000   \n",
              "max     891.000000    1.000000    3.000000   80.000000    8.000000   \n",
              "\n",
              "            Parch        Fare  \n",
              "count  891.000000  891.000000  \n",
              "mean     0.381594   32.204208  \n",
              "std      0.806057   49.693429  \n",
              "min      0.000000    0.000000  \n",
              "25%      0.000000    7.910400  \n",
              "50%      0.000000   14.454200  \n",
              "75%      0.000000   31.000000  \n",
              "max      6.000000  512.329200  "
            ],
            "text/html": [
              "\n",
              "  <div id=\"df-a2cd67e3-3cbf-4b14-b6c2-df7645a7e2b5\">\n",
              "    <div class=\"colab-df-container\">\n",
              "      <div>\n",
              "<style scoped>\n",
              "    .dataframe tbody tr th:only-of-type {\n",
              "        vertical-align: middle;\n",
              "    }\n",
              "\n",
              "    .dataframe tbody tr th {\n",
              "        vertical-align: top;\n",
              "    }\n",
              "\n",
              "    .dataframe thead th {\n",
              "        text-align: right;\n",
              "    }\n",
              "</style>\n",
              "<table border=\"1\" class=\"dataframe\">\n",
              "  <thead>\n",
              "    <tr style=\"text-align: right;\">\n",
              "      <th></th>\n",
              "      <th>PassengerId</th>\n",
              "      <th>Survived</th>\n",
              "      <th>Pclass</th>\n",
              "      <th>Age</th>\n",
              "      <th>SibSp</th>\n",
              "      <th>Parch</th>\n",
              "      <th>Fare</th>\n",
              "    </tr>\n",
              "  </thead>\n",
              "  <tbody>\n",
              "    <tr>\n",
              "      <th>count</th>\n",
              "      <td>891.000000</td>\n",
              "      <td>891.000000</td>\n",
              "      <td>891.000000</td>\n",
              "      <td>714.000000</td>\n",
              "      <td>891.000000</td>\n",
              "      <td>891.000000</td>\n",
              "      <td>891.000000</td>\n",
              "    </tr>\n",
              "    <tr>\n",
              "      <th>mean</th>\n",
              "      <td>446.000000</td>\n",
              "      <td>0.383838</td>\n",
              "      <td>2.308642</td>\n",
              "      <td>29.699118</td>\n",
              "      <td>0.523008</td>\n",
              "      <td>0.381594</td>\n",
              "      <td>32.204208</td>\n",
              "    </tr>\n",
              "    <tr>\n",
              "      <th>std</th>\n",
              "      <td>257.353842</td>\n",
              "      <td>0.486592</td>\n",
              "      <td>0.836071</td>\n",
              "      <td>14.526497</td>\n",
              "      <td>1.102743</td>\n",
              "      <td>0.806057</td>\n",
              "      <td>49.693429</td>\n",
              "    </tr>\n",
              "    <tr>\n",
              "      <th>min</th>\n",
              "      <td>1.000000</td>\n",
              "      <td>0.000000</td>\n",
              "      <td>1.000000</td>\n",
              "      <td>0.420000</td>\n",
              "      <td>0.000000</td>\n",
              "      <td>0.000000</td>\n",
              "      <td>0.000000</td>\n",
              "    </tr>\n",
              "    <tr>\n",
              "      <th>25%</th>\n",
              "      <td>223.500000</td>\n",
              "      <td>0.000000</td>\n",
              "      <td>2.000000</td>\n",
              "      <td>20.125000</td>\n",
              "      <td>0.000000</td>\n",
              "      <td>0.000000</td>\n",
              "      <td>7.910400</td>\n",
              "    </tr>\n",
              "    <tr>\n",
              "      <th>50%</th>\n",
              "      <td>446.000000</td>\n",
              "      <td>0.000000</td>\n",
              "      <td>3.000000</td>\n",
              "      <td>28.000000</td>\n",
              "      <td>0.000000</td>\n",
              "      <td>0.000000</td>\n",
              "      <td>14.454200</td>\n",
              "    </tr>\n",
              "    <tr>\n",
              "      <th>75%</th>\n",
              "      <td>668.500000</td>\n",
              "      <td>1.000000</td>\n",
              "      <td>3.000000</td>\n",
              "      <td>38.000000</td>\n",
              "      <td>1.000000</td>\n",
              "      <td>0.000000</td>\n",
              "      <td>31.000000</td>\n",
              "    </tr>\n",
              "    <tr>\n",
              "      <th>max</th>\n",
              "      <td>891.000000</td>\n",
              "      <td>1.000000</td>\n",
              "      <td>3.000000</td>\n",
              "      <td>80.000000</td>\n",
              "      <td>8.000000</td>\n",
              "      <td>6.000000</td>\n",
              "      <td>512.329200</td>\n",
              "    </tr>\n",
              "  </tbody>\n",
              "</table>\n",
              "</div>\n",
              "      <button class=\"colab-df-convert\" onclick=\"convertToInteractive('df-a2cd67e3-3cbf-4b14-b6c2-df7645a7e2b5')\"\n",
              "              title=\"Convert this dataframe to an interactive table.\"\n",
              "              style=\"display:none;\">\n",
              "        \n",
              "  <svg xmlns=\"http://www.w3.org/2000/svg\" height=\"24px\"viewBox=\"0 0 24 24\"\n",
              "       width=\"24px\">\n",
              "    <path d=\"M0 0h24v24H0V0z\" fill=\"none\"/>\n",
              "    <path d=\"M18.56 5.44l.94 2.06.94-2.06 2.06-.94-2.06-.94-.94-2.06-.94 2.06-2.06.94zm-11 1L8.5 8.5l.94-2.06 2.06-.94-2.06-.94L8.5 2.5l-.94 2.06-2.06.94zm10 10l.94 2.06.94-2.06 2.06-.94-2.06-.94-.94-2.06-.94 2.06-2.06.94z\"/><path d=\"M17.41 7.96l-1.37-1.37c-.4-.4-.92-.59-1.43-.59-.52 0-1.04.2-1.43.59L10.3 9.45l-7.72 7.72c-.78.78-.78 2.05 0 2.83L4 21.41c.39.39.9.59 1.41.59.51 0 1.02-.2 1.41-.59l7.78-7.78 2.81-2.81c.8-.78.8-2.07 0-2.86zM5.41 20L4 18.59l7.72-7.72 1.47 1.35L5.41 20z\"/>\n",
              "  </svg>\n",
              "      </button>\n",
              "      \n",
              "  <style>\n",
              "    .colab-df-container {\n",
              "      display:flex;\n",
              "      flex-wrap:wrap;\n",
              "      gap: 12px;\n",
              "    }\n",
              "\n",
              "    .colab-df-convert {\n",
              "      background-color: #E8F0FE;\n",
              "      border: none;\n",
              "      border-radius: 50%;\n",
              "      cursor: pointer;\n",
              "      display: none;\n",
              "      fill: #1967D2;\n",
              "      height: 32px;\n",
              "      padding: 0 0 0 0;\n",
              "      width: 32px;\n",
              "    }\n",
              "\n",
              "    .colab-df-convert:hover {\n",
              "      background-color: #E2EBFA;\n",
              "      box-shadow: 0px 1px 2px rgba(60, 64, 67, 0.3), 0px 1px 3px 1px rgba(60, 64, 67, 0.15);\n",
              "      fill: #174EA6;\n",
              "    }\n",
              "\n",
              "    [theme=dark] .colab-df-convert {\n",
              "      background-color: #3B4455;\n",
              "      fill: #D2E3FC;\n",
              "    }\n",
              "\n",
              "    [theme=dark] .colab-df-convert:hover {\n",
              "      background-color: #434B5C;\n",
              "      box-shadow: 0px 1px 3px 1px rgba(0, 0, 0, 0.15);\n",
              "      filter: drop-shadow(0px 1px 2px rgba(0, 0, 0, 0.3));\n",
              "      fill: #FFFFFF;\n",
              "    }\n",
              "  </style>\n",
              "\n",
              "      <script>\n",
              "        const buttonEl =\n",
              "          document.querySelector('#df-a2cd67e3-3cbf-4b14-b6c2-df7645a7e2b5 button.colab-df-convert');\n",
              "        buttonEl.style.display =\n",
              "          google.colab.kernel.accessAllowed ? 'block' : 'none';\n",
              "\n",
              "        async function convertToInteractive(key) {\n",
              "          const element = document.querySelector('#df-a2cd67e3-3cbf-4b14-b6c2-df7645a7e2b5');\n",
              "          const dataTable =\n",
              "            await google.colab.kernel.invokeFunction('convertToInteractive',\n",
              "                                                     [key], {});\n",
              "          if (!dataTable) return;\n",
              "\n",
              "          const docLinkHtml = 'Like what you see? Visit the ' +\n",
              "            '<a target=\"_blank\" href=https://colab.research.google.com/notebooks/data_table.ipynb>data table notebook</a>'\n",
              "            + ' to learn more about interactive tables.';\n",
              "          element.innerHTML = '';\n",
              "          dataTable['output_type'] = 'display_data';\n",
              "          await google.colab.output.renderOutput(dataTable, element);\n",
              "          const docLink = document.createElement('div');\n",
              "          docLink.innerHTML = docLinkHtml;\n",
              "          element.appendChild(docLink);\n",
              "        }\n",
              "      </script>\n",
              "    </div>\n",
              "  </div>\n",
              "  "
            ]
          },
          "metadata": {},
          "execution_count": 7
        }
      ]
    },
    {
      "cell_type": "markdown",
      "source": [
        "- Something else than the mean, anybody?\n",
        "- What are Quantiles?\n",
        "- curtosis? Gini coefficient? Mode?\n",
        "- std? \n",
        "for Panda "
      ],
      "metadata": {
        "id": "VQHHZWUe2qxx"
      }
    },
    {
      "cell_type": "code",
      "source": [
        "print(df.std.__doc__)"
      ],
      "metadata": {
        "colab": {
          "base_uri": "https://localhost:8080/"
        },
        "id": "xAE4rudk-UiC",
        "outputId": "1fa3b13b-de06-4d17-8d25-2502e24c8007"
      },
      "execution_count": null,
      "outputs": [
        {
          "output_type": "stream",
          "name": "stdout",
          "text": [
            "\n",
            "Return sample standard deviation over requested axis.\n",
            "\n",
            "Normalized by N-1 by default. This can be changed using the ddof argument\n",
            "\n",
            "Parameters\n",
            "----------\n",
            "axis : {index (0), columns (1)}\n",
            "skipna : bool, default True\n",
            "    Exclude NA/null values. If an entire row/column is NA, the result\n",
            "    will be NA.\n",
            "level : int or level name, default None\n",
            "    If the axis is a MultiIndex (hierarchical), count along a\n",
            "    particular level, collapsing into a Series.\n",
            "ddof : int, default 1\n",
            "    Delta Degrees of Freedom. The divisor used in calculations is N - ddof,\n",
            "    where N represents the number of elements.\n",
            "numeric_only : bool, default None\n",
            "    Include only float, int, boolean columns. If None, will attempt to use\n",
            "    everything, then use only numeric data. Not implemented for Series.\n",
            "\n",
            "Returns\n",
            "-------\n",
            "Series or DataFrame (if level specified)\n",
            "\n",
            "Notes\n",
            "-----\n",
            "To have the same behaviour as `numpy.std`, use `ddof=0` (instead of the\n",
            "default `ddof=1`)\n",
            "\n"
          ]
        }
      ]
    },
    {
      "cell_type": "code",
      "source": [
        "df2 = pd.DataFrame([['tom', 'cat'],['jerry', 'mouse']], columns=['Name', 'Animal'])\n",
        "print(inspect.getfile(df2.std))"
      ],
      "metadata": {
        "colab": {
          "base_uri": "https://localhost:8080/"
        },
        "id": "6wLPMEfYCk6g",
        "outputId": "b1f4c59b-a8c6-481b-db85-a2f9c037fcfb"
      },
      "execution_count": null,
      "outputs": [
        {
          "output_type": "stream",
          "name": "stdout",
          "text": [
            "/usr/local/lib/python3.7/dist-packages/pandas/core/generic.py\n"
          ]
        }
      ]
    },
    {
      "cell_type": "code",
      "source": [
        "#!cat /usr/local/lib/python3.7/dist-packages/pandas/core/generic.py"
      ],
      "metadata": {
        "id": "EoIgTab-DVXI"
      },
      "execution_count": null,
      "outputs": []
    },
    {
      "cell_type": "markdown",
      "metadata": {
        "id": "UYH1vuuUZQws"
      },
      "source": [
        "## Descriptive statistics\n",
        "\n",
        "In descriptive statistics we observe properties of a sample without \"infering\" anything about the underlying distribution. \n",
        "\n",
        "In statistics, we need **measures** to give us information about the data. In most cases, the data set is too large to even get any useful information by looking at it. \n",
        "\n",
        "Therefore, we need **location** and **dispersion** measures (fancy words for a very simple concept that leads to disturbing analytical calculations).\n",
        "\n",
        "**Location measures** answer the question, what is a typical observation for a variable?\n",
        "\n",
        "**Dispersion measures** tell us how much variation we have in our variable\n",
        "\n"
      ]
    },
    {
      "cell_type": "markdown",
      "metadata": {
        "id": "5Ogb4f7N9t7L"
      },
      "source": [
        "**Mean**\n",
        "\n",
        "Add all the values up and then divide by the number of values"
      ]
    },
    {
      "cell_type": "code",
      "metadata": {
        "id": "5ETciexobrBJ"
      },
      "source": [
        "x = pd.Series([1, 3, 3, 4, 7])"
      ],
      "execution_count": null,
      "outputs": []
    },
    {
      "cell_type": "code",
      "source": [
        "x"
      ],
      "metadata": {
        "colab": {
          "base_uri": "https://localhost:8080/"
        },
        "id": "qTKuGbjfMij9",
        "outputId": "c0ff1d56-8d38-43b4-b9a6-ad25a737632c"
      },
      "execution_count": null,
      "outputs": [
        {
          "output_type": "execute_result",
          "data": {
            "text/plain": [
              "0    1\n",
              "1    3\n",
              "2    3\n",
              "3    4\n",
              "4    7\n",
              "dtype: int64"
            ]
          },
          "metadata": {},
          "execution_count": 45
        }
      ]
    },
    {
      "cell_type": "code",
      "source": [
        "x.hist()"
      ],
      "metadata": {
        "colab": {
          "base_uri": "https://localhost:8080/",
          "height": 282
        },
        "id": "dMXe5y-gMR-o",
        "outputId": "f33c69b3-2c8c-46d1-da2b-c3c7b2bed54f"
      },
      "execution_count": null,
      "outputs": [
        {
          "output_type": "execute_result",
          "data": {
            "text/plain": [
              "<matplotlib.axes._subplots.AxesSubplot at 0x7fb819b37750>"
            ]
          },
          "metadata": {},
          "execution_count": 12
        },
        {
          "output_type": "display_data",
          "data": {
            "text/plain": [
              "<Figure size 432x288 with 1 Axes>"
            ],
            "image/png": "[encoded data removed]"
          },
          "metadata": {
            "needs_background": "light"
          }
        }
      ]
    },
    {
      "cell_type": "code",
      "source": [
        "# First: 1 + 3 + 3 + 4 + 7 = 10\n",
        "# Second: 18 / 5 \n",
        "x.mean()"
      ],
      "metadata": {
        "colab": {
          "base_uri": "https://localhost:8080/"
        },
        "id": "hrCur-tWRZiC",
        "outputId": "2055b11e-dcd1-406a-fc23-b78fde414511"
      },
      "execution_count": null,
      "outputs": [
        {
          "output_type": "execute_result",
          "data": {
            "text/plain": [
              "3.6"
            ]
          },
          "metadata": {},
          "execution_count": 13
        }
      ]
    },
    {
      "cell_type": "markdown",
      "metadata": {
        "id": "iVowvcZjak7U"
      },
      "source": [
        "#### Measures of Location \n",
        "\n",
        "**Min/Max**\n",
        "\n",
        "Lowest and highest observed values \n",
        "\n",
        "\n"
      ]
    },
    {
      "cell_type": "code",
      "metadata": {
        "id": "D5xGAvBecIM8",
        "colab": {
          "base_uri": "https://localhost:8080/"
        },
        "outputId": "d8cae20d-6fdd-4e80-cf81-45f3615aa284"
      },
      "source": [
        "# For completeness, min and max\n",
        "print(x.min())\n",
        "print(x.max())"
      ],
      "execution_count": null,
      "outputs": [
        {
          "output_type": "stream",
          "name": "stdout",
          "text": [
            "1\n",
            "7\n"
          ]
        }
      ]
    },
    {
      "cell_type": "markdown",
      "metadata": {
        "id": "--W2WG7AccPP"
      },
      "source": [
        "**Median**\n",
        "Value separating the lower and the upper half of the variable (note that the values have to be sorted in ascendent order)"
      ]
    },
    {
      "cell_type": "code",
      "metadata": {
        "id": "JMwAelPNcSnC",
        "colab": {
          "base_uri": "https://localhost:8080/"
        },
        "outputId": "436ea5a1-2852-4ddb-d6a2-68b65e9af03c"
      },
      "source": [
        "x = pd.Series([1, 3, 3, 4, 7])\n",
        "x.median()"
      ],
      "execution_count": null,
      "outputs": [
        {
          "output_type": "execute_result",
          "data": {
            "text/plain": [
              "3.0"
            ]
          },
          "metadata": {},
          "execution_count": 49
        }
      ]
    },
    {
      "cell_type": "code",
      "metadata": {
        "id": "RsLWtsG1eeSn",
        "colab": {
          "base_uri": "https://localhost:8080/"
        },
        "outputId": "a3a6ac8c-e29d-489c-ad1e-0b26ee427514"
      },
      "source": [
        "# If we change the order, the median does not change!\n",
        "pd.Series([3, 7, 1, 4, 3]).median()"
      ],
      "execution_count": null,
      "outputs": [
        {
          "output_type": "execute_result",
          "data": {
            "text/plain": [
              "3.0"
            ]
          },
          "metadata": {},
          "execution_count": 26
        }
      ]
    },
    {
      "cell_type": "markdown",
      "metadata": {
        "id": "TjU7M1koc5LX"
      },
      "source": [
        "**Median vs. mean**\n",
        "\n",
        "If we can always take the average, why should we ever use the median?\n",
        "The median is **robust** against outliers. If you have a very extreme value in you data the mean will be affected very strongly by it. As the median is always the middle value, it is not affected by its extremes"
      ]
    },
    {
      "cell_type": "code",
      "metadata": {
        "id": "YqVNjo5geX7j",
        "colab": {
          "base_uri": "https://localhost:8080/"
        },
        "outputId": "24f62348-1160-4836-bd37-c5d0547ca67a"
      },
      "source": [
        "x = pd.Series([1, 3, 3, 4, 100])\n",
        "\n",
        "# The mean gets very large!\n",
        "x.mean()"
      ],
      "execution_count": null,
      "outputs": [
        {
          "output_type": "execute_result",
          "data": {
            "text/plain": [
              "22.2"
            ]
          },
          "metadata": {},
          "execution_count": 50
        }
      ]
    },
    {
      "cell_type": "code",
      "metadata": {
        "id": "y4pjN0Lre9is",
        "colab": {
          "base_uri": "https://localhost:8080/"
        },
        "outputId": "671ea14c-f7f5-4602-d224-aafb16b46843"
      },
      "source": [
        "# The median is unchanged\n",
        "x.median()"
      ],
      "execution_count": null,
      "outputs": [
        {
          "output_type": "execute_result",
          "data": {
            "text/plain": [
              "3.0"
            ]
          },
          "metadata": {},
          "execution_count": 51
        }
      ]
    },
    {
      "cell_type": "markdown",
      "metadata": {
        "id": "zr9BgP6-fKaG"
      },
      "source": [
        "**Quantiles** \n",
        "\n",
        "Quantiles are related to the median. Remember how the median was the value that split our data in half? In other words 50% of observations are less than the median!\n",
        "\n",
        "Are we limited to only 50%? No! 25% of all values are below the 25%-quantile. 75% of all values are below the 75%-quantile. This is what the `describe` method is showing to you"
      ]
    },
    {
      "cell_type": "code",
      "metadata": {
        "id": "peTWsItDgcOZ",
        "colab": {
          "base_uri": "https://localhost:8080/"
        },
        "outputId": "8638ccce-083b-4bba-d4f2-999cbf49ece7"
      },
      "source": [
        "x = pd.Series([1, 3, 3, 5, 6, 9, 10, 15])\n",
        "# 25%-quantile\n",
        "x.quantile(0.25)"
      ],
      "execution_count": null,
      "outputs": [
        {
          "output_type": "execute_result",
          "data": {
            "text/plain": [
              "3.0"
            ]
          },
          "metadata": {},
          "execution_count": 53
        }
      ]
    },
    {
      "cell_type": "code",
      "metadata": {
        "id": "biB4xlpMhYws",
        "colab": {
          "base_uri": "https://localhost:8080/"
        },
        "outputId": "e6608529-83ca-427f-964f-754f720ff72d"
      },
      "source": [
        "# 75%-quantile\n",
        "x.quantile(0.75, interpolation='midpoint')"
      ],
      "execution_count": null,
      "outputs": [
        {
          "output_type": "execute_result",
          "data": {
            "text/plain": [
              "9.5"
            ]
          },
          "metadata": {},
          "execution_count": 64
        }
      ]
    },
    {
      "cell_type": "markdown",
      "metadata": {
        "id": "w2KAf3lt6Qkw"
      },
      "source": [
        "#### Measures of Dispersion \n",
        "\n",
        "**Standard deviation (related to mean)**\n",
        "\n",
        "To get an idea of how much variation we have in our data we can take the difference between our observation and the mean. We are not interested in the direction of the deviation (if our observation is above or below mean). We want to know how large the deviation is for a particular observation. The average over the deviations is our standard deviation\n",
        "\n",
        "(*Mathematical Note:* This is a simplification of how it is actually [calculated](#https://en.wikipedia.org/wiki/Standard_deviation). Normally you square each deviation to eliminate negative values, then take the average of the squared deviations. This is the variance. At the end you have to take the square root of the variance to get the standard deviation. If you do not understand is, it is ok for now.)\n",
        "\n",
        "\n",
        "\n"
      ]
    },
    {
      "cell_type": "code",
      "metadata": {
        "id": "pqildp-997YL",
        "colab": {
          "base_uri": "https://localhost:8080/"
        },
        "outputId": "f1ae7a39-5c49-4e0e-ff3a-2eeadad93ced"
      },
      "source": [
        "x = pd.Series([1, 3, 3, 5, 6, 9, 10, 15])\n",
        "# 25%-quantile\n",
        "x.mean()"
      ],
      "execution_count": null,
      "outputs": [
        {
          "output_type": "execute_result",
          "data": {
            "text/plain": [
              "6.5"
            ]
          },
          "metadata": {},
          "execution_count": 60
        }
      ]
    },
    {
      "cell_type": "code",
      "metadata": {
        "id": "jxZARx1S-Ncn",
        "colab": {
          "base_uri": "https://localhost:8080/"
        },
        "outputId": "5086cf18-43ba-409d-f620-f7c7b59fcd52"
      },
      "source": [
        "x.std()"
      ],
      "execution_count": null,
      "outputs": [
        {
          "output_type": "execute_result",
          "data": {
            "text/plain": [
              "4.59813626840888"
            ]
          },
          "metadata": {},
          "execution_count": 61
        }
      ]
    },
    {
      "cell_type": "markdown",
      "metadata": {
        "id": "5WHiv5re9iEs"
      },
      "source": [
        "**Interquantile range (related to quantiles)**\n",
        "\n",
        "Another common way of checking how much variation we have in out data. The calculation is very simple – just take the difference between the 75%-quantile and the 25%-quantile. Since this is not based on the mean, it is more robust"
      ]
    },
    {
      "cell_type": "code",
      "metadata": {
        "id": "5PiRz7A1-YGZ",
        "colab": {
          "base_uri": "https://localhost:8080/"
        },
        "outputId": "9faa4aea-e406-4ef0-c526-9c66f4e1e69e"
      },
      "source": [
        "x = pd.Series([1, 3, 3, 5, 6, 9, 10, 15])\n",
        "x.quantile(0.75) - x.quantile(0.25)"
      ],
      "execution_count": null,
      "outputs": [
        {
          "output_type": "execute_result",
          "data": {
            "text/plain": [
              "6.25"
            ]
          },
          "metadata": {},
          "execution_count": 33
        }
      ]
    },
    {
      "cell_type": "markdown",
      "metadata": {
        "id": "UvTDBS5M-oSS"
      },
      "source": [
        "Pandas does not have a built-in IQR function. You can calculated it by hand as in the last example or take a look at `describe`, which gives you both the 75%- and the 25%-quantile"
      ]
    },
    {
      "cell_type": "code",
      "metadata": {
        "id": "2eVUO3-G-lvc",
        "colab": {
          "base_uri": "https://localhost:8080/"
        },
        "outputId": "1cde6717-c64b-47f7-949f-95f8a386dcfd"
      },
      "source": [
        "x.describe()"
      ],
      "execution_count": null,
      "outputs": [
        {
          "output_type": "execute_result",
          "data": {
            "text/plain": [
              "count     8.000000\n",
              "mean      6.500000\n",
              "std       4.598136\n",
              "min       1.000000\n",
              "25%       3.000000\n",
              "50%       5.500000\n",
              "75%       9.250000\n",
              "max      15.000000\n",
              "dtype: float64"
            ]
          },
          "metadata": {},
          "execution_count": 34
        }
      ]
    },
    {
      "cell_type": "markdown",
      "metadata": {
        "id": "BIIOTUNRAf0q"
      },
      "source": [
        "# Back to the data set\n",
        "Question : What is the average age for male and female ?"
      ]
    },
    {
      "cell_type": "code",
      "metadata": {
        "id": "yyN9VE3JBu9h",
        "colab": {
          "base_uri": "https://localhost:8080/"
        },
        "outputId": "5d25fd72-a8c2-4884-9376-df868f97f090"
      },
      "source": [
        "df[df.Sex == 'male'].Age.mean()"
      ],
      "execution_count": null,
      "outputs": [
        {
          "output_type": "execute_result",
          "data": {
            "text/plain": [
              "30.72664459161148"
            ]
          },
          "metadata": {},
          "execution_count": 58
        }
      ]
    },
    {
      "cell_type": "code",
      "metadata": {
        "id": "1hQEAntGVRe6",
        "colab": {
          "base_uri": "https://localhost:8080/"
        },
        "outputId": "722a4f58-d540-464e-884a-08a0a1522d82"
      },
      "source": [
        "df[df.Sex == 'female'].Age.mean()"
      ],
      "execution_count": null,
      "outputs": [
        {
          "output_type": "execute_result",
          "data": {
            "text/plain": [
              "27.915708812260537"
            ]
          },
          "metadata": {},
          "execution_count": 59
        }
      ]
    },
    {
      "cell_type": "markdown",
      "metadata": {
        "id": "3QSOcnFgVUZ4"
      },
      "source": [
        "# Exercises"
      ]
    },
    {
      "cell_type": "markdown",
      "metadata": {
        "id": "GhkLdq4sVced"
      },
      "source": [
        "## Exercise 1\n",
        "Calculate the following statistics for the Titanic dataset over all passengers, for `Age` and `Fare`:\n",
        "\n",
        "- Average value\n",
        "- Median value (or 50th quantile)\n",
        "- Standard Deviation\n",
        "- IQR\n",
        "- Range (max-min)\n"
      ]
    },
    {
      "cell_type": "code",
      "metadata": {
        "id": "93XBI9_2VTNP",
        "colab": {
          "base_uri": "https://localhost:8080/",
          "height": 166
        },
        "outputId": "5236dfda-4951-4e28-826e-02f71468f1b2"
      },
      "source": [
        "df[\"Age\"].mean()"
      ],
      "execution_count": null,
      "outputs": [
        {
          "output_type": "error",
          "ename": "NameError",
          "evalue": "ignored",
          "traceback": [
            "\u001b[0;31m---------------------------------------------------------------------------\u001b[0m",
            "\u001b[0;31mNameError\u001b[0m                                 Traceback (most recent call last)",
            "\u001b[0;32m<ipython-input-1-355ec50147f6>\u001b[0m in \u001b[0;36m<module>\u001b[0;34m\u001b[0m\n\u001b[0;32m----> 1\u001b[0;31m \u001b[0mdf\u001b[0m\u001b[0;34m[\u001b[0m\u001b[0;34m\"Age\"\u001b[0m\u001b[0;34m]\u001b[0m\u001b[0;34m.\u001b[0m\u001b[0mmean\u001b[0m\u001b[0;34m(\u001b[0m\u001b[0;34m)\u001b[0m\u001b[0;34m\u001b[0m\u001b[0;34m\u001b[0m\u001b[0m\n\u001b[0m",
            "\u001b[0;31mNameError\u001b[0m: name 'df' is not defined"
          ]
        }
      ]
    },
    {
      "cell_type": "code",
      "metadata": {
        "id": "wKuvOokGVTXT"
      },
      "source": [
        "df[\"Age\"].median()"
      ],
      "execution_count": null,
      "outputs": []
    },
    {
      "cell_type": "code",
      "metadata": {
        "id": "AOEEpeaOV0Sf"
      },
      "source": [
        "df[\"Age\"].std()"
      ],
      "execution_count": null,
      "outputs": []
    },
    {
      "cell_type": "code",
      "metadata": {
        "id": "wDVtno8MV0V4"
      },
      "source": [
        "df[\"Age\"].quantile(.75) - df[\"Age\"].quantile(.25)"
      ],
      "execution_count": null,
      "outputs": []
    },
    {
      "cell_type": "code",
      "metadata": {
        "id": "_WlVfeXHC4qz"
      },
      "source": [
        "df[\"Age\"].max()"
      ],
      "execution_count": null,
      "outputs": []
    },
    {
      "cell_type": "code",
      "metadata": {
        "id": "MPHdNkNLC5F1"
      },
      "source": [
        "df[\"Age\"].min()"
      ],
      "execution_count": null,
      "outputs": []
    },
    {
      "cell_type": "code",
      "metadata": {
        "id": "3gf35NNFDFPz"
      },
      "source": [
        "df[\"Fare\"].mean()"
      ],
      "execution_count": null,
      "outputs": []
    },
    {
      "cell_type": "code",
      "metadata": {
        "id": "HnLCAFoaDFbG"
      },
      "source": [
        "df[\"Fare\"].median()"
      ],
      "execution_count": null,
      "outputs": []
    },
    {
      "cell_type": "code",
      "metadata": {
        "id": "zZSrQyK0DFj2"
      },
      "source": [
        "df[\"Fare\"].std()"
      ],
      "execution_count": null,
      "outputs": []
    },
    {
      "cell_type": "code",
      "metadata": {
        "id": "3mIR1rSWDFtL"
      },
      "source": [
        "df[\"Fare\"].quantile(.75) - df[\"Fare\"].quantile(.25)"
      ],
      "execution_count": null,
      "outputs": []
    },
    {
      "cell_type": "code",
      "metadata": {
        "id": "ZTvUK8s4DF2P"
      },
      "source": [
        "df[\"Fare\"].max()"
      ],
      "execution_count": null,
      "outputs": []
    },
    {
      "cell_type": "code",
      "metadata": {
        "id": "ui-q9rbFDkuS"
      },
      "source": [
        "df[\"Fare\"].min()"
      ],
      "execution_count": null,
      "outputs": []
    },
    {
      "cell_type": "markdown",
      "metadata": {
        "id": "bi1iJgMHXsOX"
      },
      "source": [
        "What can you conclude about these two metrics? Can you picture their distributions?\n"
      ]
    },
    {
      "cell_type": "code",
      "metadata": {
        "id": "JU-5FVRgV0Zr"
      },
      "source": [
        "df[['Age', 'Fare']].agg(\n",
        " ['min',\n",
        "  'max',\n",
        "  'median',\n",
        "  'std'\n",
        " ]  \n",
        ")"
      ],
      "execution_count": null,
      "outputs": []
    },
    {
      "cell_type": "markdown",
      "metadata": {
        "id": "Y8col7-UWixq"
      },
      "source": [
        "## Exercise 2\n",
        "Use the `plot.hist` method to visualise the distribution of `Age` and `Fare`. Do you think the previously used aggregations gave you a good enough understanding of the distributions?\n"
      ]
    },
    {
      "cell_type": "code",
      "metadata": {
        "id": "HUP3wNLya4rc",
        "colab": {
          "base_uri": "https://localhost:8080/",
          "height": 282
        },
        "outputId": "833c7163-4ff2-48c0-bdc5-b2e3bf37fe1c"
      },
      "source": [
        "df.Age.plot.hist()"
      ],
      "execution_count": null,
      "outputs": [
        {
          "output_type": "execute_result",
          "data": {
            "text/plain": [
              "<matplotlib.axes._subplots.AxesSubplot at 0x7fac1fd70470>"
            ]
          },
          "metadata": {
            "tags": []
          },
          "execution_count": 27
        },
        {
          "output_type": "display_data",
          "data": {
            "image/png": "[encoded data removed]",
            "text/plain": [
              "<Figure size 432x288 with 1 Axes>"
            ]
          },
          "metadata": {
            "tags": []
          }
        }
      ]
    },
    {
      "cell_type": "code",
      "metadata": {
        "id": "xxa3t9YcXo-G",
        "colab": {
          "base_uri": "https://localhost:8080/",
          "height": 283
        },
        "outputId": "35ccaf6d-596b-493d-e638-ffb8e2dd7935"
      },
      "source": [
        "df.Fare.plot.hist()"
      ],
      "execution_count": null,
      "outputs": [
        {
          "output_type": "execute_result",
          "data": {
            "text/plain": [
              "<matplotlib.axes._subplots.AxesSubplot at 0x7f54a8cd4d30>"
            ]
          },
          "metadata": {
            "tags": []
          },
          "execution_count": 36
        },
        {
          "output_type": "display_data",
          "data": {
            "image/png": "[encoded data removed]",
            "text/plain": [
              "<Figure size 432x288 with 1 Axes>"
            ]
          },
          "metadata": {
            "tags": []
          }
        }
      ]
    },
    {
      "cell_type": "markdown",
      "metadata": {
        "id": "rbaGwQYJXyVW"
      },
      "source": [
        "# Are 'statistics' the only way we can aggregate data?\n",
        "Statistics are a good example of aggregation functions, but by far not the only ones!\n",
        "\n",
        "An aggregation is any function that takes in a set of elements and returns a single element. Some examples of aggregation functions that are pre-implemented by pandas:\n",
        "\n",
        "- `.mean()` \n",
        "- `.median()`\n",
        "- `.sum()` Sum over one entire axis\n",
        "- `.prod()` Product of all elements over one entire axis\n",
        "- `.count()` Count all **non null** items along one axis\n",
        "- `.nunique()` Count unique items along one axis\n",
        "\n",
        "They all behave very similarly, so we won't explore them too deeply."
      ]
    },
    {
      "cell_type": "code",
      "metadata": {
        "id": "gf4Vi4OPZ8Bu"
      },
      "source": [],
      "execution_count": null,
      "outputs": []
    },
    {
      "cell_type": "markdown",
      "metadata": {
        "id": "kdtla7WwZ9OH"
      },
      "source": [
        "## Aggregating a DataFrame\n",
        "\n",
        "So far we have worked mostly with aggregating functions on a column (i.e. `Series`).\n",
        "\n",
        "What do you think will happen if you call it on a DataFrame?\n",
        "\n",
        "Try it out:"
      ]
    },
    {
      "cell_type": "code",
      "metadata": {
        "id": "XJo8EnrGaP0b",
        "colab": {
          "base_uri": "https://localhost:8080/",
          "height": 204
        },
        "outputId": "8f110306-8d64-4ca1-c43c-601034f1485b"
      },
      "source": [
        "df.sum()"
      ],
      "execution_count": null,
      "outputs": [
        {
          "output_type": "execute_result",
          "data": {
            "text/plain": [
              "PassengerId                                               460009\n",
              "Pclass                                                       947\n",
              "Name           Kelly, Mr. JamesWilkes, Mrs. James (Ellen Need...\n",
              "Sex            malefemalemalemalefemalemalefemalemalefemalema...\n",
              "Age                                                      10050.5\n",
              "SibSp                                                        187\n",
              "Parch                                                        164\n",
              "Ticket         3309113632722402763151543101298753833097224873...\n",
              "Fare                                                     14856.5\n",
              "Embarked       QSQSSSQSCSSSSSSCQCSCCSSCCSCCSCSSSSCCSSSSCSSSSS...\n",
              "dtype: object"
            ]
          },
          "metadata": {
            "tags": []
          },
          "execution_count": 37
        }
      ]
    },
    {
      "cell_type": "markdown",
      "metadata": {
        "id": "hY_ZA5myZ6xY"
      },
      "source": [
        "When working with DataFrames, you will see that most functions expect an input `axis`.\n",
        "\n",
        "This tells the function along which axis you want to work. For the case of aggregation, along which to run the aggregation.\n",
        "\n",
        "Try the following:"
      ]
    },
    {
      "cell_type": "code",
      "metadata": {
        "id": "Id6y5LFUam0u",
        "colab": {
          "base_uri": "https://localhost:8080/",
          "height": 162
        },
        "outputId": "65144952-532e-42da-fe8a-d33687d33a08"
      },
      "source": [
        "# We will create a fake dataframe to make things easier.\n",
        "\n",
        "fake_data = pd.DataFrame(\n",
        "    [\n",
        "     [4,4,4,2,3,2,1,3,2],\n",
        "     [4,4,4,2,3,2,1,3,2],\n",
        "     [4,2,4,3,3,1,1,3,2],\n",
        "     [4,2,4,3,3,1,1,3,2],\n",
        "    ]\n",
        "    )\n",
        "\n",
        "fake_data.head()"
      ],
      "execution_count": null,
      "outputs": [
        {
          "output_type": "execute_result",
          "data": {
            "text/html": [
              "<div>\n",
              "<style scoped>\n",
              "    .dataframe tbody tr th:only-of-type {\n",
              "        vertical-align: middle;\n",
              "    }\n",
              "\n",
              "    .dataframe tbody tr th {\n",
              "        vertical-align: top;\n",
              "    }\n",
              "\n",
              "    .dataframe thead th {\n",
              "        text-align: right;\n",
              "    }\n",
              "</style>\n",
              "<table border=\"1\" class=\"dataframe\">\n",
              "  <thead>\n",
              "    <tr style=\"text-align: right;\">\n",
              "      <th></th>\n",
              "      <th>0</th>\n",
              "      <th>1</th>\n",
              "      <th>2</th>\n",
              "      <th>3</th>\n",
              "      <th>4</th>\n",
              "      <th>5</th>\n",
              "      <th>6</th>\n",
              "      <th>7</th>\n",
              "      <th>8</th>\n",
              "    </tr>\n",
              "  </thead>\n",
              "  <tbody>\n",
              "    <tr>\n",
              "      <th>0</th>\n",
              "      <td>4</td>\n",
              "      <td>4</td>\n",
              "      <td>4</td>\n",
              "      <td>2</td>\n",
              "      <td>3</td>\n",
              "      <td>2</td>\n",
              "      <td>1</td>\n",
              "      <td>3</td>\n",
              "      <td>2</td>\n",
              "    </tr>\n",
              "    <tr>\n",
              "      <th>1</th>\n",
              "      <td>4</td>\n",
              "      <td>4</td>\n",
              "      <td>4</td>\n",
              "      <td>2</td>\n",
              "      <td>3</td>\n",
              "      <td>2</td>\n",
              "      <td>1</td>\n",
              "      <td>3</td>\n",
              "      <td>2</td>\n",
              "    </tr>\n",
              "    <tr>\n",
              "      <th>2</th>\n",
              "      <td>4</td>\n",
              "      <td>2</td>\n",
              "      <td>4</td>\n",
              "      <td>3</td>\n",
              "      <td>3</td>\n",
              "      <td>1</td>\n",
              "      <td>1</td>\n",
              "      <td>3</td>\n",
              "      <td>2</td>\n",
              "    </tr>\n",
              "    <tr>\n",
              "      <th>3</th>\n",
              "      <td>4</td>\n",
              "      <td>2</td>\n",
              "      <td>4</td>\n",
              "      <td>3</td>\n",
              "      <td>3</td>\n",
              "      <td>1</td>\n",
              "      <td>1</td>\n",
              "      <td>3</td>\n",
              "      <td>2</td>\n",
              "    </tr>\n",
              "  </tbody>\n",
              "</table>\n",
              "</div>"
            ],
            "text/plain": [
              "   0  1  2  3  4  5  6  7  8\n",
              "0  4  4  4  2  3  2  1  3  2\n",
              "1  4  4  4  2  3  2  1  3  2\n",
              "2  4  2  4  3  3  1  1  3  2\n",
              "3  4  2  4  3  3  1  1  3  2"
            ]
          },
          "metadata": {
            "tags": []
          },
          "execution_count": 3
        }
      ]
    },
    {
      "cell_type": "code",
      "metadata": {
        "id": "nQpVrqbba9HI",
        "colab": {
          "base_uri": "https://localhost:8080/",
          "height": 180
        },
        "outputId": "ca361f28-dfac-41f6-85ae-937b191611b2"
      },
      "source": [
        "fake_data.sum(axis=0)"
      ],
      "execution_count": null,
      "outputs": [
        {
          "output_type": "execute_result",
          "data": {
            "text/plain": [
              "0    16\n",
              "1    12\n",
              "2    16\n",
              "3    10\n",
              "4    12\n",
              "5     6\n",
              "6     4\n",
              "7    12\n",
              "8     8\n",
              "dtype: int64"
            ]
          },
          "metadata": {
            "tags": []
          },
          "execution_count": 4
        }
      ]
    },
    {
      "cell_type": "code",
      "metadata": {
        "id": "08XmD486bD66",
        "colab": {
          "base_uri": "https://localhost:8080/",
          "height": 98
        },
        "outputId": "f5fd5277-8c16-49dc-9316-9deead422f06"
      },
      "source": [
        "fake_data.sum(axis=1)"
      ],
      "execution_count": null,
      "outputs": [
        {
          "output_type": "execute_result",
          "data": {
            "text/plain": [
              "0    25\n",
              "1    25\n",
              "2    23\n",
              "3    23\n",
              "dtype: int64"
            ]
          },
          "metadata": {
            "tags": []
          },
          "execution_count": 5
        }
      ]
    },
    {
      "cell_type": "code",
      "metadata": {
        "id": "fVZFZ-XubH0G",
        "colab": {
          "base_uri": "https://localhost:8080/",
          "height": 180
        },
        "outputId": "1bded245-b2b6-4f58-d028-6a7047ceb4e8"
      },
      "source": [
        "fake_data.sum()"
      ],
      "execution_count": null,
      "outputs": [
        {
          "output_type": "execute_result",
          "data": {
            "text/plain": [
              "0    16\n",
              "1    12\n",
              "2    16\n",
              "3    10\n",
              "4    12\n",
              "5     6\n",
              "6     4\n",
              "7    12\n",
              "8     8\n",
              "dtype: int64"
            ]
          },
          "metadata": {
            "tags": []
          },
          "execution_count": 6
        }
      ]
    },
    {
      "cell_type": "markdown",
      "metadata": {
        "id": "cwdcoV5_bwDG"
      },
      "source": [
        "## What if I need to use an aggregation function that is not defined in Pandas?\n",
        "\n",
        "You'll find that this is a rare case, but if you need some strange statistic or a function that comes from another library, you have two options:\n",
        "\n",
        "- Use the numpy or scipy libraries, they have plenty of specific functions\n",
        "- Use the `agg` method with a self-defined function"
      ]
    },
    {
      "cell_type": "markdown",
      "metadata": {
        "id": "SoYORBIScVD-"
      },
      "source": [
        "### Using numpy functions with Pandas data"
      ]
    },
    {
      "cell_type": "code",
      "metadata": {
        "id": "0zyptgUGcT01"
      },
      "source": [
        "# Numpy is an extremely powerful library for managing datasets in python, and it can easily interoperate with pandas\n",
        "\n",
        "import numpy as np\n",
        "\n",
        "np.mean(df.Age.values)"
      ],
      "execution_count": null,
      "outputs": []
    },
    {
      "cell_type": "markdown",
      "metadata": {
        "id": "r-QIt23bdM46"
      },
      "source": [
        "### Using agg\n",
        "\n",
        "Agg can take any function or list of functions and run it on your series or dataframe.\n",
        "\n"
      ]
    },
    {
      "cell_type": "code",
      "metadata": {
        "id": "7_Ynt81ydmsJ"
      },
      "source": [
        "df.Age.agg('mean')"
      ],
      "execution_count": null,
      "outputs": []
    },
    {
      "cell_type": "code",
      "metadata": {
        "id": "kabwQUcfdp8O"
      },
      "source": [
        "df.Age.agg(['mean', 'median'])"
      ],
      "execution_count": null,
      "outputs": []
    },
    {
      "cell_type": "code",
      "metadata": {
        "id": "uG-aTcDYdtAc"
      },
      "source": [
        "def my_agg_func(series):\n",
        "  return series.sum()\n",
        "\n",
        "df.Age.agg(my_agg_func)"
      ],
      "execution_count": null,
      "outputs": []
    },
    {
      "cell_type": "markdown",
      "source": [
        "## How does one display specific statistical datatypes?\n",
        "- example discrete vs discrete => contingency tables\n",
        "- taken from https://www.kaggle.com/code/hamelg/python-for-data-25-chi-squared-tests/notebook"
      ],
      "metadata": {
        "id": "ulZOxr2NaT0I"
      }
    },
    {
      "cell_type": "markdown",
      "source": [
        "# References\n",
        "* https://www.crashkurs-statistik.de/\n",
        "* https://www.kaggle.com/code/hamelg/python-for-data-25-chi-squared-tests/notebook\n",
        "* https://en.wikipedia.org/wiki/Statistics\n",
        "* https://towardsdatascience.com/predicting-the-survival-of-titanic-passengers-30870ccc7e8\n"
      ],
      "metadata": {
        "id": "2wynVwle0ssx"
      }
    }
  ]
}
