{
  "nbformat": 4,
  "nbformat_minor": 0,
  "metadata": {
    "kernelspec": {
      "display_name": "Python 3",
      "language": "python",
      "name": "python3"
    },
    "language_info": {
      "codemirror_mode": {
        "name": "ipython",
        "version": 3
      },
      "file_extension": ".py",
      "mimetype": "text/x-python",
      "name": "python",
      "nbconvert_exporter": "python",
      "pygments_lexer": "ipython3",
      "version": "3.6.9"
    },
    "varInspector": {
      "cols": {
        "lenName": 16,
        "lenType": 16,
        "lenVar": 40
      },
      "kernels_config": {
        "python": {
          "delete_cmd_postfix": "",
          "delete_cmd_prefix": "del ",
          "library": "var_list.py",
          "varRefreshCmd": "print(var_dic_list())"
        },
        "r": {
          "delete_cmd_postfix": ") ",
          "delete_cmd_prefix": "rm(",
          "library": "var_list.r",
          "varRefreshCmd": "cat(var_dic_list()) "
        }
      },
      "types_to_exclude": [
        "module",
        "function",
        "builtin_function_or_method",
        "instance",
        "_Feature"
      ],
      "window_display": false
    },
    "colab": {
      "name": "Data Cleaning & Missing Values - Class.ipynb",
      "provenance": [],
      "collapsed_sections": [
        "ax6568FAbI_1"
      ]
    }
  },
  "cells": [
    {
      "cell_type": "code",
      "metadata": {
        "id": "d4cNAbGFbI9x"
      },
      "source": [
        "import numpy as np\n",
        "import pandas as pd\n",
        "import plotly.express as px"
      ],
      "execution_count": null,
      "outputs": []
    },
    {
      "cell_type": "markdown",
      "metadata": {
        "id": "GDXozNx8bI93"
      },
      "source": [
        "# Data Cleaning & Missing Values"
      ]
    },
    {
      "cell_type": "markdown",
      "metadata": {
        "id": "nmlX7MM6bI93"
      },
      "source": [
        "### Load the Data"
      ]
    },
    {
      "cell_type": "code",
      "metadata": {
        "id": "d6SBrB_2bI94"
      },
      "source": [
        "#df = pd.read_csv('berlin_housing_with_scraped.csv')\n",
        "df = pd.read_csv('https://raw.githubusercontent.com/ReDI-School/data-analytics/master/Class%20material/Class-11_Data_cleaning/berlin_housing_with_scraped.csv')"
      ],
      "execution_count": null,
      "outputs": []
    },
    {
      "cell_type": "markdown",
      "metadata": {
        "id": "8EtJLvHWbI-C"
      },
      "source": [
        "### Check the Data's `shape`,  `head`, and the `dtypes`"
      ]
    },
    {
      "cell_type": "code",
      "metadata": {
        "id": "nlYfVEnrbI-D",
        "colab": {
          "base_uri": "https://localhost:8080/"
        },
        "outputId": "571370c3-0653-40a5-a9fe-685eb5b47e1a"
      },
      "source": [
        "df.shape"
      ],
      "execution_count": null,
      "outputs": [
        {
          "output_type": "execute_result",
          "data": {
            "text/plain": [
              "(764, 22)"
            ]
          },
          "metadata": {
            "tags": []
          },
          "execution_count": 3
        }
      ]
    },
    {
      "cell_type": "code",
      "metadata": {
        "id": "5bUCCKoBbI-J",
        "colab": {
          "base_uri": "https://localhost:8080/",
          "height": 366
        },
        "outputId": "33e41ef5-4db7-4fc8-9e7e-ca2c57f8aa1e"
      },
      "source": [
        "df.head(3)"
      ],
      "execution_count": null,
      "outputs": [
        {
          "output_type": "execute_result",
          "data": {
            "text/html": [
              "<div>\n",
              "<style scoped>\n",
              "    .dataframe tbody tr th:only-of-type {\n",
              "        vertical-align: middle;\n",
              "    }\n",
              "\n",
              "    .dataframe tbody tr th {\n",
              "        vertical-align: top;\n",
              "    }\n",
              "\n",
              "    .dataframe thead th {\n",
              "        text-align: right;\n",
              "    }\n",
              "</style>\n",
              "<table border=\"1\" class=\"dataframe\">\n",
              "  <thead>\n",
              "    <tr style=\"text-align: right;\">\n",
              "      <th></th>\n",
              "      <th>url</th>\n",
              "      <th>region</th>\n",
              "      <th>condition</th>\n",
              "      <th>rooms</th>\n",
              "      <th>rent</th>\n",
              "      <th>year_construction</th>\n",
              "      <th>space</th>\n",
              "      <th>cold_rent</th>\n",
              "      <th>utilities</th>\n",
              "      <th>heating_costs</th>\n",
              "      <th>security_deposit</th>\n",
              "      <th>parking_space</th>\n",
              "      <th>renovated_date</th>\n",
              "      <th>property_condition</th>\n",
              "      <th>furnishing</th>\n",
              "      <th>heating_type</th>\n",
              "      <th>energy_sources</th>\n",
              "      <th>energy_certificate</th>\n",
              "      <th>type_of_certificate</th>\n",
              "      <th>energy_requirement</th>\n",
              "      <th>efficiency_class</th>\n",
              "      <th>tags</th>\n",
              "    </tr>\n",
              "  </thead>\n",
              "  <tbody>\n",
              "    <tr>\n",
              "      <th>0</th>\n",
              "      <td>https://www.immobilienscout24.de/expose/116051687</td>\n",
              "      <td>Mitte</td>\n",
              "      <td>first_time_use</td>\n",
              "      <td>4.0</td>\n",
              "      <td>2659.0</td>\n",
              "      <td>2019</td>\n",
              "      <td>117.20</td>\n",
              "      <td>2.199€</td>\n",
              "      <td>+460€</td>\n",
              "      <td>in</td>\n",
              "      <td>3</td>\n",
              "      <td>120€</td>\n",
              "      <td>NaN</td>\n",
              "      <td>New</td>\n",
              "      <td>NaN</td>\n",
              "      <td>Underfloor Heating</td>\n",
              "      <td>NaN</td>\n",
              "      <td>NaN</td>\n",
              "      <td>Bedarfsausweis</td>\n",
              "      <td>NaN</td>\n",
              "      <td>B</td>\n",
              "      <td>['Balkon', 'Terrasse Balkon', 'Terrasse Person...</td>\n",
              "    </tr>\n",
              "    <tr>\n",
              "      <th>1</th>\n",
              "      <td>https://www.immobilienscout24.de/expose/115338103</td>\n",
              "      <td>Kreuzberg</td>\n",
              "      <td>first_time_use</td>\n",
              "      <td>1.0</td>\n",
              "      <td>1200.0</td>\n",
              "      <td>2020</td>\n",
              "      <td>29.33</td>\n",
              "      <td>973,51€</td>\n",
              "      <td>+226,49€</td>\n",
              "      <td>in</td>\n",
              "      <td>2920,53</td>\n",
              "      <td>NaN</td>\n",
              "      <td>NaN</td>\n",
              "      <td>New</td>\n",
              "      <td>Gehobene Qualität</td>\n",
              "      <td>Central Heating</td>\n",
              "      <td>Fernwärme Energieausweis liegt vor</td>\n",
              "      <td>liegt vor</td>\n",
              "      <td>NaN</td>\n",
              "      <td>NaN</td>\n",
              "      <td>NaN</td>\n",
              "      <td>['Balkon', 'Terrasse Balkon', 'Terrasse Person...</td>\n",
              "    </tr>\n",
              "    <tr>\n",
              "      <th>2</th>\n",
              "      <td>https://www.immobilienscout24.de/expose/116458710</td>\n",
              "      <td>Köpenick</td>\n",
              "      <td>well_kept</td>\n",
              "      <td>2.0</td>\n",
              "      <td>979.0</td>\n",
              "      <td>1997</td>\n",
              "      <td>83.61</td>\n",
              "      <td>799€</td>\n",
              "      <td>+90€</td>\n",
              "      <td>+90€</td>\n",
              "      <td>Drei</td>\n",
              "      <td>NaN</td>\n",
              "      <td>NaN</td>\n",
              "      <td>Groomed</td>\n",
              "      <td>Normale Qualität</td>\n",
              "      <td>Central Heating</td>\n",
              "      <td>Fernwärme Energieausweis liegt vor</td>\n",
              "      <td>liegt vor</td>\n",
              "      <td>Verbrauchsausweis Energie­ver­brauchs­kennwert...</td>\n",
              "      <td>NaN</td>\n",
              "      <td>NaN</td>\n",
              "      <td>['Balkon', 'Terrasse Balkon', 'Terrasse Person...</td>\n",
              "    </tr>\n",
              "  </tbody>\n",
              "</table>\n",
              "</div>"
            ],
            "text/plain": [
              "                                                 url  ...                                               tags\n",
              "0  https://www.immobilienscout24.de/expose/116051687  ...  ['Balkon', 'Terrasse Balkon', 'Terrasse Person...\n",
              "1  https://www.immobilienscout24.de/expose/115338103  ...  ['Balkon', 'Terrasse Balkon', 'Terrasse Person...\n",
              "2  https://www.immobilienscout24.de/expose/116458710  ...  ['Balkon', 'Terrasse Balkon', 'Terrasse Person...\n",
              "\n",
              "[3 rows x 22 columns]"
            ]
          },
          "metadata": {
            "tags": []
          },
          "execution_count": 4
        }
      ]
    },
    {
      "cell_type": "code",
      "metadata": {
        "id": "2b47oGWRbI-N",
        "colab": {
          "base_uri": "https://localhost:8080/"
        },
        "outputId": "19456c20-9265-47d9-d53e-a023861753c7"
      },
      "source": [
        "df.dtypes"
      ],
      "execution_count": null,
      "outputs": [
        {
          "output_type": "execute_result",
          "data": {
            "text/plain": [
              "url                     object\n",
              "region                  object\n",
              "condition               object\n",
              "rooms                  float64\n",
              "rent                   float64\n",
              "year_construction        int64\n",
              "space                  float64\n",
              "cold_rent               object\n",
              "utilities               object\n",
              "heating_costs           object\n",
              "security_deposit        object\n",
              "parking_space           object\n",
              "renovated_date         float64\n",
              "property_condition      object\n",
              "furnishing              object\n",
              "heating_type            object\n",
              "energy_sources          object\n",
              "energy_certificate      object\n",
              "type_of_certificate     object\n",
              "energy_requirement      object\n",
              "efficiency_class        object\n",
              "tags                    object\n",
              "dtype: object"
            ]
          },
          "metadata": {
            "tags": []
          },
          "execution_count": 5
        }
      ]
    },
    {
      "cell_type": "markdown",
      "metadata": {
        "id": "nxvFzHHVbI-P"
      },
      "source": [
        "### First Question: Is there missing data? If yes, how much?"
      ]
    },
    {
      "cell_type": "code",
      "metadata": {
        "id": "dEnuiNxnbI-Q",
        "colab": {
          "base_uri": "https://localhost:8080/"
        },
        "outputId": "92895d68-2e43-48cf-d2db-2e1032f2be8f"
      },
      "source": [
        "(df.isnull().sum() / len(df)).sort_values(ascending = False)"
      ],
      "execution_count": null,
      "outputs": [
        {
          "output_type": "execute_result",
          "data": {
            "text/plain": [
              "parking_space          0.882199\n",
              "renovated_date         0.744764\n",
              "efficiency_class       0.671466\n",
              "energy_requirement     0.573298\n",
              "security_deposit       0.496073\n",
              "heating_costs          0.442408\n",
              "cold_rent              0.442408\n",
              "utilities              0.442408\n",
              "furnishing             0.417539\n",
              "energy_certificate     0.409686\n",
              "type_of_certificate    0.388743\n",
              "energy_sources         0.353403\n",
              "property_condition     0.344241\n",
              "heating_type           0.325916\n",
              "rooms                  0.000000\n",
              "region                 0.000000\n",
              "condition              0.000000\n",
              "tags                   0.000000\n",
              "rent                   0.000000\n",
              "year_construction      0.000000\n",
              "space                  0.000000\n",
              "url                    0.000000\n",
              "dtype: float64"
            ]
          },
          "metadata": {
            "tags": []
          },
          "execution_count": 6
        }
      ]
    },
    {
      "cell_type": "markdown",
      "metadata": {
        "id": "RvuE6wFxbI-S"
      },
      "source": [
        "## Clean `tags`\n",
        "\n",
        "Have a look at the tags columns. What does this information tell us?"
      ]
    },
    {
      "cell_type": "code",
      "metadata": {
        "id": "UqH7ShmObI-T",
        "colab": {
          "base_uri": "https://localhost:8080/",
          "height": 35
        },
        "outputId": "5323fd56-e823-4824-d0a3-70ffb747ea28"
      },
      "source": [
        "df.tags[0]"
      ],
      "execution_count": null,
      "outputs": [
        {
          "output_type": "execute_result",
          "data": {
            "application/vnd.google.colaboratory.intrinsic+json": {
              "type": "string"
            },
            "text/plain": [
              "\"['Balkon', 'Terrasse Balkon', 'Terrasse Personenaufzug Personenaufzug Einbauküche Einbauküche']\""
            ]
          },
          "metadata": {
            "tags": []
          },
          "execution_count": 7
        }
      ]
    },
    {
      "cell_type": "code",
      "metadata": {
        "id": "cATkm2kAbI-V",
        "colab": {
          "base_uri": "https://localhost:8080/"
        },
        "outputId": "84094fe5-778c-40c2-be1d-078a4dbcc181"
      },
      "source": [
        "df.tags.unique()"
      ],
      "execution_count": null,
      "outputs": [
        {
          "output_type": "execute_result",
          "data": {
            "text/plain": [
              "array([\"['Balkon', 'Terrasse Balkon', 'Terrasse Personenaufzug Personenaufzug Einbauküche Einbauküche']\"],\n",
              "      dtype=object)"
            ]
          },
          "metadata": {
            "tags": []
          },
          "execution_count": 8
        }
      ]
    },
    {
      "cell_type": "markdown",
      "metadata": {
        "id": "C-VytCkxbI-X"
      },
      "source": [
        "Because this doesn't give us any information, let's get rid of redundant data."
      ]
    },
    {
      "cell_type": "code",
      "metadata": {
        "id": "AHPF5hpubI-Y"
      },
      "source": [
        "df.drop('tags', axis=1, inplace=True)"
      ],
      "execution_count": null,
      "outputs": []
    },
    {
      "cell_type": "code",
      "metadata": {
        "id": "DetztCg8bI-a",
        "colab": {
          "base_uri": "https://localhost:8080/"
        },
        "outputId": "5c1e40c1-9c71-4932-fce2-455009571864"
      },
      "source": [
        "df.shape"
      ],
      "execution_count": null,
      "outputs": [
        {
          "output_type": "execute_result",
          "data": {
            "text/plain": [
              "(764, 21)"
            ]
          },
          "metadata": {
            "tags": []
          },
          "execution_count": 10
        }
      ]
    },
    {
      "cell_type": "markdown",
      "metadata": {
        "id": "NHMXbm3zbI-d"
      },
      "source": [
        "## Clean `security_deposit`"
      ]
    },
    {
      "cell_type": "code",
      "metadata": {
        "id": "AHCgGQikbI-e",
        "colab": {
          "base_uri": "https://localhost:8080/"
        },
        "outputId": "673446d5-0b82-41c0-de15-1ce87acb9c12"
      },
      "source": [
        "df.security_deposit.value_counts()"
      ],
      "execution_count": null,
      "outputs": [
        {
          "output_type": "execute_result",
          "data": {
            "text/plain": [
              "3           123\n",
              "Drei         13\n",
              "Kaution:      7\n",
              "3-fache       5\n",
              "1600          3\n",
              "           ... \n",
              "1.554,00      1\n",
              "9025,50       1\n",
              "3905          1\n",
              "10500         1\n",
              "4552          1\n",
              "Name: security_deposit, Length: 216, dtype: int64"
            ]
          },
          "metadata": {
            "tags": []
          },
          "execution_count": 11
        }
      ]
    },
    {
      "cell_type": "markdown",
      "metadata": {
        "id": "uy8EeuYdbI-j"
      },
      "source": [
        "Some values clearly are an amount/ For example:"
      ]
    },
    {
      "cell_type": "code",
      "metadata": {
        "id": "i5V_frtibI-k",
        "colab": {
          "base_uri": "https://localhost:8080/"
        },
        "outputId": "72c3d1b9-caf3-4567-c613-0f246bf1c158"
      },
      "source": [
        "df.security_deposit[df.security_deposit.str.contains(\"€\").fillna(False)]"
      ],
      "execution_count": null,
      "outputs": [
        {
          "output_type": "execute_result",
          "data": {
            "text/plain": [
              "36        1.500€\n",
              "167       1.500€\n",
              "271    5.394,00€\n",
              "289        6600€\n",
              "393       3.597€\n",
              "403       3.750€\n",
              "405        5097€\n",
              "423    2.286,45€\n",
              "462      6570.0€\n",
              "464      6675.0€\n",
              "466      9333.0€\n",
              "469      9792.0€\n",
              "490     1074,60€\n",
              "507    4.698,00€\n",
              "545    4.197,00€\n",
              "697        €3500\n",
              "Name: security_deposit, dtype: object"
            ]
          },
          "metadata": {
            "tags": []
          },
          "execution_count": 12
        }
      ]
    },
    {
      "cell_type": "markdown",
      "metadata": {
        "id": "T4h_j3PwbI-n"
      },
      "source": [
        "Other values are impossible to interpret."
      ]
    },
    {
      "cell_type": "code",
      "metadata": {
        "id": "acvGtjm9bI-o",
        "colab": {
          "base_uri": "https://localhost:8080/"
        },
        "outputId": "f040606b-020c-4189-fe0c-1e28fa06e4c9"
      },
      "source": [
        "df.security_deposit[df.security_deposit.str.contains(\"Kaution\").fillna(False)]"
      ],
      "execution_count": null,
      "outputs": [
        {
          "output_type": "execute_result",
          "data": {
            "text/plain": [
              "420    Kaution:\n",
              "425    Kaution:\n",
              "429    Kaution:\n",
              "474    Kaution:\n",
              "475    Kaution:\n",
              "495     Kaution\n",
              "514    Kaution:\n",
              "515    Kaution:\n",
              "Name: security_deposit, dtype: object"
            ]
          },
          "metadata": {
            "tags": []
          },
          "execution_count": 13
        }
      ]
    },
    {
      "cell_type": "markdown",
      "metadata": {
        "id": "bBiXMHB6bI-q"
      },
      "source": [
        "Which values are numeric?"
      ]
    },
    {
      "cell_type": "markdown",
      "metadata": {
        "id": "5D9q1YNtbI-r"
      },
      "source": [
        "**First, let's remove the currency**"
      ]
    },
    {
      "cell_type": "code",
      "metadata": {
        "colab": {
          "base_uri": "https://localhost:8080/"
        },
        "id": "XAqezajNQziv",
        "outputId": "57cab71e-d3aa-4cca-fe0a-0511730b093b"
      },
      "source": [
        "type(str(np.nan))"
      ],
      "execution_count": null,
      "outputs": [
        {
          "output_type": "execute_result",
          "data": {
            "text/plain": [
              "str"
            ]
          },
          "metadata": {
            "tags": []
          },
          "execution_count": 16
        }
      ]
    },
    {
      "cell_type": "code",
      "metadata": {
        "id": "fR3D3jWdbI-r"
      },
      "source": [
        "def remove_strings(value, strings_to_remove):\n",
        "    \"\"\"\n",
        "    Remove strings in <strings_to_remove> from <value>. \n",
        "    Removes Euro/euro strings by default. \n",
        "    Assumes that each string occurs only once.\n",
        "    \"\"\"\n",
        "    \n",
        "    # return NaN if value is missing\n",
        "    if pd.isna(value): return np.nan\n",
        "    \n",
        "    # cast to string so that string methods work\n",
        "    value = str(value)\n",
        "    \n",
        "    # remove different strings\n",
        "    for string in strings_to_remove:\n",
        "        value = value.lower().replace(string, '').strip()\n",
        "    \n",
        "    return value"
      ],
      "execution_count": null,
      "outputs": []
    },
    {
      "cell_type": "code",
      "metadata": {
        "id": "Vr9aPAWGbI-u"
      },
      "source": [
        "df['security_deposit'] = df.security_deposit.apply(remove_strings, args=(['€', 'Euro'],)).astype(str)"
      ],
      "execution_count": null,
      "outputs": []
    },
    {
      "cell_type": "code",
      "metadata": {
        "id": "dHj-3mqfbI-w",
        "colab": {
          "base_uri": "https://localhost:8080/"
        },
        "outputId": "cd4e61ea-f547-4cdb-aa80-16edf82d155b"
      },
      "source": [
        "df.security_deposit.unique()"
      ],
      "execution_count": null,
      "outputs": [
        {
          "output_type": "execute_result",
          "data": {
            "text/plain": [
              "array(['3', '2920,53', 'drei', 'nan', '2400', '3507.42', '2000',\n",
              "       '2139.78', '5.397,00', '3885,00', '7.950,00', '4152', '4.650,00',\n",
              "       '1.500', '3x', '9.150,-', '4.545', '2xnkm', '6.900,00', '5.994,00',\n",
              "       '6.000,-', '7.470,00', '5.172,00', '2.145,00', '6.215,70',\n",
              "       '11.475,00', '14.850,00', '4.197,00', '2600,00', '12.900,00', '2',\n",
              "       '3450', '5000', '10.000', '3620', '1690', '1790', 'ja', '2990',\n",
              "       '1490', '9.960,00', '3159,00', '4.350,00', '5010', '4333,90',\n",
              "       '3000', '2.013,00', '2841', '4000', '2850.72', '3300.75', '2344',\n",
              "       '3645,00', '2397', '4500', '9.718,00', '3.597,00', '3900',\n",
              "       '3.780,00', '4800', '3.582', '3630', '2549.79', '3831', '2.274,00',\n",
              "       '2850', '2960', '4.680', '4350', '3500', '4080', '4050', '2338',\n",
              "       '5940,00', '8100', '3.859,17', '2.630,43', '6552', '2.700,00',\n",
              "       '1797,00', '3345', '3360', '5148', '2472', '12.000,00', '6.300,00',\n",
              "       '5.394,00', '1.554,00', '6600', '1.727,76', '9025,50', '3.750,00',\n",
              "       '7575', '7.650,00', '5.355,00', '5850', '4.170,00', '2340,00',\n",
              "       '5910', '6330', '5670', '1.485,00', '3.597', '3584,82', '5.421,00',\n",
              "       '3.750', '5097', '3-fache', '5196,60', 'kaution:', '2500', '2115',\n",
              "       '2.286,45', '1600', '1200,00', '6150,00', '4650', '10500', '2426',\n",
              "       '3450,00', '2.040,00', '2.085,00', '6570.0', '6675.0', '9333.0',\n",
              "       '6.945,00', '9792.0', '3973', '1000,00', '2250,00', '1755,00',\n",
              "       '4650,00', '1074,60', '3.900,00', 'kaution', '1.974,00', '3685',\n",
              "       '2253', '3230', '5775,00', '4.698,00', '3158', '1688,40',\n",
              "       '1695,48', '5.506,20', '2564', '4258', '8382,24', '2958', '3354',\n",
              "       '5400', '3.133,00', '4.104,00', '4263', '3423', '3550', '2318',\n",
              "       '2268', '2315', '3334', '3533', '3548', '3544', '2297', '3502',\n",
              "       '3437', '2262', '3461', '3482', '4300', '5700', '3167', '3706',\n",
              "       '4409', '2795', '3058', '3028', '3088', '4976', '13200,00', '4264',\n",
              "       '5.508,00', '15300,00', '3087', '3627', '3188', '8160,00', '3204',\n",
              "       '2,5', '3762', '3684,00', '3355', '4552', '4519', '3.141,69',\n",
              "       '3154', '4271', '3630,00', '4.338', '3059', '4.047,00', '3543',\n",
              "       '3.297,00', '3007', '4326', '3905', '4759', '3747', '3745',\n",
              "       '2.000,00', '3nkm', '4197', '3.237,00', '1.542,00'], dtype=object)"
            ]
          },
          "metadata": {
            "tags": []
          },
          "execution_count": 19
        }
      ]
    },
    {
      "cell_type": "markdown",
      "metadata": {
        "id": "4e3K78iWbI-y"
      },
      "source": [
        "**Now, we need to convert the decimal into something a computer can better read**"
      ]
    },
    {
      "cell_type": "code",
      "metadata": {
        "id": "GcPJ1zkhbI-z"
      },
      "source": [
        "def convert_string_to_float(value):\n",
        "    \"\"\"Replace a period with empty stringm and comma with period (decimal point).\"\"\"\n",
        "    return value.replace(\".\", \"\").replace(\",\", \".\")\n",
        "\n",
        "\n",
        "def convert_decimal(value):\n",
        "    \"\"\"Convert numeric string to a decimal number.\"\"\"\n",
        "    \n",
        "    # return NaN if missing\n",
        "    if pd.isna(value):\n",
        "        return np.nan       \n",
        "    \n",
        "    # check if wrong format w/o decimal i.e. 3.500\n",
        "    if len(value.split('.')[-1]) == 3:\n",
        "        return convert_string_to_float(value)\n",
        "    \n",
        "    # convert to float\n",
        "    try:                               \n",
        "        return float(value)\n",
        "    except:\n",
        "        return convert_string_to_float(value)"
      ],
      "execution_count": null,
      "outputs": []
    },
    {
      "cell_type": "code",
      "metadata": {
        "id": "jfdRe96JbI-1"
      },
      "source": [
        "df['security_deposit'] = df.security_deposit.apply(convert_decimal)"
      ],
      "execution_count": null,
      "outputs": []
    },
    {
      "cell_type": "code",
      "metadata": {
        "id": "dRiZo2jYbI-3",
        "colab": {
          "base_uri": "https://localhost:8080/"
        },
        "outputId": "4f44ae21-3722-4bbb-fdc0-6415807a4c2e"
      },
      "source": [
        "df.security_deposit.unique()"
      ],
      "execution_count": null,
      "outputs": [
        {
          "output_type": "execute_result",
          "data": {
            "text/plain": [
              "array([3.0, '2920.53', 'drei', 'nan', 2400.0, 3507.42, 2000.0, 2139.78,\n",
              "       '5397.00', '3885.00', '7950.00', 4152.0, '4650.00', '1500', '3x',\n",
              "       '9150.-', '4545', '2xnkm', '6900.00', '5994.00', '6000.-',\n",
              "       '7470.00', '5172.00', '2145.00', '6215.70', '11475.00', '14850.00',\n",
              "       '4197.00', '2600.00', '12900.00', 2.0, 3450.0, 5000.0, '10000',\n",
              "       3620.0, 1690.0, 1790.0, 'ja', 2990.0, 1490.0, '9960.00', '3159.00',\n",
              "       '4350.00', 5010.0, '4333.90', 3000.0, '2013.00', 2841.0, 4000.0,\n",
              "       2850.72, 3300.75, 2344.0, '3645.00', 2397.0, 4500.0, '9718.00',\n",
              "       '3597.00', 3900.0, '3780.00', 4800.0, '3582', 3630.0, 2549.79,\n",
              "       3831.0, '2274.00', 2850.0, 2960.0, '4680', 4350.0, 3500.0, 4080.0,\n",
              "       4050.0, 2338.0, '5940.00', 8100.0, '3859.17', '2630.43', 6552.0,\n",
              "       '2700.00', '1797.00', 3345.0, 3360.0, 5148.0, 2472.0, '12000.00',\n",
              "       '6300.00', '5394.00', '1554.00', 6600.0, '1727.76', '9025.50',\n",
              "       '3750.00', 7575.0, '7650.00', '5355.00', 5850.0, '4170.00',\n",
              "       '2340.00', 5910.0, 6330.0, 5670.0, '1485.00', '3597', '3584.82',\n",
              "       '5421.00', '3750', 5097.0, '3-fache', '5196.60', 'kaution:',\n",
              "       2500.0, 2115.0, '2286.45', 1600.0, '1200.00', '6150.00', 4650.0,\n",
              "       10500.0, 2426.0, '3450.00', '2040.00', '2085.00', 6570.0, 6675.0,\n",
              "       9333.0, '6945.00', 9792.0, 3973.0, '1000.00', '2250.00', '1755.00',\n",
              "       '1074.60', '3900.00', 'kaution', '1974.00', 3685.0, 2253.0, 3230.0,\n",
              "       '5775.00', '4698.00', 3158.0, '1688.40', '1695.48', '5506.20',\n",
              "       2564.0, 4258.0, '8382.24', 2958.0, 3354.0, 5400.0, '3133.00',\n",
              "       '4104.00', 4263.0, 3423.0, 3550.0, 2318.0, 2268.0, 2315.0, 3334.0,\n",
              "       3533.0, 3548.0, 3544.0, 2297.0, 3502.0, 3437.0, 2262.0, 3461.0,\n",
              "       3482.0, 4300.0, 5700.0, 3167.0, 3706.0, 4409.0, 2795.0, 3058.0,\n",
              "       3028.0, 3088.0, 4976.0, '13200.00', 4264.0, '5508.00', '15300.00',\n",
              "       3087.0, 3627.0, 3188.0, '8160.00', 3204.0, '2.5', 3762.0,\n",
              "       '3684.00', 3355.0, 4552.0, 4519.0, '3141.69', 3154.0, 4271.0,\n",
              "       '3630.00', '4338', 3059.0, '4047.00', 3543.0, '3297.00', 3007.0,\n",
              "       4326.0, 3905.0, 4759.0, 3747.0, 3745.0, '2000.00', '3nkm', 4197.0,\n",
              "       '3237.00', '1542.00'], dtype=object)"
            ]
          },
          "metadata": {
            "tags": []
          },
          "execution_count": 22
        }
      ]
    },
    {
      "cell_type": "code",
      "metadata": {
        "colab": {
          "base_uri": "https://localhost:8080/"
        },
        "id": "L6XpUkDdSD7-",
        "outputId": "57f446b1-b2f9-4193-d99f-b82f7920c639"
      },
      "source": [
        "df.rent.isnull().sum()"
      ],
      "execution_count": null,
      "outputs": [
        {
          "output_type": "execute_result",
          "data": {
            "text/plain": [
              "0"
            ]
          },
          "metadata": {
            "tags": []
          },
          "execution_count": 24
        }
      ]
    },
    {
      "cell_type": "markdown",
      "metadata": {
        "id": "YI3psNl2bI-6"
      },
      "source": [
        "**And now, let's get a list of non-numeric values**"
      ]
    },
    {
      "cell_type": "code",
      "metadata": {
        "id": "GwSjFunKbI-6",
        "colab": {
          "base_uri": "https://localhost:8080/"
        },
        "outputId": "112595aa-f8a9-492d-e58a-2e1ee5cb1712"
      },
      "source": [
        "def is_float(value):\n",
        "    try:\n",
        "        float(value)\n",
        "        return True\n",
        "    except:\n",
        "        return False\n",
        "\n",
        "df.security_deposit[df.security_deposit.apply(lambda x: not is_float(x))].unique()"
      ],
      "execution_count": null,
      "outputs": [
        {
          "output_type": "execute_result",
          "data": {
            "text/plain": [
              "array(['drei', '3x', '9150.-', '2xnkm', '6000.-', 'ja', '3-fache',\n",
              "       'kaution:', 'kaution', '3nkm'], dtype=object)"
            ]
          },
          "metadata": {
            "tags": []
          },
          "execution_count": 25
        }
      ]
    },
    {
      "cell_type": "markdown",
      "metadata": {
        "id": "VUFeofyMbI-9"
      },
      "source": [
        "**Build a map of what the values should be. This is manually set because it's a small amount of data.**"
      ]
    },
    {
      "cell_type": "code",
      "metadata": {
        "id": "HdsUIIfabI-9"
      },
      "source": [
        "str_security_deposit_map = {\n",
        "    'drei': '3',\n",
        "    '3x': '3',\n",
        "    '9150.-': 9150,\n",
        "    '2xnkm': '2',\n",
        "    '6000.-': 6000,\n",
        "    '3-fache': '3',\n",
        "    '3nkm': '3',    \n",
        "}\n",
        "\n",
        "str_security_deposit_unclear = ['ja', 'kaution', 'kaution:']"
      ],
      "execution_count": null,
      "outputs": []
    },
    {
      "cell_type": "code",
      "metadata": {
        "id": "-WI-rXv7bI_A"
      },
      "source": [
        "df['security_deposit'] = df.security_deposit.apply(lambda x: str_security_deposit_map.get(x, x))"
      ],
      "execution_count": null,
      "outputs": []
    },
    {
      "cell_type": "code",
      "metadata": {
        "id": "I5obd8DTbI_D",
        "colab": {
          "base_uri": "https://localhost:8080/"
        },
        "outputId": "54f2c682-da08-4fbb-f5cf-075599124b3e"
      },
      "source": [
        "df.security_deposit.unique()"
      ],
      "execution_count": null,
      "outputs": [
        {
          "output_type": "execute_result",
          "data": {
            "text/plain": [
              "array([3.0, '2920.53', '3', 'nan', 2400.0, 3507.42, 2000.0, 2139.78,\n",
              "       '5397.00', '3885.00', '7950.00', 4152.0, '4650.00', '1500', 9150,\n",
              "       '4545', '2', '6900.00', '5994.00', 6000, '7470.00', '5172.00',\n",
              "       '2145.00', '6215.70', '11475.00', '14850.00', '4197.00', '2600.00',\n",
              "       '12900.00', 2.0, 3450.0, 5000.0, '10000', 3620.0, 1690.0, 1790.0,\n",
              "       'ja', 2990.0, 1490.0, '9960.00', '3159.00', '4350.00', 5010.0,\n",
              "       '4333.90', 3000.0, '2013.00', 2841.0, 4000.0, 2850.72, 3300.75,\n",
              "       2344.0, '3645.00', 2397.0, 4500.0, '9718.00', '3597.00', 3900.0,\n",
              "       '3780.00', 4800.0, '3582', 3630.0, 2549.79, 3831.0, '2274.00',\n",
              "       2850.0, 2960.0, '4680', 4350.0, 3500.0, 4080.0, 4050.0, 2338.0,\n",
              "       '5940.00', 8100.0, '3859.17', '2630.43', 6552.0, '2700.00',\n",
              "       '1797.00', 3345.0, 3360.0, 5148.0, 2472.0, '12000.00', '6300.00',\n",
              "       '5394.00', '1554.00', 6600.0, '1727.76', '9025.50', '3750.00',\n",
              "       7575.0, '7650.00', '5355.00', 5850.0, '4170.00', '2340.00', 5910.0,\n",
              "       6330.0, 5670.0, '1485.00', '3597', '3584.82', '5421.00', '3750',\n",
              "       5097.0, '5196.60', 'kaution:', 2500.0, 2115.0, '2286.45', 1600.0,\n",
              "       '1200.00', '6150.00', 4650.0, 10500.0, 2426.0, '3450.00',\n",
              "       '2040.00', '2085.00', 6570.0, 6675.0, 9333.0, '6945.00', 9792.0,\n",
              "       3973.0, '1000.00', '2250.00', '1755.00', '1074.60', '3900.00',\n",
              "       'kaution', '1974.00', 3685.0, 2253.0, 3230.0, '5775.00', '4698.00',\n",
              "       3158.0, '1688.40', '1695.48', '5506.20', 2564.0, 4258.0, '8382.24',\n",
              "       2958.0, 3354.0, 5400.0, '3133.00', '4104.00', 4263.0, 3423.0,\n",
              "       3550.0, 2318.0, 2268.0, 2315.0, 3334.0, 3533.0, 3548.0, 3544.0,\n",
              "       2297.0, 3502.0, 3437.0, 2262.0, 3461.0, 3482.0, 4300.0, 5700.0,\n",
              "       3167.0, 3706.0, 4409.0, 2795.0, 3058.0, 3028.0, 3088.0, 4976.0,\n",
              "       '13200.00', 4264.0, '5508.00', '15300.00', 3087.0, 3627.0, 3188.0,\n",
              "       '8160.00', 3204.0, '2.5', 3762.0, '3684.00', 3355.0, 4552.0,\n",
              "       4519.0, '3141.69', 3154.0, 4271.0, '3630.00', '4338', 3059.0,\n",
              "       '4047.00', 3543.0, '3297.00', 3007.0, 4326.0, 3905.0, 4759.0,\n",
              "       3747.0, 3745.0, '2000.00', 4197.0, '3237.00', '1542.00'],\n",
              "      dtype=object)"
            ]
          },
          "metadata": {
            "tags": []
          },
          "execution_count": 28
        }
      ]
    },
    {
      "cell_type": "code",
      "metadata": {
        "id": "oNUvcUThbI_I",
        "colab": {
          "base_uri": "https://localhost:8080/"
        },
        "outputId": "a7a63b9f-044f-46e7-96bc-856c225fd773"
      },
      "source": [
        "def convert_to_float(value):\n",
        "    if is_float(value):\n",
        "        return float(value)\n",
        "    else:\n",
        "        return np.nan\n",
        "\n",
        "# Not storing in df, just want to see output\n",
        "df.security_deposit[df.security_deposit.apply(lambda x: convert_to_float(x)) <= 3].value_counts()"
      ],
      "execution_count": null,
      "outputs": [
        {
          "output_type": "execute_result",
          "data": {
            "text/plain": [
              "3.0    123\n",
              "3       21\n",
              "2        2\n",
              "2.0      2\n",
              "2.5      1\n",
              "Name: security_deposit, dtype: int64"
            ]
          },
          "metadata": {
            "tags": []
          },
          "execution_count": 30
        }
      ]
    },
    {
      "cell_type": "markdown",
      "metadata": {
        "id": "eErOOWPFbI_K"
      },
      "source": [
        "Let's assume that the unclear values are three months, as it is the most common option."
      ]
    },
    {
      "cell_type": "code",
      "metadata": {
        "id": "asC9OpKNbI_K"
      },
      "source": [
        "unclear_security_deposit_map = {str_security_deposit: '3' for str_security_deposit in str_security_deposit_unclear}"
      ],
      "execution_count": null,
      "outputs": []
    },
    {
      "cell_type": "code",
      "metadata": {
        "id": "9BbMjRCUbI_M"
      },
      "source": [
        "df['security_deposit'] = df.security_deposit.apply(lambda x: unclear_security_deposit_map.get(x, x))"
      ],
      "execution_count": null,
      "outputs": []
    },
    {
      "cell_type": "code",
      "metadata": {
        "id": "VX7Ow3hWbI_P",
        "colab": {
          "base_uri": "https://localhost:8080/"
        },
        "outputId": "4daec14f-f17d-4a39-f691-2f326acd4e9e"
      },
      "source": [
        "df.security_deposit.unique()"
      ],
      "execution_count": null,
      "outputs": [
        {
          "output_type": "execute_result",
          "data": {
            "text/plain": [
              "array([3.0, '2920.53', '3', 'nan', 2400.0, 3507.42, 2000.0, 2139.78,\n",
              "       '5397.00', '3885.00', '7950.00', 4152.0, '4650.00', '1500', 9150,\n",
              "       '4545', '2', '6900.00', '5994.00', 6000, '7470.00', '5172.00',\n",
              "       '2145.00', '6215.70', '11475.00', '14850.00', '4197.00', '2600.00',\n",
              "       '12900.00', 2.0, 3450.0, 5000.0, '10000', 3620.0, 1690.0, 1790.0,\n",
              "       2990.0, 1490.0, '9960.00', '3159.00', '4350.00', 5010.0, '4333.90',\n",
              "       3000.0, '2013.00', 2841.0, 4000.0, 2850.72, 3300.75, 2344.0,\n",
              "       '3645.00', 2397.0, 4500.0, '9718.00', '3597.00', 3900.0, '3780.00',\n",
              "       4800.0, '3582', 3630.0, 2549.79, 3831.0, '2274.00', 2850.0, 2960.0,\n",
              "       '4680', 4350.0, 3500.0, 4080.0, 4050.0, 2338.0, '5940.00', 8100.0,\n",
              "       '3859.17', '2630.43', 6552.0, '2700.00', '1797.00', 3345.0, 3360.0,\n",
              "       5148.0, 2472.0, '12000.00', '6300.00', '5394.00', '1554.00',\n",
              "       6600.0, '1727.76', '9025.50', '3750.00', 7575.0, '7650.00',\n",
              "       '5355.00', 5850.0, '4170.00', '2340.00', 5910.0, 6330.0, 5670.0,\n",
              "       '1485.00', '3597', '3584.82', '5421.00', '3750', 5097.0, '5196.60',\n",
              "       2500.0, 2115.0, '2286.45', 1600.0, '1200.00', '6150.00', 4650.0,\n",
              "       10500.0, 2426.0, '3450.00', '2040.00', '2085.00', 6570.0, 6675.0,\n",
              "       9333.0, '6945.00', 9792.0, 3973.0, '1000.00', '2250.00', '1755.00',\n",
              "       '1074.60', '3900.00', '1974.00', 3685.0, 2253.0, 3230.0, '5775.00',\n",
              "       '4698.00', 3158.0, '1688.40', '1695.48', '5506.20', 2564.0, 4258.0,\n",
              "       '8382.24', 2958.0, 3354.0, 5400.0, '3133.00', '4104.00', 4263.0,\n",
              "       3423.0, 3550.0, 2318.0, 2268.0, 2315.0, 3334.0, 3533.0, 3548.0,\n",
              "       3544.0, 2297.0, 3502.0, 3437.0, 2262.0, 3461.0, 3482.0, 4300.0,\n",
              "       5700.0, 3167.0, 3706.0, 4409.0, 2795.0, 3058.0, 3028.0, 3088.0,\n",
              "       4976.0, '13200.00', 4264.0, '5508.00', '15300.00', 3087.0, 3627.0,\n",
              "       3188.0, '8160.00', 3204.0, '2.5', 3762.0, '3684.00', 3355.0,\n",
              "       4552.0, 4519.0, '3141.69', 3154.0, 4271.0, '3630.00', '4338',\n",
              "       3059.0, '4047.00', 3543.0, '3297.00', 3007.0, 4326.0, 3905.0,\n",
              "       4759.0, 3747.0, 3745.0, '2000.00', 4197.0, '3237.00', '1542.00'],\n",
              "      dtype=object)"
            ]
          },
          "metadata": {
            "tags": []
          },
          "execution_count": 33
        }
      ]
    },
    {
      "cell_type": "markdown",
      "metadata": {
        "id": "G8ygO5OFbI_S"
      },
      "source": [
        "The values 1, 2 and 3 refer to the number of months rent as deposit, so let's calculate those values by multiplying with the rent"
      ]
    },
    {
      "cell_type": "code",
      "metadata": {
        "id": "-bqQkaErbI_S",
        "colab": {
          "base_uri": "https://localhost:8080/"
        },
        "outputId": "2cf70e23-20ca-4c70-9e99-f29e800e5834"
      },
      "source": [
        "df.rent.dtype"
      ],
      "execution_count": null,
      "outputs": [
        {
          "output_type": "execute_result",
          "data": {
            "text/plain": [
              "dtype('float64')"
            ]
          },
          "metadata": {
            "tags": []
          },
          "execution_count": 34
        }
      ]
    },
    {
      "cell_type": "markdown",
      "metadata": {
        "id": "CwVdGYwdbI_V"
      },
      "source": [
        "**Now, convert the month duration columns (3/2/etc Months) to an actual value, based on the rent**"
      ]
    },
    {
      "cell_type": "code",
      "metadata": {
        "id": "Sd9JCZVQbI_V"
      },
      "source": [
        "def convert_months_to_total(row):\n",
        "    fl_dep = convert_to_float(row.security_deposit)\n",
        "    if fl_dep <= 3:\n",
        "        return float(row.rent * fl_dep)\n",
        "    else:\n",
        "        return fl_dep"
      ],
      "execution_count": null,
      "outputs": []
    },
    {
      "cell_type": "code",
      "metadata": {
        "id": "XVrilxfmbI_X",
        "colab": {
          "base_uri": "https://localhost:8080/",
          "height": 1000
        },
        "outputId": "810b4b23-9f1b-47d7-9e00-50f2d03773d0"
      },
      "source": [
        "df = df.assign(deposit_cleaned=df.apply(convert_months_to_total, axis = 1))\n",
        "\n",
        "df[[\"security_deposit\", \"deposit_cleaned\", \"rent\"]].head(50)"
      ],
      "execution_count": null,
      "outputs": [
        {
          "output_type": "execute_result",
          "data": {
            "text/html": [
              "<div>\n",
              "<style scoped>\n",
              "    .dataframe tbody tr th:only-of-type {\n",
              "        vertical-align: middle;\n",
              "    }\n",
              "\n",
              "    .dataframe tbody tr th {\n",
              "        vertical-align: top;\n",
              "    }\n",
              "\n",
              "    .dataframe thead th {\n",
              "        text-align: right;\n",
              "    }\n",
              "</style>\n",
              "<table border=\"1\" class=\"dataframe\">\n",
              "  <thead>\n",
              "    <tr style=\"text-align: right;\">\n",
              "      <th></th>\n",
              "      <th>security_deposit</th>\n",
              "      <th>deposit_cleaned</th>\n",
              "      <th>rent</th>\n",
              "    </tr>\n",
              "  </thead>\n",
              "  <tbody>\n",
              "    <tr>\n",
              "      <th>0</th>\n",
              "      <td>3</td>\n",
              "      <td>7977.00</td>\n",
              "      <td>2659.00</td>\n",
              "    </tr>\n",
              "    <tr>\n",
              "      <th>1</th>\n",
              "      <td>2920.53</td>\n",
              "      <td>2920.53</td>\n",
              "      <td>1200.00</td>\n",
              "    </tr>\n",
              "    <tr>\n",
              "      <th>2</th>\n",
              "      <td>3</td>\n",
              "      <td>2937.00</td>\n",
              "      <td>979.00</td>\n",
              "    </tr>\n",
              "    <tr>\n",
              "      <th>3</th>\n",
              "      <td>nan</td>\n",
              "      <td>NaN</td>\n",
              "      <td>1830.22</td>\n",
              "    </tr>\n",
              "    <tr>\n",
              "      <th>4</th>\n",
              "      <td>nan</td>\n",
              "      <td>NaN</td>\n",
              "      <td>2272.00</td>\n",
              "    </tr>\n",
              "    <tr>\n",
              "      <th>5</th>\n",
              "      <td>3</td>\n",
              "      <td>2520.00</td>\n",
              "      <td>840.00</td>\n",
              "    </tr>\n",
              "    <tr>\n",
              "      <th>6</th>\n",
              "      <td>nan</td>\n",
              "      <td>NaN</td>\n",
              "      <td>1509.45</td>\n",
              "    </tr>\n",
              "    <tr>\n",
              "      <th>7</th>\n",
              "      <td>3</td>\n",
              "      <td>2192.19</td>\n",
              "      <td>730.73</td>\n",
              "    </tr>\n",
              "    <tr>\n",
              "      <th>8</th>\n",
              "      <td>3</td>\n",
              "      <td>1685.79</td>\n",
              "      <td>561.93</td>\n",
              "    </tr>\n",
              "    <tr>\n",
              "      <th>9</th>\n",
              "      <td>3</td>\n",
              "      <td>5367.00</td>\n",
              "      <td>1789.00</td>\n",
              "    </tr>\n",
              "    <tr>\n",
              "      <th>10</th>\n",
              "      <td>nan</td>\n",
              "      <td>NaN</td>\n",
              "      <td>2499.00</td>\n",
              "    </tr>\n",
              "    <tr>\n",
              "      <th>11</th>\n",
              "      <td>nan</td>\n",
              "      <td>NaN</td>\n",
              "      <td>2328.00</td>\n",
              "    </tr>\n",
              "    <tr>\n",
              "      <th>12</th>\n",
              "      <td>3</td>\n",
              "      <td>7500.00</td>\n",
              "      <td>2500.00</td>\n",
              "    </tr>\n",
              "    <tr>\n",
              "      <th>13</th>\n",
              "      <td>3</td>\n",
              "      <td>19350.00</td>\n",
              "      <td>6450.00</td>\n",
              "    </tr>\n",
              "    <tr>\n",
              "      <th>14</th>\n",
              "      <td>2400</td>\n",
              "      <td>2400.00</td>\n",
              "      <td>1399.65</td>\n",
              "    </tr>\n",
              "    <tr>\n",
              "      <th>15</th>\n",
              "      <td>3</td>\n",
              "      <td>4516.80</td>\n",
              "      <td>1505.60</td>\n",
              "    </tr>\n",
              "    <tr>\n",
              "      <th>16</th>\n",
              "      <td>3507.42</td>\n",
              "      <td>3507.42</td>\n",
              "      <td>1429.10</td>\n",
              "    </tr>\n",
              "    <tr>\n",
              "      <th>17</th>\n",
              "      <td>2000</td>\n",
              "      <td>2000.00</td>\n",
              "      <td>930.00</td>\n",
              "    </tr>\n",
              "    <tr>\n",
              "      <th>18</th>\n",
              "      <td>2139.78</td>\n",
              "      <td>2139.78</td>\n",
              "      <td>868.06</td>\n",
              "    </tr>\n",
              "    <tr>\n",
              "      <th>19</th>\n",
              "      <td>5397.00</td>\n",
              "      <td>5397.00</td>\n",
              "      <td>2179.00</td>\n",
              "    </tr>\n",
              "    <tr>\n",
              "      <th>20</th>\n",
              "      <td>nan</td>\n",
              "      <td>NaN</td>\n",
              "      <td>1829.00</td>\n",
              "    </tr>\n",
              "    <tr>\n",
              "      <th>21</th>\n",
              "      <td>3885.00</td>\n",
              "      <td>3885.00</td>\n",
              "      <td>1589.00</td>\n",
              "    </tr>\n",
              "    <tr>\n",
              "      <th>22</th>\n",
              "      <td>nan</td>\n",
              "      <td>NaN</td>\n",
              "      <td>1831.00</td>\n",
              "    </tr>\n",
              "    <tr>\n",
              "      <th>23</th>\n",
              "      <td>nan</td>\n",
              "      <td>NaN</td>\n",
              "      <td>1060.00</td>\n",
              "    </tr>\n",
              "    <tr>\n",
              "      <th>24</th>\n",
              "      <td>7950.00</td>\n",
              "      <td>7950.00</td>\n",
              "      <td>3103.00</td>\n",
              "    </tr>\n",
              "    <tr>\n",
              "      <th>25</th>\n",
              "      <td>4152</td>\n",
              "      <td>4152.00</td>\n",
              "      <td>1619.00</td>\n",
              "    </tr>\n",
              "    <tr>\n",
              "      <th>26</th>\n",
              "      <td>nan</td>\n",
              "      <td>NaN</td>\n",
              "      <td>715.00</td>\n",
              "    </tr>\n",
              "    <tr>\n",
              "      <th>27</th>\n",
              "      <td>nan</td>\n",
              "      <td>NaN</td>\n",
              "      <td>1237.83</td>\n",
              "    </tr>\n",
              "    <tr>\n",
              "      <th>28</th>\n",
              "      <td>nan</td>\n",
              "      <td>NaN</td>\n",
              "      <td>2290.00</td>\n",
              "    </tr>\n",
              "    <tr>\n",
              "      <th>29</th>\n",
              "      <td>4650.00</td>\n",
              "      <td>4650.00</td>\n",
              "      <td>1810.00</td>\n",
              "    </tr>\n",
              "    <tr>\n",
              "      <th>30</th>\n",
              "      <td>nan</td>\n",
              "      <td>NaN</td>\n",
              "      <td>2320.00</td>\n",
              "    </tr>\n",
              "    <tr>\n",
              "      <th>31</th>\n",
              "      <td>nan</td>\n",
              "      <td>NaN</td>\n",
              "      <td>2230.00</td>\n",
              "    </tr>\n",
              "    <tr>\n",
              "      <th>32</th>\n",
              "      <td>nan</td>\n",
              "      <td>NaN</td>\n",
              "      <td>2155.00</td>\n",
              "    </tr>\n",
              "    <tr>\n",
              "      <th>33</th>\n",
              "      <td>nan</td>\n",
              "      <td>NaN</td>\n",
              "      <td>2660.90</td>\n",
              "    </tr>\n",
              "    <tr>\n",
              "      <th>34</th>\n",
              "      <td>nan</td>\n",
              "      <td>NaN</td>\n",
              "      <td>1427.82</td>\n",
              "    </tr>\n",
              "    <tr>\n",
              "      <th>35</th>\n",
              "      <td>nan</td>\n",
              "      <td>NaN</td>\n",
              "      <td>3170.00</td>\n",
              "    </tr>\n",
              "    <tr>\n",
              "      <th>36</th>\n",
              "      <td>1500</td>\n",
              "      <td>1500.00</td>\n",
              "      <td>999.00</td>\n",
              "    </tr>\n",
              "    <tr>\n",
              "      <th>37</th>\n",
              "      <td>3</td>\n",
              "      <td>2547.72</td>\n",
              "      <td>849.24</td>\n",
              "    </tr>\n",
              "    <tr>\n",
              "      <th>38</th>\n",
              "      <td>3</td>\n",
              "      <td>1974.33</td>\n",
              "      <td>658.11</td>\n",
              "    </tr>\n",
              "    <tr>\n",
              "      <th>39</th>\n",
              "      <td>nan</td>\n",
              "      <td>NaN</td>\n",
              "      <td>1340.00</td>\n",
              "    </tr>\n",
              "    <tr>\n",
              "      <th>40</th>\n",
              "      <td>nan</td>\n",
              "      <td>NaN</td>\n",
              "      <td>2433.00</td>\n",
              "    </tr>\n",
              "    <tr>\n",
              "      <th>41</th>\n",
              "      <td>nan</td>\n",
              "      <td>NaN</td>\n",
              "      <td>3275.00</td>\n",
              "    </tr>\n",
              "    <tr>\n",
              "      <th>42</th>\n",
              "      <td>3</td>\n",
              "      <td>933.12</td>\n",
              "      <td>311.04</td>\n",
              "    </tr>\n",
              "    <tr>\n",
              "      <th>43</th>\n",
              "      <td>9150</td>\n",
              "      <td>9150.00</td>\n",
              "      <td>3677.70</td>\n",
              "    </tr>\n",
              "    <tr>\n",
              "      <th>44</th>\n",
              "      <td>4545</td>\n",
              "      <td>4545.00</td>\n",
              "      <td>1740.00</td>\n",
              "    </tr>\n",
              "    <tr>\n",
              "      <th>45</th>\n",
              "      <td>2</td>\n",
              "      <td>2809.32</td>\n",
              "      <td>1404.66</td>\n",
              "    </tr>\n",
              "    <tr>\n",
              "      <th>46</th>\n",
              "      <td>nan</td>\n",
              "      <td>NaN</td>\n",
              "      <td>772.00</td>\n",
              "    </tr>\n",
              "    <tr>\n",
              "      <th>47</th>\n",
              "      <td>nan</td>\n",
              "      <td>NaN</td>\n",
              "      <td>479.87</td>\n",
              "    </tr>\n",
              "    <tr>\n",
              "      <th>48</th>\n",
              "      <td>2</td>\n",
              "      <td>3706.66</td>\n",
              "      <td>1853.33</td>\n",
              "    </tr>\n",
              "    <tr>\n",
              "      <th>49</th>\n",
              "      <td>3</td>\n",
              "      <td>1533.45</td>\n",
              "      <td>511.15</td>\n",
              "    </tr>\n",
              "  </tbody>\n",
              "</table>\n",
              "</div>"
            ],
            "text/plain": [
              "   security_deposit  deposit_cleaned     rent\n",
              "0                 3          7977.00  2659.00\n",
              "1           2920.53          2920.53  1200.00\n",
              "2                 3          2937.00   979.00\n",
              "3               nan              NaN  1830.22\n",
              "4               nan              NaN  2272.00\n",
              "5                 3          2520.00   840.00\n",
              "6               nan              NaN  1509.45\n",
              "7                 3          2192.19   730.73\n",
              "8                 3          1685.79   561.93\n",
              "9                 3          5367.00  1789.00\n",
              "10              nan              NaN  2499.00\n",
              "11              nan              NaN  2328.00\n",
              "12                3          7500.00  2500.00\n",
              "13                3         19350.00  6450.00\n",
              "14             2400          2400.00  1399.65\n",
              "15                3          4516.80  1505.60\n",
              "16          3507.42          3507.42  1429.10\n",
              "17             2000          2000.00   930.00\n",
              "18          2139.78          2139.78   868.06\n",
              "19          5397.00          5397.00  2179.00\n",
              "20              nan              NaN  1829.00\n",
              "21          3885.00          3885.00  1589.00\n",
              "22              nan              NaN  1831.00\n",
              "23              nan              NaN  1060.00\n",
              "24          7950.00          7950.00  3103.00\n",
              "25             4152          4152.00  1619.00\n",
              "26              nan              NaN   715.00\n",
              "27              nan              NaN  1237.83\n",
              "28              nan              NaN  2290.00\n",
              "29          4650.00          4650.00  1810.00\n",
              "30              nan              NaN  2320.00\n",
              "31              nan              NaN  2230.00\n",
              "32              nan              NaN  2155.00\n",
              "33              nan              NaN  2660.90\n",
              "34              nan              NaN  1427.82\n",
              "35              nan              NaN  3170.00\n",
              "36             1500          1500.00   999.00\n",
              "37                3          2547.72   849.24\n",
              "38                3          1974.33   658.11\n",
              "39              nan              NaN  1340.00\n",
              "40              nan              NaN  2433.00\n",
              "41              nan              NaN  3275.00\n",
              "42                3           933.12   311.04\n",
              "43             9150          9150.00  3677.70\n",
              "44             4545          4545.00  1740.00\n",
              "45                2          2809.32  1404.66\n",
              "46              nan              NaN   772.00\n",
              "47              nan              NaN   479.87\n",
              "48                2          3706.66  1853.33\n",
              "49                3          1533.45   511.15"
            ]
          },
          "metadata": {
            "tags": []
          },
          "execution_count": 36
        }
      ]
    },
    {
      "cell_type": "markdown",
      "metadata": {
        "id": "fUoDxbKabI_Z"
      },
      "source": [
        "#### Check Distribution and Descriptive Stats"
      ]
    },
    {
      "cell_type": "code",
      "metadata": {
        "colab": {
          "base_uri": "https://localhost:8080/",
          "height": 542
        },
        "id": "iCLbFwzjRFkf",
        "outputId": "76e6d05e-9e00-4cde-d602-bc2050d24ac9"
      },
      "source": [
        "px.histogram(df, x=\"deposit_cleaned\", marginal='box')"
      ],
      "execution_count": null,
      "outputs": [
        {
          "output_type": "display_data",
          "data": {
            "text/html": [
              "<html>\n",
              "<head><meta charset=\"utf-8\" /></head>\n",
              "<body>\n",
              "    <div>\n",
              "            <script src=\"https://cdnjs.cloudflare.com/ajax/libs/mathjax/2.7.5/MathJax.js?config=TeX-AMS-MML_SVG\"></script><script type=\"text/javascript\">if (window.MathJax) {MathJax.Hub.Config({SVG: {font: \"STIX-Web\"}});}</script>\n",
              "                <script type=\"text/javascript\">window.PlotlyConfig = {MathJaxConfig: 'local'};</script>\n",
              "        <script src=\"https://cdn.plot.ly/plotly-latest.min.js\"></script>    \n",
              "            <div id=\"44403ff0-e0bc-4029-85ff-4785cc04abee\" class=\"plotly-graph-div\" style=\"height:525px; width:100%;\"></div>\n",
              "            <script type=\"text/javascript\">\n",
              "                \n",
              "                    window.PLOTLYENV=window.PLOTLYENV || {};\n",
              "                    \n",
              "                if (document.getElementById(\"44403ff0-e0bc-4029-85ff-4785cc04abee\")) {\n",
              "                    Plotly.newPlot(\n",
              "                        '44403ff0-e0bc-4029-85ff-4785cc04abee',\n",
              "                        [{\"alignmentgroup\": \"True\", \"bingroup\": \"x\", \"hoverlabel\": {\"namelength\": 0}, \"hovertemplate\": \"deposit_cleaned=%{x}<br>count=%{y}\", \"legendgroup\": \"\", \"marker\": {\"color\": \"#636efa\"}, \"name\": \"\", \"offsetgroup\": \"\", \"orientation\": \"v\", \"showlegend\": false, \"type\": \"histogram\", \"x\": [7977.0, 2920.53, 2937.0, null, null, 2520.0, null, 2192.19, 1685.79, 5367.0, null, null, 7500.0, 19350.0, 2400.0, 4516.799999999999, 3507.42, 2000.0, 2139.78, 5397.0, null, 3885.0, null, null, 7950.0, 4152.0, null, null, null, 4650.0, null, null, null, null, null, null, 1500.0, 2547.7200000000003, 1974.33, null, null, null, 933.1200000000001, 9150.0, 4545.0, 2809.32, null, null, 3706.66, 1533.4499999999998, null, 6900.0, 5994.0, 6000.0, 7470.0, null, 5172.0, null, 2145.0, 6215.7, 11475.0, 14850.0, null, 4197.0, null, null, null, 2600.0, 12900.0, 3000.0, 5847.78, 3450.0, 5000.0, null, null, null, null, 5070.0, 10000.0, null, null, 3000.0, null, 3620.0, null, null, null, null, 5000.0, null, 1690.0, null, 1790.0, null, 8586.0, 2990.0, 1490.0, null, 2616.21, null, null, null, null, null, null, null, null, null, null, null, null, 6900.0, 9960.0, null, 3159.0, 3627.0, 2970.0, null, 4350.0, null, 6229.14, 5010.0, 4497.0, 4333.9, 4650.0, 3000.0, null, 2013.0, null, 2841.0, null, null, 4000.0, null, 2850.72, 3300.75, null, 9885.0, 2344.0, null, null, 3645.0, 2397.0, 4500.0, null, null, 5120.43, null, 9718.0, 3597.0, 3900.0, null, null, null, 3780.0, null, 3720.0, 2205.0, 6750.0, null, 4800.0, 2757.0, 1265.6100000000001, null, 2157.0, 2157.0, 2157.0, 1500.0, null, null, 1947.0, 2685.0, 2157.0, 6597.0, 1749.09, 3582.0, null, null, null, 1301.1299999999999, 4691.25, 5100.0, null, 3630.0, 3798.8999999999996, null, null, null, null, null, 2549.79, null, null, null, 3831.0, 2274.0, null, 2850.0, 2960.0, null, null, 4362.54, null, null, null, null, 1222.26, null, null, 4771.17, 4680.0, null, 4396.86, null, null, 6372.87, 4350.0, 3500.0, 4080.0, 5691.6, null, 4350.0, 4050.0, 7586.58, 5400.0, 2338.0, null, null, 2073.87, null, 3279.4800000000005, 5940.0, null, 2662.59, 1864.1399999999999, null, 6372.87, null, null, 1307.22, 8100.0, null, 3859.17, null, null, 29322.0, null, null, 2630.43, 5961.12, 6552.0, null, null, 2700.0, 1797.0, null, 3345.0, null, null, 4500.0, 3360.0, 5148.0, null, null, 2657.04, null, 2472.0, null, 12000.0, 6300.0, 1947.0, 5394.0, 4197.0, 2727.0, 1696.8899999999999, 2667.0, null, 4845.0, 1058.85, null, 1213.17, null, 842.22, 1554.0, 6540.0, null, 7476.150000000001, 6966.0599999999995, 4950.0, 6600.0, null, null, null, null, null, null, null, null, null, null, null, null, 5791.14, 1727.76, null, null, 9025.5, null, null, null, null, null, null, 1643.6999999999998, null, null, 3750.0, 7575.0, 1799.22, null, null, null, 1740.48, 7650.0, 2881.14, null, null, 5355.0, 17324.489999999998, 2265.8999999999996, 5850.0, 4350.0, null, 4479.0, 4170.0, 2277.0, null, null, null, 6180.0, null, null, null, 2340.0, null, null, 2850.0, null, null, null, null, null, null, null, null, 5910.0, null, null, null, null, null, null, 6330.0, 5670.0, null, null, null, null, null, 6120.0, null, null, 3500.0, null, null, null, null, null, null, null, null, null, null, null, null, null, null, null, null, null, 1485.0, 2892.0, null, 3597.0, 3584.82, 5421.0, null, null, null, null, null, null, null, 3750.0, null, 5097.0, null, null, 4950.0, 4950.0, null, 4950.0, null, 5196.6, null, null, 4950.0, null, null, null, 6579.0, 2500.0, 2115.0, 2286.45, 1600.0, 2661.0, null, 1200.0, null, 2946.0, null, 5265.0, 3686.25, 5259.0, 3671.94, null, 4297.799999999999, null, 6150.0, 7453.86, 4696.200000000001, 5342.700000000001, 6237.0599999999995, 4650.0, null, null, 10500.0, null, 2426.0, null, 3450.0, 2400.0, 2040.0, null, null, null, null, null, 2085.0, null, null, null, 6570.0, null, 6675.0, 5247.96, 9333.0, 6945.0, null, 9792.0, null, null, 3973.0, 1000.0, 4506.0, 3045.0, null, null, null, null, null, null, null, null, 2250.0, 1755.0, 4650.0, null, null, 5070.0, 1074.6, 3900.0, null, null, null, 6807.0, 2844.3, 1974.0, 3685.0, 2907.0, null, null, 5502.0, null, 2253.0, 3230.0, 5775.0, 4698.0, 3158.0, 4341.0, null, null, null, 1688.4, 3844.5, 2929.5, null, 1695.48, 6510.0, null, null, null, null, null, null, null, 5506.2, 2564.0, null, 1600.0, null, null, 4258.0, 7647.0, null, null, 8382.24, null, 3855.0, 2958.0, 1726.3500000000001, null, null, 4069.32, null, 4197.0, null, 3354.0, null, null, null, 5718.42, null, 5400.0, 6796.41, null, null, null, 2674.95, null, 14400.0, 4366.83, 7650.0, 4696.68, null, null, 5281.11, 3133.0, null, 13350.0, 4104.0, 1600.0, 4557.0, null, 4263.0, 3423.0, null, 3550.0, 5349.24, 2318.0, 5502.0, 2268.0, null, null, 2315.0, null, null, null, 3750.18, null, 17809.199999999997, 17809.199999999997, 14242.800000000001, 5400.0, 14242.800000000001, null, 14242.800000000001, null, null, null, 3334.0, 6450.0, null, null, null, null, 3533.0, null, null, 3548.0, 3544.0, 2297.0, null, 3502.0, null, 5100.0, null, 3437.0, null, 2262.0, 3461.0, 3482.0, 4300.0, 5700.0, null, 3167.0, 3706.0, 4409.0, 2795.0, null, 3058.0, 3028.0, null, 14034.900000000001, 3088.0, 4976.0, 9480.0, 4464.75, 3230.0, 6600.0, 5444.549999999999, 9750.0, null, null, null, 5269.08, 13200.0, 5876.07, 6864.18, 4264.0, 7068.599999999999, 5508.0, null, 15300.0, 3087.0, 7464.780000000001, null, null, 3627.0, 8947.23, 3706.0, null, 3188.0, 8160.0, 3204.0, 1312.5, 3762.0, 3058.0, 3684.0, 4409.0, 3355.0, 4552.0, 4519.0, 3141.69, 6207.780000000001, null, 3154.0, 4271.0, null, 4976.0, 3630.0, null, null, 4338.0, 3059.0, null, 4047.0, null, 4300.0, 3543.0, null, null, 3297.0, 4684.950000000001, null, 3007.0, null, 3500.0, 4326.0, null, null, 3905.0, 4759.0, 2500.0, null, 3747.0, null, 3745.0, 3028.0, 2000.0, null, 2000.0, null, null, 6600.0, null, null, null, 4650.0, null, null, null, null, null, null, null, null, 7318.799999999999, null, null, 1965.0, null, 4197.0, 6900.0, 6387.0, null, null, null, null, null, null, null, 3237.0, null, null, null, null, null, null, null, null, null, null, null, null, 1542.0, null, null, null, null, null, null, null, null], \"xaxis\": \"x\", \"yaxis\": \"y\"}, {\"alignmentgroup\": \"True\", \"hoverlabel\": {\"namelength\": 0}, \"hovertemplate\": \"deposit_cleaned=%{x}\", \"legendgroup\": \"\", \"marker\": {\"color\": \"#636efa\"}, \"name\": \"\", \"notched\": true, \"offsetgroup\": \"\", \"showlegend\": false, \"type\": \"box\", \"x\": [7977.0, 2920.53, 2937.0, null, null, 2520.0, null, 2192.19, 1685.79, 5367.0, null, null, 7500.0, 19350.0, 2400.0, 4516.799999999999, 3507.42, 2000.0, 2139.78, 5397.0, null, 3885.0, null, null, 7950.0, 4152.0, null, null, null, 4650.0, null, null, null, null, null, null, 1500.0, 2547.7200000000003, 1974.33, null, null, null, 933.1200000000001, 9150.0, 4545.0, 2809.32, null, null, 3706.66, 1533.4499999999998, null, 6900.0, 5994.0, 6000.0, 7470.0, null, 5172.0, null, 2145.0, 6215.7, 11475.0, 14850.0, null, 4197.0, null, null, null, 2600.0, 12900.0, 3000.0, 5847.78, 3450.0, 5000.0, null, null, null, null, 5070.0, 10000.0, null, null, 3000.0, null, 3620.0, null, null, null, null, 5000.0, null, 1690.0, null, 1790.0, null, 8586.0, 2990.0, 1490.0, null, 2616.21, null, null, null, null, null, null, null, null, null, null, null, null, 6900.0, 9960.0, null, 3159.0, 3627.0, 2970.0, null, 4350.0, null, 6229.14, 5010.0, 4497.0, 4333.9, 4650.0, 3000.0, null, 2013.0, null, 2841.0, null, null, 4000.0, null, 2850.72, 3300.75, null, 9885.0, 2344.0, null, null, 3645.0, 2397.0, 4500.0, null, null, 5120.43, null, 9718.0, 3597.0, 3900.0, null, null, null, 3780.0, null, 3720.0, 2205.0, 6750.0, null, 4800.0, 2757.0, 1265.6100000000001, null, 2157.0, 2157.0, 2157.0, 1500.0, null, null, 1947.0, 2685.0, 2157.0, 6597.0, 1749.09, 3582.0, null, null, null, 1301.1299999999999, 4691.25, 5100.0, null, 3630.0, 3798.8999999999996, null, null, null, null, null, 2549.79, null, null, null, 3831.0, 2274.0, null, 2850.0, 2960.0, null, null, 4362.54, null, null, null, null, 1222.26, null, null, 4771.17, 4680.0, null, 4396.86, null, null, 6372.87, 4350.0, 3500.0, 4080.0, 5691.6, null, 4350.0, 4050.0, 7586.58, 5400.0, 2338.0, null, null, 2073.87, null, 3279.4800000000005, 5940.0, null, 2662.59, 1864.1399999999999, null, 6372.87, null, null, 1307.22, 8100.0, null, 3859.17, null, null, 29322.0, null, null, 2630.43, 5961.12, 6552.0, null, null, 2700.0, 1797.0, null, 3345.0, null, null, 4500.0, 3360.0, 5148.0, null, null, 2657.04, null, 2472.0, null, 12000.0, 6300.0, 1947.0, 5394.0, 4197.0, 2727.0, 1696.8899999999999, 2667.0, null, 4845.0, 1058.85, null, 1213.17, null, 842.22, 1554.0, 6540.0, null, 7476.150000000001, 6966.0599999999995, 4950.0, 6600.0, null, null, null, null, null, null, null, null, null, null, null, null, 5791.14, 1727.76, null, null, 9025.5, null, null, null, null, null, null, 1643.6999999999998, null, null, 3750.0, 7575.0, 1799.22, null, null, null, 1740.48, 7650.0, 2881.14, null, null, 5355.0, 17324.489999999998, 2265.8999999999996, 5850.0, 4350.0, null, 4479.0, 4170.0, 2277.0, null, null, null, 6180.0, null, null, null, 2340.0, null, null, 2850.0, null, null, null, null, null, null, null, null, 5910.0, null, null, null, null, null, null, 6330.0, 5670.0, null, null, null, null, null, 6120.0, null, null, 3500.0, null, null, null, null, null, null, null, null, null, null, null, null, null, null, null, null, null, 1485.0, 2892.0, null, 3597.0, 3584.82, 5421.0, null, null, null, null, null, null, null, 3750.0, null, 5097.0, null, null, 4950.0, 4950.0, null, 4950.0, null, 5196.6, null, null, 4950.0, null, null, null, 6579.0, 2500.0, 2115.0, 2286.45, 1600.0, 2661.0, null, 1200.0, null, 2946.0, null, 5265.0, 3686.25, 5259.0, 3671.94, null, 4297.799999999999, null, 6150.0, 7453.86, 4696.200000000001, 5342.700000000001, 6237.0599999999995, 4650.0, null, null, 10500.0, null, 2426.0, null, 3450.0, 2400.0, 2040.0, null, null, null, null, null, 2085.0, null, null, null, 6570.0, null, 6675.0, 5247.96, 9333.0, 6945.0, null, 9792.0, null, null, 3973.0, 1000.0, 4506.0, 3045.0, null, null, null, null, null, null, null, null, 2250.0, 1755.0, 4650.0, null, null, 5070.0, 1074.6, 3900.0, null, null, null, 6807.0, 2844.3, 1974.0, 3685.0, 2907.0, null, null, 5502.0, null, 2253.0, 3230.0, 5775.0, 4698.0, 3158.0, 4341.0, null, null, null, 1688.4, 3844.5, 2929.5, null, 1695.48, 6510.0, null, null, null, null, null, null, null, 5506.2, 2564.0, null, 1600.0, null, null, 4258.0, 7647.0, null, null, 8382.24, null, 3855.0, 2958.0, 1726.3500000000001, null, null, 4069.32, null, 4197.0, null, 3354.0, null, null, null, 5718.42, null, 5400.0, 6796.41, null, null, null, 2674.95, null, 14400.0, 4366.83, 7650.0, 4696.68, null, null, 5281.11, 3133.0, null, 13350.0, 4104.0, 1600.0, 4557.0, null, 4263.0, 3423.0, null, 3550.0, 5349.24, 2318.0, 5502.0, 2268.0, null, null, 2315.0, null, null, null, 3750.18, null, 17809.199999999997, 17809.199999999997, 14242.800000000001, 5400.0, 14242.800000000001, null, 14242.800000000001, null, null, null, 3334.0, 6450.0, null, null, null, null, 3533.0, null, null, 3548.0, 3544.0, 2297.0, null, 3502.0, null, 5100.0, null, 3437.0, null, 2262.0, 3461.0, 3482.0, 4300.0, 5700.0, null, 3167.0, 3706.0, 4409.0, 2795.0, null, 3058.0, 3028.0, null, 14034.900000000001, 3088.0, 4976.0, 9480.0, 4464.75, 3230.0, 6600.0, 5444.549999999999, 9750.0, null, null, null, 5269.08, 13200.0, 5876.07, 6864.18, 4264.0, 7068.599999999999, 5508.0, null, 15300.0, 3087.0, 7464.780000000001, null, null, 3627.0, 8947.23, 3706.0, null, 3188.0, 8160.0, 3204.0, 1312.5, 3762.0, 3058.0, 3684.0, 4409.0, 3355.0, 4552.0, 4519.0, 3141.69, 6207.780000000001, null, 3154.0, 4271.0, null, 4976.0, 3630.0, null, null, 4338.0, 3059.0, null, 4047.0, null, 4300.0, 3543.0, null, null, 3297.0, 4684.950000000001, null, 3007.0, null, 3500.0, 4326.0, null, null, 3905.0, 4759.0, 2500.0, null, 3747.0, null, 3745.0, 3028.0, 2000.0, null, 2000.0, null, null, 6600.0, null, null, null, 4650.0, null, null, null, null, null, null, null, null, 7318.799999999999, null, null, 1965.0, null, 4197.0, 6900.0, 6387.0, null, null, null, null, null, null, null, 3237.0, null, null, null, null, null, null, null, null, null, null, null, null, 1542.0, null, null, null, null, null, null, null, null], \"xaxis\": \"x2\", \"yaxis\": \"y2\"}],\n",
              "                        {\"barmode\": \"relative\", \"legend\": {\"tracegroupgap\": 0}, \"margin\": {\"t\": 60}, \"template\": {\"data\": {\"bar\": [{\"error_x\": {\"color\": \"#2a3f5f\"}, \"error_y\": {\"color\": \"#2a3f5f\"}, \"marker\": {\"line\": {\"color\": \"#E5ECF6\", \"width\": 0.5}}, \"type\": \"bar\"}], \"barpolar\": [{\"marker\": {\"line\": {\"color\": \"#E5ECF6\", \"width\": 0.5}}, \"type\": \"barpolar\"}], \"carpet\": [{\"aaxis\": {\"endlinecolor\": \"#2a3f5f\", \"gridcolor\": \"white\", \"linecolor\": \"white\", \"minorgridcolor\": \"white\", \"startlinecolor\": \"#2a3f5f\"}, \"baxis\": {\"endlinecolor\": \"#2a3f5f\", \"gridcolor\": \"white\", \"linecolor\": \"white\", \"minorgridcolor\": \"white\", \"startlinecolor\": \"#2a3f5f\"}, \"type\": \"carpet\"}], \"choropleth\": [{\"colorbar\": {\"outlinewidth\": 0, \"ticks\": \"\"}, \"type\": \"choropleth\"}], \"contour\": [{\"colorbar\": {\"outlinewidth\": 0, \"ticks\": \"\"}, \"colorscale\": [[0.0, \"#0d0887\"], [0.1111111111111111, \"#46039f\"], [0.2222222222222222, \"#7201a8\"], [0.3333333333333333, \"#9c179e\"], [0.4444444444444444, \"#bd3786\"], [0.5555555555555556, \"#d8576b\"], [0.6666666666666666, \"#ed7953\"], [0.7777777777777778, \"#fb9f3a\"], [0.8888888888888888, \"#fdca26\"], [1.0, \"#f0f921\"]], \"type\": \"contour\"}], \"contourcarpet\": [{\"colorbar\": {\"outlinewidth\": 0, \"ticks\": \"\"}, \"type\": \"contourcarpet\"}], \"heatmap\": [{\"colorbar\": {\"outlinewidth\": 0, \"ticks\": \"\"}, \"colorscale\": [[0.0, \"#0d0887\"], [0.1111111111111111, \"#46039f\"], [0.2222222222222222, \"#7201a8\"], [0.3333333333333333, \"#9c179e\"], [0.4444444444444444, \"#bd3786\"], [0.5555555555555556, \"#d8576b\"], [0.6666666666666666, \"#ed7953\"], [0.7777777777777778, \"#fb9f3a\"], [0.8888888888888888, \"#fdca26\"], [1.0, \"#f0f921\"]], \"type\": \"heatmap\"}], \"heatmapgl\": [{\"colorbar\": {\"outlinewidth\": 0, \"ticks\": \"\"}, \"colorscale\": [[0.0, \"#0d0887\"], [0.1111111111111111, \"#46039f\"], [0.2222222222222222, \"#7201a8\"], [0.3333333333333333, \"#9c179e\"], [0.4444444444444444, \"#bd3786\"], [0.5555555555555556, \"#d8576b\"], [0.6666666666666666, \"#ed7953\"], [0.7777777777777778, \"#fb9f3a\"], [0.8888888888888888, \"#fdca26\"], [1.0, \"#f0f921\"]], \"type\": \"heatmapgl\"}], \"histogram\": [{\"marker\": {\"colorbar\": {\"outlinewidth\": 0, \"ticks\": \"\"}}, \"type\": \"histogram\"}], \"histogram2d\": [{\"colorbar\": {\"outlinewidth\": 0, \"ticks\": \"\"}, \"colorscale\": [[0.0, \"#0d0887\"], [0.1111111111111111, \"#46039f\"], [0.2222222222222222, \"#7201a8\"], [0.3333333333333333, \"#9c179e\"], [0.4444444444444444, \"#bd3786\"], [0.5555555555555556, \"#d8576b\"], [0.6666666666666666, \"#ed7953\"], [0.7777777777777778, \"#fb9f3a\"], [0.8888888888888888, \"#fdca26\"], [1.0, \"#f0f921\"]], \"type\": \"histogram2d\"}], \"histogram2dcontour\": [{\"colorbar\": {\"outlinewidth\": 0, \"ticks\": \"\"}, \"colorscale\": [[0.0, \"#0d0887\"], [0.1111111111111111, \"#46039f\"], [0.2222222222222222, \"#7201a8\"], [0.3333333333333333, \"#9c179e\"], [0.4444444444444444, \"#bd3786\"], [0.5555555555555556, \"#d8576b\"], [0.6666666666666666, \"#ed7953\"], [0.7777777777777778, \"#fb9f3a\"], [0.8888888888888888, \"#fdca26\"], [1.0, \"#f0f921\"]], \"type\": \"histogram2dcontour\"}], \"mesh3d\": [{\"colorbar\": {\"outlinewidth\": 0, \"ticks\": \"\"}, \"type\": \"mesh3d\"}], \"parcoords\": [{\"line\": {\"colorbar\": {\"outlinewidth\": 0, \"ticks\": \"\"}}, \"type\": \"parcoords\"}], \"pie\": [{\"automargin\": true, \"type\": \"pie\"}], \"scatter\": [{\"marker\": {\"colorbar\": {\"outlinewidth\": 0, \"ticks\": \"\"}}, \"type\": \"scatter\"}], \"scatter3d\": [{\"line\": {\"colorbar\": {\"outlinewidth\": 0, \"ticks\": \"\"}}, \"marker\": {\"colorbar\": {\"outlinewidth\": 0, \"ticks\": \"\"}}, \"type\": \"scatter3d\"}], \"scattercarpet\": [{\"marker\": {\"colorbar\": {\"outlinewidth\": 0, \"ticks\": \"\"}}, \"type\": \"scattercarpet\"}], \"scattergeo\": [{\"marker\": {\"colorbar\": {\"outlinewidth\": 0, \"ticks\": \"\"}}, \"type\": \"scattergeo\"}], \"scattergl\": [{\"marker\": {\"colorbar\": {\"outlinewidth\": 0, \"ticks\": \"\"}}, \"type\": \"scattergl\"}], \"scattermapbox\": [{\"marker\": {\"colorbar\": {\"outlinewidth\": 0, \"ticks\": \"\"}}, \"type\": \"scattermapbox\"}], \"scatterpolar\": [{\"marker\": {\"colorbar\": {\"outlinewidth\": 0, \"ticks\": \"\"}}, \"type\": \"scatterpolar\"}], \"scatterpolargl\": [{\"marker\": {\"colorbar\": {\"outlinewidth\": 0, \"ticks\": \"\"}}, \"type\": \"scatterpolargl\"}], \"scatterternary\": [{\"marker\": {\"colorbar\": {\"outlinewidth\": 0, \"ticks\": \"\"}}, \"type\": \"scatterternary\"}], \"surface\": [{\"colorbar\": {\"outlinewidth\": 0, \"ticks\": \"\"}, \"colorscale\": [[0.0, \"#0d0887\"], [0.1111111111111111, \"#46039f\"], [0.2222222222222222, \"#7201a8\"], [0.3333333333333333, \"#9c179e\"], [0.4444444444444444, \"#bd3786\"], [0.5555555555555556, \"#d8576b\"], [0.6666666666666666, \"#ed7953\"], [0.7777777777777778, \"#fb9f3a\"], [0.8888888888888888, \"#fdca26\"], [1.0, \"#f0f921\"]], \"type\": \"surface\"}], \"table\": [{\"cells\": {\"fill\": {\"color\": \"#EBF0F8\"}, \"line\": {\"color\": \"white\"}}, \"header\": {\"fill\": {\"color\": \"#C8D4E3\"}, \"line\": {\"color\": \"white\"}}, \"type\": \"table\"}]}, \"layout\": {\"annotationdefaults\": {\"arrowcolor\": \"#2a3f5f\", \"arrowhead\": 0, \"arrowwidth\": 1}, \"coloraxis\": {\"colorbar\": {\"outlinewidth\": 0, \"ticks\": \"\"}}, \"colorscale\": {\"diverging\": [[0, \"#8e0152\"], [0.1, \"#c51b7d\"], [0.2, \"#de77ae\"], [0.3, \"#f1b6da\"], [0.4, \"#fde0ef\"], [0.5, \"#f7f7f7\"], [0.6, \"#e6f5d0\"], [0.7, \"#b8e186\"], [0.8, \"#7fbc41\"], [0.9, \"#4d9221\"], [1, \"#276419\"]], \"sequential\": [[0.0, \"#0d0887\"], [0.1111111111111111, \"#46039f\"], [0.2222222222222222, \"#7201a8\"], [0.3333333333333333, \"#9c179e\"], [0.4444444444444444, \"#bd3786\"], [0.5555555555555556, \"#d8576b\"], [0.6666666666666666, \"#ed7953\"], [0.7777777777777778, \"#fb9f3a\"], [0.8888888888888888, \"#fdca26\"], [1.0, \"#f0f921\"]], \"sequentialminus\": [[0.0, \"#0d0887\"], [0.1111111111111111, \"#46039f\"], [0.2222222222222222, \"#7201a8\"], [0.3333333333333333, \"#9c179e\"], [0.4444444444444444, \"#bd3786\"], [0.5555555555555556, \"#d8576b\"], [0.6666666666666666, \"#ed7953\"], [0.7777777777777778, \"#fb9f3a\"], [0.8888888888888888, \"#fdca26\"], [1.0, \"#f0f921\"]]}, \"colorway\": [\"#636efa\", \"#EF553B\", \"#00cc96\", \"#ab63fa\", \"#FFA15A\", \"#19d3f3\", \"#FF6692\", \"#B6E880\", \"#FF97FF\", \"#FECB52\"], \"font\": {\"color\": \"#2a3f5f\"}, \"geo\": {\"bgcolor\": \"white\", \"lakecolor\": \"white\", \"landcolor\": \"#E5ECF6\", \"showlakes\": true, \"showland\": true, \"subunitcolor\": \"white\"}, \"hoverlabel\": {\"align\": \"left\"}, \"hovermode\": \"closest\", \"mapbox\": {\"style\": \"light\"}, \"paper_bgcolor\": \"white\", \"plot_bgcolor\": \"#E5ECF6\", \"polar\": {\"angularaxis\": {\"gridcolor\": \"white\", \"linecolor\": \"white\", \"ticks\": \"\"}, \"bgcolor\": \"#E5ECF6\", \"radialaxis\": {\"gridcolor\": \"white\", \"linecolor\": \"white\", \"ticks\": \"\"}}, \"scene\": {\"xaxis\": {\"backgroundcolor\": \"#E5ECF6\", \"gridcolor\": \"white\", \"gridwidth\": 2, \"linecolor\": \"white\", \"showbackground\": true, \"ticks\": \"\", \"zerolinecolor\": \"white\"}, \"yaxis\": {\"backgroundcolor\": \"#E5ECF6\", \"gridcolor\": \"white\", \"gridwidth\": 2, \"linecolor\": \"white\", \"showbackground\": true, \"ticks\": \"\", \"zerolinecolor\": \"white\"}, \"zaxis\": {\"backgroundcolor\": \"#E5ECF6\", \"gridcolor\": \"white\", \"gridwidth\": 2, \"linecolor\": \"white\", \"showbackground\": true, \"ticks\": \"\", \"zerolinecolor\": \"white\"}}, \"shapedefaults\": {\"line\": {\"color\": \"#2a3f5f\"}}, \"ternary\": {\"aaxis\": {\"gridcolor\": \"white\", \"linecolor\": \"white\", \"ticks\": \"\"}, \"baxis\": {\"gridcolor\": \"white\", \"linecolor\": \"white\", \"ticks\": \"\"}, \"bgcolor\": \"#E5ECF6\", \"caxis\": {\"gridcolor\": \"white\", \"linecolor\": \"white\", \"ticks\": \"\"}}, \"title\": {\"x\": 0.05}, \"xaxis\": {\"automargin\": true, \"gridcolor\": \"white\", \"linecolor\": \"white\", \"ticks\": \"\", \"title\": {\"standoff\": 15}, \"zerolinecolor\": \"white\", \"zerolinewidth\": 2}, \"yaxis\": {\"automargin\": true, \"gridcolor\": \"white\", \"linecolor\": \"white\", \"ticks\": \"\", \"title\": {\"standoff\": 15}, \"zerolinecolor\": \"white\", \"zerolinewidth\": 2}}}, \"xaxis\": {\"anchor\": \"y\", \"domain\": [0.0, 1.0], \"title\": {\"text\": \"deposit_cleaned\"}}, \"xaxis2\": {\"anchor\": \"y2\", \"domain\": [0.0, 1.0], \"matches\": \"x\", \"showgrid\": true, \"showticklabels\": false}, \"yaxis\": {\"anchor\": \"x\", \"domain\": [0.0, 0.8316], \"title\": {\"text\": \"count\"}}, \"yaxis2\": {\"anchor\": \"x2\", \"domain\": [0.8416, 1.0], \"matches\": \"y2\", \"showgrid\": false, \"showline\": false, \"showticklabels\": false, \"ticks\": \"\"}},\n",
              "                        {\"responsive\": true}\n",
              "                    ).then(function(){\n",
              "                            \n",
              "var gd = document.getElementById('44403ff0-e0bc-4029-85ff-4785cc04abee');\n",
              "var x = new MutationObserver(function (mutations, observer) {{\n",
              "        var display = window.getComputedStyle(gd).display;\n",
              "        if (!display || display === 'none') {{\n",
              "            console.log([gd, 'removed!']);\n",
              "            Plotly.purge(gd);\n",
              "            observer.disconnect();\n",
              "        }}\n",
              "}});\n",
              "\n",
              "// Listen for the removal of the full notebook cells\n",
              "var notebookContainer = gd.closest('#notebook-container');\n",
              "if (notebookContainer) {{\n",
              "    x.observe(notebookContainer, {childList: true});\n",
              "}}\n",
              "\n",
              "// Listen for the clearing of the current output cell\n",
              "var outputEl = gd.closest('.output');\n",
              "if (outputEl) {{\n",
              "    x.observe(outputEl, {childList: true});\n",
              "}}\n",
              "\n",
              "                        })\n",
              "                };\n",
              "                \n",
              "            </script>\n",
              "        </div>\n",
              "</body>\n",
              "</html>"
            ]
          },
          "metadata": {
            "tags": []
          }
        }
      ]
    },
    {
      "cell_type": "code",
      "metadata": {
        "id": "GK52nKKhbI_d",
        "colab": {
          "base_uri": "https://localhost:8080/"
        },
        "outputId": "d720e2d0-3edb-4012-a053-efef94fc71aa"
      },
      "source": [
        "df.deposit_cleaned.agg(['mean', 'median', 'std', 'min', 'max'])"
      ],
      "execution_count": null,
      "outputs": [
        {
          "output_type": "execute_result",
          "data": {
            "text/plain": [
              "mean       4670.031169\n",
              "median     3900.000000\n",
              "std        3153.089709\n",
              "min         842.220000\n",
              "max       29322.000000\n",
              "Name: deposit_cleaned, dtype: float64"
            ]
          },
          "metadata": {
            "tags": []
          },
          "execution_count": 38
        }
      ]
    },
    {
      "cell_type": "markdown",
      "metadata": {
        "id": "6NLx-OKxbI_f"
      },
      "source": [
        "#### Filling the missing values intuitively\n",
        "\n",
        "(Note: these are old advertisements and no longer available)\n",
        "\n",
        " - https://www.immobilienscout24.de/expose/116573177: has all of it's data mising, *will assume three months*\n",
        " - https://www.immobilienscout24.de/expose/115925878: has only some of its data missing, *will assume scraping error and therefore three months*\n",
        " - https://www.immobilienscout24.de/expose/114437800: has only deposit missing, *will assume there is no deposit*\n",
        " \n",
        "**Because the data is missing for different reasons, we should use different fill strategies**"
      ]
    },
    {
      "cell_type": "code",
      "metadata": {
        "id": "PWTfOO-kbI_f",
        "colab": {
          "base_uri": "https://localhost:8080/",
          "height": 343
        },
        "outputId": "10b03bd6-e1ff-4445-a113-4a6e0b32210b"
      },
      "source": [
        "df[df.deposit_cleaned.isna()].head()"
      ],
      "execution_count": null,
      "outputs": [
        {
          "output_type": "execute_result",
          "data": {
            "text/html": [
              "<div>\n",
              "<style scoped>\n",
              "    .dataframe tbody tr th:only-of-type {\n",
              "        vertical-align: middle;\n",
              "    }\n",
              "\n",
              "    .dataframe tbody tr th {\n",
              "        vertical-align: top;\n",
              "    }\n",
              "\n",
              "    .dataframe thead th {\n",
              "        text-align: right;\n",
              "    }\n",
              "</style>\n",
              "<table border=\"1\" class=\"dataframe\">\n",
              "  <thead>\n",
              "    <tr style=\"text-align: right;\">\n",
              "      <th></th>\n",
              "      <th>url</th>\n",
              "      <th>region</th>\n",
              "      <th>condition</th>\n",
              "      <th>rooms</th>\n",
              "      <th>rent</th>\n",
              "      <th>year_construction</th>\n",
              "      <th>space</th>\n",
              "      <th>cold_rent</th>\n",
              "      <th>utilities</th>\n",
              "      <th>heating_costs</th>\n",
              "      <th>security_deposit</th>\n",
              "      <th>parking_space</th>\n",
              "      <th>renovated_date</th>\n",
              "      <th>property_condition</th>\n",
              "      <th>furnishing</th>\n",
              "      <th>heating_type</th>\n",
              "      <th>energy_sources</th>\n",
              "      <th>energy_certificate</th>\n",
              "      <th>type_of_certificate</th>\n",
              "      <th>energy_requirement</th>\n",
              "      <th>efficiency_class</th>\n",
              "      <th>deposit_cleaned</th>\n",
              "    </tr>\n",
              "  </thead>\n",
              "  <tbody>\n",
              "    <tr>\n",
              "      <th>3</th>\n",
              "      <td>https://www.immobilienscout24.de/expose/116573177</td>\n",
              "      <td>Wilmersdorf</td>\n",
              "      <td>well_kept</td>\n",
              "      <td>4.0</td>\n",
              "      <td>1830.22</td>\n",
              "      <td>1900</td>\n",
              "      <td>171.18</td>\n",
              "      <td>NaN</td>\n",
              "      <td>NaN</td>\n",
              "      <td>NaN</td>\n",
              "      <td>nan</td>\n",
              "      <td>NaN</td>\n",
              "      <td>NaN</td>\n",
              "      <td>NaN</td>\n",
              "      <td>NaN</td>\n",
              "      <td>NaN</td>\n",
              "      <td>NaN</td>\n",
              "      <td>NaN</td>\n",
              "      <td>NaN</td>\n",
              "      <td>NaN</td>\n",
              "      <td>NaN</td>\n",
              "      <td>NaN</td>\n",
              "    </tr>\n",
              "    <tr>\n",
              "      <th>4</th>\n",
              "      <td>https://www.immobilienscout24.de/expose/115925878</td>\n",
              "      <td>Kreuzberg</td>\n",
              "      <td>first_time_use</td>\n",
              "      <td>2.0</td>\n",
              "      <td>2272.00</td>\n",
              "      <td>2020</td>\n",
              "      <td>88.27</td>\n",
              "      <td>NaN</td>\n",
              "      <td>NaN</td>\n",
              "      <td>NaN</td>\n",
              "      <td>nan</td>\n",
              "      <td>NaN</td>\n",
              "      <td>NaN</td>\n",
              "      <td>New</td>\n",
              "      <td>Gehobene Qualität</td>\n",
              "      <td>Central Heating</td>\n",
              "      <td>Fernwärme Energieausweis liegt zur Besichtigun...</td>\n",
              "      <td>liegt zur Besichtigung vor</td>\n",
              "      <td>NaN</td>\n",
              "      <td>NaN</td>\n",
              "      <td>NaN</td>\n",
              "      <td>NaN</td>\n",
              "    </tr>\n",
              "    <tr>\n",
              "      <th>6</th>\n",
              "      <td>https://www.immobilienscout24.de/expose/108376992</td>\n",
              "      <td>Mitte</td>\n",
              "      <td>mint_condition</td>\n",
              "      <td>2.0</td>\n",
              "      <td>1509.45</td>\n",
              "      <td>2015</td>\n",
              "      <td>61.61</td>\n",
              "      <td>NaN</td>\n",
              "      <td>NaN</td>\n",
              "      <td>NaN</td>\n",
              "      <td>nan</td>\n",
              "      <td>NaN</td>\n",
              "      <td>NaN</td>\n",
              "      <td>NaN</td>\n",
              "      <td>NaN</td>\n",
              "      <td>NaN</td>\n",
              "      <td>NaN</td>\n",
              "      <td>NaN</td>\n",
              "      <td>NaN</td>\n",
              "      <td>NaN</td>\n",
              "      <td>NaN</td>\n",
              "      <td>NaN</td>\n",
              "    </tr>\n",
              "    <tr>\n",
              "      <th>10</th>\n",
              "      <td>https://www.immobilienscout24.de/expose/114437800</td>\n",
              "      <td>Mitte</td>\n",
              "      <td>first_time_use</td>\n",
              "      <td>4.0</td>\n",
              "      <td>2499.00</td>\n",
              "      <td>2019</td>\n",
              "      <td>125.20</td>\n",
              "      <td>1.999€</td>\n",
              "      <td>+500€</td>\n",
              "      <td>in</td>\n",
              "      <td>nan</td>\n",
              "      <td>120€</td>\n",
              "      <td>NaN</td>\n",
              "      <td>New</td>\n",
              "      <td>NaN</td>\n",
              "      <td>Underfloor Heating</td>\n",
              "      <td>Fernwärme</td>\n",
              "      <td>NaN</td>\n",
              "      <td>Bedarfsausweis</td>\n",
              "      <td>NaN</td>\n",
              "      <td>B</td>\n",
              "      <td>NaN</td>\n",
              "    </tr>\n",
              "    <tr>\n",
              "      <th>11</th>\n",
              "      <td>https://www.immobilienscout24.de/expose/116205341</td>\n",
              "      <td>Kreuzberg</td>\n",
              "      <td>first_time_use</td>\n",
              "      <td>2.0</td>\n",
              "      <td>2328.00</td>\n",
              "      <td>2020</td>\n",
              "      <td>90.36</td>\n",
              "      <td>NaN</td>\n",
              "      <td>NaN</td>\n",
              "      <td>NaN</td>\n",
              "      <td>nan</td>\n",
              "      <td>NaN</td>\n",
              "      <td>NaN</td>\n",
              "      <td>New</td>\n",
              "      <td>Gehobene Qualität</td>\n",
              "      <td>Central Heating</td>\n",
              "      <td>Fernwärme Energieausweis liegt zur Besichtigun...</td>\n",
              "      <td>liegt zur Besichtigung vor</td>\n",
              "      <td>NaN</td>\n",
              "      <td>NaN</td>\n",
              "      <td>NaN</td>\n",
              "      <td>NaN</td>\n",
              "    </tr>\n",
              "  </tbody>\n",
              "</table>\n",
              "</div>"
            ],
            "text/plain": [
              "                                                  url  ... deposit_cleaned\n",
              "3   https://www.immobilienscout24.de/expose/116573177  ...             NaN\n",
              "4   https://www.immobilienscout24.de/expose/115925878  ...             NaN\n",
              "6   https://www.immobilienscout24.de/expose/108376992  ...             NaN\n",
              "10  https://www.immobilienscout24.de/expose/114437800  ...             NaN\n",
              "11  https://www.immobilienscout24.de/expose/116205341  ...             NaN\n",
              "\n",
              "[5 rows x 22 columns]"
            ]
          },
          "metadata": {
            "tags": []
          },
          "execution_count": 39
        }
      ]
    },
    {
      "cell_type": "code",
      "metadata": {
        "id": "SQPIgw7JbI_i"
      },
      "source": [
        "df['n_missing'] = df[df.columns[-14:]].isnull().sum(axis=1)"
      ],
      "execution_count": null,
      "outputs": []
    },
    {
      "cell_type": "code",
      "metadata": {
        "id": "OqSUs4g_bI_l",
        "colab": {
          "base_uri": "https://localhost:8080/",
          "height": 264
        },
        "outputId": "0537ce7d-2a9c-4996-e21a-78519f8b999c"
      },
      "source": [
        "df[df.n_missing == 1].head(3)"
      ],
      "execution_count": null,
      "outputs": [
        {
          "output_type": "execute_result",
          "data": {
            "text/html": [
              "<div>\n",
              "<style scoped>\n",
              "    .dataframe tbody tr th:only-of-type {\n",
              "        vertical-align: middle;\n",
              "    }\n",
              "\n",
              "    .dataframe tbody tr th {\n",
              "        vertical-align: top;\n",
              "    }\n",
              "\n",
              "    .dataframe thead th {\n",
              "        text-align: right;\n",
              "    }\n",
              "</style>\n",
              "<table border=\"1\" class=\"dataframe\">\n",
              "  <thead>\n",
              "    <tr style=\"text-align: right;\">\n",
              "      <th></th>\n",
              "      <th>url</th>\n",
              "      <th>region</th>\n",
              "      <th>condition</th>\n",
              "      <th>rooms</th>\n",
              "      <th>rent</th>\n",
              "      <th>year_construction</th>\n",
              "      <th>space</th>\n",
              "      <th>cold_rent</th>\n",
              "      <th>utilities</th>\n",
              "      <th>heating_costs</th>\n",
              "      <th>security_deposit</th>\n",
              "      <th>parking_space</th>\n",
              "      <th>renovated_date</th>\n",
              "      <th>property_condition</th>\n",
              "      <th>furnishing</th>\n",
              "      <th>heating_type</th>\n",
              "      <th>energy_sources</th>\n",
              "      <th>energy_certificate</th>\n",
              "      <th>type_of_certificate</th>\n",
              "      <th>energy_requirement</th>\n",
              "      <th>efficiency_class</th>\n",
              "      <th>deposit_cleaned</th>\n",
              "      <th>n_missing</th>\n",
              "    </tr>\n",
              "  </thead>\n",
              "  <tbody>\n",
              "    <tr>\n",
              "      <th>14</th>\n",
              "      <td>https://www.immobilienscout24.de/expose/116361020</td>\n",
              "      <td>Tiergarten</td>\n",
              "      <td>first_time_use</td>\n",
              "      <td>2.0</td>\n",
              "      <td>1399.65</td>\n",
              "      <td>2019</td>\n",
              "      <td>66.65</td>\n",
              "      <td>1.199,70€</td>\n",
              "      <td>+133,30€</td>\n",
              "      <td>+66,65€</td>\n",
              "      <td>2400</td>\n",
              "      <td>NaN</td>\n",
              "      <td>2019.0</td>\n",
              "      <td>New</td>\n",
              "      <td>Gehobene Qualität</td>\n",
              "      <td>District Heating</td>\n",
              "      <td>Fernwärme Energieausweis liegt vor</td>\n",
              "      <td>liegt vor</td>\n",
              "      <td>Bedarfsausweis</td>\n",
              "      <td>66,2 kWh/(m²*a)</td>\n",
              "      <td>B</td>\n",
              "      <td>2400.0</td>\n",
              "      <td>1</td>\n",
              "    </tr>\n",
              "    <tr>\n",
              "      <th>29</th>\n",
              "      <td>https://www.immobilienscout24.de/expose/116326551</td>\n",
              "      <td>Charlottenburg</td>\n",
              "      <td>mint_condition</td>\n",
              "      <td>2.0</td>\n",
              "      <td>1810.00</td>\n",
              "      <td>2016</td>\n",
              "      <td>100.47</td>\n",
              "      <td>1.550€</td>\n",
              "      <td>+250€</td>\n",
              "      <td>in</td>\n",
              "      <td>4650.00</td>\n",
              "      <td>150€</td>\n",
              "      <td>NaN</td>\n",
              "      <td>Mint Condition</td>\n",
              "      <td>Luxus</td>\n",
              "      <td>Central Heating</td>\n",
              "      <td>Fernwärme Energieausweis liegt vor</td>\n",
              "      <td>liegt vor</td>\n",
              "      <td>Bedarfsausweis</td>\n",
              "      <td>58 kWh/(m²*a)</td>\n",
              "      <td>B</td>\n",
              "      <td>4650.0</td>\n",
              "      <td>1</td>\n",
              "    </tr>\n",
              "    <tr>\n",
              "      <th>43</th>\n",
              "      <td>https://www.immobilienscout24.de/expose/116436290</td>\n",
              "      <td>Mitte</td>\n",
              "      <td>no_information</td>\n",
              "      <td>4.0</td>\n",
              "      <td>3677.70</td>\n",
              "      <td>2016</td>\n",
              "      <td>125.54</td>\n",
              "      <td>3.050€</td>\n",
              "      <td>+426,84€</td>\n",
              "      <td>+200,86€</td>\n",
              "      <td>9150</td>\n",
              "      <td>200€</td>\n",
              "      <td>2016.0</td>\n",
              "      <td>NaN</td>\n",
              "      <td>Luxus</td>\n",
              "      <td>District Heating</td>\n",
              "      <td>Fernwärme Energieausweis liegt vor</td>\n",
              "      <td>liegt vor</td>\n",
              "      <td>Bedarfsausweis</td>\n",
              "      <td>74 kWh/(m²*a)</td>\n",
              "      <td>B</td>\n",
              "      <td>9150.0</td>\n",
              "      <td>1</td>\n",
              "    </tr>\n",
              "  </tbody>\n",
              "</table>\n",
              "</div>"
            ],
            "text/plain": [
              "                                                  url  ... n_missing\n",
              "14  https://www.immobilienscout24.de/expose/116361020  ...         1\n",
              "29  https://www.immobilienscout24.de/expose/116326551  ...         1\n",
              "43  https://www.immobilienscout24.de/expose/116436290  ...         1\n",
              "\n",
              "[3 rows x 23 columns]"
            ]
          },
          "metadata": {
            "tags": []
          },
          "execution_count": 41
        }
      ]
    },
    {
      "cell_type": "code",
      "metadata": {
        "id": "qjbpPkoZbI_n"
      },
      "source": [
        "def fill_missing_security_deposit(row):\n",
        "  \n",
        "    # if the value isn't missing, return the value\n",
        "    if not pd.isna(row.deposit_cleaned):\n",
        "        return row.deposit_cleaned\n",
        "  \n",
        "    # if there is only one missing value, return 0. Otherwise return 3 months of rent\n",
        "    if row.n_missing == 1:\n",
        "        return 0\n",
        "    else:\n",
        "        return row.rent * 3"
      ],
      "execution_count": null,
      "outputs": []
    },
    {
      "cell_type": "code",
      "metadata": {
        "id": "12Ystgy0bI_r"
      },
      "source": [
        "df['deposit_cleaned'] = df.apply(fill_missing_security_deposit, axis=1)"
      ],
      "execution_count": null,
      "outputs": []
    },
    {
      "cell_type": "code",
      "metadata": {
        "id": "56Q8mFJHbI_u",
        "colab": {
          "base_uri": "https://localhost:8080/",
          "height": 542
        },
        "outputId": "109cad21-e44e-46ef-cc18-0933ef375a8e"
      },
      "source": [
        "px.histogram(df, x=\"deposit_cleaned\", marginal='box')"
      ],
      "execution_count": null,
      "outputs": [
        {
          "output_type": "display_data",
          "data": {
            "text/html": [
              "<html>\n",
              "<head><meta charset=\"utf-8\" /></head>\n",
              "<body>\n",
              "    <div>\n",
              "            <script src=\"https://cdnjs.cloudflare.com/ajax/libs/mathjax/2.7.5/MathJax.js?config=TeX-AMS-MML_SVG\"></script><script type=\"text/javascript\">if (window.MathJax) {MathJax.Hub.Config({SVG: {font: \"STIX-Web\"}});}</script>\n",
              "                <script type=\"text/javascript\">window.PlotlyConfig = {MathJaxConfig: 'local'};</script>\n",
              "        <script src=\"https://cdn.plot.ly/plotly-latest.min.js\"></script>    \n",
              "            <div id=\"97a4434e-b484-40b0-8d1f-49f6a2ad6099\" class=\"plotly-graph-div\" style=\"height:525px; width:100%;\"></div>\n",
              "            <script type=\"text/javascript\">\n",
              "                \n",
              "                    window.PLOTLYENV=window.PLOTLYENV || {};\n",
              "                    \n",
              "                if (document.getElementById(\"97a4434e-b484-40b0-8d1f-49f6a2ad6099\")) {\n",
              "                    Plotly.newPlot(\n",
              "                        '97a4434e-b484-40b0-8d1f-49f6a2ad6099',\n",
              "                        [{\"alignmentgroup\": \"True\", \"bingroup\": \"x\", \"hoverlabel\": {\"namelength\": 0}, \"hovertemplate\": \"deposit_cleaned=%{x}<br>count=%{y}\", \"legendgroup\": \"\", \"marker\": {\"color\": \"#636efa\"}, \"name\": \"\", \"offsetgroup\": \"\", \"orientation\": \"v\", \"showlegend\": false, \"type\": \"histogram\", \"x\": [7977.0, 2920.53, 2937.0, 5490.66, 6816.0, 2520.0, 4528.35, 2192.19, 1685.79, 5367.0, 7497.0, 6984.0, 7500.0, 19350.0, 2400.0, 4516.799999999999, 3507.42, 2000.0, 2139.78, 5397.0, 5487.0, 3885.0, 5493.0, 3180.0, 7950.0, 4152.0, 2145.0, 3713.49, 6870.0, 4650.0, 6960.0, 6690.0, 6465.0, 7982.700000000001, 4283.46, 9510.0, 1500.0, 2547.7200000000003, 1974.33, 4020.0, 7299.0, 9825.0, 933.1200000000001, 9150.0, 4545.0, 2809.32, 2316.0, 1439.6100000000001, 3706.66, 1533.4499999999998, 2535.0, 6900.0, 5994.0, 6000.0, 7470.0, 2928.0, 5172.0, 2877.0, 2145.0, 6215.7, 11475.0, 14850.0, 3147.0, 4197.0, 4920.0, 4494.0, 2667.0, 2600.0, 12900.0, 3000.0, 5847.78, 3450.0, 5000.0, 4695.0, 4650.0, 4274.25, 13200.0, 5070.0, 10000.0, 3568.44, 4710.0, 3000.0, 8040.0, 3620.0, 1350.0, 4560.0, 3075.0, 5370.0, 5000.0, 4830.0, 1690.0, 2382.0, 1790.0, 9684.75, 8586.0, 2990.0, 1490.0, 1150.3799999999999, 2616.21, 2700.0, 11197.92, 12864.0, 9754.98, 13500.0, 6713.34, 6000.0, 10087.23, 10992.75, 6240.0, 6681.0, 5250.0, 6900.0, 9960.0, 6960.0, 3159.0, 3627.0, 2970.0, 13425.0, 4350.0, 17790.0, 6229.14, 5010.0, 4497.0, 4333.9, 4650.0, 3000.0, 3960.0, 2013.0, 4365.0, 2841.0, 4846.71, 4440.0, 4000.0, 7665.0, 2850.72, 3300.75, 4899.0, 9885.0, 2344.0, 3900.0, 3900.0, 3645.0, 2397.0, 4500.0, 3900.0, 2970.0, 5120.43, 3900.0, 9718.0, 3597.0, 3900.0, 5649.8099999999995, 1322.82, 2970.0, 3780.0, 10779.51, 3720.0, 2205.0, 6750.0, 5021.85, 4800.0, 2757.0, 1265.6100000000001, 4159.29, 2157.0, 2157.0, 2157.0, 1500.0, 5703.0, 1488.3899999999999, 1947.0, 2685.0, 2157.0, 6597.0, 1749.09, 3582.0, 8997.0, 813.75, 1376.73, 1301.1299999999999, 4691.25, 5100.0, 2012.58, 3630.0, 3798.8999999999996, 4995.0, 9000.0, 3348.0, 5109.0, 6540.0, 2549.79, 7112.13, 4935.0, 2320.8, 3831.0, 2274.0, 9180.0, 2850.0, 2960.0, 5616.0, 5121.0, 4362.54, 2212.4700000000003, 4584.75, 2115.18, 1817.3999999999999, 1222.26, 4199.76, 4199.76, 4771.17, 4680.0, 1226.34, 4396.86, 5073.0, 4875.0, 6372.87, 4350.0, 3500.0, 4080.0, 5691.6, 12577.89, 4350.0, 4050.0, 7586.58, 5400.0, 2338.0, 4440.0, 8010.0, 2073.87, 5805.51, 3279.4800000000005, 5940.0, 2700.69, 2662.59, 1864.1399999999999, 7740.0, 6372.87, 5351.67, 2024.3999999999999, 1307.22, 8100.0, 1134.42, 3859.17, 5630.34, 13500.0, 29322.0, 4191.0, 5692.5, 2630.43, 5961.12, 6552.0, 7232.400000000001, 7038.0, 2700.0, 1797.0, 3774.0, 3345.0, 6750.0, 2005.1999999999998, 4500.0, 3360.0, 5148.0, 4050.0, 4500.0, 2657.04, 1968.3000000000002, 2472.0, 1467.21, 12000.0, 6300.0, 1947.0, 5394.0, 4197.0, 2727.0, 1696.8899999999999, 2667.0, 5400.0, 4845.0, 1058.85, 8991.0, 1213.17, 20566.44, 842.22, 1554.0, 6540.0, 12977.07, 7476.150000000001, 6966.0599999999995, 4950.0, 6600.0, 6833.73, 2535.0, 2313.0, 4714.32, 2040.0, 2409.0, 2379.0, 4671.84, 6960.0, 3903.3900000000003, 2190.0, 3030.93, 5791.14, 1727.76, 3543.8999999999996, 6130.47, 9025.5, 6345.0, 4590.0, 8202.0, 4500.0, 4470.0, 3121.5299999999997, 1643.6999999999998, 10080.0, 3543.8999999999996, 3750.0, 7575.0, 1799.22, 4676.4, 4771.049999999999, 6477.599999999999, 1740.48, 7650.0, 2881.14, 4483.92, 5451.0, 5355.0, 17324.489999999998, 2265.8999999999996, 5850.0, 4350.0, 7215.0, 4479.0, 4170.0, 2277.0, 3900.0, 2633.13, 5535.0, 6180.0, 4320.0, 7455.0, 3600.0, 2340.0, 10140.0, 7494.0, 2850.0, 3166.29, 5160.0, 5940.0, 7125.0, 2902.2, 5355.0, 7305.0, 4050.0, 5910.0, 3870.0, 4077.0, 5100.0, 3410.16, 4500.0, 3750.0, 6330.0, 5670.0, 3120.0, 2925.0, 5998.41, 4470.0, 3600.0, 6120.0, 1538.79, 3750.0, 3500.0, 8397.0, 3480.0, 2850.0, 4963.17, 2760.0, 2981.88, 14625.0, 4285.92, 2953.2, 2744.61, 2329.41, 2658.1499999999996, 2850.0, 7200.0, 1139.85, 2007.0, 4200.0, 1485.0, 2892.0, 2773.32, 3597.0, 3584.82, 5421.0, 2181.0, 1281.0, 3798.84, 1425.0, 5100.0, 8550.0, 4358.4, 3750.0, 4185.0, 5097.0, 6767.52, 2814.0, 4950.0, 4950.0, 8445.0, 4950.0, 3483.0, 5196.6, 1691.73, 1928.31, 4950.0, 1260.27, 2425.38, 1860.0, 6579.0, 2500.0, 2115.0, 2286.45, 1600.0, 2661.0, 4110.0, 1200.0, 2136.0, 2946.0, 3738.0, 5265.0, 3686.25, 5259.0, 3671.94, 2055.0, 4297.799999999999, 4590.0, 6150.0, 7453.86, 4696.200000000001, 5342.700000000001, 6237.0599999999995, 4650.0, 4905.0, 2304.0, 10500.0, 1755.0, 2426.0, 6900.0, 3450.0, 2400.0, 2040.0, 4827.299999999999, 6960.0, 3090.0, 1941.1499999999999, 9271.2, 2085.0, 2097.8999999999996, 2538.0, 3374.79, 6570.0, 8676.75, 6675.0, 5247.96, 9333.0, 6945.0, 4009.2300000000005, 9792.0, 5564.9400000000005, 1710.0, 3973.0, 1000.0, 4506.0, 3045.0, 4200.0, 2475.0, 4497.0, 6210.0, 2628.0, 6960.0, 5100.0, 1969.5, 2250.0, 1755.0, 4650.0, 4500.0, 4980.0, 5070.0, 1074.6, 3900.0, 8997.0, 2010.09, 2580.0, 6807.0, 2844.3, 1974.0, 3685.0, 2907.0, 3527.16, 3600.0, 5502.0, 4048.74, 2253.0, 3230.0, 5775.0, 4698.0, 3158.0, 4341.0, 5310.0, 4029.0, 2250.0, 1688.4, 3844.5, 2929.5, 2953.5, 1695.48, 6510.0, 6510.0, 2985.0, 3750.0, 2985.0, 2764.77, 3710.16, 3270.0, 5506.2, 2564.0, 2487.0, 1600.0, 4482.0, 2487.0, 4258.0, 7647.0, 3546.0, 4050.0, 8382.24, 3481.6499999999996, 3855.0, 2958.0, 1726.3500000000001, 5127.99, 4605.9, 4069.32, 1563.27, 4197.0, 3831.63, 3354.0, 7937.700000000001, 7891.17, 2440.2, 5718.42, 2880.0, 5400.0, 6796.41, 3552.0, 8100.0, 4918.5599999999995, 2674.95, 4467.0, 14400.0, 4366.83, 7650.0, 4696.68, 8596.47, 6042.63, 5281.11, 3133.0, 6840.0, 13350.0, 4104.0, 1600.0, 4557.0, 4950.0, 4263.0, 3423.0, 3285.0, 3550.0, 5349.24, 2318.0, 5502.0, 2268.0, 3489.0, 7725.0, 2315.0, 7281.0, 3606.0, 7665.0, 3750.18, 4587.0, 17809.199999999997, 17809.199999999997, 14242.800000000001, 5400.0, 14242.800000000001, 7950.0, 14242.800000000001, 6416.039999999999, 3567.2699999999995, 2788.02, 3334.0, 6450.0, 3372.0, 2689.38, 6099.299999999999, 3093.0, 3533.0, 1194.0, 5400.0, 3548.0, 3544.0, 2297.0, 6486.0, 3502.0, 3962.19, 5100.0, 4287.299999999999, 3437.0, 2604.18, 2262.0, 3461.0, 3482.0, 4300.0, 5700.0, 4230.0, 3167.0, 3706.0, 4409.0, 2795.0, 4230.0, 3058.0, 3028.0, 6840.0, 14034.900000000001, 3088.0, 4976.0, 9480.0, 4464.75, 3230.0, 6600.0, 5444.549999999999, 9750.0, 5160.0, 6525.0, 4347.72, 5269.08, 13200.0, 5876.07, 6864.18, 4264.0, 7068.599999999999, 5508.0, 6851.9400000000005, 15300.0, 3087.0, 7464.780000000001, 2787.0, 5693.85, 3627.0, 8947.23, 3706.0, 5265.0, 3188.0, 8160.0, 3204.0, 1312.5, 3762.0, 3058.0, 3684.0, 4409.0, 3355.0, 4552.0, 4519.0, 3141.69, 6207.780000000001, 17629.050000000003, 3154.0, 4271.0, 6858.0, 4976.0, 3630.0, 6315.0, 5793.78, 4338.0, 3059.0, 7890.0, 4047.0, 7500.0, 4300.0, 3543.0, 4702.17, 4101.0, 3297.0, 4684.950000000001, 42621.0, 3007.0, 3189.0, 3500.0, 4326.0, 5091.0, 6781.38, 3905.0, 4759.0, 2500.0, 4185.0, 3747.0, 7665.0, 3745.0, 3028.0, 2000.0, 3882.0, 2000.0, 3963.0, 3942.4500000000003, 6600.0, 2697.0, 3709.5, 11120.49, 4650.0, 1980.0, 2742.0, 7666.77, 8220.0, 5379.0, 3798.0, 3847.5, 4364.22, 7318.799999999999, 5910.0, 8434.14, 1965.0, 4572.0, 4197.0, 6900.0, 6387.0, 4050.0, 10500.0, 2529.0, 4072.38, 3021.0, 1830.0, 11775.0, 3237.0, 1866.0, 4098.0, 2340.0, 2223.0, 2313.0, 12120.0, 5184.0, 3237.0, 2310.0, 6540.0, 2160.0, 6466.5, 1542.0, 2316.0, 5910.0, 2079.0, 2877.0, 1947.0, 8250.0, 3777.0, 2664.0], \"xaxis\": \"x\", \"yaxis\": \"y\"}, {\"alignmentgroup\": \"True\", \"hoverlabel\": {\"namelength\": 0}, \"hovertemplate\": \"deposit_cleaned=%{x}\", \"legendgroup\": \"\", \"marker\": {\"color\": \"#636efa\"}, \"name\": \"\", \"notched\": true, \"offsetgroup\": \"\", \"showlegend\": false, \"type\": \"box\", \"x\": [7977.0, 2920.53, 2937.0, 5490.66, 6816.0, 2520.0, 4528.35, 2192.19, 1685.79, 5367.0, 7497.0, 6984.0, 7500.0, 19350.0, 2400.0, 4516.799999999999, 3507.42, 2000.0, 2139.78, 5397.0, 5487.0, 3885.0, 5493.0, 3180.0, 7950.0, 4152.0, 2145.0, 3713.49, 6870.0, 4650.0, 6960.0, 6690.0, 6465.0, 7982.700000000001, 4283.46, 9510.0, 1500.0, 2547.7200000000003, 1974.33, 4020.0, 7299.0, 9825.0, 933.1200000000001, 9150.0, 4545.0, 2809.32, 2316.0, 1439.6100000000001, 3706.66, 1533.4499999999998, 2535.0, 6900.0, 5994.0, 6000.0, 7470.0, 2928.0, 5172.0, 2877.0, 2145.0, 6215.7, 11475.0, 14850.0, 3147.0, 4197.0, 4920.0, 4494.0, 2667.0, 2600.0, 12900.0, 3000.0, 5847.78, 3450.0, 5000.0, 4695.0, 4650.0, 4274.25, 13200.0, 5070.0, 10000.0, 3568.44, 4710.0, 3000.0, 8040.0, 3620.0, 1350.0, 4560.0, 3075.0, 5370.0, 5000.0, 4830.0, 1690.0, 2382.0, 1790.0, 9684.75, 8586.0, 2990.0, 1490.0, 1150.3799999999999, 2616.21, 2700.0, 11197.92, 12864.0, 9754.98, 13500.0, 6713.34, 6000.0, 10087.23, 10992.75, 6240.0, 6681.0, 5250.0, 6900.0, 9960.0, 6960.0, 3159.0, 3627.0, 2970.0, 13425.0, 4350.0, 17790.0, 6229.14, 5010.0, 4497.0, 4333.9, 4650.0, 3000.0, 3960.0, 2013.0, 4365.0, 2841.0, 4846.71, 4440.0, 4000.0, 7665.0, 2850.72, 3300.75, 4899.0, 9885.0, 2344.0, 3900.0, 3900.0, 3645.0, 2397.0, 4500.0, 3900.0, 2970.0, 5120.43, 3900.0, 9718.0, 3597.0, 3900.0, 5649.8099999999995, 1322.82, 2970.0, 3780.0, 10779.51, 3720.0, 2205.0, 6750.0, 5021.85, 4800.0, 2757.0, 1265.6100000000001, 4159.29, 2157.0, 2157.0, 2157.0, 1500.0, 5703.0, 1488.3899999999999, 1947.0, 2685.0, 2157.0, 6597.0, 1749.09, 3582.0, 8997.0, 813.75, 1376.73, 1301.1299999999999, 4691.25, 5100.0, 2012.58, 3630.0, 3798.8999999999996, 4995.0, 9000.0, 3348.0, 5109.0, 6540.0, 2549.79, 7112.13, 4935.0, 2320.8, 3831.0, 2274.0, 9180.0, 2850.0, 2960.0, 5616.0, 5121.0, 4362.54, 2212.4700000000003, 4584.75, 2115.18, 1817.3999999999999, 1222.26, 4199.76, 4199.76, 4771.17, 4680.0, 1226.34, 4396.86, 5073.0, 4875.0, 6372.87, 4350.0, 3500.0, 4080.0, 5691.6, 12577.89, 4350.0, 4050.0, 7586.58, 5400.0, 2338.0, 4440.0, 8010.0, 2073.87, 5805.51, 3279.4800000000005, 5940.0, 2700.69, 2662.59, 1864.1399999999999, 7740.0, 6372.87, 5351.67, 2024.3999999999999, 1307.22, 8100.0, 1134.42, 3859.17, 5630.34, 13500.0, 29322.0, 4191.0, 5692.5, 2630.43, 5961.12, 6552.0, 7232.400000000001, 7038.0, 2700.0, 1797.0, 3774.0, 3345.0, 6750.0, 2005.1999999999998, 4500.0, 3360.0, 5148.0, 4050.0, 4500.0, 2657.04, 1968.3000000000002, 2472.0, 1467.21, 12000.0, 6300.0, 1947.0, 5394.0, 4197.0, 2727.0, 1696.8899999999999, 2667.0, 5400.0, 4845.0, 1058.85, 8991.0, 1213.17, 20566.44, 842.22, 1554.0, 6540.0, 12977.07, 7476.150000000001, 6966.0599999999995, 4950.0, 6600.0, 6833.73, 2535.0, 2313.0, 4714.32, 2040.0, 2409.0, 2379.0, 4671.84, 6960.0, 3903.3900000000003, 2190.0, 3030.93, 5791.14, 1727.76, 3543.8999999999996, 6130.47, 9025.5, 6345.0, 4590.0, 8202.0, 4500.0, 4470.0, 3121.5299999999997, 1643.6999999999998, 10080.0, 3543.8999999999996, 3750.0, 7575.0, 1799.22, 4676.4, 4771.049999999999, 6477.599999999999, 1740.48, 7650.0, 2881.14, 4483.92, 5451.0, 5355.0, 17324.489999999998, 2265.8999999999996, 5850.0, 4350.0, 7215.0, 4479.0, 4170.0, 2277.0, 3900.0, 2633.13, 5535.0, 6180.0, 4320.0, 7455.0, 3600.0, 2340.0, 10140.0, 7494.0, 2850.0, 3166.29, 5160.0, 5940.0, 7125.0, 2902.2, 5355.0, 7305.0, 4050.0, 5910.0, 3870.0, 4077.0, 5100.0, 3410.16, 4500.0, 3750.0, 6330.0, 5670.0, 3120.0, 2925.0, 5998.41, 4470.0, 3600.0, 6120.0, 1538.79, 3750.0, 3500.0, 8397.0, 3480.0, 2850.0, 4963.17, 2760.0, 2981.88, 14625.0, 4285.92, 2953.2, 2744.61, 2329.41, 2658.1499999999996, 2850.0, 7200.0, 1139.85, 2007.0, 4200.0, 1485.0, 2892.0, 2773.32, 3597.0, 3584.82, 5421.0, 2181.0, 1281.0, 3798.84, 1425.0, 5100.0, 8550.0, 4358.4, 3750.0, 4185.0, 5097.0, 6767.52, 2814.0, 4950.0, 4950.0, 8445.0, 4950.0, 3483.0, 5196.6, 1691.73, 1928.31, 4950.0, 1260.27, 2425.38, 1860.0, 6579.0, 2500.0, 2115.0, 2286.45, 1600.0, 2661.0, 4110.0, 1200.0, 2136.0, 2946.0, 3738.0, 5265.0, 3686.25, 5259.0, 3671.94, 2055.0, 4297.799999999999, 4590.0, 6150.0, 7453.86, 4696.200000000001, 5342.700000000001, 6237.0599999999995, 4650.0, 4905.0, 2304.0, 10500.0, 1755.0, 2426.0, 6900.0, 3450.0, 2400.0, 2040.0, 4827.299999999999, 6960.0, 3090.0, 1941.1499999999999, 9271.2, 2085.0, 2097.8999999999996, 2538.0, 3374.79, 6570.0, 8676.75, 6675.0, 5247.96, 9333.0, 6945.0, 4009.2300000000005, 9792.0, 5564.9400000000005, 1710.0, 3973.0, 1000.0, 4506.0, 3045.0, 4200.0, 2475.0, 4497.0, 6210.0, 2628.0, 6960.0, 5100.0, 1969.5, 2250.0, 1755.0, 4650.0, 4500.0, 4980.0, 5070.0, 1074.6, 3900.0, 8997.0, 2010.09, 2580.0, 6807.0, 2844.3, 1974.0, 3685.0, 2907.0, 3527.16, 3600.0, 5502.0, 4048.74, 2253.0, 3230.0, 5775.0, 4698.0, 3158.0, 4341.0, 5310.0, 4029.0, 2250.0, 1688.4, 3844.5, 2929.5, 2953.5, 1695.48, 6510.0, 6510.0, 2985.0, 3750.0, 2985.0, 2764.77, 3710.16, 3270.0, 5506.2, 2564.0, 2487.0, 1600.0, 4482.0, 2487.0, 4258.0, 7647.0, 3546.0, 4050.0, 8382.24, 3481.6499999999996, 3855.0, 2958.0, 1726.3500000000001, 5127.99, 4605.9, 4069.32, 1563.27, 4197.0, 3831.63, 3354.0, 7937.700000000001, 7891.17, 2440.2, 5718.42, 2880.0, 5400.0, 6796.41, 3552.0, 8100.0, 4918.5599999999995, 2674.95, 4467.0, 14400.0, 4366.83, 7650.0, 4696.68, 8596.47, 6042.63, 5281.11, 3133.0, 6840.0, 13350.0, 4104.0, 1600.0, 4557.0, 4950.0, 4263.0, 3423.0, 3285.0, 3550.0, 5349.24, 2318.0, 5502.0, 2268.0, 3489.0, 7725.0, 2315.0, 7281.0, 3606.0, 7665.0, 3750.18, 4587.0, 17809.199999999997, 17809.199999999997, 14242.800000000001, 5400.0, 14242.800000000001, 7950.0, 14242.800000000001, 6416.039999999999, 3567.2699999999995, 2788.02, 3334.0, 6450.0, 3372.0, 2689.38, 6099.299999999999, 3093.0, 3533.0, 1194.0, 5400.0, 3548.0, 3544.0, 2297.0, 6486.0, 3502.0, 3962.19, 5100.0, 4287.299999999999, 3437.0, 2604.18, 2262.0, 3461.0, 3482.0, 4300.0, 5700.0, 4230.0, 3167.0, 3706.0, 4409.0, 2795.0, 4230.0, 3058.0, 3028.0, 6840.0, 14034.900000000001, 3088.0, 4976.0, 9480.0, 4464.75, 3230.0, 6600.0, 5444.549999999999, 9750.0, 5160.0, 6525.0, 4347.72, 5269.08, 13200.0, 5876.07, 6864.18, 4264.0, 7068.599999999999, 5508.0, 6851.9400000000005, 15300.0, 3087.0, 7464.780000000001, 2787.0, 5693.85, 3627.0, 8947.23, 3706.0, 5265.0, 3188.0, 8160.0, 3204.0, 1312.5, 3762.0, 3058.0, 3684.0, 4409.0, 3355.0, 4552.0, 4519.0, 3141.69, 6207.780000000001, 17629.050000000003, 3154.0, 4271.0, 6858.0, 4976.0, 3630.0, 6315.0, 5793.78, 4338.0, 3059.0, 7890.0, 4047.0, 7500.0, 4300.0, 3543.0, 4702.17, 4101.0, 3297.0, 4684.950000000001, 42621.0, 3007.0, 3189.0, 3500.0, 4326.0, 5091.0, 6781.38, 3905.0, 4759.0, 2500.0, 4185.0, 3747.0, 7665.0, 3745.0, 3028.0, 2000.0, 3882.0, 2000.0, 3963.0, 3942.4500000000003, 6600.0, 2697.0, 3709.5, 11120.49, 4650.0, 1980.0, 2742.0, 7666.77, 8220.0, 5379.0, 3798.0, 3847.5, 4364.22, 7318.799999999999, 5910.0, 8434.14, 1965.0, 4572.0, 4197.0, 6900.0, 6387.0, 4050.0, 10500.0, 2529.0, 4072.38, 3021.0, 1830.0, 11775.0, 3237.0, 1866.0, 4098.0, 2340.0, 2223.0, 2313.0, 12120.0, 5184.0, 3237.0, 2310.0, 6540.0, 2160.0, 6466.5, 1542.0, 2316.0, 5910.0, 2079.0, 2877.0, 1947.0, 8250.0, 3777.0, 2664.0], \"xaxis\": \"x2\", \"yaxis\": \"y2\"}],\n",
              "                        {\"barmode\": \"relative\", \"legend\": {\"tracegroupgap\": 0}, \"margin\": {\"t\": 60}, \"template\": {\"data\": {\"bar\": [{\"error_x\": {\"color\": \"#2a3f5f\"}, \"error_y\": {\"color\": \"#2a3f5f\"}, \"marker\": {\"line\": {\"color\": \"#E5ECF6\", \"width\": 0.5}}, \"type\": \"bar\"}], \"barpolar\": [{\"marker\": {\"line\": {\"color\": \"#E5ECF6\", \"width\": 0.5}}, \"type\": \"barpolar\"}], \"carpet\": [{\"aaxis\": {\"endlinecolor\": \"#2a3f5f\", \"gridcolor\": \"white\", \"linecolor\": \"white\", \"minorgridcolor\": \"white\", \"startlinecolor\": \"#2a3f5f\"}, \"baxis\": {\"endlinecolor\": \"#2a3f5f\", \"gridcolor\": \"white\", \"linecolor\": \"white\", \"minorgridcolor\": \"white\", \"startlinecolor\": \"#2a3f5f\"}, \"type\": \"carpet\"}], \"choropleth\": [{\"colorbar\": {\"outlinewidth\": 0, \"ticks\": \"\"}, \"type\": \"choropleth\"}], \"contour\": [{\"colorbar\": {\"outlinewidth\": 0, \"ticks\": \"\"}, \"colorscale\": [[0.0, \"#0d0887\"], [0.1111111111111111, \"#46039f\"], [0.2222222222222222, \"#7201a8\"], [0.3333333333333333, \"#9c179e\"], [0.4444444444444444, \"#bd3786\"], [0.5555555555555556, \"#d8576b\"], [0.6666666666666666, \"#ed7953\"], [0.7777777777777778, \"#fb9f3a\"], [0.8888888888888888, \"#fdca26\"], [1.0, \"#f0f921\"]], \"type\": \"contour\"}], \"contourcarpet\": [{\"colorbar\": {\"outlinewidth\": 0, \"ticks\": \"\"}, \"type\": \"contourcarpet\"}], \"heatmap\": [{\"colorbar\": {\"outlinewidth\": 0, \"ticks\": \"\"}, \"colorscale\": [[0.0, \"#0d0887\"], [0.1111111111111111, \"#46039f\"], [0.2222222222222222, \"#7201a8\"], [0.3333333333333333, \"#9c179e\"], [0.4444444444444444, \"#bd3786\"], [0.5555555555555556, \"#d8576b\"], [0.6666666666666666, \"#ed7953\"], [0.7777777777777778, \"#fb9f3a\"], [0.8888888888888888, \"#fdca26\"], [1.0, \"#f0f921\"]], \"type\": \"heatmap\"}], \"heatmapgl\": [{\"colorbar\": {\"outlinewidth\": 0, \"ticks\": \"\"}, \"colorscale\": [[0.0, \"#0d0887\"], [0.1111111111111111, \"#46039f\"], [0.2222222222222222, \"#7201a8\"], [0.3333333333333333, \"#9c179e\"], [0.4444444444444444, \"#bd3786\"], [0.5555555555555556, \"#d8576b\"], [0.6666666666666666, \"#ed7953\"], [0.7777777777777778, \"#fb9f3a\"], [0.8888888888888888, \"#fdca26\"], [1.0, \"#f0f921\"]], \"type\": \"heatmapgl\"}], \"histogram\": [{\"marker\": {\"colorbar\": {\"outlinewidth\": 0, \"ticks\": \"\"}}, \"type\": \"histogram\"}], \"histogram2d\": [{\"colorbar\": {\"outlinewidth\": 0, \"ticks\": \"\"}, \"colorscale\": [[0.0, \"#0d0887\"], [0.1111111111111111, \"#46039f\"], [0.2222222222222222, \"#7201a8\"], [0.3333333333333333, \"#9c179e\"], [0.4444444444444444, \"#bd3786\"], [0.5555555555555556, \"#d8576b\"], [0.6666666666666666, \"#ed7953\"], [0.7777777777777778, \"#fb9f3a\"], [0.8888888888888888, \"#fdca26\"], [1.0, \"#f0f921\"]], \"type\": \"histogram2d\"}], \"histogram2dcontour\": [{\"colorbar\": {\"outlinewidth\": 0, \"ticks\": \"\"}, \"colorscale\": [[0.0, \"#0d0887\"], [0.1111111111111111, \"#46039f\"], [0.2222222222222222, \"#7201a8\"], [0.3333333333333333, \"#9c179e\"], [0.4444444444444444, \"#bd3786\"], [0.5555555555555556, \"#d8576b\"], [0.6666666666666666, \"#ed7953\"], [0.7777777777777778, \"#fb9f3a\"], [0.8888888888888888, \"#fdca26\"], [1.0, \"#f0f921\"]], \"type\": \"histogram2dcontour\"}], \"mesh3d\": [{\"colorbar\": {\"outlinewidth\": 0, \"ticks\": \"\"}, \"type\": \"mesh3d\"}], \"parcoords\": [{\"line\": {\"colorbar\": {\"outlinewidth\": 0, \"ticks\": \"\"}}, \"type\": \"parcoords\"}], \"pie\": [{\"automargin\": true, \"type\": \"pie\"}], \"scatter\": [{\"marker\": {\"colorbar\": {\"outlinewidth\": 0, \"ticks\": \"\"}}, \"type\": \"scatter\"}], \"scatter3d\": [{\"line\": {\"colorbar\": {\"outlinewidth\": 0, \"ticks\": \"\"}}, \"marker\": {\"colorbar\": {\"outlinewidth\": 0, \"ticks\": \"\"}}, \"type\": \"scatter3d\"}], \"scattercarpet\": [{\"marker\": {\"colorbar\": {\"outlinewidth\": 0, \"ticks\": \"\"}}, \"type\": \"scattercarpet\"}], \"scattergeo\": [{\"marker\": {\"colorbar\": {\"outlinewidth\": 0, \"ticks\": \"\"}}, \"type\": \"scattergeo\"}], \"scattergl\": [{\"marker\": {\"colorbar\": {\"outlinewidth\": 0, \"ticks\": \"\"}}, \"type\": \"scattergl\"}], \"scattermapbox\": [{\"marker\": {\"colorbar\": {\"outlinewidth\": 0, \"ticks\": \"\"}}, \"type\": \"scattermapbox\"}], \"scatterpolar\": [{\"marker\": {\"colorbar\": {\"outlinewidth\": 0, \"ticks\": \"\"}}, \"type\": \"scatterpolar\"}], \"scatterpolargl\": [{\"marker\": {\"colorbar\": {\"outlinewidth\": 0, \"ticks\": \"\"}}, \"type\": \"scatterpolargl\"}], \"scatterternary\": [{\"marker\": {\"colorbar\": {\"outlinewidth\": 0, \"ticks\": \"\"}}, \"type\": \"scatterternary\"}], \"surface\": [{\"colorbar\": {\"outlinewidth\": 0, \"ticks\": \"\"}, \"colorscale\": [[0.0, \"#0d0887\"], [0.1111111111111111, \"#46039f\"], [0.2222222222222222, \"#7201a8\"], [0.3333333333333333, \"#9c179e\"], [0.4444444444444444, \"#bd3786\"], [0.5555555555555556, \"#d8576b\"], [0.6666666666666666, \"#ed7953\"], [0.7777777777777778, \"#fb9f3a\"], [0.8888888888888888, \"#fdca26\"], [1.0, \"#f0f921\"]], \"type\": \"surface\"}], \"table\": [{\"cells\": {\"fill\": {\"color\": \"#EBF0F8\"}, \"line\": {\"color\": \"white\"}}, \"header\": {\"fill\": {\"color\": \"#C8D4E3\"}, \"line\": {\"color\": \"white\"}}, \"type\": \"table\"}]}, \"layout\": {\"annotationdefaults\": {\"arrowcolor\": \"#2a3f5f\", \"arrowhead\": 0, \"arrowwidth\": 1}, \"coloraxis\": {\"colorbar\": {\"outlinewidth\": 0, \"ticks\": \"\"}}, \"colorscale\": {\"diverging\": [[0, \"#8e0152\"], [0.1, \"#c51b7d\"], [0.2, \"#de77ae\"], [0.3, \"#f1b6da\"], [0.4, \"#fde0ef\"], [0.5, \"#f7f7f7\"], [0.6, \"#e6f5d0\"], [0.7, \"#b8e186\"], [0.8, \"#7fbc41\"], [0.9, \"#4d9221\"], [1, \"#276419\"]], \"sequential\": [[0.0, \"#0d0887\"], [0.1111111111111111, \"#46039f\"], [0.2222222222222222, \"#7201a8\"], [0.3333333333333333, \"#9c179e\"], [0.4444444444444444, \"#bd3786\"], [0.5555555555555556, \"#d8576b\"], [0.6666666666666666, \"#ed7953\"], [0.7777777777777778, \"#fb9f3a\"], [0.8888888888888888, \"#fdca26\"], [1.0, \"#f0f921\"]], \"sequentialminus\": [[0.0, \"#0d0887\"], [0.1111111111111111, \"#46039f\"], [0.2222222222222222, \"#7201a8\"], [0.3333333333333333, \"#9c179e\"], [0.4444444444444444, \"#bd3786\"], [0.5555555555555556, \"#d8576b\"], [0.6666666666666666, \"#ed7953\"], [0.7777777777777778, \"#fb9f3a\"], [0.8888888888888888, \"#fdca26\"], [1.0, \"#f0f921\"]]}, \"colorway\": [\"#636efa\", \"#EF553B\", \"#00cc96\", \"#ab63fa\", \"#FFA15A\", \"#19d3f3\", \"#FF6692\", \"#B6E880\", \"#FF97FF\", \"#FECB52\"], \"font\": {\"color\": \"#2a3f5f\"}, \"geo\": {\"bgcolor\": \"white\", \"lakecolor\": \"white\", \"landcolor\": \"#E5ECF6\", \"showlakes\": true, \"showland\": true, \"subunitcolor\": \"white\"}, \"hoverlabel\": {\"align\": \"left\"}, \"hovermode\": \"closest\", \"mapbox\": {\"style\": \"light\"}, \"paper_bgcolor\": \"white\", \"plot_bgcolor\": \"#E5ECF6\", \"polar\": {\"angularaxis\": {\"gridcolor\": \"white\", \"linecolor\": \"white\", \"ticks\": \"\"}, \"bgcolor\": \"#E5ECF6\", \"radialaxis\": {\"gridcolor\": \"white\", \"linecolor\": \"white\", \"ticks\": \"\"}}, \"scene\": {\"xaxis\": {\"backgroundcolor\": \"#E5ECF6\", \"gridcolor\": \"white\", \"gridwidth\": 2, \"linecolor\": \"white\", \"showbackground\": true, \"ticks\": \"\", \"zerolinecolor\": \"white\"}, \"yaxis\": {\"backgroundcolor\": \"#E5ECF6\", \"gridcolor\": \"white\", \"gridwidth\": 2, \"linecolor\": \"white\", \"showbackground\": true, \"ticks\": \"\", \"zerolinecolor\": \"white\"}, \"zaxis\": {\"backgroundcolor\": \"#E5ECF6\", \"gridcolor\": \"white\", \"gridwidth\": 2, \"linecolor\": \"white\", \"showbackground\": true, \"ticks\": \"\", \"zerolinecolor\": \"white\"}}, \"shapedefaults\": {\"line\": {\"color\": \"#2a3f5f\"}}, \"ternary\": {\"aaxis\": {\"gridcolor\": \"white\", \"linecolor\": \"white\", \"ticks\": \"\"}, \"baxis\": {\"gridcolor\": \"white\", \"linecolor\": \"white\", \"ticks\": \"\"}, \"bgcolor\": \"#E5ECF6\", \"caxis\": {\"gridcolor\": \"white\", \"linecolor\": \"white\", \"ticks\": \"\"}}, \"title\": {\"x\": 0.05}, \"xaxis\": {\"automargin\": true, \"gridcolor\": \"white\", \"linecolor\": \"white\", \"ticks\": \"\", \"title\": {\"standoff\": 15}, \"zerolinecolor\": \"white\", \"zerolinewidth\": 2}, \"yaxis\": {\"automargin\": true, \"gridcolor\": \"white\", \"linecolor\": \"white\", \"ticks\": \"\", \"title\": {\"standoff\": 15}, \"zerolinecolor\": \"white\", \"zerolinewidth\": 2}}}, \"xaxis\": {\"anchor\": \"y\", \"domain\": [0.0, 1.0], \"title\": {\"text\": \"deposit_cleaned\"}}, \"xaxis2\": {\"anchor\": \"y2\", \"domain\": [0.0, 1.0], \"matches\": \"x\", \"showgrid\": true, \"showticklabels\": false}, \"yaxis\": {\"anchor\": \"x\", \"domain\": [0.0, 0.8316], \"title\": {\"text\": \"count\"}}, \"yaxis2\": {\"anchor\": \"x2\", \"domain\": [0.8416, 1.0], \"matches\": \"y2\", \"showgrid\": false, \"showline\": false, \"showticklabels\": false, \"ticks\": \"\"}},\n",
              "                        {\"responsive\": true}\n",
              "                    ).then(function(){\n",
              "                            \n",
              "var gd = document.getElementById('97a4434e-b484-40b0-8d1f-49f6a2ad6099');\n",
              "var x = new MutationObserver(function (mutations, observer) {{\n",
              "        var display = window.getComputedStyle(gd).display;\n",
              "        if (!display || display === 'none') {{\n",
              "            console.log([gd, 'removed!']);\n",
              "            Plotly.purge(gd);\n",
              "            observer.disconnect();\n",
              "        }}\n",
              "}});\n",
              "\n",
              "// Listen for the removal of the full notebook cells\n",
              "var notebookContainer = gd.closest('#notebook-container');\n",
              "if (notebookContainer) {{\n",
              "    x.observe(notebookContainer, {childList: true});\n",
              "}}\n",
              "\n",
              "// Listen for the clearing of the current output cell\n",
              "var outputEl = gd.closest('.output');\n",
              "if (outputEl) {{\n",
              "    x.observe(outputEl, {childList: true});\n",
              "}}\n",
              "\n",
              "                        })\n",
              "                };\n",
              "                \n",
              "            </script>\n",
              "        </div>\n",
              "</body>\n",
              "</html>"
            ]
          },
          "metadata": {
            "tags": []
          }
        }
      ]
    },
    {
      "cell_type": "code",
      "metadata": {
        "id": "NeDRk2t9bI_w",
        "colab": {
          "base_uri": "https://localhost:8080/"
        },
        "outputId": "f6c636a4-7cd5-4024-a370-8a41078c58ca"
      },
      "source": [
        "df.deposit_cleaned.agg(['mean', 'median', 'std', 'min', 'max'])"
      ],
      "execution_count": null,
      "outputs": [
        {
          "output_type": "execute_result",
          "data": {
            "text/plain": [
              "mean       4854.710955\n",
              "median     4197.000000\n",
              "std        3295.911843\n",
              "min         813.750000\n",
              "max       42621.000000\n",
              "Name: deposit_cleaned, dtype: float64"
            ]
          },
          "metadata": {
            "tags": []
          },
          "execution_count": 46
        }
      ]
    },
    {
      "cell_type": "code",
      "metadata": {
        "id": "78zmRktIbI_y",
        "colab": {
          "base_uri": "https://localhost:8080/"
        },
        "outputId": "c0f0bed2-6d16-48e5-c02f-084cd55e1073"
      },
      "source": [
        "df.security_deposit.isnull().sum()"
      ],
      "execution_count": null,
      "outputs": [
        {
          "output_type": "execute_result",
          "data": {
            "text/plain": [
              "0"
            ]
          },
          "metadata": {
            "tags": []
          },
          "execution_count": 47
        }
      ]
    },
    {
      "cell_type": "code",
      "metadata": {
        "id": "YJtU_NTrUgDd"
      },
      "source": [
        "tdf = pd.DataFrame({\n",
        "    'val_1': [1, 2, 3, np.nan, np.nan],\n",
        "    'val_2': [1, 2, 3, 4, np.nan],\n",
        "})"
      ],
      "execution_count": null,
      "outputs": []
    },
    {
      "cell_type": "code",
      "metadata": {
        "colab": {
          "base_uri": "https://localhost:8080/",
          "height": 142
        },
        "id": "Wth9v2mCVmPj",
        "outputId": "41139c1e-d6d8-447d-b502-d884df6ed718"
      },
      "source": [
        "tdf.dropna()"
      ],
      "execution_count": null,
      "outputs": [
        {
          "output_type": "execute_result",
          "data": {
            "text/html": [
              "<div>\n",
              "<style scoped>\n",
              "    .dataframe tbody tr th:only-of-type {\n",
              "        vertical-align: middle;\n",
              "    }\n",
              "\n",
              "    .dataframe tbody tr th {\n",
              "        vertical-align: top;\n",
              "    }\n",
              "\n",
              "    .dataframe thead th {\n",
              "        text-align: right;\n",
              "    }\n",
              "</style>\n",
              "<table border=\"1\" class=\"dataframe\">\n",
              "  <thead>\n",
              "    <tr style=\"text-align: right;\">\n",
              "      <th></th>\n",
              "      <th>val_1</th>\n",
              "      <th>val_2</th>\n",
              "    </tr>\n",
              "  </thead>\n",
              "  <tbody>\n",
              "    <tr>\n",
              "      <th>0</th>\n",
              "      <td>1.0</td>\n",
              "      <td>1.0</td>\n",
              "    </tr>\n",
              "    <tr>\n",
              "      <th>1</th>\n",
              "      <td>2.0</td>\n",
              "      <td>2.0</td>\n",
              "    </tr>\n",
              "    <tr>\n",
              "      <th>2</th>\n",
              "      <td>3.0</td>\n",
              "      <td>3.0</td>\n",
              "    </tr>\n",
              "  </tbody>\n",
              "</table>\n",
              "</div>"
            ],
            "text/plain": [
              "   val_1  val_2\n",
              "0    1.0    1.0\n",
              "1    2.0    2.0\n",
              "2    3.0    3.0"
            ]
          },
          "metadata": {
            "tags": []
          },
          "execution_count": 65
        }
      ]
    },
    {
      "cell_type": "code",
      "metadata": {
        "colab": {
          "base_uri": "https://localhost:8080/",
          "height": 173
        },
        "id": "TLwROSfFVocq",
        "outputId": "4880c34b-5fb7-4967-c863-d353750ceb37"
      },
      "source": [
        "tdf.dropna(how='all')"
      ],
      "execution_count": null,
      "outputs": [
        {
          "output_type": "execute_result",
          "data": {
            "text/html": [
              "<div>\n",
              "<style scoped>\n",
              "    .dataframe tbody tr th:only-of-type {\n",
              "        vertical-align: middle;\n",
              "    }\n",
              "\n",
              "    .dataframe tbody tr th {\n",
              "        vertical-align: top;\n",
              "    }\n",
              "\n",
              "    .dataframe thead th {\n",
              "        text-align: right;\n",
              "    }\n",
              "</style>\n",
              "<table border=\"1\" class=\"dataframe\">\n",
              "  <thead>\n",
              "    <tr style=\"text-align: right;\">\n",
              "      <th></th>\n",
              "      <th>val_1</th>\n",
              "      <th>val_2</th>\n",
              "    </tr>\n",
              "  </thead>\n",
              "  <tbody>\n",
              "    <tr>\n",
              "      <th>0</th>\n",
              "      <td>1.0</td>\n",
              "      <td>1.0</td>\n",
              "    </tr>\n",
              "    <tr>\n",
              "      <th>1</th>\n",
              "      <td>2.0</td>\n",
              "      <td>2.0</td>\n",
              "    </tr>\n",
              "    <tr>\n",
              "      <th>2</th>\n",
              "      <td>3.0</td>\n",
              "      <td>3.0</td>\n",
              "    </tr>\n",
              "    <tr>\n",
              "      <th>3</th>\n",
              "      <td>NaN</td>\n",
              "      <td>4.0</td>\n",
              "    </tr>\n",
              "  </tbody>\n",
              "</table>\n",
              "</div>"
            ],
            "text/plain": [
              "   val_1  val_2\n",
              "0    1.0    1.0\n",
              "1    2.0    2.0\n",
              "2    3.0    3.0\n",
              "3    NaN    4.0"
            ]
          },
          "metadata": {
            "tags": []
          },
          "execution_count": 66
        }
      ]
    },
    {
      "cell_type": "code",
      "metadata": {
        "colab": {
          "base_uri": "https://localhost:8080/",
          "height": 204
        },
        "id": "1hl0zjkWU-Bb",
        "outputId": "8399ec13-6930-4f9c-9be7-5e22dbd74c4d"
      },
      "source": [
        "tdf"
      ],
      "execution_count": null,
      "outputs": [
        {
          "output_type": "execute_result",
          "data": {
            "text/html": [
              "<div>\n",
              "<style scoped>\n",
              "    .dataframe tbody tr th:only-of-type {\n",
              "        vertical-align: middle;\n",
              "    }\n",
              "\n",
              "    .dataframe tbody tr th {\n",
              "        vertical-align: top;\n",
              "    }\n",
              "\n",
              "    .dataframe thead th {\n",
              "        text-align: right;\n",
              "    }\n",
              "</style>\n",
              "<table border=\"1\" class=\"dataframe\">\n",
              "  <thead>\n",
              "    <tr style=\"text-align: right;\">\n",
              "      <th></th>\n",
              "      <th>val_1</th>\n",
              "      <th>val_2</th>\n",
              "    </tr>\n",
              "  </thead>\n",
              "  <tbody>\n",
              "    <tr>\n",
              "      <th>0</th>\n",
              "      <td>1.0</td>\n",
              "      <td>1.0</td>\n",
              "    </tr>\n",
              "    <tr>\n",
              "      <th>1</th>\n",
              "      <td>2.0</td>\n",
              "      <td>2.0</td>\n",
              "    </tr>\n",
              "    <tr>\n",
              "      <th>2</th>\n",
              "      <td>3.0</td>\n",
              "      <td>3.0</td>\n",
              "    </tr>\n",
              "    <tr>\n",
              "      <th>3</th>\n",
              "      <td>NaN</td>\n",
              "      <td>4.0</td>\n",
              "    </tr>\n",
              "    <tr>\n",
              "      <th>4</th>\n",
              "      <td>NaN</td>\n",
              "      <td>NaN</td>\n",
              "    </tr>\n",
              "  </tbody>\n",
              "</table>\n",
              "</div>"
            ],
            "text/plain": [
              "   val_1  val_2\n",
              "0    1.0    1.0\n",
              "1    2.0    2.0\n",
              "2    3.0    3.0\n",
              "3    NaN    4.0\n",
              "4    NaN    NaN"
            ]
          },
          "metadata": {
            "tags": []
          },
          "execution_count": 67
        }
      ]
    },
    {
      "cell_type": "code",
      "metadata": {
        "id": "egHxAgCKU-KF"
      },
      "source": [
        "tdf['val_1'] = tdf.val_1.fillna(-99)"
      ],
      "execution_count": null,
      "outputs": []
    },
    {
      "cell_type": "code",
      "metadata": {
        "colab": {
          "base_uri": "https://localhost:8080/",
          "height": 204
        },
        "id": "9nIijmynVWsr",
        "outputId": "0c45a7a7-d43e-4ef4-ea7f-a2e3e484f768"
      },
      "source": [
        "tdf"
      ],
      "execution_count": null,
      "outputs": [
        {
          "output_type": "execute_result",
          "data": {
            "text/html": [
              "<div>\n",
              "<style scoped>\n",
              "    .dataframe tbody tr th:only-of-type {\n",
              "        vertical-align: middle;\n",
              "    }\n",
              "\n",
              "    .dataframe tbody tr th {\n",
              "        vertical-align: top;\n",
              "    }\n",
              "\n",
              "    .dataframe thead th {\n",
              "        text-align: right;\n",
              "    }\n",
              "</style>\n",
              "<table border=\"1\" class=\"dataframe\">\n",
              "  <thead>\n",
              "    <tr style=\"text-align: right;\">\n",
              "      <th></th>\n",
              "      <th>val_1</th>\n",
              "      <th>val_2</th>\n",
              "    </tr>\n",
              "  </thead>\n",
              "  <tbody>\n",
              "    <tr>\n",
              "      <th>0</th>\n",
              "      <td>1.0</td>\n",
              "      <td>1.0</td>\n",
              "    </tr>\n",
              "    <tr>\n",
              "      <th>1</th>\n",
              "      <td>2.0</td>\n",
              "      <td>2.0</td>\n",
              "    </tr>\n",
              "    <tr>\n",
              "      <th>2</th>\n",
              "      <td>3.0</td>\n",
              "      <td>3.0</td>\n",
              "    </tr>\n",
              "    <tr>\n",
              "      <th>3</th>\n",
              "      <td>-99.0</td>\n",
              "      <td>4.0</td>\n",
              "    </tr>\n",
              "    <tr>\n",
              "      <th>4</th>\n",
              "      <td>-99.0</td>\n",
              "      <td>NaN</td>\n",
              "    </tr>\n",
              "  </tbody>\n",
              "</table>\n",
              "</div>"
            ],
            "text/plain": [
              "   val_1  val_2\n",
              "0    1.0    1.0\n",
              "1    2.0    2.0\n",
              "2    3.0    3.0\n",
              "3  -99.0    4.0\n",
              "4  -99.0    NaN"
            ]
          },
          "metadata": {
            "tags": []
          },
          "execution_count": 69
        }
      ]
    },
    {
      "cell_type": "markdown",
      "metadata": {
        "id": "ax6568FAbI_1"
      },
      "source": [
        "## Recap:\n",
        "\n",
        " **Useful methods for dealing with missing data**:\n",
        " - `pd.isna(VALUE)` and  `pd.isnull(VALUE)`: check if a value is `NaN`, returns `boolean`\n",
        " - `df.COLUMN_NAME.isna()` and `df.COLUMN_NAME.isnull()`: check each value in column to see if it is `NaN`, returns `boolean`\n",
        " - `df.dropna()`: will drop **every** row that has a missing value\n",
        "     - optional arguments:\n",
        "         - `axis`: drop the column\n",
        "         - `how`: `any` or `all` drop if `any` value is missing, or `all` values in that row/col are missing\n",
        " - `df.fillna(VALUE_TO_FILL_WITH)`: will fill every missing value (`NaN`) with the value of your choice\n",
        " \n",
        "**NOTE**: na and null do the **exact** same thing in Pandas, even the docs are the same. The duplicate methods are carried over from `R` which treated `na` and `null` as different values."
      ]
    },
    {
      "cell_type": "markdown",
      "metadata": {
        "id": "6tWur5WUbI_1"
      },
      "source": [
        "## Clean `property_condition`"
      ]
    },
    {
      "cell_type": "code",
      "metadata": {
        "id": "tV1Xo5ODbI_2",
        "colab": {
          "base_uri": "https://localhost:8080/"
        },
        "outputId": "cd931248-2c16-47d4-98ce-412c35764c07"
      },
      "source": [
        "(df.isnull().sum() / len(df)).sort_values(ascending = False)"
      ],
      "execution_count": null,
      "outputs": [
        {
          "output_type": "execute_result",
          "data": {
            "text/plain": [
              "parking_space          0.882199\n",
              "renovated_date         0.744764\n",
              "efficiency_class       0.671466\n",
              "energy_requirement     0.573298\n",
              "cold_rent              0.442408\n",
              "utilities              0.442408\n",
              "heating_costs          0.442408\n",
              "furnishing             0.417539\n",
              "energy_certificate     0.409686\n",
              "type_of_certificate    0.388743\n",
              "energy_sources         0.353403\n",
              "property_condition     0.344241\n",
              "heating_type           0.325916\n",
              "rent                   0.000000\n",
              "region                 0.000000\n",
              "condition              0.000000\n",
              "rooms                  0.000000\n",
              "n_missing              0.000000\n",
              "year_construction      0.000000\n",
              "space                  0.000000\n",
              "security_deposit       0.000000\n",
              "deposit_cleaned        0.000000\n",
              "url                    0.000000\n",
              "dtype: float64"
            ]
          },
          "metadata": {
            "tags": []
          },
          "execution_count": 70
        }
      ]
    },
    {
      "cell_type": "code",
      "metadata": {
        "id": "iUuCkDCqbI_4",
        "colab": {
          "base_uri": "https://localhost:8080/",
          "height": 360
        },
        "outputId": "12f4de04-eabe-42f6-b4cb-68c9f21b293e"
      },
      "source": [
        "df.head()"
      ],
      "execution_count": null,
      "outputs": [
        {
          "output_type": "execute_result",
          "data": {
            "text/html": [
              "<div>\n",
              "<style scoped>\n",
              "    .dataframe tbody tr th:only-of-type {\n",
              "        vertical-align: middle;\n",
              "    }\n",
              "\n",
              "    .dataframe tbody tr th {\n",
              "        vertical-align: top;\n",
              "    }\n",
              "\n",
              "    .dataframe thead th {\n",
              "        text-align: right;\n",
              "    }\n",
              "</style>\n",
              "<table border=\"1\" class=\"dataframe\">\n",
              "  <thead>\n",
              "    <tr style=\"text-align: right;\">\n",
              "      <th></th>\n",
              "      <th>url</th>\n",
              "      <th>region</th>\n",
              "      <th>condition</th>\n",
              "      <th>rooms</th>\n",
              "      <th>rent</th>\n",
              "      <th>year_construction</th>\n",
              "      <th>space</th>\n",
              "      <th>cold_rent</th>\n",
              "      <th>utilities</th>\n",
              "      <th>heating_costs</th>\n",
              "      <th>security_deposit</th>\n",
              "      <th>parking_space</th>\n",
              "      <th>renovated_date</th>\n",
              "      <th>property_condition</th>\n",
              "      <th>furnishing</th>\n",
              "      <th>heating_type</th>\n",
              "      <th>energy_sources</th>\n",
              "      <th>energy_certificate</th>\n",
              "      <th>type_of_certificate</th>\n",
              "      <th>energy_requirement</th>\n",
              "      <th>efficiency_class</th>\n",
              "      <th>deposit_cleaned</th>\n",
              "      <th>n_missing</th>\n",
              "    </tr>\n",
              "  </thead>\n",
              "  <tbody>\n",
              "    <tr>\n",
              "      <th>0</th>\n",
              "      <td>https://www.immobilienscout24.de/expose/116051687</td>\n",
              "      <td>Mitte</td>\n",
              "      <td>first_time_use</td>\n",
              "      <td>4.0</td>\n",
              "      <td>2659.00</td>\n",
              "      <td>2019</td>\n",
              "      <td>117.20</td>\n",
              "      <td>2.199€</td>\n",
              "      <td>+460€</td>\n",
              "      <td>in</td>\n",
              "      <td>3</td>\n",
              "      <td>120€</td>\n",
              "      <td>NaN</td>\n",
              "      <td>New</td>\n",
              "      <td>NaN</td>\n",
              "      <td>Underfloor Heating</td>\n",
              "      <td>NaN</td>\n",
              "      <td>NaN</td>\n",
              "      <td>Bedarfsausweis</td>\n",
              "      <td>NaN</td>\n",
              "      <td>B</td>\n",
              "      <td>7977.00</td>\n",
              "      <td>5</td>\n",
              "    </tr>\n",
              "    <tr>\n",
              "      <th>1</th>\n",
              "      <td>https://www.immobilienscout24.de/expose/115338103</td>\n",
              "      <td>Kreuzberg</td>\n",
              "      <td>first_time_use</td>\n",
              "      <td>1.0</td>\n",
              "      <td>1200.00</td>\n",
              "      <td>2020</td>\n",
              "      <td>29.33</td>\n",
              "      <td>973,51€</td>\n",
              "      <td>+226,49€</td>\n",
              "      <td>in</td>\n",
              "      <td>2920.53</td>\n",
              "      <td>NaN</td>\n",
              "      <td>NaN</td>\n",
              "      <td>New</td>\n",
              "      <td>Gehobene Qualität</td>\n",
              "      <td>Central Heating</td>\n",
              "      <td>Fernwärme Energieausweis liegt vor</td>\n",
              "      <td>liegt vor</td>\n",
              "      <td>NaN</td>\n",
              "      <td>NaN</td>\n",
              "      <td>NaN</td>\n",
              "      <td>2920.53</td>\n",
              "      <td>5</td>\n",
              "    </tr>\n",
              "    <tr>\n",
              "      <th>2</th>\n",
              "      <td>https://www.immobilienscout24.de/expose/116458710</td>\n",
              "      <td>Köpenick</td>\n",
              "      <td>well_kept</td>\n",
              "      <td>2.0</td>\n",
              "      <td>979.00</td>\n",
              "      <td>1997</td>\n",
              "      <td>83.61</td>\n",
              "      <td>799€</td>\n",
              "      <td>+90€</td>\n",
              "      <td>+90€</td>\n",
              "      <td>3</td>\n",
              "      <td>NaN</td>\n",
              "      <td>NaN</td>\n",
              "      <td>Groomed</td>\n",
              "      <td>Normale Qualität</td>\n",
              "      <td>Central Heating</td>\n",
              "      <td>Fernwärme Energieausweis liegt vor</td>\n",
              "      <td>liegt vor</td>\n",
              "      <td>Verbrauchsausweis Energie­ver­brauchs­kennwert...</td>\n",
              "      <td>NaN</td>\n",
              "      <td>NaN</td>\n",
              "      <td>2937.00</td>\n",
              "      <td>4</td>\n",
              "    </tr>\n",
              "    <tr>\n",
              "      <th>3</th>\n",
              "      <td>https://www.immobilienscout24.de/expose/116573177</td>\n",
              "      <td>Wilmersdorf</td>\n",
              "      <td>well_kept</td>\n",
              "      <td>4.0</td>\n",
              "      <td>1830.22</td>\n",
              "      <td>1900</td>\n",
              "      <td>171.18</td>\n",
              "      <td>NaN</td>\n",
              "      <td>NaN</td>\n",
              "      <td>NaN</td>\n",
              "      <td>nan</td>\n",
              "      <td>NaN</td>\n",
              "      <td>NaN</td>\n",
              "      <td>NaN</td>\n",
              "      <td>NaN</td>\n",
              "      <td>NaN</td>\n",
              "      <td>NaN</td>\n",
              "      <td>NaN</td>\n",
              "      <td>NaN</td>\n",
              "      <td>NaN</td>\n",
              "      <td>NaN</td>\n",
              "      <td>5490.66</td>\n",
              "      <td>13</td>\n",
              "    </tr>\n",
              "    <tr>\n",
              "      <th>4</th>\n",
              "      <td>https://www.immobilienscout24.de/expose/115925878</td>\n",
              "      <td>Kreuzberg</td>\n",
              "      <td>first_time_use</td>\n",
              "      <td>2.0</td>\n",
              "      <td>2272.00</td>\n",
              "      <td>2020</td>\n",
              "      <td>88.27</td>\n",
              "      <td>NaN</td>\n",
              "      <td>NaN</td>\n",
              "      <td>NaN</td>\n",
              "      <td>nan</td>\n",
              "      <td>NaN</td>\n",
              "      <td>NaN</td>\n",
              "      <td>New</td>\n",
              "      <td>Gehobene Qualität</td>\n",
              "      <td>Central Heating</td>\n",
              "      <td>Fernwärme Energieausweis liegt zur Besichtigun...</td>\n",
              "      <td>liegt zur Besichtigung vor</td>\n",
              "      <td>NaN</td>\n",
              "      <td>NaN</td>\n",
              "      <td>NaN</td>\n",
              "      <td>6816.00</td>\n",
              "      <td>8</td>\n",
              "    </tr>\n",
              "  </tbody>\n",
              "</table>\n",
              "</div>"
            ],
            "text/plain": [
              "                                                 url  ... n_missing\n",
              "0  https://www.immobilienscout24.de/expose/116051687  ...         5\n",
              "1  https://www.immobilienscout24.de/expose/115338103  ...         5\n",
              "2  https://www.immobilienscout24.de/expose/116458710  ...         4\n",
              "3  https://www.immobilienscout24.de/expose/116573177  ...        13\n",
              "4  https://www.immobilienscout24.de/expose/115925878  ...         8\n",
              "\n",
              "[5 rows x 23 columns]"
            ]
          },
          "metadata": {
            "tags": []
          },
          "execution_count": 71
        }
      ]
    },
    {
      "cell_type": "markdown",
      "metadata": {
        "id": "eEfU4G9WbI_6"
      },
      "source": [
        "#### Categorical Features need to be handled differently than Continuous\n",
        "\n",
        "Common methods:\n",
        " - Mode: May bias the dataset towards that category\n",
        " - Intuitive: Set the category based on domain knowledge, could be a problem if you are wrong\n",
        " - An `Unknown` Category: A catch all category for missing categories, especially useful if there is a reason the data is missing"
      ]
    },
    {
      "cell_type": "code",
      "metadata": {
        "colab": {
          "base_uri": "https://localhost:8080/"
        },
        "id": "bse6G0C8W20W",
        "outputId": "03890521-b27d-427f-a000-20d593abedad"
      },
      "source": [
        "df.parking_space.isnull().sum() / len(df)"
      ],
      "execution_count": null,
      "outputs": [
        {
          "output_type": "execute_result",
          "data": {
            "text/plain": [
              "0.8821989528795812"
            ]
          },
          "metadata": {
            "tags": []
          },
          "execution_count": 75
        }
      ]
    },
    {
      "cell_type": "code",
      "metadata": {
        "colab": {
          "base_uri": "https://localhost:8080/"
        },
        "id": "HtcYUIzsW9mi",
        "outputId": "79070adc-787f-4723-aab0-20cfe2ace9ee"
      },
      "source": [
        "df.parking_space.mode()"
      ],
      "execution_count": null,
      "outputs": [
        {
          "output_type": "execute_result",
          "data": {
            "text/plain": [
              "0    120€\n",
              "dtype: object"
            ]
          },
          "metadata": {
            "tags": []
          },
          "execution_count": 76
        }
      ]
    },
    {
      "cell_type": "code",
      "metadata": {
        "id": "uf8K8PLIbI_7",
        "colab": {
          "base_uri": "https://localhost:8080/"
        },
        "outputId": "291b8cfa-d9da-4921-dd37-9cb2c1faf04b"
      },
      "source": [
        "df.property_condition.fillna('MISSING').value_counts()"
      ],
      "execution_count": null,
      "outputs": [
        {
          "output_type": "execute_result",
          "data": {
            "text/plain": [
              "MISSING                 263\n",
              "New                     241\n",
              "Mint Condition          103\n",
              "Groomed                  65\n",
              "Refurbished              29\n",
              "After Renovation         26\n",
              "Completely Renovated     21\n",
              "Modernized               13\n",
              "Needs Renovation          2\n",
              "Well Maintained           1\n",
              "Name: property_condition, dtype: int64"
            ]
          },
          "metadata": {
            "tags": []
          },
          "execution_count": 78
        }
      ]
    },
    {
      "cell_type": "code",
      "metadata": {
        "id": "AIMGY-RibI_9"
      },
      "source": [
        "df['property_condition'] = df.property_condition.fillna('Unknown')"
      ],
      "execution_count": null,
      "outputs": []
    },
    {
      "cell_type": "code",
      "metadata": {
        "colab": {
          "base_uri": "https://localhost:8080/",
          "height": 542
        },
        "id": "MwDASxOmSgM7",
        "outputId": "3ed11986-ffe0-4f0a-c7c9-fb8747302cfd"
      },
      "source": [
        "px.bar(df.property_condition.value_counts().reset_index(), x='index', y='property_condition')"
      ],
      "execution_count": null,
      "outputs": [
        {
          "output_type": "display_data",
          "data": {
            "text/html": [
              "<html>\n",
              "<head><meta charset=\"utf-8\" /></head>\n",
              "<body>\n",
              "    <div>\n",
              "            <script src=\"https://cdnjs.cloudflare.com/ajax/libs/mathjax/2.7.5/MathJax.js?config=TeX-AMS-MML_SVG\"></script><script type=\"text/javascript\">if (window.MathJax) {MathJax.Hub.Config({SVG: {font: \"STIX-Web\"}});}</script>\n",
              "                <script type=\"text/javascript\">window.PlotlyConfig = {MathJaxConfig: 'local'};</script>\n",
              "        <script src=\"https://cdn.plot.ly/plotly-latest.min.js\"></script>    \n",
              "            <div id=\"701435a2-e696-4b10-9441-18ba0ac0b789\" class=\"plotly-graph-div\" style=\"height:525px; width:100%;\"></div>\n",
              "            <script type=\"text/javascript\">\n",
              "                \n",
              "                    window.PLOTLYENV=window.PLOTLYENV || {};\n",
              "                    \n",
              "                if (document.getElementById(\"701435a2-e696-4b10-9441-18ba0ac0b789\")) {\n",
              "                    Plotly.newPlot(\n",
              "                        '701435a2-e696-4b10-9441-18ba0ac0b789',\n",
              "                        [{\"alignmentgroup\": \"True\", \"hoverlabel\": {\"namelength\": 0}, \"hovertemplate\": \"index=%{x}<br>property_condition=%{y}\", \"legendgroup\": \"\", \"marker\": {\"color\": \"#636efa\"}, \"name\": \"\", \"offsetgroup\": \"\", \"orientation\": \"v\", \"showlegend\": false, \"textposition\": \"auto\", \"type\": \"bar\", \"x\": [\"Unknown\", \"New\", \"Mint Condition\", \"Groomed\", \"Refurbished\", \"After Renovation\", \"Completely Renovated\", \"Modernized\", \"Needs Renovation\", \"Well Maintained\"], \"xaxis\": \"x\", \"y\": [263, 241, 103, 65, 29, 26, 21, 13, 2, 1], \"yaxis\": \"y\"}],\n",
              "                        {\"barmode\": \"relative\", \"legend\": {\"tracegroupgap\": 0}, \"margin\": {\"t\": 60}, \"template\": {\"data\": {\"bar\": [{\"error_x\": {\"color\": \"#2a3f5f\"}, \"error_y\": {\"color\": \"#2a3f5f\"}, \"marker\": {\"line\": {\"color\": \"#E5ECF6\", \"width\": 0.5}}, \"type\": \"bar\"}], \"barpolar\": [{\"marker\": {\"line\": {\"color\": \"#E5ECF6\", \"width\": 0.5}}, \"type\": \"barpolar\"}], \"carpet\": [{\"aaxis\": {\"endlinecolor\": \"#2a3f5f\", \"gridcolor\": \"white\", \"linecolor\": \"white\", \"minorgridcolor\": \"white\", \"startlinecolor\": \"#2a3f5f\"}, \"baxis\": {\"endlinecolor\": \"#2a3f5f\", \"gridcolor\": \"white\", \"linecolor\": \"white\", \"minorgridcolor\": \"white\", \"startlinecolor\": \"#2a3f5f\"}, \"type\": \"carpet\"}], \"choropleth\": [{\"colorbar\": {\"outlinewidth\": 0, \"ticks\": \"\"}, \"type\": \"choropleth\"}], \"contour\": [{\"colorbar\": {\"outlinewidth\": 0, \"ticks\": \"\"}, \"colorscale\": [[0.0, \"#0d0887\"], [0.1111111111111111, \"#46039f\"], [0.2222222222222222, \"#7201a8\"], [0.3333333333333333, \"#9c179e\"], [0.4444444444444444, \"#bd3786\"], [0.5555555555555556, \"#d8576b\"], [0.6666666666666666, \"#ed7953\"], [0.7777777777777778, \"#fb9f3a\"], [0.8888888888888888, \"#fdca26\"], [1.0, \"#f0f921\"]], \"type\": \"contour\"}], \"contourcarpet\": [{\"colorbar\": {\"outlinewidth\": 0, \"ticks\": \"\"}, \"type\": \"contourcarpet\"}], \"heatmap\": [{\"colorbar\": {\"outlinewidth\": 0, \"ticks\": \"\"}, \"colorscale\": [[0.0, \"#0d0887\"], [0.1111111111111111, \"#46039f\"], [0.2222222222222222, \"#7201a8\"], [0.3333333333333333, \"#9c179e\"], [0.4444444444444444, \"#bd3786\"], [0.5555555555555556, \"#d8576b\"], [0.6666666666666666, \"#ed7953\"], [0.7777777777777778, \"#fb9f3a\"], [0.8888888888888888, \"#fdca26\"], [1.0, \"#f0f921\"]], \"type\": \"heatmap\"}], \"heatmapgl\": [{\"colorbar\": {\"outlinewidth\": 0, \"ticks\": \"\"}, \"colorscale\": [[0.0, \"#0d0887\"], [0.1111111111111111, \"#46039f\"], [0.2222222222222222, \"#7201a8\"], [0.3333333333333333, \"#9c179e\"], [0.4444444444444444, \"#bd3786\"], [0.5555555555555556, \"#d8576b\"], [0.6666666666666666, \"#ed7953\"], [0.7777777777777778, \"#fb9f3a\"], [0.8888888888888888, \"#fdca26\"], [1.0, \"#f0f921\"]], \"type\": \"heatmapgl\"}], \"histogram\": [{\"marker\": {\"colorbar\": {\"outlinewidth\": 0, \"ticks\": \"\"}}, \"type\": \"histogram\"}], \"histogram2d\": [{\"colorbar\": {\"outlinewidth\": 0, \"ticks\": \"\"}, \"colorscale\": [[0.0, \"#0d0887\"], [0.1111111111111111, \"#46039f\"], [0.2222222222222222, \"#7201a8\"], [0.3333333333333333, \"#9c179e\"], [0.4444444444444444, \"#bd3786\"], [0.5555555555555556, \"#d8576b\"], [0.6666666666666666, \"#ed7953\"], [0.7777777777777778, \"#fb9f3a\"], [0.8888888888888888, \"#fdca26\"], [1.0, \"#f0f921\"]], \"type\": \"histogram2d\"}], \"histogram2dcontour\": [{\"colorbar\": {\"outlinewidth\": 0, \"ticks\": \"\"}, \"colorscale\": [[0.0, \"#0d0887\"], [0.1111111111111111, \"#46039f\"], [0.2222222222222222, \"#7201a8\"], [0.3333333333333333, \"#9c179e\"], [0.4444444444444444, \"#bd3786\"], [0.5555555555555556, \"#d8576b\"], [0.6666666666666666, \"#ed7953\"], [0.7777777777777778, \"#fb9f3a\"], [0.8888888888888888, \"#fdca26\"], [1.0, \"#f0f921\"]], \"type\": \"histogram2dcontour\"}], \"mesh3d\": [{\"colorbar\": {\"outlinewidth\": 0, \"ticks\": \"\"}, \"type\": \"mesh3d\"}], \"parcoords\": [{\"line\": {\"colorbar\": {\"outlinewidth\": 0, \"ticks\": \"\"}}, \"type\": \"parcoords\"}], \"pie\": [{\"automargin\": true, \"type\": \"pie\"}], \"scatter\": [{\"marker\": {\"colorbar\": {\"outlinewidth\": 0, \"ticks\": \"\"}}, \"type\": \"scatter\"}], \"scatter3d\": [{\"line\": {\"colorbar\": {\"outlinewidth\": 0, \"ticks\": \"\"}}, \"marker\": {\"colorbar\": {\"outlinewidth\": 0, \"ticks\": \"\"}}, \"type\": \"scatter3d\"}], \"scattercarpet\": [{\"marker\": {\"colorbar\": {\"outlinewidth\": 0, \"ticks\": \"\"}}, \"type\": \"scattercarpet\"}], \"scattergeo\": [{\"marker\": {\"colorbar\": {\"outlinewidth\": 0, \"ticks\": \"\"}}, \"type\": \"scattergeo\"}], \"scattergl\": [{\"marker\": {\"colorbar\": {\"outlinewidth\": 0, \"ticks\": \"\"}}, \"type\": \"scattergl\"}], \"scattermapbox\": [{\"marker\": {\"colorbar\": {\"outlinewidth\": 0, \"ticks\": \"\"}}, \"type\": \"scattermapbox\"}], \"scatterpolar\": [{\"marker\": {\"colorbar\": {\"outlinewidth\": 0, \"ticks\": \"\"}}, \"type\": \"scatterpolar\"}], \"scatterpolargl\": [{\"marker\": {\"colorbar\": {\"outlinewidth\": 0, \"ticks\": \"\"}}, \"type\": \"scatterpolargl\"}], \"scatterternary\": [{\"marker\": {\"colorbar\": {\"outlinewidth\": 0, \"ticks\": \"\"}}, \"type\": \"scatterternary\"}], \"surface\": [{\"colorbar\": {\"outlinewidth\": 0, \"ticks\": \"\"}, \"colorscale\": [[0.0, \"#0d0887\"], [0.1111111111111111, \"#46039f\"], [0.2222222222222222, \"#7201a8\"], [0.3333333333333333, \"#9c179e\"], [0.4444444444444444, \"#bd3786\"], [0.5555555555555556, \"#d8576b\"], [0.6666666666666666, \"#ed7953\"], [0.7777777777777778, \"#fb9f3a\"], [0.8888888888888888, \"#fdca26\"], [1.0, \"#f0f921\"]], \"type\": \"surface\"}], \"table\": [{\"cells\": {\"fill\": {\"color\": \"#EBF0F8\"}, \"line\": {\"color\": \"white\"}}, \"header\": {\"fill\": {\"color\": \"#C8D4E3\"}, \"line\": {\"color\": \"white\"}}, \"type\": \"table\"}]}, \"layout\": {\"annotationdefaults\": {\"arrowcolor\": \"#2a3f5f\", \"arrowhead\": 0, \"arrowwidth\": 1}, \"coloraxis\": {\"colorbar\": {\"outlinewidth\": 0, \"ticks\": \"\"}}, \"colorscale\": {\"diverging\": [[0, \"#8e0152\"], [0.1, \"#c51b7d\"], [0.2, \"#de77ae\"], [0.3, \"#f1b6da\"], [0.4, \"#fde0ef\"], [0.5, \"#f7f7f7\"], [0.6, \"#e6f5d0\"], [0.7, \"#b8e186\"], [0.8, \"#7fbc41\"], [0.9, \"#4d9221\"], [1, \"#276419\"]], \"sequential\": [[0.0, \"#0d0887\"], [0.1111111111111111, \"#46039f\"], [0.2222222222222222, \"#7201a8\"], [0.3333333333333333, \"#9c179e\"], [0.4444444444444444, \"#bd3786\"], [0.5555555555555556, \"#d8576b\"], [0.6666666666666666, \"#ed7953\"], [0.7777777777777778, \"#fb9f3a\"], [0.8888888888888888, \"#fdca26\"], [1.0, \"#f0f921\"]], \"sequentialminus\": [[0.0, \"#0d0887\"], [0.1111111111111111, \"#46039f\"], [0.2222222222222222, \"#7201a8\"], [0.3333333333333333, \"#9c179e\"], [0.4444444444444444, \"#bd3786\"], [0.5555555555555556, \"#d8576b\"], [0.6666666666666666, \"#ed7953\"], [0.7777777777777778, \"#fb9f3a\"], [0.8888888888888888, \"#fdca26\"], [1.0, \"#f0f921\"]]}, \"colorway\": [\"#636efa\", \"#EF553B\", \"#00cc96\", \"#ab63fa\", \"#FFA15A\", \"#19d3f3\", \"#FF6692\", \"#B6E880\", \"#FF97FF\", \"#FECB52\"], \"font\": {\"color\": \"#2a3f5f\"}, \"geo\": {\"bgcolor\": \"white\", \"lakecolor\": \"white\", \"landcolor\": \"#E5ECF6\", \"showlakes\": true, \"showland\": true, \"subunitcolor\": \"white\"}, \"hoverlabel\": {\"align\": \"left\"}, \"hovermode\": \"closest\", \"mapbox\": {\"style\": \"light\"}, \"paper_bgcolor\": \"white\", \"plot_bgcolor\": \"#E5ECF6\", \"polar\": {\"angularaxis\": {\"gridcolor\": \"white\", \"linecolor\": \"white\", \"ticks\": \"\"}, \"bgcolor\": \"#E5ECF6\", \"radialaxis\": {\"gridcolor\": \"white\", \"linecolor\": \"white\", \"ticks\": \"\"}}, \"scene\": {\"xaxis\": {\"backgroundcolor\": \"#E5ECF6\", \"gridcolor\": \"white\", \"gridwidth\": 2, \"linecolor\": \"white\", \"showbackground\": true, \"ticks\": \"\", \"zerolinecolor\": \"white\"}, \"yaxis\": {\"backgroundcolor\": \"#E5ECF6\", \"gridcolor\": \"white\", \"gridwidth\": 2, \"linecolor\": \"white\", \"showbackground\": true, \"ticks\": \"\", \"zerolinecolor\": \"white\"}, \"zaxis\": {\"backgroundcolor\": \"#E5ECF6\", \"gridcolor\": \"white\", \"gridwidth\": 2, \"linecolor\": \"white\", \"showbackground\": true, \"ticks\": \"\", \"zerolinecolor\": \"white\"}}, \"shapedefaults\": {\"line\": {\"color\": \"#2a3f5f\"}}, \"ternary\": {\"aaxis\": {\"gridcolor\": \"white\", \"linecolor\": \"white\", \"ticks\": \"\"}, \"baxis\": {\"gridcolor\": \"white\", \"linecolor\": \"white\", \"ticks\": \"\"}, \"bgcolor\": \"#E5ECF6\", \"caxis\": {\"gridcolor\": \"white\", \"linecolor\": \"white\", \"ticks\": \"\"}}, \"title\": {\"x\": 0.05}, \"xaxis\": {\"automargin\": true, \"gridcolor\": \"white\", \"linecolor\": \"white\", \"ticks\": \"\", \"title\": {\"standoff\": 15}, \"zerolinecolor\": \"white\", \"zerolinewidth\": 2}, \"yaxis\": {\"automargin\": true, \"gridcolor\": \"white\", \"linecolor\": \"white\", \"ticks\": \"\", \"title\": {\"standoff\": 15}, \"zerolinecolor\": \"white\", \"zerolinewidth\": 2}}}, \"xaxis\": {\"anchor\": \"y\", \"domain\": [0.0, 1.0], \"title\": {\"text\": \"index\"}}, \"yaxis\": {\"anchor\": \"x\", \"domain\": [0.0, 1.0], \"title\": {\"text\": \"property_condition\"}}},\n",
              "                        {\"responsive\": true}\n",
              "                    ).then(function(){\n",
              "                            \n",
              "var gd = document.getElementById('701435a2-e696-4b10-9441-18ba0ac0b789');\n",
              "var x = new MutationObserver(function (mutations, observer) {{\n",
              "        var display = window.getComputedStyle(gd).display;\n",
              "        if (!display || display === 'none') {{\n",
              "            console.log([gd, 'removed!']);\n",
              "            Plotly.purge(gd);\n",
              "            observer.disconnect();\n",
              "        }}\n",
              "}});\n",
              "\n",
              "// Listen for the removal of the full notebook cells\n",
              "var notebookContainer = gd.closest('#notebook-container');\n",
              "if (notebookContainer) {{\n",
              "    x.observe(notebookContainer, {childList: true});\n",
              "}}\n",
              "\n",
              "// Listen for the clearing of the current output cell\n",
              "var outputEl = gd.closest('.output');\n",
              "if (outputEl) {{\n",
              "    x.observe(outputEl, {childList: true});\n",
              "}}\n",
              "\n",
              "                        })\n",
              "                };\n",
              "                \n",
              "            </script>\n",
              "        </div>\n",
              "</body>\n",
              "</html>"
            ]
          },
          "metadata": {
            "tags": []
          }
        }
      ]
    },
    {
      "cell_type": "markdown",
      "metadata": {
        "id": "MRoozyr8bJAB"
      },
      "source": [
        "## Clean `cold_rent`"
      ]
    },
    {
      "cell_type": "code",
      "metadata": {
        "id": "TqZ6sv7EbJAC",
        "colab": {
          "base_uri": "https://localhost:8080/"
        },
        "outputId": "8f3da4cd-cfd5-4add-9552-17d86310f26c"
      },
      "source": [
        "(df.isnull().sum() / len(df)).sort_values(ascending=False)"
      ],
      "execution_count": null,
      "outputs": [
        {
          "output_type": "execute_result",
          "data": {
            "text/plain": [
              "parking_space          0.882199\n",
              "renovated_date         0.744764\n",
              "efficiency_class       0.671466\n",
              "energy_requirement     0.573298\n",
              "cold_rent              0.442408\n",
              "utilities              0.442408\n",
              "heating_costs          0.442408\n",
              "furnishing             0.417539\n",
              "energy_certificate     0.409686\n",
              "type_of_certificate    0.388743\n",
              "energy_sources         0.353403\n",
              "heating_type           0.325916\n",
              "year_construction      0.000000\n",
              "region                 0.000000\n",
              "condition              0.000000\n",
              "rooms                  0.000000\n",
              "rent                   0.000000\n",
              "n_missing              0.000000\n",
              "space                  0.000000\n",
              "security_deposit       0.000000\n",
              "deposit_cleaned        0.000000\n",
              "property_condition     0.000000\n",
              "url                    0.000000\n",
              "dtype: float64"
            ]
          },
          "metadata": {
            "tags": []
          },
          "execution_count": 81
        }
      ]
    },
    {
      "cell_type": "markdown",
      "metadata": {
        "id": "sGDBYvuUbJAF"
      },
      "source": [
        "**Since we have the warm rent for every sample, rather than use the median or mean, a better method might be to get the average warm/cold rent ratio and apply that to all missing values**"
      ]
    },
    {
      "cell_type": "code",
      "metadata": {
        "colab": {
          "base_uri": "https://localhost:8080/"
        },
        "id": "Tiqz9bX6aBvR",
        "outputId": "58844aa5-0295-42bd-b178-bb32f89c75ef"
      },
      "source": [
        "df.cold_rent"
      ],
      "execution_count": null,
      "outputs": [
        {
          "output_type": "execute_result",
          "data": {
            "text/plain": [
              "0        2199\n",
              "1      973.51\n",
              "2         799\n",
              "3         nan\n",
              "4         nan\n",
              "        ...  \n",
              "759       nan\n",
              "760       nan\n",
              "761       nan\n",
              "762       nan\n",
              "763       nan\n",
              "Name: cold_rent, Length: 764, dtype: object"
            ]
          },
          "metadata": {
            "tags": []
          },
          "execution_count": 84
        }
      ]
    },
    {
      "cell_type": "code",
      "metadata": {
        "id": "WImgpWYibJAG"
      },
      "source": [
        "# reuse functions from before\n",
        "df['cold_rent'] = df.cold_rent.apply(lambda x: remove_strings(x, [\"€\", \"Euro\"])).astype(str)\n",
        "df['cold_rent'] = df.cold_rent.apply(convert_decimal)"
      ],
      "execution_count": null,
      "outputs": []
    },
    {
      "cell_type": "code",
      "metadata": {
        "id": "guLHeOdlbJAK",
        "colab": {
          "base_uri": "https://localhost:8080/"
        },
        "outputId": "be468c47-1150-4d6b-9f19-30073d8c7914"
      },
      "source": [
        "total_warm_and_cold = df[['rent', 'cold_rent']].dropna().astype(float).sum()\n",
        "total_warm_and_cold"
      ],
      "execution_count": null,
      "outputs": [
        {
          "output_type": "execute_result",
          "data": {
            "text/plain": [
              "rent         1351180.56\n",
              "cold_rent     672957.80\n",
              "dtype: float64"
            ]
          },
          "metadata": {
            "tags": []
          },
          "execution_count": 85
        }
      ]
    },
    {
      "cell_type": "code",
      "metadata": {
        "id": "csXv2ZAQbJAN",
        "colab": {
          "base_uri": "https://localhost:8080/"
        },
        "outputId": "9f9b7714-fd53-433b-aebe-6197888ffd42"
      },
      "source": [
        "warm_cold_rent_ratio = total_warm_and_cold.cold_rent / total_warm_and_cold.rent\n",
        "warm_cold_rent_ratio"
      ],
      "execution_count": null,
      "outputs": [
        {
          "output_type": "execute_result",
          "data": {
            "text/plain": [
              "0.4980517185652814"
            ]
          },
          "metadata": {
            "tags": []
          },
          "execution_count": 86
        }
      ]
    },
    {
      "cell_type": "code",
      "metadata": {
        "colab": {
          "base_uri": "https://localhost:8080/",
          "height": 542
        },
        "id": "jhnPY0dLS_Me",
        "outputId": "83653bbd-dc0e-4b70-8043-7a6fd2d875d3"
      },
      "source": [
        "px.histogram(df[['cold_rent']].astype(float).dropna(), x='cold_rent', marginal='box')"
      ],
      "execution_count": null,
      "outputs": [
        {
          "output_type": "display_data",
          "data": {
            "text/html": [
              "<html>\n",
              "<head><meta charset=\"utf-8\" /></head>\n",
              "<body>\n",
              "    <div>\n",
              "            <script src=\"https://cdnjs.cloudflare.com/ajax/libs/mathjax/2.7.5/MathJax.js?config=TeX-AMS-MML_SVG\"></script><script type=\"text/javascript\">if (window.MathJax) {MathJax.Hub.Config({SVG: {font: \"STIX-Web\"}});}</script>\n",
              "                <script type=\"text/javascript\">window.PlotlyConfig = {MathJaxConfig: 'local'};</script>\n",
              "        <script src=\"https://cdn.plot.ly/plotly-latest.min.js\"></script>    \n",
              "            <div id=\"e4832a40-9dd6-4646-bfd2-5b0cac986603\" class=\"plotly-graph-div\" style=\"height:525px; width:100%;\"></div>\n",
              "            <script type=\"text/javascript\">\n",
              "                \n",
              "                    window.PLOTLYENV=window.PLOTLYENV || {};\n",
              "                    \n",
              "                if (document.getElementById(\"e4832a40-9dd6-4646-bfd2-5b0cac986603\")) {\n",
              "                    Plotly.newPlot(\n",
              "                        'e4832a40-9dd6-4646-bfd2-5b0cac986603',\n",
              "                        [{\"alignmentgroup\": \"True\", \"bingroup\": \"x\", \"hoverlabel\": {\"namelength\": 0}, \"hovertemplate\": \"cold_rent=%{x}<br>count=%{y}\", \"legendgroup\": \"\", \"marker\": {\"color\": \"#636efa\"}, \"name\": \"\", \"offsetgroup\": \"\", \"orientation\": \"v\", \"showlegend\": false, \"type\": \"histogram\", \"x\": [2199.0, 973.51, 799.0, 652.0, 540.73, 391.93, 1534.0, 1999.0, 2150.0, 5700.0, 1199.7, 1279.76, 1169.14, 760.0, 713.26, 1799.0, 1295.0, 2650.0, 1384.0, 1550.0, 901.0, 614.24, 418.11, 271.04, 3050.0, 1515.0, 1164.84, 1565.03, 361.15, 2300.0, 1998.0, 2490.0, 2490.0, 1724.85, 715.0, 1760.0, 3825.0, 4950.0, 1399.0, 1298.0, 4300.0, 1300.0, 1645.83, 1115.0, 2100.0, 1490.0, 3000.0, 880.0, 1810.0, 1990.0, 1682.0, 1690.0, 1790.0, 2650.0, 3390.0, 1490.0, 602.07, 2873.56, 1750.0, 2300.0, 3320.0, 1053.0, 1049.0, 875.0, 1450.0, 1761.17, 1670.0, 1266.6, 1444.64, 1390.0, 1000.0, 671.0, 947.0, 1937.0, 950.24, 1100.25, 2750.0, 1171.97, 1215.0, 799.0, 1500.0, 1397.93, 3239.46, 1199.0, 1300.0, 1290.0, 1090.0, 620.0, 1970.0, 1600.0, 759.0, 321.87, 579.0, 579.0, 579.0, 901.0, 529.0, 735.0, 579.0, 1929.0, 433.03, 1194.0, 313.71, 1336.02, 2200.0, 1210.0, 1103.3, 2500.0, 849.93, 1277.0, 758.0, 950.0, 980.0, 1650.0, 1460.0, 1162.08, 317.42, 1142.87, 1560.0, 1195.04, 1375.0, 1912.54, 1390.0, 1350.0, 1290.0, 1450.0, 1450.0, 1350.0, 2113.86, 1450.0, 1168.77, 1150.0, 461.29, 743.16, 1980.0, 670.23, 607.53, 441.38, 1912.54, 285.74, 2350.0, 1336.02, 1602.13, 3950.0, 9500.0, 1199.0, 1553.85, 876.81, 1495.62, 2184.0, 2058.0, 1994.1, 900.0, 599.0, 1672.28, 1500.0, 1120.0, 1716.0, 605.68, 824.0, 4000.0, 2100.0, 529.0, 1798.0, 1399.0, 749.0, 445.63, 729.0, 1365.0, 272.95, 284.39, 190.74, 518.0, 1940.0, 1960.75, 1872.6, 1346.0, 2200.0, 971.0, 805.31, 1521.52, 575.92, 1843.16, 3008.15, 1910.0, 2485.0, 437.9, 2950.0, 1250.0, 2298.0, 419.74, 450.16, 2550.0, 700.38, 1785.0, 4367.52, 545.3, 1450.0, 1450.0, 1320.0, 1390.0, 638.0, 1710.0, 780.0, 950.0, 1900.0, 1980.0, 1890.0, 1632.0, 1400.0, 550.0, 2050.0, 445.0, 670.0, 1199.0, 1422.54, 1807.0, 2480.0, 1250.0, 1395.0, 1699.0, 1911.42, 1400.0, 1400.0, 1400.0, 1732.2, 1400.0, 1639.0, 750.0, 1057.41, 762.15, 841.19, 699.0, 568.48, 799.0, 1392.0, 975.75, 1392.0, 964.98, 1200.2, 2050.0, 2077.0, 1333.0, 1491.8, 2077.0, 1550.0, 3500.0, 1212.6, 1150.0, 800.0, 680.0, 1448.1, 695.0, 2190.0, 2225.0, 1477.4, 3111.0, 2315.0, 3264.0, 1986.17, 699.0, 1222.0, 815.0, 750.0, 585.0, 1550.0, 1490.0, 358.2, 1300.0, 1999.0, 753.1, 658.0, 1842.43, 799.0, 1599.0, 1126.3, 1614.89, 1925.0, 1466.0, 1578.66, 1280.0, 562.8, 979.0, 749.0, 565.16, 1800.0, 1835.4, 1281.99, 798.09, 2128.88, 2199.0, 2794.08, 985.0, 1478.7, 427.7, 1123.44, 1399.0, 1676.91, 1567.17, 1899.0, 1865.21, 1184.0, 736.49, 3200.0, 1218.61, 2250.0, 1300.66, 1458.42, 1044.35, 4000.0, 1368.0, 1033.35, 1339.0, 2131.1, 1711.35, 1775.0, 1577.34, 1158.84, 1599.0, 1133.65, 1157.11, 443.0, 1096.94, 5540.64, 5540.64, 4416.4, 1550.0, 4416.4, 4416.4, 1666.68, 1800.0, 1766.18, 284.62, 1773.65, 1771.67, 1148.37, 1750.81, 1450.0, 1718.24, 1130.56, 1730.2, 1740.61, 2149.92, 1900.0, 1583.5, 1854.81, 2204.19, 1397.4, 1528.55, 1513.86, 3821.4, 1543.56, 2487.88, 2700.0, 1309.66, 1614.62, 1700.0, 1529.85, 2780.0, 1605.82, 4400.0, 1621.76, 2091.94, 2131.92, 2154.24, 1950.0, 5100.0, 1543.19, 2274.98, 1813.37, 2593.4, 1854.81, 1593.93, 2720.0, 1601.71, 525.0, 1880.75, 1528.55, 1841.94, 2204.19, 1677.36, 2275.82, 2259.45, 1047.23, 1820.0, 1576.88, 2135.49, 2487.88, 1020.0, 1446.0, 1529.44, 1349.0, 2149.92, 1771.45, 1194.0, 1099.0, 1303.65, 1503.07, 1299.0, 2162.91, 1952.44, 2379.41, 1600.0, 1248.0, 1873.01, 1872.39, 1513.86, 819.0, 850.0, 1198.0, 2200.0, 1104.5, 1330.0, 2491.0, 1131.0, 1154.5, 2077.0, 545.0, 1299.0, 1960.0, 1899.0, 1079.0, 1514.0, 593.23, 1901.5, 514.0], \"xaxis\": \"x\", \"yaxis\": \"y\"}, {\"alignmentgroup\": \"True\", \"hoverlabel\": {\"namelength\": 0}, \"hovertemplate\": \"cold_rent=%{x}\", \"legendgroup\": \"\", \"marker\": {\"color\": \"#636efa\"}, \"name\": \"\", \"notched\": true, \"offsetgroup\": \"\", \"showlegend\": false, \"type\": \"box\", \"x\": [2199.0, 973.51, 799.0, 652.0, 540.73, 391.93, 1534.0, 1999.0, 2150.0, 5700.0, 1199.7, 1279.76, 1169.14, 760.0, 713.26, 1799.0, 1295.0, 2650.0, 1384.0, 1550.0, 901.0, 614.24, 418.11, 271.04, 3050.0, 1515.0, 1164.84, 1565.03, 361.15, 2300.0, 1998.0, 2490.0, 2490.0, 1724.85, 715.0, 1760.0, 3825.0, 4950.0, 1399.0, 1298.0, 4300.0, 1300.0, 1645.83, 1115.0, 2100.0, 1490.0, 3000.0, 880.0, 1810.0, 1990.0, 1682.0, 1690.0, 1790.0, 2650.0, 3390.0, 1490.0, 602.07, 2873.56, 1750.0, 2300.0, 3320.0, 1053.0, 1049.0, 875.0, 1450.0, 1761.17, 1670.0, 1266.6, 1444.64, 1390.0, 1000.0, 671.0, 947.0, 1937.0, 950.24, 1100.25, 2750.0, 1171.97, 1215.0, 799.0, 1500.0, 1397.93, 3239.46, 1199.0, 1300.0, 1290.0, 1090.0, 620.0, 1970.0, 1600.0, 759.0, 321.87, 579.0, 579.0, 579.0, 901.0, 529.0, 735.0, 579.0, 1929.0, 433.03, 1194.0, 313.71, 1336.02, 2200.0, 1210.0, 1103.3, 2500.0, 849.93, 1277.0, 758.0, 950.0, 980.0, 1650.0, 1460.0, 1162.08, 317.42, 1142.87, 1560.0, 1195.04, 1375.0, 1912.54, 1390.0, 1350.0, 1290.0, 1450.0, 1450.0, 1350.0, 2113.86, 1450.0, 1168.77, 1150.0, 461.29, 743.16, 1980.0, 670.23, 607.53, 441.38, 1912.54, 285.74, 2350.0, 1336.02, 1602.13, 3950.0, 9500.0, 1199.0, 1553.85, 876.81, 1495.62, 2184.0, 2058.0, 1994.1, 900.0, 599.0, 1672.28, 1500.0, 1120.0, 1716.0, 605.68, 824.0, 4000.0, 2100.0, 529.0, 1798.0, 1399.0, 749.0, 445.63, 729.0, 1365.0, 272.95, 284.39, 190.74, 518.0, 1940.0, 1960.75, 1872.6, 1346.0, 2200.0, 971.0, 805.31, 1521.52, 575.92, 1843.16, 3008.15, 1910.0, 2485.0, 437.9, 2950.0, 1250.0, 2298.0, 419.74, 450.16, 2550.0, 700.38, 1785.0, 4367.52, 545.3, 1450.0, 1450.0, 1320.0, 1390.0, 638.0, 1710.0, 780.0, 950.0, 1900.0, 1980.0, 1890.0, 1632.0, 1400.0, 550.0, 2050.0, 445.0, 670.0, 1199.0, 1422.54, 1807.0, 2480.0, 1250.0, 1395.0, 1699.0, 1911.42, 1400.0, 1400.0, 1400.0, 1732.2, 1400.0, 1639.0, 750.0, 1057.41, 762.15, 841.19, 699.0, 568.48, 799.0, 1392.0, 975.75, 1392.0, 964.98, 1200.2, 2050.0, 2077.0, 1333.0, 1491.8, 2077.0, 1550.0, 3500.0, 1212.6, 1150.0, 800.0, 680.0, 1448.1, 695.0, 2190.0, 2225.0, 1477.4, 3111.0, 2315.0, 3264.0, 1986.17, 699.0, 1222.0, 815.0, 750.0, 585.0, 1550.0, 1490.0, 358.2, 1300.0, 1999.0, 753.1, 658.0, 1842.43, 799.0, 1599.0, 1126.3, 1614.89, 1925.0, 1466.0, 1578.66, 1280.0, 562.8, 979.0, 749.0, 565.16, 1800.0, 1835.4, 1281.99, 798.09, 2128.88, 2199.0, 2794.08, 985.0, 1478.7, 427.7, 1123.44, 1399.0, 1676.91, 1567.17, 1899.0, 1865.21, 1184.0, 736.49, 3200.0, 1218.61, 2250.0, 1300.66, 1458.42, 1044.35, 4000.0, 1368.0, 1033.35, 1339.0, 2131.1, 1711.35, 1775.0, 1577.34, 1158.84, 1599.0, 1133.65, 1157.11, 443.0, 1096.94, 5540.64, 5540.64, 4416.4, 1550.0, 4416.4, 4416.4, 1666.68, 1800.0, 1766.18, 284.62, 1773.65, 1771.67, 1148.37, 1750.81, 1450.0, 1718.24, 1130.56, 1730.2, 1740.61, 2149.92, 1900.0, 1583.5, 1854.81, 2204.19, 1397.4, 1528.55, 1513.86, 3821.4, 1543.56, 2487.88, 2700.0, 1309.66, 1614.62, 1700.0, 1529.85, 2780.0, 1605.82, 4400.0, 1621.76, 2091.94, 2131.92, 2154.24, 1950.0, 5100.0, 1543.19, 2274.98, 1813.37, 2593.4, 1854.81, 1593.93, 2720.0, 1601.71, 525.0, 1880.75, 1528.55, 1841.94, 2204.19, 1677.36, 2275.82, 2259.45, 1047.23, 1820.0, 1576.88, 2135.49, 2487.88, 1020.0, 1446.0, 1529.44, 1349.0, 2149.92, 1771.45, 1194.0, 1099.0, 1303.65, 1503.07, 1299.0, 2162.91, 1952.44, 2379.41, 1600.0, 1248.0, 1873.01, 1872.39, 1513.86, 819.0, 850.0, 1198.0, 2200.0, 1104.5, 1330.0, 2491.0, 1131.0, 1154.5, 2077.0, 545.0, 1299.0, 1960.0, 1899.0, 1079.0, 1514.0, 593.23, 1901.5, 514.0], \"xaxis\": \"x2\", \"yaxis\": \"y2\"}],\n",
              "                        {\"barmode\": \"relative\", \"legend\": {\"tracegroupgap\": 0}, \"margin\": {\"t\": 60}, \"template\": {\"data\": {\"bar\": [{\"error_x\": {\"color\": \"#2a3f5f\"}, \"error_y\": {\"color\": \"#2a3f5f\"}, \"marker\": {\"line\": {\"color\": \"#E5ECF6\", \"width\": 0.5}}, \"type\": \"bar\"}], \"barpolar\": [{\"marker\": {\"line\": {\"color\": \"#E5ECF6\", \"width\": 0.5}}, \"type\": \"barpolar\"}], \"carpet\": [{\"aaxis\": {\"endlinecolor\": \"#2a3f5f\", \"gridcolor\": \"white\", \"linecolor\": \"white\", \"minorgridcolor\": \"white\", \"startlinecolor\": \"#2a3f5f\"}, \"baxis\": {\"endlinecolor\": \"#2a3f5f\", \"gridcolor\": \"white\", \"linecolor\": \"white\", \"minorgridcolor\": \"white\", \"startlinecolor\": \"#2a3f5f\"}, \"type\": \"carpet\"}], \"choropleth\": [{\"colorbar\": {\"outlinewidth\": 0, \"ticks\": \"\"}, \"type\": \"choropleth\"}], \"contour\": [{\"colorbar\": {\"outlinewidth\": 0, \"ticks\": \"\"}, \"colorscale\": [[0.0, \"#0d0887\"], [0.1111111111111111, \"#46039f\"], [0.2222222222222222, \"#7201a8\"], [0.3333333333333333, \"#9c179e\"], [0.4444444444444444, \"#bd3786\"], [0.5555555555555556, \"#d8576b\"], [0.6666666666666666, \"#ed7953\"], [0.7777777777777778, \"#fb9f3a\"], [0.8888888888888888, \"#fdca26\"], [1.0, \"#f0f921\"]], \"type\": \"contour\"}], \"contourcarpet\": [{\"colorbar\": {\"outlinewidth\": 0, \"ticks\": \"\"}, \"type\": \"contourcarpet\"}], \"heatmap\": [{\"colorbar\": {\"outlinewidth\": 0, \"ticks\": \"\"}, \"colorscale\": [[0.0, \"#0d0887\"], [0.1111111111111111, \"#46039f\"], [0.2222222222222222, \"#7201a8\"], [0.3333333333333333, \"#9c179e\"], [0.4444444444444444, \"#bd3786\"], [0.5555555555555556, \"#d8576b\"], [0.6666666666666666, \"#ed7953\"], [0.7777777777777778, \"#fb9f3a\"], [0.8888888888888888, \"#fdca26\"], [1.0, \"#f0f921\"]], \"type\": \"heatmap\"}], \"heatmapgl\": [{\"colorbar\": {\"outlinewidth\": 0, \"ticks\": \"\"}, \"colorscale\": [[0.0, \"#0d0887\"], [0.1111111111111111, \"#46039f\"], [0.2222222222222222, \"#7201a8\"], [0.3333333333333333, \"#9c179e\"], [0.4444444444444444, \"#bd3786\"], [0.5555555555555556, \"#d8576b\"], [0.6666666666666666, \"#ed7953\"], [0.7777777777777778, \"#fb9f3a\"], [0.8888888888888888, \"#fdca26\"], [1.0, \"#f0f921\"]], \"type\": \"heatmapgl\"}], \"histogram\": [{\"marker\": {\"colorbar\": {\"outlinewidth\": 0, \"ticks\": \"\"}}, \"type\": \"histogram\"}], \"histogram2d\": [{\"colorbar\": {\"outlinewidth\": 0, \"ticks\": \"\"}, \"colorscale\": [[0.0, \"#0d0887\"], [0.1111111111111111, \"#46039f\"], [0.2222222222222222, \"#7201a8\"], [0.3333333333333333, \"#9c179e\"], [0.4444444444444444, \"#bd3786\"], [0.5555555555555556, \"#d8576b\"], [0.6666666666666666, \"#ed7953\"], [0.7777777777777778, \"#fb9f3a\"], [0.8888888888888888, \"#fdca26\"], [1.0, \"#f0f921\"]], \"type\": \"histogram2d\"}], \"histogram2dcontour\": [{\"colorbar\": {\"outlinewidth\": 0, \"ticks\": \"\"}, \"colorscale\": [[0.0, \"#0d0887\"], [0.1111111111111111, \"#46039f\"], [0.2222222222222222, \"#7201a8\"], [0.3333333333333333, \"#9c179e\"], [0.4444444444444444, \"#bd3786\"], [0.5555555555555556, \"#d8576b\"], [0.6666666666666666, \"#ed7953\"], [0.7777777777777778, \"#fb9f3a\"], [0.8888888888888888, \"#fdca26\"], [1.0, \"#f0f921\"]], \"type\": \"histogram2dcontour\"}], \"mesh3d\": [{\"colorbar\": {\"outlinewidth\": 0, \"ticks\": \"\"}, \"type\": \"mesh3d\"}], \"parcoords\": [{\"line\": {\"colorbar\": {\"outlinewidth\": 0, \"ticks\": \"\"}}, \"type\": \"parcoords\"}], \"pie\": [{\"automargin\": true, \"type\": \"pie\"}], \"scatter\": [{\"marker\": {\"colorbar\": {\"outlinewidth\": 0, \"ticks\": \"\"}}, \"type\": \"scatter\"}], \"scatter3d\": [{\"line\": {\"colorbar\": {\"outlinewidth\": 0, \"ticks\": \"\"}}, \"marker\": {\"colorbar\": {\"outlinewidth\": 0, \"ticks\": \"\"}}, \"type\": \"scatter3d\"}], \"scattercarpet\": [{\"marker\": {\"colorbar\": {\"outlinewidth\": 0, \"ticks\": \"\"}}, \"type\": \"scattercarpet\"}], \"scattergeo\": [{\"marker\": {\"colorbar\": {\"outlinewidth\": 0, \"ticks\": \"\"}}, \"type\": \"scattergeo\"}], \"scattergl\": [{\"marker\": {\"colorbar\": {\"outlinewidth\": 0, \"ticks\": \"\"}}, \"type\": \"scattergl\"}], \"scattermapbox\": [{\"marker\": {\"colorbar\": {\"outlinewidth\": 0, \"ticks\": \"\"}}, \"type\": \"scattermapbox\"}], \"scatterpolar\": [{\"marker\": {\"colorbar\": {\"outlinewidth\": 0, \"ticks\": \"\"}}, \"type\": \"scatterpolar\"}], \"scatterpolargl\": [{\"marker\": {\"colorbar\": {\"outlinewidth\": 0, \"ticks\": \"\"}}, \"type\": \"scatterpolargl\"}], \"scatterternary\": [{\"marker\": {\"colorbar\": {\"outlinewidth\": 0, \"ticks\": \"\"}}, \"type\": \"scatterternary\"}], \"surface\": [{\"colorbar\": {\"outlinewidth\": 0, \"ticks\": \"\"}, \"colorscale\": [[0.0, \"#0d0887\"], [0.1111111111111111, \"#46039f\"], [0.2222222222222222, \"#7201a8\"], [0.3333333333333333, \"#9c179e\"], [0.4444444444444444, \"#bd3786\"], [0.5555555555555556, \"#d8576b\"], [0.6666666666666666, \"#ed7953\"], [0.7777777777777778, \"#fb9f3a\"], [0.8888888888888888, \"#fdca26\"], [1.0, \"#f0f921\"]], \"type\": \"surface\"}], \"table\": [{\"cells\": {\"fill\": {\"color\": \"#EBF0F8\"}, \"line\": {\"color\": \"white\"}}, \"header\": {\"fill\": {\"color\": \"#C8D4E3\"}, \"line\": {\"color\": \"white\"}}, \"type\": \"table\"}]}, \"layout\": {\"annotationdefaults\": {\"arrowcolor\": \"#2a3f5f\", \"arrowhead\": 0, \"arrowwidth\": 1}, \"coloraxis\": {\"colorbar\": {\"outlinewidth\": 0, \"ticks\": \"\"}}, \"colorscale\": {\"diverging\": [[0, \"#8e0152\"], [0.1, \"#c51b7d\"], [0.2, \"#de77ae\"], [0.3, \"#f1b6da\"], [0.4, \"#fde0ef\"], [0.5, \"#f7f7f7\"], [0.6, \"#e6f5d0\"], [0.7, \"#b8e186\"], [0.8, \"#7fbc41\"], [0.9, \"#4d9221\"], [1, \"#276419\"]], \"sequential\": [[0.0, \"#0d0887\"], [0.1111111111111111, \"#46039f\"], [0.2222222222222222, \"#7201a8\"], [0.3333333333333333, \"#9c179e\"], [0.4444444444444444, \"#bd3786\"], [0.5555555555555556, \"#d8576b\"], [0.6666666666666666, \"#ed7953\"], [0.7777777777777778, \"#fb9f3a\"], [0.8888888888888888, \"#fdca26\"], [1.0, \"#f0f921\"]], \"sequentialminus\": [[0.0, \"#0d0887\"], [0.1111111111111111, \"#46039f\"], [0.2222222222222222, \"#7201a8\"], [0.3333333333333333, \"#9c179e\"], [0.4444444444444444, \"#bd3786\"], [0.5555555555555556, \"#d8576b\"], [0.6666666666666666, \"#ed7953\"], [0.7777777777777778, \"#fb9f3a\"], [0.8888888888888888, \"#fdca26\"], [1.0, \"#f0f921\"]]}, \"colorway\": [\"#636efa\", \"#EF553B\", \"#00cc96\", \"#ab63fa\", \"#FFA15A\", \"#19d3f3\", \"#FF6692\", \"#B6E880\", \"#FF97FF\", \"#FECB52\"], \"font\": {\"color\": \"#2a3f5f\"}, \"geo\": {\"bgcolor\": \"white\", \"lakecolor\": \"white\", \"landcolor\": \"#E5ECF6\", \"showlakes\": true, \"showland\": true, \"subunitcolor\": \"white\"}, \"hoverlabel\": {\"align\": \"left\"}, \"hovermode\": \"closest\", \"mapbox\": {\"style\": \"light\"}, \"paper_bgcolor\": \"white\", \"plot_bgcolor\": \"#E5ECF6\", \"polar\": {\"angularaxis\": {\"gridcolor\": \"white\", \"linecolor\": \"white\", \"ticks\": \"\"}, \"bgcolor\": \"#E5ECF6\", \"radialaxis\": {\"gridcolor\": \"white\", \"linecolor\": \"white\", \"ticks\": \"\"}}, \"scene\": {\"xaxis\": {\"backgroundcolor\": \"#E5ECF6\", \"gridcolor\": \"white\", \"gridwidth\": 2, \"linecolor\": \"white\", \"showbackground\": true, \"ticks\": \"\", \"zerolinecolor\": \"white\"}, \"yaxis\": {\"backgroundcolor\": \"#E5ECF6\", \"gridcolor\": \"white\", \"gridwidth\": 2, \"linecolor\": \"white\", \"showbackground\": true, \"ticks\": \"\", \"zerolinecolor\": \"white\"}, \"zaxis\": {\"backgroundcolor\": \"#E5ECF6\", \"gridcolor\": \"white\", \"gridwidth\": 2, \"linecolor\": \"white\", \"showbackground\": true, \"ticks\": \"\", \"zerolinecolor\": \"white\"}}, \"shapedefaults\": {\"line\": {\"color\": \"#2a3f5f\"}}, \"ternary\": {\"aaxis\": {\"gridcolor\": \"white\", \"linecolor\": \"white\", \"ticks\": \"\"}, \"baxis\": {\"gridcolor\": \"white\", \"linecolor\": \"white\", \"ticks\": \"\"}, \"bgcolor\": \"#E5ECF6\", \"caxis\": {\"gridcolor\": \"white\", \"linecolor\": \"white\", \"ticks\": \"\"}}, \"title\": {\"x\": 0.05}, \"xaxis\": {\"automargin\": true, \"gridcolor\": \"white\", \"linecolor\": \"white\", \"ticks\": \"\", \"title\": {\"standoff\": 15}, \"zerolinecolor\": \"white\", \"zerolinewidth\": 2}, \"yaxis\": {\"automargin\": true, \"gridcolor\": \"white\", \"linecolor\": \"white\", \"ticks\": \"\", \"title\": {\"standoff\": 15}, \"zerolinecolor\": \"white\", \"zerolinewidth\": 2}}}, \"xaxis\": {\"anchor\": \"y\", \"domain\": [0.0, 1.0], \"title\": {\"text\": \"cold_rent\"}}, \"xaxis2\": {\"anchor\": \"y2\", \"domain\": [0.0, 1.0], \"matches\": \"x\", \"showgrid\": true, \"showticklabels\": false}, \"yaxis\": {\"anchor\": \"x\", \"domain\": [0.0, 0.8316], \"title\": {\"text\": \"count\"}}, \"yaxis2\": {\"anchor\": \"x2\", \"domain\": [0.8416, 1.0], \"matches\": \"y2\", \"showgrid\": false, \"showline\": false, \"showticklabels\": false, \"ticks\": \"\"}},\n",
              "                        {\"responsive\": true}\n",
              "                    ).then(function(){\n",
              "                            \n",
              "var gd = document.getElementById('e4832a40-9dd6-4646-bfd2-5b0cac986603');\n",
              "var x = new MutationObserver(function (mutations, observer) {{\n",
              "        var display = window.getComputedStyle(gd).display;\n",
              "        if (!display || display === 'none') {{\n",
              "            console.log([gd, 'removed!']);\n",
              "            Plotly.purge(gd);\n",
              "            observer.disconnect();\n",
              "        }}\n",
              "}});\n",
              "\n",
              "// Listen for the removal of the full notebook cells\n",
              "var notebookContainer = gd.closest('#notebook-container');\n",
              "if (notebookContainer) {{\n",
              "    x.observe(notebookContainer, {childList: true});\n",
              "}}\n",
              "\n",
              "// Listen for the clearing of the current output cell\n",
              "var outputEl = gd.closest('.output');\n",
              "if (outputEl) {{\n",
              "    x.observe(outputEl, {childList: true});\n",
              "}}\n",
              "\n",
              "                        })\n",
              "                };\n",
              "                \n",
              "            </script>\n",
              "        </div>\n",
              "</body>\n",
              "</html>"
            ]
          },
          "metadata": {
            "tags": []
          }
        }
      ]
    },
    {
      "cell_type": "code",
      "metadata": {
        "id": "IOjd4rKJbJAV"
      },
      "source": [
        "df['cold_rent'] = df.cold_rent.astype(float)"
      ],
      "execution_count": null,
      "outputs": []
    },
    {
      "cell_type": "code",
      "metadata": {
        "id": "fJOTBKQBbJAW"
      },
      "source": [
        "def get_cold_rent(row):\n",
        "    if not pd.isna(row.cold_rent): \n",
        "        return float(row.cold_rent)\n",
        "    else:\n",
        "        return row.rent * warm_cold_rent_ratio"
      ],
      "execution_count": null,
      "outputs": []
    },
    {
      "cell_type": "code",
      "metadata": {
        "id": "fMkIdrXKbJAY"
      },
      "source": [
        "df['cold_rent'] = df.apply(get_cold_rent, axis=1)"
      ],
      "execution_count": null,
      "outputs": []
    },
    {
      "cell_type": "code",
      "metadata": {
        "id": "T1aZVcz6bJAd",
        "colab": {
          "base_uri": "https://localhost:8080/",
          "height": 542
        },
        "outputId": "97001820-3d5e-49be-cb93-f38c0e29136e"
      },
      "source": [
        "px.histogram(df, x='cold_rent', marginal='box')"
      ],
      "execution_count": null,
      "outputs": [
        {
          "output_type": "display_data",
          "data": {
            "text/html": [
              "<html>\n",
              "<head><meta charset=\"utf-8\" /></head>\n",
              "<body>\n",
              "    <div>\n",
              "            <script src=\"https://cdnjs.cloudflare.com/ajax/libs/mathjax/2.7.5/MathJax.js?config=TeX-AMS-MML_SVG\"></script><script type=\"text/javascript\">if (window.MathJax) {MathJax.Hub.Config({SVG: {font: \"STIX-Web\"}});}</script>\n",
              "                <script type=\"text/javascript\">window.PlotlyConfig = {MathJaxConfig: 'local'};</script>\n",
              "        <script src=\"https://cdn.plot.ly/plotly-latest.min.js\"></script>    \n",
              "            <div id=\"3ad935cf-643a-4605-b283-1991c4ff59e5\" class=\"plotly-graph-div\" style=\"height:525px; width:100%;\"></div>\n",
              "            <script type=\"text/javascript\">\n",
              "                \n",
              "                    window.PLOTLYENV=window.PLOTLYENV || {};\n",
              "                    \n",
              "                if (document.getElementById(\"3ad935cf-643a-4605-b283-1991c4ff59e5\")) {\n",
              "                    Plotly.newPlot(\n",
              "                        '3ad935cf-643a-4605-b283-1991c4ff59e5',\n",
              "                        [{\"alignmentgroup\": \"True\", \"bingroup\": \"x\", \"hoverlabel\": {\"namelength\": 0}, \"hovertemplate\": \"cold_rent=%{x}<br>count=%{y}\", \"legendgroup\": \"\", \"marker\": {\"color\": \"#636efa\"}, \"name\": \"\", \"offsetgroup\": \"\", \"orientation\": \"v\", \"showlegend\": false, \"type\": \"histogram\", \"x\": [2199.0, 973.51, 799.0, 911.5442163525494, 1131.5735045803194, 652.0, 751.7841665883641, 540.73, 391.93, 1534.0, 1999.0, 1159.464400819975, 2150.0, 5700.0, 1199.7, 1279.76, 1169.14, 760.0, 713.26, 1799.0, 910.9365932558997, 1295.0, 911.9326966930303, 527.9348216791983, 2650.0, 1384.0, 356.1069787741762, 616.5033587916622, 1140.5384355144945, 1550.0, 1155.4799870714528, 1110.6553324005774, 1073.3014535081813, 1325.2658179303573, 711.1282048018801, 1578.823947851942, 901.0, 614.24, 418.11, 667.3893028774771, 1211.7598312693297, 1631.1193783012966, 271.04, 3050.0, 1515.0, 1164.84, 384.49592673239727, 239.0000781879216, 1565.03, 361.15, 420.8537021876628, 2300.0, 1998.0, 2490.0, 2490.0, 486.0984773197147, 1724.85, 477.63159810410485, 715.0, 1760.0, 3825.0, 4950.0, 522.4562527749802, 1399.0, 816.8048184470615, 746.0814744107915, 442.7679778045352, 1298.0, 4300.0, 1300.0, 1645.83, 1115.0, 2100.0, 779.4509395546654, 771.9801637761861, 709.5991860258847, 2191.4275616872383, 1490.0, 3000.0, 592.422558199031, 781.9411981474918, 880.0, 1334.7786057549542, 1810.0, 224.12327335437664, 757.0386122192277, 510.50301152941347, 1990.0, 1682.0, 801.8632668901031, 1690.0, 395.45306454083345, 1790.0, 1607.8354604583697, 2650.0, 3390.0, 1490.0, 190.9829120010428, 602.07, 448.24654670875327, 1859.0477667855118, 2135.6457692079266, 2873.56, 2241.2327335437662, 1114.5301747710155, 996.1034371305628, 1674.6540790210877, 1824.9860097528324, 1035.9475746157852, 1750.0, 871.5905074892424, 2300.0, 3320.0, 1155.4799870714528, 1053.0, 1049.0, 875.0, 2228.7814405796344, 1450.0, 2953.4466910921187, 1761.17, 1670.0, 1266.6, 1444.64, 1390.0, 1000.0, 657.4282685061714, 671.0, 724.6652505124845, 947.0, 804.6374149625117, 737.1165434766165, 1937.0, 1272.522140934294, 950.24, 1100.25, 813.3184564171046, 2750.0, 1171.97, 647.4672341348659, 647.4672341348659, 1215.0, 799.0, 1500.0, 647.4672341348659, 493.0712013796286, 1397.93, 647.4672341348659, 3239.46, 1199.0, 1300.0, 937.9658600224375, 219.61092478417518, 493.0712013796286, 1290.0, 1789.5844935972123, 1090.0, 620.0, 1970.0, 833.7136742923528, 1600.0, 759.0, 321.87, 690.5138441704631, 579.0, 579.0, 579.0, 901.0, 946.7963169925999, 247.09839913179306, 529.0, 735.0, 579.0, 1929.0, 433.03, 1194.0, 1493.657103977279, 135.09652866083258, 228.5609141667933, 313.71, 1336.02, 2200.0, 334.1229759167047, 1210.0, 1103.3, 829.2561114111935, 2500.0, 555.825717918854, 848.1820767166743, 1085.7527464723134, 849.93, 1180.7361897198982, 819.2950770398879, 385.2928094821017, 1277.0, 758.0, 1524.0382588097611, 950.0, 980.0, 1650.0, 1460.0, 1162.08, 367.3081619247094, 761.1475388973913, 351.1563446916373, 301.71973110684746, 317.42, 697.2325618539088, 697.2325618539088, 1142.87, 1560.0, 203.59358151511572, 1195.04, 842.2054560938909, 1375.0, 1912.54, 1390.0, 1350.0, 1290.0, 1450.0, 2088.146576808356, 1450.0, 1350.0, 2113.86, 1450.0, 1168.77, 1150.0, 1329.7980885693014, 461.29, 963.8147442159757, 743.16, 1980.0, 670.23, 607.53, 441.38, 1284.973433898426, 1912.54, 888.4694802314199, 336.0852996878519, 285.74, 2350.0, 188.3332768582755, 1336.02, 1602.13, 3950.0, 9500.0, 1199.0, 1553.85, 876.81, 1495.62, 2184.0, 2058.0, 1994.1, 900.0, 599.0, 626.549061955124, 1672.28, 1120.6163667718831, 332.8977686890341, 1500.0, 1120.0, 1716.0, 672.3698200631299, 747.0775778479222, 605.68, 326.7717325506811, 824.0, 243.58215399872216, 4000.0, 2100.0, 529.0, 1798.0, 1399.0, 749.0, 445.63, 729.0, 896.4930934175065, 1365.0, 272.95, 1492.6610005401483, 284.39, 3414.3835955899153, 190.74, 518.0, 1940.0, 2154.417338480652, 1960.75, 1872.6, 1346.0, 2200.0, 1134.51699023704, 420.8537021876628, 383.99787501383196, 782.6583926222258, 338.67516862439135, 399.935530007921, 394.95501282226815, 971.0, 1155.4799870714528, 648.0300325768446, 363.57775455265545, 805.31, 1521.52, 575.92, 588.348495141167, 1843.16, 3008.15, 1910.0, 762.0191294048806, 2485.0, 747.0775778479222, 742.0970606622693, 518.2277936843609, 437.9, 2950.0, 588.348495141167, 1250.0, 2298.0, 419.74, 776.3630188995606, 792.0765506202953, 1075.3932707261556, 450.16, 2550.0, 700.38, 744.4080206364123, 904.9599726331163, 1785.0, 4367.52, 545.3, 1450.0, 1450.0, 1197.8143831495017, 1320.0, 1390.0, 638.0, 647.4672341348659, 437.14497390193316, 918.9054207529442, 1710.0, 717.1944747340052, 1237.6585206347243, 597.6620622783377, 780.0, 1683.4148087506512, 1244.133192976073, 950.0, 525.658725325355, 856.648955932284, 986.1424027592572, 1182.8728315925434, 481.8152325400532, 889.0223176390273, 1212.7559347064603, 672.3698200631299, 1900.0, 642.486716949213, 676.8522855302174, 846.6879215609785, 566.1453495275267, 747.0775778479222, 622.5646482066018, 1980.0, 1890.0, 517.9737873078926, 485.60042560114937, 995.8394697197232, 742.0970606622693, 597.6620622783377, 1632.0, 255.46566800368976, 622.5646482066018, 1400.0, 1394.0467602642227, 577.7399935357264, 473.1491326370173, 823.971782677216, 550.0, 495.0434861851471, 2428.0021280057467, 711.5366072111037, 490.282111755663, 455.652575763819, 386.7222179143841, 441.2987252347676, 473.1491326370173, 2050.0, 189.23475046887867, 333.19659972017325, 697.272405991394, 445.0, 670.0, 460.4189307104888, 1199.0, 1422.54, 1807.0, 362.0835993969596, 212.66808382737517, 630.6729301848445, 236.57456631850866, 846.6879215609785, 2480.0, 723.5695367316408, 1250.0, 1395.0, 1699.0, 1911.42, 467.172512014234, 1400.0, 1400.0, 1402.0155877612672, 1400.0, 578.2380452542917, 1732.2, 280.85634461614785, 320.1327031422059, 1400.0, 209.22654645208905, 402.65489239128743, 308.79206551047446, 1639.0, 750.0, 1057.41, 762.15, 841.19, 699.0, 682.3308544344355, 568.48, 354.6128236184804, 799.0, 620.5724413323406, 1392.0, 975.75, 1392.0, 964.98, 341.16542721721777, 1200.2, 762.0191294048806, 2050.0, 2077.0, 1333.0, 1491.8, 2077.0, 1550.0, 814.3145598542351, 382.50371985813615, 3500.0, 291.3602553606896, 1212.6, 1145.5189527001473, 1150.0, 800.0, 680.0, 1448.1, 1155.4799870714528, 512.9932701222399, 322.2643644976653, 1539.1790310541458, 695.0, 348.2875667927013, 421.35175390622805, 560.2733197656421, 2190.0, 1440.4900830204351, 2225.0, 1477.4, 3111.0, 2315.0, 665.6012972078278, 3264.0, 923.8759769042257, 283.8894795822104, 1986.17, 699.0, 1222.0, 815.0, 697.272405991394, 410.8926678163572, 746.5795261293569, 1030.9670574301326, 436.2933054631865, 1155.4799870714528, 846.6879215609785, 326.97095323810726, 750.0, 585.0, 1550.0, 747.0775778479222, 826.7658528183672, 1490.0, 358.2, 1300.0, 1493.657103977279, 333.7095929902955, 428.324477966142, 1999.0, 753.1, 658.0, 1842.43, 799.0, 585.5693665515727, 597.6620622783377, 1599.0, 672.1606383413324, 1126.3, 1614.89, 1925.0, 1466.0, 1578.66, 1280.0, 881.5515418605481, 668.8834580331729, 373.5387889239611, 562.8, 979.0, 749.0, 490.33191692751956, 565.16, 1800.0, 1080.7722292866606, 495.561459972455, 622.5646482066018, 495.561459972455, 458.9994833125777, 615.9505213840548, 542.8763732361567, 1835.4, 1281.99, 412.8848746906183, 798.09, 744.0892675365304, 412.8848746906183, 2128.88, 2199.0, 588.6971313441626, 672.3698200631299, 2794.08, 578.0139219809373, 985.0, 1478.7, 427.7, 851.3347440951925, 764.6588035132766, 1123.44, 259.5297700271825, 1399.0, 636.1166354687631, 1676.91, 1317.795042151878, 1310.0702599969304, 405.1152678809999, 1567.17, 478.12964982267016, 1899.0, 1865.21, 1184.0, 1344.7396401262597, 816.5657536221502, 736.49, 741.599008943704, 3200.0, 1218.61, 2250.0, 1300.66, 1427.1622190316282, 1003.1807520513755, 1458.42, 1044.35, 1135.5579183288417, 4000.0, 1368.0, 1033.35, 1339.0, 821.7853356327144, 2131.1, 1711.35, 545.3666318289831, 1775.0, 1577.34, 1158.84, 1599.0, 1133.65, 579.2341486914223, 1282.4831753055996, 1157.11, 1208.771520957938, 443.0, 1272.522140934294, 1096.94, 761.5210776863153, 5540.64, 5540.64, 4416.4, 1550.0, 4416.4, 1319.8370541979957, 4416.4, 1065.173249461196, 592.2283180287905, 462.8593841314586, 1666.68, 1800.0, 559.8101316673763, 446.4834436250322, 1012.5889490150736, 513.4913218408051, 1766.18, 284.62, 896.4930934175065, 1773.65, 1771.67, 1148.37, 1076.7878155381384, 1750.81, 657.7918462607241, 1450.0, 711.7657110016436, 1718.24, 432.33877481777813, 1130.56, 1730.2, 1740.61, 2149.92, 1900.0, 702.2529231770468, 1583.5, 1854.81, 2204.19, 1397.4, 702.2529231770468, 1528.55, 1513.86, 1135.5579183288417, 3821.4, 1543.56, 2487.88, 2700.0, 1309.66, 1614.62, 1700.0, 1529.85, 2780.0, 856.648955932284, 1083.262487879487, 721.7964726135484, 1605.82, 4400.0, 1621.76, 2091.94, 2131.92, 2154.24, 1950.0, 1137.5401641687315, 5100.0, 1543.19, 2274.98, 462.69004654714644, 945.2772592509758, 1813.37, 2593.4, 1854.81, 874.0807660820689, 1593.93, 2720.0, 1601.71, 525.0, 1880.75, 1528.55, 1841.94, 2204.19, 1677.36, 2275.82, 2259.45, 1047.23, 1820.0, 2926.7262163910914, 1576.88, 2135.49, 1138.5462286402333, 2487.88, 1020.0, 1048.3988675799174, 961.8673619963854, 1446.0, 1529.44, 1309.87601982669, 1349.0, 1245.1292964132035, 2149.92, 1771.45, 780.6412831620365, 1194.0, 1099.0, 1303.65, 7075.820765656953, 1503.07, 529.4289768348941, 1299.0, 2162.91, 845.1937664052825, 1125.825987748076, 1952.44, 2379.41, 1600.0, 1248.0, 1873.01, 1272.522140934294, 1872.39, 1513.86, 819.0, 644.4789238234741, 850.0, 1198.0, 654.5146659525647, 2200.0, 447.74849499018796, 1104.5, 1846.1930519293421, 1330.0, 328.7141342530857, 455.21927076866723, 1272.8159914482476, 2491.0, 893.0067313875496, 1131.0, 1154.5, 724.5357570656574, 2077.0, 981.1618855736044, 1400.2126405400609, 545.0, 759.0308190934888, 1299.0, 1960.0, 1899.0, 672.3698200631299, 1743.1810149784849, 419.85759875053225, 676.085285883627, 501.5380805952384, 303.8115483248217, 1954.8529953687296, 1079.0, 309.788168947605, 680.3386475601744, 388.4803404809195, 369.05632345687354, 383.99787501383196, 2012.1289430037368, 1514.0, 593.23, 383.4998232952667, 1085.7527464723134, 358.5972373670026, 1901.5, 514.0, 384.49592673239727, 981.1618855736044, 345.14984096574, 477.63159810410485, 323.2355653488676, 1369.642226054524, 627.0471136736893, 442.26992608596987], \"xaxis\": \"x\", \"yaxis\": \"y\"}, {\"alignmentgroup\": \"True\", \"hoverlabel\": {\"namelength\": 0}, \"hovertemplate\": \"cold_rent=%{x}\", \"legendgroup\": \"\", \"marker\": {\"color\": \"#636efa\"}, \"name\": \"\", \"notched\": true, \"offsetgroup\": \"\", \"showlegend\": false, \"type\": \"box\", \"x\": [2199.0, 973.51, 799.0, 911.5442163525494, 1131.5735045803194, 652.0, 751.7841665883641, 540.73, 391.93, 1534.0, 1999.0, 1159.464400819975, 2150.0, 5700.0, 1199.7, 1279.76, 1169.14, 760.0, 713.26, 1799.0, 910.9365932558997, 1295.0, 911.9326966930303, 527.9348216791983, 2650.0, 1384.0, 356.1069787741762, 616.5033587916622, 1140.5384355144945, 1550.0, 1155.4799870714528, 1110.6553324005774, 1073.3014535081813, 1325.2658179303573, 711.1282048018801, 1578.823947851942, 901.0, 614.24, 418.11, 667.3893028774771, 1211.7598312693297, 1631.1193783012966, 271.04, 3050.0, 1515.0, 1164.84, 384.49592673239727, 239.0000781879216, 1565.03, 361.15, 420.8537021876628, 2300.0, 1998.0, 2490.0, 2490.0, 486.0984773197147, 1724.85, 477.63159810410485, 715.0, 1760.0, 3825.0, 4950.0, 522.4562527749802, 1399.0, 816.8048184470615, 746.0814744107915, 442.7679778045352, 1298.0, 4300.0, 1300.0, 1645.83, 1115.0, 2100.0, 779.4509395546654, 771.9801637761861, 709.5991860258847, 2191.4275616872383, 1490.0, 3000.0, 592.422558199031, 781.9411981474918, 880.0, 1334.7786057549542, 1810.0, 224.12327335437664, 757.0386122192277, 510.50301152941347, 1990.0, 1682.0, 801.8632668901031, 1690.0, 395.45306454083345, 1790.0, 1607.8354604583697, 2650.0, 3390.0, 1490.0, 190.9829120010428, 602.07, 448.24654670875327, 1859.0477667855118, 2135.6457692079266, 2873.56, 2241.2327335437662, 1114.5301747710155, 996.1034371305628, 1674.6540790210877, 1824.9860097528324, 1035.9475746157852, 1750.0, 871.5905074892424, 2300.0, 3320.0, 1155.4799870714528, 1053.0, 1049.0, 875.0, 2228.7814405796344, 1450.0, 2953.4466910921187, 1761.17, 1670.0, 1266.6, 1444.64, 1390.0, 1000.0, 657.4282685061714, 671.0, 724.6652505124845, 947.0, 804.6374149625117, 737.1165434766165, 1937.0, 1272.522140934294, 950.24, 1100.25, 813.3184564171046, 2750.0, 1171.97, 647.4672341348659, 647.4672341348659, 1215.0, 799.0, 1500.0, 647.4672341348659, 493.0712013796286, 1397.93, 647.4672341348659, 3239.46, 1199.0, 1300.0, 937.9658600224375, 219.61092478417518, 493.0712013796286, 1290.0, 1789.5844935972123, 1090.0, 620.0, 1970.0, 833.7136742923528, 1600.0, 759.0, 321.87, 690.5138441704631, 579.0, 579.0, 579.0, 901.0, 946.7963169925999, 247.09839913179306, 529.0, 735.0, 579.0, 1929.0, 433.03, 1194.0, 1493.657103977279, 135.09652866083258, 228.5609141667933, 313.71, 1336.02, 2200.0, 334.1229759167047, 1210.0, 1103.3, 829.2561114111935, 2500.0, 555.825717918854, 848.1820767166743, 1085.7527464723134, 849.93, 1180.7361897198982, 819.2950770398879, 385.2928094821017, 1277.0, 758.0, 1524.0382588097611, 950.0, 980.0, 1650.0, 1460.0, 1162.08, 367.3081619247094, 761.1475388973913, 351.1563446916373, 301.71973110684746, 317.42, 697.2325618539088, 697.2325618539088, 1142.87, 1560.0, 203.59358151511572, 1195.04, 842.2054560938909, 1375.0, 1912.54, 1390.0, 1350.0, 1290.0, 1450.0, 2088.146576808356, 1450.0, 1350.0, 2113.86, 1450.0, 1168.77, 1150.0, 1329.7980885693014, 461.29, 963.8147442159757, 743.16, 1980.0, 670.23, 607.53, 441.38, 1284.973433898426, 1912.54, 888.4694802314199, 336.0852996878519, 285.74, 2350.0, 188.3332768582755, 1336.02, 1602.13, 3950.0, 9500.0, 1199.0, 1553.85, 876.81, 1495.62, 2184.0, 2058.0, 1994.1, 900.0, 599.0, 626.549061955124, 1672.28, 1120.6163667718831, 332.8977686890341, 1500.0, 1120.0, 1716.0, 672.3698200631299, 747.0775778479222, 605.68, 326.7717325506811, 824.0, 243.58215399872216, 4000.0, 2100.0, 529.0, 1798.0, 1399.0, 749.0, 445.63, 729.0, 896.4930934175065, 1365.0, 272.95, 1492.6610005401483, 284.39, 3414.3835955899153, 190.74, 518.0, 1940.0, 2154.417338480652, 1960.75, 1872.6, 1346.0, 2200.0, 1134.51699023704, 420.8537021876628, 383.99787501383196, 782.6583926222258, 338.67516862439135, 399.935530007921, 394.95501282226815, 971.0, 1155.4799870714528, 648.0300325768446, 363.57775455265545, 805.31, 1521.52, 575.92, 588.348495141167, 1843.16, 3008.15, 1910.0, 762.0191294048806, 2485.0, 747.0775778479222, 742.0970606622693, 518.2277936843609, 437.9, 2950.0, 588.348495141167, 1250.0, 2298.0, 419.74, 776.3630188995606, 792.0765506202953, 1075.3932707261556, 450.16, 2550.0, 700.38, 744.4080206364123, 904.9599726331163, 1785.0, 4367.52, 545.3, 1450.0, 1450.0, 1197.8143831495017, 1320.0, 1390.0, 638.0, 647.4672341348659, 437.14497390193316, 918.9054207529442, 1710.0, 717.1944747340052, 1237.6585206347243, 597.6620622783377, 780.0, 1683.4148087506512, 1244.133192976073, 950.0, 525.658725325355, 856.648955932284, 986.1424027592572, 1182.8728315925434, 481.8152325400532, 889.0223176390273, 1212.7559347064603, 672.3698200631299, 1900.0, 642.486716949213, 676.8522855302174, 846.6879215609785, 566.1453495275267, 747.0775778479222, 622.5646482066018, 1980.0, 1890.0, 517.9737873078926, 485.60042560114937, 995.8394697197232, 742.0970606622693, 597.6620622783377, 1632.0, 255.46566800368976, 622.5646482066018, 1400.0, 1394.0467602642227, 577.7399935357264, 473.1491326370173, 823.971782677216, 550.0, 495.0434861851471, 2428.0021280057467, 711.5366072111037, 490.282111755663, 455.652575763819, 386.7222179143841, 441.2987252347676, 473.1491326370173, 2050.0, 189.23475046887867, 333.19659972017325, 697.272405991394, 445.0, 670.0, 460.4189307104888, 1199.0, 1422.54, 1807.0, 362.0835993969596, 212.66808382737517, 630.6729301848445, 236.57456631850866, 846.6879215609785, 2480.0, 723.5695367316408, 1250.0, 1395.0, 1699.0, 1911.42, 467.172512014234, 1400.0, 1400.0, 1402.0155877612672, 1400.0, 578.2380452542917, 1732.2, 280.85634461614785, 320.1327031422059, 1400.0, 209.22654645208905, 402.65489239128743, 308.79206551047446, 1639.0, 750.0, 1057.41, 762.15, 841.19, 699.0, 682.3308544344355, 568.48, 354.6128236184804, 799.0, 620.5724413323406, 1392.0, 975.75, 1392.0, 964.98, 341.16542721721777, 1200.2, 762.0191294048806, 2050.0, 2077.0, 1333.0, 1491.8, 2077.0, 1550.0, 814.3145598542351, 382.50371985813615, 3500.0, 291.3602553606896, 1212.6, 1145.5189527001473, 1150.0, 800.0, 680.0, 1448.1, 1155.4799870714528, 512.9932701222399, 322.2643644976653, 1539.1790310541458, 695.0, 348.2875667927013, 421.35175390622805, 560.2733197656421, 2190.0, 1440.4900830204351, 2225.0, 1477.4, 3111.0, 2315.0, 665.6012972078278, 3264.0, 923.8759769042257, 283.8894795822104, 1986.17, 699.0, 1222.0, 815.0, 697.272405991394, 410.8926678163572, 746.5795261293569, 1030.9670574301326, 436.2933054631865, 1155.4799870714528, 846.6879215609785, 326.97095323810726, 750.0, 585.0, 1550.0, 747.0775778479222, 826.7658528183672, 1490.0, 358.2, 1300.0, 1493.657103977279, 333.7095929902955, 428.324477966142, 1999.0, 753.1, 658.0, 1842.43, 799.0, 585.5693665515727, 597.6620622783377, 1599.0, 672.1606383413324, 1126.3, 1614.89, 1925.0, 1466.0, 1578.66, 1280.0, 881.5515418605481, 668.8834580331729, 373.5387889239611, 562.8, 979.0, 749.0, 490.33191692751956, 565.16, 1800.0, 1080.7722292866606, 495.561459972455, 622.5646482066018, 495.561459972455, 458.9994833125777, 615.9505213840548, 542.8763732361567, 1835.4, 1281.99, 412.8848746906183, 798.09, 744.0892675365304, 412.8848746906183, 2128.88, 2199.0, 588.6971313441626, 672.3698200631299, 2794.08, 578.0139219809373, 985.0, 1478.7, 427.7, 851.3347440951925, 764.6588035132766, 1123.44, 259.5297700271825, 1399.0, 636.1166354687631, 1676.91, 1317.795042151878, 1310.0702599969304, 405.1152678809999, 1567.17, 478.12964982267016, 1899.0, 1865.21, 1184.0, 1344.7396401262597, 816.5657536221502, 736.49, 741.599008943704, 3200.0, 1218.61, 2250.0, 1300.66, 1427.1622190316282, 1003.1807520513755, 1458.42, 1044.35, 1135.5579183288417, 4000.0, 1368.0, 1033.35, 1339.0, 821.7853356327144, 2131.1, 1711.35, 545.3666318289831, 1775.0, 1577.34, 1158.84, 1599.0, 1133.65, 579.2341486914223, 1282.4831753055996, 1157.11, 1208.771520957938, 443.0, 1272.522140934294, 1096.94, 761.5210776863153, 5540.64, 5540.64, 4416.4, 1550.0, 4416.4, 1319.8370541979957, 4416.4, 1065.173249461196, 592.2283180287905, 462.8593841314586, 1666.68, 1800.0, 559.8101316673763, 446.4834436250322, 1012.5889490150736, 513.4913218408051, 1766.18, 284.62, 896.4930934175065, 1773.65, 1771.67, 1148.37, 1076.7878155381384, 1750.81, 657.7918462607241, 1450.0, 711.7657110016436, 1718.24, 432.33877481777813, 1130.56, 1730.2, 1740.61, 2149.92, 1900.0, 702.2529231770468, 1583.5, 1854.81, 2204.19, 1397.4, 702.2529231770468, 1528.55, 1513.86, 1135.5579183288417, 3821.4, 1543.56, 2487.88, 2700.0, 1309.66, 1614.62, 1700.0, 1529.85, 2780.0, 856.648955932284, 1083.262487879487, 721.7964726135484, 1605.82, 4400.0, 1621.76, 2091.94, 2131.92, 2154.24, 1950.0, 1137.5401641687315, 5100.0, 1543.19, 2274.98, 462.69004654714644, 945.2772592509758, 1813.37, 2593.4, 1854.81, 874.0807660820689, 1593.93, 2720.0, 1601.71, 525.0, 1880.75, 1528.55, 1841.94, 2204.19, 1677.36, 2275.82, 2259.45, 1047.23, 1820.0, 2926.7262163910914, 1576.88, 2135.49, 1138.5462286402333, 2487.88, 1020.0, 1048.3988675799174, 961.8673619963854, 1446.0, 1529.44, 1309.87601982669, 1349.0, 1245.1292964132035, 2149.92, 1771.45, 780.6412831620365, 1194.0, 1099.0, 1303.65, 7075.820765656953, 1503.07, 529.4289768348941, 1299.0, 2162.91, 845.1937664052825, 1125.825987748076, 1952.44, 2379.41, 1600.0, 1248.0, 1873.01, 1272.522140934294, 1872.39, 1513.86, 819.0, 644.4789238234741, 850.0, 1198.0, 654.5146659525647, 2200.0, 447.74849499018796, 1104.5, 1846.1930519293421, 1330.0, 328.7141342530857, 455.21927076866723, 1272.8159914482476, 2491.0, 893.0067313875496, 1131.0, 1154.5, 724.5357570656574, 2077.0, 981.1618855736044, 1400.2126405400609, 545.0, 759.0308190934888, 1299.0, 1960.0, 1899.0, 672.3698200631299, 1743.1810149784849, 419.85759875053225, 676.085285883627, 501.5380805952384, 303.8115483248217, 1954.8529953687296, 1079.0, 309.788168947605, 680.3386475601744, 388.4803404809195, 369.05632345687354, 383.99787501383196, 2012.1289430037368, 1514.0, 593.23, 383.4998232952667, 1085.7527464723134, 358.5972373670026, 1901.5, 514.0, 384.49592673239727, 981.1618855736044, 345.14984096574, 477.63159810410485, 323.2355653488676, 1369.642226054524, 627.0471136736893, 442.26992608596987], \"xaxis\": \"x2\", \"yaxis\": \"y2\"}],\n",
              "                        {\"barmode\": \"relative\", \"legend\": {\"tracegroupgap\": 0}, \"margin\": {\"t\": 60}, \"template\": {\"data\": {\"bar\": [{\"error_x\": {\"color\": \"#2a3f5f\"}, \"error_y\": {\"color\": \"#2a3f5f\"}, \"marker\": {\"line\": {\"color\": \"#E5ECF6\", \"width\": 0.5}}, \"type\": \"bar\"}], \"barpolar\": [{\"marker\": {\"line\": {\"color\": \"#E5ECF6\", \"width\": 0.5}}, \"type\": \"barpolar\"}], \"carpet\": [{\"aaxis\": {\"endlinecolor\": \"#2a3f5f\", \"gridcolor\": \"white\", \"linecolor\": \"white\", \"minorgridcolor\": \"white\", \"startlinecolor\": \"#2a3f5f\"}, \"baxis\": {\"endlinecolor\": \"#2a3f5f\", \"gridcolor\": \"white\", \"linecolor\": \"white\", \"minorgridcolor\": \"white\", \"startlinecolor\": \"#2a3f5f\"}, \"type\": \"carpet\"}], \"choropleth\": [{\"colorbar\": {\"outlinewidth\": 0, \"ticks\": \"\"}, \"type\": \"choropleth\"}], \"contour\": [{\"colorbar\": {\"outlinewidth\": 0, \"ticks\": \"\"}, \"colorscale\": [[0.0, \"#0d0887\"], [0.1111111111111111, \"#46039f\"], [0.2222222222222222, \"#7201a8\"], [0.3333333333333333, \"#9c179e\"], [0.4444444444444444, \"#bd3786\"], [0.5555555555555556, \"#d8576b\"], [0.6666666666666666, \"#ed7953\"], [0.7777777777777778, \"#fb9f3a\"], [0.8888888888888888, \"#fdca26\"], [1.0, \"#f0f921\"]], \"type\": \"contour\"}], \"contourcarpet\": [{\"colorbar\": {\"outlinewidth\": 0, \"ticks\": \"\"}, \"type\": \"contourcarpet\"}], \"heatmap\": [{\"colorbar\": {\"outlinewidth\": 0, \"ticks\": \"\"}, \"colorscale\": [[0.0, \"#0d0887\"], [0.1111111111111111, \"#46039f\"], [0.2222222222222222, \"#7201a8\"], [0.3333333333333333, \"#9c179e\"], [0.4444444444444444, \"#bd3786\"], [0.5555555555555556, \"#d8576b\"], [0.6666666666666666, \"#ed7953\"], [0.7777777777777778, \"#fb9f3a\"], [0.8888888888888888, \"#fdca26\"], [1.0, \"#f0f921\"]], \"type\": \"heatmap\"}], \"heatmapgl\": [{\"colorbar\": {\"outlinewidth\": 0, \"ticks\": \"\"}, \"colorscale\": [[0.0, \"#0d0887\"], [0.1111111111111111, \"#46039f\"], [0.2222222222222222, \"#7201a8\"], [0.3333333333333333, \"#9c179e\"], [0.4444444444444444, \"#bd3786\"], [0.5555555555555556, \"#d8576b\"], [0.6666666666666666, \"#ed7953\"], [0.7777777777777778, \"#fb9f3a\"], [0.8888888888888888, \"#fdca26\"], [1.0, \"#f0f921\"]], \"type\": \"heatmapgl\"}], \"histogram\": [{\"marker\": {\"colorbar\": {\"outlinewidth\": 0, \"ticks\": \"\"}}, \"type\": \"histogram\"}], \"histogram2d\": [{\"colorbar\": {\"outlinewidth\": 0, \"ticks\": \"\"}, \"colorscale\": [[0.0, \"#0d0887\"], [0.1111111111111111, \"#46039f\"], [0.2222222222222222, \"#7201a8\"], [0.3333333333333333, \"#9c179e\"], [0.4444444444444444, \"#bd3786\"], [0.5555555555555556, \"#d8576b\"], [0.6666666666666666, \"#ed7953\"], [0.7777777777777778, \"#fb9f3a\"], [0.8888888888888888, \"#fdca26\"], [1.0, \"#f0f921\"]], \"type\": \"histogram2d\"}], \"histogram2dcontour\": [{\"colorbar\": {\"outlinewidth\": 0, \"ticks\": \"\"}, \"colorscale\": [[0.0, \"#0d0887\"], [0.1111111111111111, \"#46039f\"], [0.2222222222222222, \"#7201a8\"], [0.3333333333333333, \"#9c179e\"], [0.4444444444444444, \"#bd3786\"], [0.5555555555555556, \"#d8576b\"], [0.6666666666666666, \"#ed7953\"], [0.7777777777777778, \"#fb9f3a\"], [0.8888888888888888, \"#fdca26\"], [1.0, \"#f0f921\"]], \"type\": \"histogram2dcontour\"}], \"mesh3d\": [{\"colorbar\": {\"outlinewidth\": 0, \"ticks\": \"\"}, \"type\": \"mesh3d\"}], \"parcoords\": [{\"line\": {\"colorbar\": {\"outlinewidth\": 0, \"ticks\": \"\"}}, \"type\": \"parcoords\"}], \"pie\": [{\"automargin\": true, \"type\": \"pie\"}], \"scatter\": [{\"marker\": {\"colorbar\": {\"outlinewidth\": 0, \"ticks\": \"\"}}, \"type\": \"scatter\"}], \"scatter3d\": [{\"line\": {\"colorbar\": {\"outlinewidth\": 0, \"ticks\": \"\"}}, \"marker\": {\"colorbar\": {\"outlinewidth\": 0, \"ticks\": \"\"}}, \"type\": \"scatter3d\"}], \"scattercarpet\": [{\"marker\": {\"colorbar\": {\"outlinewidth\": 0, \"ticks\": \"\"}}, \"type\": \"scattercarpet\"}], \"scattergeo\": [{\"marker\": {\"colorbar\": {\"outlinewidth\": 0, \"ticks\": \"\"}}, \"type\": \"scattergeo\"}], \"scattergl\": [{\"marker\": {\"colorbar\": {\"outlinewidth\": 0, \"ticks\": \"\"}}, \"type\": \"scattergl\"}], \"scattermapbox\": [{\"marker\": {\"colorbar\": {\"outlinewidth\": 0, \"ticks\": \"\"}}, \"type\": \"scattermapbox\"}], \"scatterpolar\": [{\"marker\": {\"colorbar\": {\"outlinewidth\": 0, \"ticks\": \"\"}}, \"type\": \"scatterpolar\"}], \"scatterpolargl\": [{\"marker\": {\"colorbar\": {\"outlinewidth\": 0, \"ticks\": \"\"}}, \"type\": \"scatterpolargl\"}], \"scatterternary\": [{\"marker\": {\"colorbar\": {\"outlinewidth\": 0, \"ticks\": \"\"}}, \"type\": \"scatterternary\"}], \"surface\": [{\"colorbar\": {\"outlinewidth\": 0, \"ticks\": \"\"}, \"colorscale\": [[0.0, \"#0d0887\"], [0.1111111111111111, \"#46039f\"], [0.2222222222222222, \"#7201a8\"], [0.3333333333333333, \"#9c179e\"], [0.4444444444444444, \"#bd3786\"], [0.5555555555555556, \"#d8576b\"], [0.6666666666666666, \"#ed7953\"], [0.7777777777777778, \"#fb9f3a\"], [0.8888888888888888, \"#fdca26\"], [1.0, \"#f0f921\"]], \"type\": \"surface\"}], \"table\": [{\"cells\": {\"fill\": {\"color\": \"#EBF0F8\"}, \"line\": {\"color\": \"white\"}}, \"header\": {\"fill\": {\"color\": \"#C8D4E3\"}, \"line\": {\"color\": \"white\"}}, \"type\": \"table\"}]}, \"layout\": {\"annotationdefaults\": {\"arrowcolor\": \"#2a3f5f\", \"arrowhead\": 0, \"arrowwidth\": 1}, \"coloraxis\": {\"colorbar\": {\"outlinewidth\": 0, \"ticks\": \"\"}}, \"colorscale\": {\"diverging\": [[0, \"#8e0152\"], [0.1, \"#c51b7d\"], [0.2, \"#de77ae\"], [0.3, \"#f1b6da\"], [0.4, \"#fde0ef\"], [0.5, \"#f7f7f7\"], [0.6, \"#e6f5d0\"], [0.7, \"#b8e186\"], [0.8, \"#7fbc41\"], [0.9, \"#4d9221\"], [1, \"#276419\"]], \"sequential\": [[0.0, \"#0d0887\"], [0.1111111111111111, \"#46039f\"], [0.2222222222222222, \"#7201a8\"], [0.3333333333333333, \"#9c179e\"], [0.4444444444444444, \"#bd3786\"], [0.5555555555555556, \"#d8576b\"], [0.6666666666666666, \"#ed7953\"], [0.7777777777777778, \"#fb9f3a\"], [0.8888888888888888, \"#fdca26\"], [1.0, \"#f0f921\"]], \"sequentialminus\": [[0.0, \"#0d0887\"], [0.1111111111111111, \"#46039f\"], [0.2222222222222222, \"#7201a8\"], [0.3333333333333333, \"#9c179e\"], [0.4444444444444444, \"#bd3786\"], [0.5555555555555556, \"#d8576b\"], [0.6666666666666666, \"#ed7953\"], [0.7777777777777778, \"#fb9f3a\"], [0.8888888888888888, \"#fdca26\"], [1.0, \"#f0f921\"]]}, \"colorway\": [\"#636efa\", \"#EF553B\", \"#00cc96\", \"#ab63fa\", \"#FFA15A\", \"#19d3f3\", \"#FF6692\", \"#B6E880\", \"#FF97FF\", \"#FECB52\"], \"font\": {\"color\": \"#2a3f5f\"}, \"geo\": {\"bgcolor\": \"white\", \"lakecolor\": \"white\", \"landcolor\": \"#E5ECF6\", \"showlakes\": true, \"showland\": true, \"subunitcolor\": \"white\"}, \"hoverlabel\": {\"align\": \"left\"}, \"hovermode\": \"closest\", \"mapbox\": {\"style\": \"light\"}, \"paper_bgcolor\": \"white\", \"plot_bgcolor\": \"#E5ECF6\", \"polar\": {\"angularaxis\": {\"gridcolor\": \"white\", \"linecolor\": \"white\", \"ticks\": \"\"}, \"bgcolor\": \"#E5ECF6\", \"radialaxis\": {\"gridcolor\": \"white\", \"linecolor\": \"white\", \"ticks\": \"\"}}, \"scene\": {\"xaxis\": {\"backgroundcolor\": \"#E5ECF6\", \"gridcolor\": \"white\", \"gridwidth\": 2, \"linecolor\": \"white\", \"showbackground\": true, \"ticks\": \"\", \"zerolinecolor\": \"white\"}, \"yaxis\": {\"backgroundcolor\": \"#E5ECF6\", \"gridcolor\": \"white\", \"gridwidth\": 2, \"linecolor\": \"white\", \"showbackground\": true, \"ticks\": \"\", \"zerolinecolor\": \"white\"}, \"zaxis\": {\"backgroundcolor\": \"#E5ECF6\", \"gridcolor\": \"white\", \"gridwidth\": 2, \"linecolor\": \"white\", \"showbackground\": true, \"ticks\": \"\", \"zerolinecolor\": \"white\"}}, \"shapedefaults\": {\"line\": {\"color\": \"#2a3f5f\"}}, \"ternary\": {\"aaxis\": {\"gridcolor\": \"white\", \"linecolor\": \"white\", \"ticks\": \"\"}, \"baxis\": {\"gridcolor\": \"white\", \"linecolor\": \"white\", \"ticks\": \"\"}, \"bgcolor\": \"#E5ECF6\", \"caxis\": {\"gridcolor\": \"white\", \"linecolor\": \"white\", \"ticks\": \"\"}}, \"title\": {\"x\": 0.05}, \"xaxis\": {\"automargin\": true, \"gridcolor\": \"white\", \"linecolor\": \"white\", \"ticks\": \"\", \"title\": {\"standoff\": 15}, \"zerolinecolor\": \"white\", \"zerolinewidth\": 2}, \"yaxis\": {\"automargin\": true, \"gridcolor\": \"white\", \"linecolor\": \"white\", \"ticks\": \"\", \"title\": {\"standoff\": 15}, \"zerolinecolor\": \"white\", \"zerolinewidth\": 2}}}, \"xaxis\": {\"anchor\": \"y\", \"domain\": [0.0, 1.0], \"title\": {\"text\": \"cold_rent\"}}, \"xaxis2\": {\"anchor\": \"y2\", \"domain\": [0.0, 1.0], \"matches\": \"x\", \"showgrid\": true, \"showticklabels\": false}, \"yaxis\": {\"anchor\": \"x\", \"domain\": [0.0, 0.8316], \"title\": {\"text\": \"count\"}}, \"yaxis2\": {\"anchor\": \"x2\", \"domain\": [0.8416, 1.0], \"matches\": \"y2\", \"showgrid\": false, \"showline\": false, \"showticklabels\": false, \"ticks\": \"\"}},\n",
              "                        {\"responsive\": true}\n",
              "                    ).then(function(){\n",
              "                            \n",
              "var gd = document.getElementById('3ad935cf-643a-4605-b283-1991c4ff59e5');\n",
              "var x = new MutationObserver(function (mutations, observer) {{\n",
              "        var display = window.getComputedStyle(gd).display;\n",
              "        if (!display || display === 'none') {{\n",
              "            console.log([gd, 'removed!']);\n",
              "            Plotly.purge(gd);\n",
              "            observer.disconnect();\n",
              "        }}\n",
              "}});\n",
              "\n",
              "// Listen for the removal of the full notebook cells\n",
              "var notebookContainer = gd.closest('#notebook-container');\n",
              "if (notebookContainer) {{\n",
              "    x.observe(notebookContainer, {childList: true});\n",
              "}}\n",
              "\n",
              "// Listen for the clearing of the current output cell\n",
              "var outputEl = gd.closest('.output');\n",
              "if (outputEl) {{\n",
              "    x.observe(outputEl, {childList: true});\n",
              "}}\n",
              "\n",
              "                        })\n",
              "                };\n",
              "                \n",
              "            </script>\n",
              "        </div>\n",
              "</body>\n",
              "</html>"
            ]
          },
          "metadata": {
            "tags": []
          }
        }
      ]
    },
    {
      "cell_type": "code",
      "metadata": {
        "id": "C10Z29twTkH1"
      },
      "source": [
        "df.to_pickle('berlin_housing_with_scraped_class_cleaned.pkl')"
      ],
      "execution_count": null,
      "outputs": []
    },
    {
      "cell_type": "code",
      "metadata": {
        "id": "tHUbESqOUFqQ"
      },
      "source": [
        ""
      ],
      "execution_count": null,
      "outputs": []
    }
  ]
}