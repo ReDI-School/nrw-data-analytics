{
 "cells": [
  {
   "cell_type": "markdown",
   "metadata": {
    "id": "1-vAOcKer2v1"
   },
   "source": [
    "![Checkars](https://raw.githubusercontent.com/juliandnl/redi_ss20/master/checkars/grafik.png)"
   ]
  },
  {
   "cell_type": "code",
   "execution_count": 1,
   "metadata": {
    "id": "dapAaqR5UUui"
   },
   "outputs": [],
   "source": [
    "# Imports\n",
    "import pandas as pd"
   ]
  },
  {
   "cell_type": "code",
   "execution_count": 100,
   "metadata": {
    "id": "o-S6RzsRK1c3"
   },
   "outputs": [
    {
     "name": "stdout",
     "output_type": "stream",
     "text": [
      "Requirement already satisfied: plotly==5.1.0 in /Applications/anaconda3/lib/python3.8/site-packages (5.1.0)\n",
      "Requirement already satisfied: tenacity>=6.2.0 in /Applications/anaconda3/lib/python3.8/site-packages (from plotly==5.1.0) (7.0.0)\n",
      "Requirement already satisfied: six in /Applications/anaconda3/lib/python3.8/site-packages (from plotly==5.1.0) (1.15.0)\n"
     ]
    }
   ],
   "source": [
    "# https://plotly.com/python/pandas-backend/\n",
    "!pip install plotly==5.1.0\n",
    "#pip install plotly==5.1.3\n",
    "pd.options.plotting.backend = \"plotly\""
   ]
  },
  {
   "cell_type": "code",
   "execution_count": 2,
   "metadata": {
    "id": "0NXmNVB37rkT"
   },
   "outputs": [],
   "source": [
    "# read in the data\n",
    "cars = pd.read_csv(\"https://raw.githubusercontent.com/juliandnl/redi_ss20/master/cars.csv\")"
   ]
  },
  {
   "cell_type": "markdown",
   "metadata": {
    "id": "BeECOGFfCRFB"
   },
   "source": [
    "## 1. What kind of information do we have?\n",
    "\n",
    "We can split this question up into some sub questions:\n",
    "- how many cars are in the dataset?\n",
    "- what information do we have per car?\n",
    "- how do the information look like? (numbers, words?)\n"
   ]
  },
  {
   "cell_type": "code",
   "execution_count": 3,
   "metadata": {
    "colab": {
     "base_uri": "https://localhost:8080/"
    },
    "id": "0R-YyDkHCxuI",
    "outputId": "b9085429-9ec4-46dc-d3de-84abd185c4b5"
   },
   "outputs": [
    {
     "data": {
      "text/plain": [
       "(10000, 9)"
      ]
     },
     "execution_count": 3,
     "metadata": {},
     "output_type": "execute_result"
    }
   ],
   "source": [
    "# rows and columns\n",
    "cars.shape"
   ]
  },
  {
   "cell_type": "code",
   "execution_count": 4,
   "metadata": {
    "id": "YGKS9U8xE6WQ"
   },
   "outputs": [
    {
     "name": "stdout",
     "output_type": "stream",
     "text": [
      "<class 'pandas.core.frame.DataFrame'>\n",
      "RangeIndex: 10000 entries, 0 to 9999\n",
      "Data columns (total 9 columns):\n",
      " #   Column    Non-Null Count  Dtype  \n",
      "---  ------    --------------  -----  \n",
      " 0   Make      10000 non-null  object \n",
      " 1   Model     10000 non-null  object \n",
      " 2   Year      10000 non-null  int64  \n",
      " 3   Variant   10000 non-null  object \n",
      " 4   Kms       10000 non-null  int64  \n",
      " 5   Price     10000 non-null  int64  \n",
      " 6   Doors     10000 non-null  float64\n",
      " 7   Kind      10000 non-null  object \n",
      " 8   Location  10000 non-null  object \n",
      "dtypes: float64(1), int64(3), object(5)\n",
      "memory usage: 703.2+ KB\n"
     ]
    }
   ],
   "source": [
    "# Overview of the dataset\n",
    "cars.info()"
   ]
  },
  {
   "cell_type": "code",
   "execution_count": 5,
   "metadata": {
    "id": "jwfYTSl38HfC"
   },
   "outputs": [
    {
     "data": {
      "text/html": [
       "<div>\n",
       "<style scoped>\n",
       "    .dataframe tbody tr th:only-of-type {\n",
       "        vertical-align: middle;\n",
       "    }\n",
       "\n",
       "    .dataframe tbody tr th {\n",
       "        vertical-align: top;\n",
       "    }\n",
       "\n",
       "    .dataframe thead th {\n",
       "        text-align: right;\n",
       "    }\n",
       "</style>\n",
       "<table border=\"1\" class=\"dataframe\">\n",
       "  <thead>\n",
       "    <tr style=\"text-align: right;\">\n",
       "      <th></th>\n",
       "      <th>Make</th>\n",
       "      <th>Model</th>\n",
       "      <th>Year</th>\n",
       "      <th>Variant</th>\n",
       "      <th>Kms</th>\n",
       "      <th>Price</th>\n",
       "      <th>Doors</th>\n",
       "      <th>Kind</th>\n",
       "      <th>Location</th>\n",
       "    </tr>\n",
       "  </thead>\n",
       "  <tbody>\n",
       "    <tr>\n",
       "      <th>0</th>\n",
       "      <td>Volkswagen</td>\n",
       "      <td>Vento</td>\n",
       "      <td>2012</td>\n",
       "      <td>2.5 Luxury 170cv</td>\n",
       "      <td>99950</td>\n",
       "      <td>360000</td>\n",
       "      <td>4.0</td>\n",
       "      <td>Sedán</td>\n",
       "      <td>Córdoba</td>\n",
       "    </tr>\n",
       "    <tr>\n",
       "      <th>1</th>\n",
       "      <td>Ford</td>\n",
       "      <td>Ranger</td>\n",
       "      <td>2012</td>\n",
       "      <td>2.3 Cd Xl Plus 4x2</td>\n",
       "      <td>140000</td>\n",
       "      <td>320000</td>\n",
       "      <td>2.0</td>\n",
       "      <td>Pick-Up</td>\n",
       "      <td>Entre Ríos</td>\n",
       "    </tr>\n",
       "    <tr>\n",
       "      <th>2</th>\n",
       "      <td>Volkswagen</td>\n",
       "      <td>Fox</td>\n",
       "      <td>2011</td>\n",
       "      <td>1.6 Trendline</td>\n",
       "      <td>132000</td>\n",
       "      <td>209980</td>\n",
       "      <td>5.0</td>\n",
       "      <td>Hatchback</td>\n",
       "      <td>Bs.as. G.b.a. Sur</td>\n",
       "    </tr>\n",
       "    <tr>\n",
       "      <th>3</th>\n",
       "      <td>Ford</td>\n",
       "      <td>Ranger</td>\n",
       "      <td>2017</td>\n",
       "      <td>3.2 Cd Xls Tdci 200cv Automática</td>\n",
       "      <td>13000</td>\n",
       "      <td>798000</td>\n",
       "      <td>4.0</td>\n",
       "      <td>Pick-Up</td>\n",
       "      <td>Neuquén</td>\n",
       "    </tr>\n",
       "    <tr>\n",
       "      <th>4</th>\n",
       "      <td>Volkswagen</td>\n",
       "      <td>Gol</td>\n",
       "      <td>2013</td>\n",
       "      <td>1.4 Power 83cv 3 p</td>\n",
       "      <td>107000</td>\n",
       "      <td>146000</td>\n",
       "      <td>3.0</td>\n",
       "      <td>Hatchback</td>\n",
       "      <td>Córdoba</td>\n",
       "    </tr>\n",
       "    <tr>\n",
       "      <th>5</th>\n",
       "      <td>Volkswagen</td>\n",
       "      <td>Amarok</td>\n",
       "      <td>2014</td>\n",
       "      <td>2.0 Cd Tdi 180cv 4x4 Highline C34</td>\n",
       "      <td>115000</td>\n",
       "      <td>790000</td>\n",
       "      <td>4.0</td>\n",
       "      <td>Pick-Up</td>\n",
       "      <td>Buenos Aires Interior</td>\n",
       "    </tr>\n",
       "    <tr>\n",
       "      <th>6</th>\n",
       "      <td>Ford</td>\n",
       "      <td>Ka</td>\n",
       "      <td>2012</td>\n",
       "      <td>1.0 Fly Viral 63cv</td>\n",
       "      <td>95243</td>\n",
       "      <td>142000</td>\n",
       "      <td>3.0</td>\n",
       "      <td>Hatchback</td>\n",
       "      <td>Bs.as. G.b.a. Sur</td>\n",
       "    </tr>\n",
       "    <tr>\n",
       "      <th>7</th>\n",
       "      <td>Ford</td>\n",
       "      <td>Ka</td>\n",
       "      <td>2012</td>\n",
       "      <td>1.6 Fly Viral 95cv</td>\n",
       "      <td>110000</td>\n",
       "      <td>148000</td>\n",
       "      <td>3.0</td>\n",
       "      <td>Hatchback</td>\n",
       "      <td>Buenos Aires Interior</td>\n",
       "    </tr>\n",
       "    <tr>\n",
       "      <th>8</th>\n",
       "      <td>Ford</td>\n",
       "      <td>Focus III</td>\n",
       "      <td>2017</td>\n",
       "      <td>1.6 S</td>\n",
       "      <td>17500</td>\n",
       "      <td>367000</td>\n",
       "      <td>5.0</td>\n",
       "      <td>Hatchback</td>\n",
       "      <td>Buenos Aires Interior</td>\n",
       "    </tr>\n",
       "    <tr>\n",
       "      <th>9</th>\n",
       "      <td>Ford</td>\n",
       "      <td>Fiesta Kinetic Design</td>\n",
       "      <td>2014</td>\n",
       "      <td>1.6 Sedan Titanium Powershift 120cv</td>\n",
       "      <td>43000</td>\n",
       "      <td>287000</td>\n",
       "      <td>4.0</td>\n",
       "      <td>Sedán</td>\n",
       "      <td>Bs.as. G.b.a. Norte</td>\n",
       "    </tr>\n",
       "  </tbody>\n",
       "</table>\n",
       "</div>"
      ],
      "text/plain": [
       "         Make                  Model  Year  \\\n",
       "0  Volkswagen                  Vento  2012   \n",
       "1        Ford                 Ranger  2012   \n",
       "2  Volkswagen                    Fox  2011   \n",
       "3        Ford                 Ranger  2017   \n",
       "4  Volkswagen                    Gol  2013   \n",
       "5  Volkswagen                 Amarok  2014   \n",
       "6        Ford                     Ka  2012   \n",
       "7        Ford                     Ka  2012   \n",
       "8        Ford              Focus III  2017   \n",
       "9        Ford  Fiesta Kinetic Design  2014   \n",
       "\n",
       "                               Variant     Kms   Price  Doors       Kind  \\\n",
       "0                     2.5 Luxury 170cv   99950  360000    4.0      Sedán   \n",
       "1                   2.3 Cd Xl Plus 4x2  140000  320000    2.0    Pick-Up   \n",
       "2                        1.6 Trendline  132000  209980    5.0  Hatchback   \n",
       "3     3.2 Cd Xls Tdci 200cv Automática   13000  798000    4.0    Pick-Up   \n",
       "4                   1.4 Power 83cv 3 p  107000  146000    3.0  Hatchback   \n",
       "5    2.0 Cd Tdi 180cv 4x4 Highline C34  115000  790000    4.0    Pick-Up   \n",
       "6                   1.0 Fly Viral 63cv   95243  142000    3.0  Hatchback   \n",
       "7                   1.6 Fly Viral 95cv  110000  148000    3.0  Hatchback   \n",
       "8                                1.6 S   17500  367000    5.0  Hatchback   \n",
       "9  1.6 Sedan Titanium Powershift 120cv   43000  287000    4.0      Sedán   \n",
       "\n",
       "                Location  \n",
       "0                Córdoba  \n",
       "1             Entre Ríos  \n",
       "2      Bs.as. G.b.a. Sur  \n",
       "3                Neuquén  \n",
       "4                Córdoba  \n",
       "5  Buenos Aires Interior  \n",
       "6      Bs.as. G.b.a. Sur  \n",
       "7  Buenos Aires Interior  \n",
       "8  Buenos Aires Interior  \n",
       "9    Bs.as. G.b.a. Norte  "
      ]
     },
     "execution_count": 5,
     "metadata": {},
     "output_type": "execute_result"
    }
   ],
   "source": [
    "# First rows\n",
    "cars.head(10)"
   ]
  },
  {
   "cell_type": "code",
   "execution_count": 6,
   "metadata": {
    "id": "ZG7yknjsFTbY"
   },
   "outputs": [
    {
     "data": {
      "text/html": [
       "<div>\n",
       "<style scoped>\n",
       "    .dataframe tbody tr th:only-of-type {\n",
       "        vertical-align: middle;\n",
       "    }\n",
       "\n",
       "    .dataframe tbody tr th {\n",
       "        vertical-align: top;\n",
       "    }\n",
       "\n",
       "    .dataframe thead th {\n",
       "        text-align: right;\n",
       "    }\n",
       "</style>\n",
       "<table border=\"1\" class=\"dataframe\">\n",
       "  <thead>\n",
       "    <tr style=\"text-align: right;\">\n",
       "      <th></th>\n",
       "      <th>Year</th>\n",
       "      <th>Kms</th>\n",
       "      <th>Price</th>\n",
       "      <th>Doors</th>\n",
       "    </tr>\n",
       "  </thead>\n",
       "  <tbody>\n",
       "    <tr>\n",
       "      <th>count</th>\n",
       "      <td>10000.000000</td>\n",
       "      <td>10000.000000</td>\n",
       "      <td>1.000000e+04</td>\n",
       "      <td>10000.000000</td>\n",
       "    </tr>\n",
       "    <tr>\n",
       "      <th>mean</th>\n",
       "      <td>2013.293800</td>\n",
       "      <td>74483.338400</td>\n",
       "      <td>3.495455e+05</td>\n",
       "      <td>4.295800</td>\n",
       "    </tr>\n",
       "    <tr>\n",
       "      <th>std</th>\n",
       "      <td>1.816043</td>\n",
       "      <td>35150.279998</td>\n",
       "      <td>1.773396e+05</td>\n",
       "      <td>0.889821</td>\n",
       "    </tr>\n",
       "    <tr>\n",
       "      <th>min</th>\n",
       "      <td>2011.000000</td>\n",
       "      <td>5094.000000</td>\n",
       "      <td>6.300000e+03</td>\n",
       "      <td>2.000000</td>\n",
       "    </tr>\n",
       "    <tr>\n",
       "      <th>25%</th>\n",
       "      <td>2012.000000</td>\n",
       "      <td>49500.000000</td>\n",
       "      <td>2.290000e+05</td>\n",
       "      <td>4.000000</td>\n",
       "    </tr>\n",
       "    <tr>\n",
       "      <th>50%</th>\n",
       "      <td>2013.000000</td>\n",
       "      <td>73000.000000</td>\n",
       "      <td>3.000000e+05</td>\n",
       "      <td>5.000000</td>\n",
       "    </tr>\n",
       "    <tr>\n",
       "      <th>75%</th>\n",
       "      <td>2015.000000</td>\n",
       "      <td>97000.000000</td>\n",
       "      <td>4.300000e+05</td>\n",
       "      <td>5.000000</td>\n",
       "    </tr>\n",
       "    <tr>\n",
       "      <th>max</th>\n",
       "      <td>2018.000000</td>\n",
       "      <td>218000.000000</td>\n",
       "      <td>2.800000e+06</td>\n",
       "      <td>5.000000</td>\n",
       "    </tr>\n",
       "  </tbody>\n",
       "</table>\n",
       "</div>"
      ],
      "text/plain": [
       "               Year            Kms         Price         Doors\n",
       "count  10000.000000   10000.000000  1.000000e+04  10000.000000\n",
       "mean    2013.293800   74483.338400  3.495455e+05      4.295800\n",
       "std        1.816043   35150.279998  1.773396e+05      0.889821\n",
       "min     2011.000000    5094.000000  6.300000e+03      2.000000\n",
       "25%     2012.000000   49500.000000  2.290000e+05      4.000000\n",
       "50%     2013.000000   73000.000000  3.000000e+05      5.000000\n",
       "75%     2015.000000   97000.000000  4.300000e+05      5.000000\n",
       "max     2018.000000  218000.000000  2.800000e+06      5.000000"
      ]
     },
     "execution_count": 6,
     "metadata": {},
     "output_type": "execute_result"
    }
   ],
   "source": [
    "# Describe the numerical columns\n",
    "cars.describe()"
   ]
  },
  {
   "cell_type": "code",
   "execution_count": 7,
   "metadata": {},
   "outputs": [
    {
     "data": {
      "text/html": [
       "<div>\n",
       "<style scoped>\n",
       "    .dataframe tbody tr th:only-of-type {\n",
       "        vertical-align: middle;\n",
       "    }\n",
       "\n",
       "    .dataframe tbody tr th {\n",
       "        vertical-align: top;\n",
       "    }\n",
       "\n",
       "    .dataframe thead th {\n",
       "        text-align: right;\n",
       "    }\n",
       "</style>\n",
       "<table border=\"1\" class=\"dataframe\">\n",
       "  <thead>\n",
       "    <tr style=\"text-align: right;\">\n",
       "      <th></th>\n",
       "      <th>Make</th>\n",
       "      <th>Model</th>\n",
       "      <th>Year</th>\n",
       "      <th>Variant</th>\n",
       "      <th>Kms</th>\n",
       "      <th>Price</th>\n",
       "      <th>Doors</th>\n",
       "      <th>Kind</th>\n",
       "      <th>Location</th>\n",
       "    </tr>\n",
       "  </thead>\n",
       "  <tbody>\n",
       "    <tr>\n",
       "      <th>0</th>\n",
       "      <td>Volkswagen</td>\n",
       "      <td>Vento</td>\n",
       "      <td>2012</td>\n",
       "      <td>2.5 Luxury 170cv</td>\n",
       "      <td>99950</td>\n",
       "      <td>360000</td>\n",
       "      <td>4.0</td>\n",
       "      <td>Sedán</td>\n",
       "      <td>Córdoba</td>\n",
       "    </tr>\n",
       "    <tr>\n",
       "      <th>1</th>\n",
       "      <td>Ford</td>\n",
       "      <td>Ranger</td>\n",
       "      <td>2012</td>\n",
       "      <td>2.3 Cd Xl Plus 4x2</td>\n",
       "      <td>140000</td>\n",
       "      <td>320000</td>\n",
       "      <td>2.0</td>\n",
       "      <td>Pick-Up</td>\n",
       "      <td>Entre Ríos</td>\n",
       "    </tr>\n",
       "    <tr>\n",
       "      <th>2</th>\n",
       "      <td>Volkswagen</td>\n",
       "      <td>Fox</td>\n",
       "      <td>2011</td>\n",
       "      <td>1.6 Trendline</td>\n",
       "      <td>132000</td>\n",
       "      <td>209980</td>\n",
       "      <td>5.0</td>\n",
       "      <td>Hatchback</td>\n",
       "      <td>Bs.as. G.b.a. Sur</td>\n",
       "    </tr>\n",
       "    <tr>\n",
       "      <th>3</th>\n",
       "      <td>Ford</td>\n",
       "      <td>Ranger</td>\n",
       "      <td>2017</td>\n",
       "      <td>3.2 Cd Xls Tdci 200cv Automática</td>\n",
       "      <td>13000</td>\n",
       "      <td>798000</td>\n",
       "      <td>4.0</td>\n",
       "      <td>Pick-Up</td>\n",
       "      <td>Neuquén</td>\n",
       "    </tr>\n",
       "    <tr>\n",
       "      <th>4</th>\n",
       "      <td>Volkswagen</td>\n",
       "      <td>Gol</td>\n",
       "      <td>2013</td>\n",
       "      <td>1.4 Power 83cv 3 p</td>\n",
       "      <td>107000</td>\n",
       "      <td>146000</td>\n",
       "      <td>3.0</td>\n",
       "      <td>Hatchback</td>\n",
       "      <td>Córdoba</td>\n",
       "    </tr>\n",
       "    <tr>\n",
       "      <th>...</th>\n",
       "      <td>...</td>\n",
       "      <td>...</td>\n",
       "      <td>...</td>\n",
       "      <td>...</td>\n",
       "      <td>...</td>\n",
       "      <td>...</td>\n",
       "      <td>...</td>\n",
       "      <td>...</td>\n",
       "      <td>...</td>\n",
       "    </tr>\n",
       "    <tr>\n",
       "      <th>9995</th>\n",
       "      <td>Ford</td>\n",
       "      <td>Focus III</td>\n",
       "      <td>2016</td>\n",
       "      <td>2.0 Se</td>\n",
       "      <td>67000</td>\n",
       "      <td>399000</td>\n",
       "      <td>5.0</td>\n",
       "      <td>Hatchback</td>\n",
       "      <td>Bs.as. G.b.a. Oeste</td>\n",
       "    </tr>\n",
       "    <tr>\n",
       "      <th>9996</th>\n",
       "      <td>Volkswagen</td>\n",
       "      <td>Bora</td>\n",
       "      <td>2012</td>\n",
       "      <td>1.9 Trendline I 100cv</td>\n",
       "      <td>120000</td>\n",
       "      <td>240000</td>\n",
       "      <td>4.0</td>\n",
       "      <td>Sedán</td>\n",
       "      <td>Buenos Aires Interior</td>\n",
       "    </tr>\n",
       "    <tr>\n",
       "      <th>9997</th>\n",
       "      <td>Ford</td>\n",
       "      <td>Fiesta Kinetic Design</td>\n",
       "      <td>2012</td>\n",
       "      <td>1.6 Design 120cv Titanium</td>\n",
       "      <td>89000</td>\n",
       "      <td>250000</td>\n",
       "      <td>5.0</td>\n",
       "      <td>Hatchback</td>\n",
       "      <td>Tucumán</td>\n",
       "    </tr>\n",
       "    <tr>\n",
       "      <th>9998</th>\n",
       "      <td>Ford</td>\n",
       "      <td>Fiesta Kinetic Design</td>\n",
       "      <td>2013</td>\n",
       "      <td>1.6 Design 120cv Titanium</td>\n",
       "      <td>76000</td>\n",
       "      <td>295000</td>\n",
       "      <td>5.0</td>\n",
       "      <td>Hatchback</td>\n",
       "      <td>Buenos Aires Interior</td>\n",
       "    </tr>\n",
       "    <tr>\n",
       "      <th>9999</th>\n",
       "      <td>Ford</td>\n",
       "      <td>Focus III</td>\n",
       "      <td>2014</td>\n",
       "      <td>2.0 Titanium At6</td>\n",
       "      <td>32000</td>\n",
       "      <td>380000</td>\n",
       "      <td>5.0</td>\n",
       "      <td>Hatchback</td>\n",
       "      <td>Bs.as. G.b.a. Sur</td>\n",
       "    </tr>\n",
       "  </tbody>\n",
       "</table>\n",
       "<p>10000 rows × 9 columns</p>\n",
       "</div>"
      ],
      "text/plain": [
       "            Make                  Model  Year  \\\n",
       "0     Volkswagen                  Vento  2012   \n",
       "1           Ford                 Ranger  2012   \n",
       "2     Volkswagen                    Fox  2011   \n",
       "3           Ford                 Ranger  2017   \n",
       "4     Volkswagen                    Gol  2013   \n",
       "...          ...                    ...   ...   \n",
       "9995        Ford              Focus III  2016   \n",
       "9996  Volkswagen                   Bora  2012   \n",
       "9997        Ford  Fiesta Kinetic Design  2012   \n",
       "9998        Ford  Fiesta Kinetic Design  2013   \n",
       "9999        Ford              Focus III  2014   \n",
       "\n",
       "                               Variant     Kms   Price  Doors       Kind  \\\n",
       "0                     2.5 Luxury 170cv   99950  360000    4.0      Sedán   \n",
       "1                   2.3 Cd Xl Plus 4x2  140000  320000    2.0    Pick-Up   \n",
       "2                        1.6 Trendline  132000  209980    5.0  Hatchback   \n",
       "3     3.2 Cd Xls Tdci 200cv Automática   13000  798000    4.0    Pick-Up   \n",
       "4                   1.4 Power 83cv 3 p  107000  146000    3.0  Hatchback   \n",
       "...                                ...     ...     ...    ...        ...   \n",
       "9995                            2.0 Se   67000  399000    5.0  Hatchback   \n",
       "9996             1.9 Trendline I 100cv  120000  240000    4.0      Sedán   \n",
       "9997         1.6 Design 120cv Titanium   89000  250000    5.0  Hatchback   \n",
       "9998         1.6 Design 120cv Titanium   76000  295000    5.0  Hatchback   \n",
       "9999                  2.0 Titanium At6   32000  380000    5.0  Hatchback   \n",
       "\n",
       "                   Location  \n",
       "0                   Córdoba  \n",
       "1                Entre Ríos  \n",
       "2         Bs.as. G.b.a. Sur  \n",
       "3                   Neuquén  \n",
       "4                   Córdoba  \n",
       "...                     ...  \n",
       "9995    Bs.as. G.b.a. Oeste  \n",
       "9996  Buenos Aires Interior  \n",
       "9997                Tucumán  \n",
       "9998  Buenos Aires Interior  \n",
       "9999      Bs.as. G.b.a. Sur  \n",
       "\n",
       "[10000 rows x 9 columns]"
      ]
     },
     "execution_count": 7,
     "metadata": {},
     "output_type": "execute_result"
    }
   ],
   "source": [
    "cars"
   ]
  },
  {
   "cell_type": "code",
   "execution_count": 8,
   "metadata": {},
   "outputs": [
    {
     "data": {
      "text/plain": [
       "Index(['Make', 'Model', 'Year', 'Variant', 'Kms', 'Price', 'Doors', 'Kind',\n",
       "       'Location'],\n",
       "      dtype='object')"
      ]
     },
     "execution_count": 8,
     "metadata": {},
     "output_type": "execute_result"
    }
   ],
   "source": [
    "cars.columns"
   ]
  },
  {
   "cell_type": "code",
   "execution_count": 9,
   "metadata": {},
   "outputs": [
    {
     "data": {
      "text/plain": [
       "Make        0\n",
       "Model       0\n",
       "Year        0\n",
       "Variant     0\n",
       "Kms         0\n",
       "Price       0\n",
       "Doors       0\n",
       "Kind        0\n",
       "Location    0\n",
       "dtype: int64"
      ]
     },
     "execution_count": 9,
     "metadata": {},
     "output_type": "execute_result"
    }
   ],
   "source": [
    "cars.isna().sum()"
   ]
  },
  {
   "cell_type": "markdown",
   "metadata": {
    "id": "ZcD-AnFDFlTy"
   },
   "source": [
    "## Conclusion:\n",
    "- we have 10.000 cars in the dataset\n",
    "- we have 8 columns\n",
    "- we have the following information for each car: Make, Model, year, Variant, Kms, Price, Doors, Kind, Location\n",
    "- Kms, Year, Price and Doors are numerical, the rest is text."
   ]
  },
  {
   "cell_type": "markdown",
   "metadata": {
    "id": "GNxP36gGIeRV"
   },
   "source": [
    "## 2. What kind of cars are sold?\n",
    "\n",
    "How can we split this question up? \n",
    "\n",
    "What kind of:\n",
    "- Makes \n",
    "- Kinds"
   ]
  },
  {
   "cell_type": "code",
   "execution_count": 10,
   "metadata": {},
   "outputs": [
    {
     "data": {
      "text/plain": [
       "0       Volkswagen\n",
       "1             Ford\n",
       "2       Volkswagen\n",
       "3             Ford\n",
       "4       Volkswagen\n",
       "           ...    \n",
       "9995          Ford\n",
       "9996    Volkswagen\n",
       "9997          Ford\n",
       "9998          Ford\n",
       "9999          Ford\n",
       "Name: Make, Length: 10000, dtype: object"
      ]
     },
     "execution_count": 10,
     "metadata": {},
     "output_type": "execute_result"
    }
   ],
   "source": [
    "cars[\"Make\"]"
   ]
  },
  {
   "cell_type": "code",
   "execution_count": 11,
   "metadata": {
    "colab": {
     "base_uri": "https://localhost:8080/"
    },
    "id": "1ew-x24zUnQy",
    "outputId": "45a261a3-139c-4a53-a371-bd90d9df9f66"
   },
   "outputs": [
    {
     "data": {
      "text/plain": [
       "{'Chrysler', 'Ford', 'Honda', 'Mercedes Benz', 'Volkswagen'}"
      ]
     },
     "execution_count": 11,
     "metadata": {},
     "output_type": "execute_result"
    }
   ],
   "source": [
    "# Select column from pandas can be done with a . or with [\"\"]\n",
    "set(cars[\"Make\"])"
   ]
  },
  {
   "cell_type": "code",
   "execution_count": 12,
   "metadata": {},
   "outputs": [
    {
     "data": {
      "text/plain": [
       "['Volkswagen',\n",
       " 'Ford',\n",
       " 'Volkswagen',\n",
       " 'Ford',\n",
       " 'Volkswagen',\n",
       " 'Volkswagen',\n",
       " 'Ford',\n",
       " 'Ford',\n",
       " 'Ford',\n",
       " 'Ford']"
      ]
     },
     "execution_count": 12,
     "metadata": {},
     "output_type": "execute_result"
    }
   ],
   "source": [
    "list(cars[\"Make\"])[:10]"
   ]
  },
  {
   "cell_type": "code",
   "execution_count": 13,
   "metadata": {},
   "outputs": [
    {
     "data": {
      "text/plain": [
       "['Ford', 'Mercedes Benz', 'Chrysler', 'Honda', 'Volkswagen']"
      ]
     },
     "execution_count": 13,
     "metadata": {},
     "output_type": "execute_result"
    }
   ],
   "source": [
    "list(set(cars[\"Make\"]))"
   ]
  },
  {
   "cell_type": "code",
   "execution_count": 14,
   "metadata": {
    "colab": {
     "base_uri": "https://localhost:8080/"
    },
    "id": "9xkm-39HAHuj",
    "outputId": "abef57a5-42e9-4b5f-ce32-9c51c449f845"
   },
   "outputs": [
    {
     "data": {
      "text/plain": [
       "0       Volkswagen\n",
       "1             Ford\n",
       "2       Volkswagen\n",
       "3             Ford\n",
       "4       Volkswagen\n",
       "           ...    \n",
       "9995          Ford\n",
       "9996    Volkswagen\n",
       "9997          Ford\n",
       "9998          Ford\n",
       "9999          Ford\n",
       "Name: Make, Length: 10000, dtype: object"
      ]
     },
     "execution_count": 14,
     "metadata": {},
     "output_type": "execute_result"
    }
   ],
   "source": [
    "cars.Make"
   ]
  },
  {
   "cell_type": "code",
   "execution_count": 15,
   "metadata": {
    "colab": {
     "base_uri": "https://localhost:8080/"
    },
    "id": "ZXhGujCyzyM7",
    "outputId": "922ba555-74c1-4c79-fb54-3fab31cccac4"
   },
   "outputs": [
    {
     "data": {
      "text/plain": [
       "array(['Volkswagen', 'Ford', 'Mercedes Benz', 'Honda', 'Chrysler'],\n",
       "      dtype=object)"
      ]
     },
     "execution_count": 15,
     "metadata": {},
     "output_type": "execute_result"
    }
   ],
   "source": [
    "cars.Make.unique()"
   ]
  },
  {
   "cell_type": "code",
   "execution_count": 16,
   "metadata": {},
   "outputs": [
    {
     "data": {
      "text/plain": [
       "array(['Volkswagen', 'Ford', 'Mercedes Benz', 'Honda', 'Chrysler'],\n",
       "      dtype=object)"
      ]
     },
     "execution_count": 16,
     "metadata": {},
     "output_type": "execute_result"
    }
   ],
   "source": [
    "cars['Make'].unique()"
   ]
  },
  {
   "cell_type": "code",
   "execution_count": 17,
   "metadata": {
    "colab": {
     "base_uri": "https://localhost:8080/"
    },
    "id": "waQ146Ue0Ku_",
    "outputId": "bd39ccb2-bb5e-42a8-b090-c597d98569fd"
   },
   "outputs": [
    {
     "data": {
      "text/plain": [
       "Volkswagen       5173\n",
       "Ford             4025\n",
       "Honda             522\n",
       "Mercedes Benz     256\n",
       "Chrysler           24\n",
       "Name: Make, dtype: int64"
      ]
     },
     "execution_count": 17,
     "metadata": {},
     "output_type": "execute_result"
    }
   ],
   "source": [
    "cars.Make.value_counts()"
   ]
  },
  {
   "cell_type": "code",
   "execution_count": 18,
   "metadata": {
    "colab": {
     "base_uri": "https://localhost:8080/",
     "height": 542
    },
    "id": "VHgOfFiBVKBq",
    "outputId": "7154b352-dcdc-4d81-d6d7-5b31f6862e51"
   },
   "outputs": [
    {
     "data": {
      "text/plain": [
       "<AxesSubplot:>"
      ]
     },
     "execution_count": 18,
     "metadata": {},
     "output_type": "execute_result"
    },
    {
     "data": {
      "image/png": "[encoded data removed]",
      "text/plain": [
       "<Figure size 432x288 with 1 Axes>"
      ]
     },
     "metadata": {
      "needs_background": "light"
     },
     "output_type": "display_data"
    }
   ],
   "source": [
    "makes = cars.Make.value_counts()\n",
    "makes.plot.bar()\n",
    "# here we assign the result of cars.Make.value_counts() to a new variable which \n",
    "# we called makes. "
   ]
  },
  {
   "cell_type": "code",
   "execution_count": 19,
   "metadata": {},
   "outputs": [
    {
     "data": {
      "text/plain": [
       "pandas.core.series.Series"
      ]
     },
     "execution_count": 19,
     "metadata": {},
     "output_type": "execute_result"
    }
   ],
   "source": [
    "type(makes)"
   ]
  },
  {
   "cell_type": "code",
   "execution_count": 20,
   "metadata": {
    "colab": {
     "base_uri": "https://localhost:8080/"
    },
    "id": "vmhbUbGcV75Y",
    "outputId": "3a671428-692a-4f32-c0b0-be34d0b1e26a"
   },
   "outputs": [
    {
     "data": {
      "text/plain": [
       "Hatchback      4056\n",
       "Sedán          2173\n",
       "Pick-Up        1547\n",
       "SUV            1305\n",
       "Monovolumen     705\n",
       "Coupé            90\n",
       "Rural            59\n",
       "Furgón           53\n",
       "Cabriolet        11\n",
       "Minivan           1\n",
       "Name: Kind, dtype: int64"
      ]
     },
     "execution_count": 20,
     "metadata": {},
     "output_type": "execute_result"
    }
   ],
   "source": [
    "cars.Kind.value_counts()"
   ]
  },
  {
   "cell_type": "code",
   "execution_count": 21,
   "metadata": {},
   "outputs": [
    {
     "data": {
      "text/plain": [
       "<AxesSubplot:>"
      ]
     },
     "execution_count": 21,
     "metadata": {},
     "output_type": "execute_result"
    },
    {
     "data": {
      "image/png": "[encoded data removed]",
      "text/plain": [
       "<Figure size 432x288 with 1 Axes>"
      ]
     },
     "metadata": {
      "needs_background": "light"
     },
     "output_type": "display_data"
    }
   ],
   "source": [
    "cars.Kind.value_counts().plot.bar()"
   ]
  },
  {
   "cell_type": "markdown",
   "metadata": {
    "id": "Y8fzO1o_WR3_"
   },
   "source": [
    "## Conclusion:\n",
    "- There are 5 different car brands in the dataset\n",
    "- Most cars which are sold are Volkswagen, followed by Ford. \n",
    "- The most common car kind sold is a hatchback, followed by Sedán and Pick-up. "
   ]
  },
  {
   "cell_type": "markdown",
   "metadata": {
    "id": "pbupavq70LVX"
   },
   "source": [
    "# 3. Where are the cars sold?"
   ]
  },
  {
   "cell_type": "code",
   "execution_count": 22,
   "metadata": {},
   "outputs": [
    {
     "data": {
      "text/plain": [
       "Index(['Make', 'Model', 'Year', 'Variant', 'Kms', 'Price', 'Doors', 'Kind',\n",
       "       'Location'],\n",
       "      dtype='object')"
      ]
     },
     "execution_count": 22,
     "metadata": {},
     "output_type": "execute_result"
    }
   ],
   "source": [
    "cars.columns"
   ]
  },
  {
   "cell_type": "code",
   "execution_count": 23,
   "metadata": {
    "colab": {
     "base_uri": "https://localhost:8080/"
    },
    "id": "RhZvGw_p0See",
    "outputId": "9300a2a4-d7ae-449f-df4a-a41da5d51f78"
   },
   "outputs": [
    {
     "data": {
      "text/plain": [
       "array(['Córdoba', 'Entre Ríos', 'Bs.as. G.b.a. Sur', 'Neuquén',\n",
       "       'Buenos Aires Interior', 'Bs.as. G.b.a. Norte', 'Capital Federal',\n",
       "       'Bs.as. G.b.a. Oeste', 'Tierra Del Fuego', 'Santa Fe', 'Mendoza',\n",
       "       'Misiones', 'La Pampa', 'Chaco', 'Salta', 'Bs.as. Costa Atlántica',\n",
       "       'Santa Cruz', 'Corrientes', 'Tucumán', 'San Juan', 'Catamarca',\n",
       "       'San Luis', 'Río Negro', 'Chubut', 'Jujuy', 'Formosa',\n",
       "       'Santiago Del Estero', 'La Rioja'], dtype=object)"
      ]
     },
     "execution_count": 23,
     "metadata": {},
     "output_type": "execute_result"
    }
   ],
   "source": [
    "cars.Location.unique()"
   ]
  },
  {
   "cell_type": "code",
   "execution_count": 24,
   "metadata": {},
   "outputs": [
    {
     "data": {
      "text/plain": [
       "{'Bs.as. Costa Atlántica',\n",
       " 'Bs.as. G.b.a. Norte',\n",
       " 'Bs.as. G.b.a. Oeste',\n",
       " 'Bs.as. G.b.a. Sur',\n",
       " 'Buenos Aires Interior',\n",
       " 'Capital Federal',\n",
       " 'Catamarca',\n",
       " 'Chaco',\n",
       " 'Chubut',\n",
       " 'Corrientes',\n",
       " 'Córdoba',\n",
       " 'Entre Ríos',\n",
       " 'Formosa',\n",
       " 'Jujuy',\n",
       " 'La Pampa',\n",
       " 'La Rioja',\n",
       " 'Mendoza',\n",
       " 'Misiones',\n",
       " 'Neuquén',\n",
       " 'Río Negro',\n",
       " 'Salta',\n",
       " 'San Juan',\n",
       " 'San Luis',\n",
       " 'Santa Cruz',\n",
       " 'Santa Fe',\n",
       " 'Santiago Del Estero',\n",
       " 'Tierra Del Fuego',\n",
       " 'Tucumán'}"
      ]
     },
     "execution_count": 24,
     "metadata": {},
     "output_type": "execute_result"
    }
   ],
   "source": [
    "set(cars.Location)"
   ]
  },
  {
   "cell_type": "code",
   "execution_count": 25,
   "metadata": {
    "colab": {
     "base_uri": "https://localhost:8080/"
    },
    "id": "iahj70GfoxL4",
    "outputId": "f9c5d3c8-4e0a-4ec8-ec58-92b37d0ee8ff"
   },
   "outputs": [
    {
     "data": {
      "text/plain": [
       "28"
      ]
     },
     "execution_count": 25,
     "metadata": {},
     "output_type": "execute_result"
    }
   ],
   "source": [
    "cars.Location.nunique()"
   ]
  },
  {
   "cell_type": "code",
   "execution_count": 26,
   "metadata": {},
   "outputs": [
    {
     "data": {
      "text/plain": [
       "28"
      ]
     },
     "execution_count": 26,
     "metadata": {},
     "output_type": "execute_result"
    }
   ],
   "source": [
    "len(set(cars.Location))"
   ]
  },
  {
   "cell_type": "code",
   "execution_count": 27,
   "metadata": {
    "colab": {
     "base_uri": "https://localhost:8080/"
    },
    "id": "mg7t6A6nDNJy",
    "outputId": "b6b1b1cf-d538-4be0-b426-e49d99f39d58"
   },
   "outputs": [
    {
     "data": {
      "text/plain": [
       "array(['Volkswagen', 'Ford', 'Mercedes Benz', 'Honda', 'Chrysler'],\n",
       "      dtype=object)"
      ]
     },
     "execution_count": 27,
     "metadata": {},
     "output_type": "execute_result"
    }
   ],
   "source": [
    "cars.Make.unique()"
   ]
  },
  {
   "cell_type": "code",
   "execution_count": 28,
   "metadata": {
    "colab": {
     "base_uri": "https://localhost:8080/"
    },
    "id": "AbtktSxUDVmN",
    "outputId": "1a988395-d12b-4520-d02c-a0597812a8e3"
   },
   "outputs": [
    {
     "data": {
      "text/plain": [
       "5"
      ]
     },
     "execution_count": 28,
     "metadata": {},
     "output_type": "execute_result"
    }
   ],
   "source": [
    "cars.Make.nunique()"
   ]
  },
  {
   "cell_type": "code",
   "execution_count": 29,
   "metadata": {
    "id": "AVeA3g7uVeov"
   },
   "outputs": [],
   "source": [
    "locations = cars.Location.value_counts()"
   ]
  },
  {
   "cell_type": "code",
   "execution_count": 30,
   "metadata": {
    "colab": {
     "base_uri": "https://localhost:8080/"
    },
    "id": "wy61TFwPo5sM",
    "outputId": "b5895136-1a65-4add-dc51-0175186d90da"
   },
   "outputs": [
    {
     "data": {
      "text/plain": [
       "Capital Federal           2013\n",
       "Bs.as. G.b.a. Sur         1748\n",
       "Bs.as. G.b.a. Norte       1726\n",
       "Bs.as. G.b.a. Oeste       1339\n",
       "Córdoba                    785\n",
       "Buenos Aires Interior      768\n",
       "Santa Fe                   359\n",
       "Bs.as. Costa Atlántica     268\n",
       "Mendoza                    254\n",
       "Entre Ríos                 116\n",
       "Neuquén                     96\n",
       "Tucumán                     84\n",
       "Río Negro                   67\n",
       "Corrientes                  58\n",
       "Chaco                       53\n",
       "Salta                       51\n",
       "Chubut                      36\n",
       "Misiones                    35\n",
       "San Luis                    24\n",
       "Santa Cruz                  20\n",
       "La Pampa                    20\n",
       "Formosa                     15\n",
       "Tierra Del Fuego            13\n",
       "Santiago Del Estero         12\n",
       "San Juan                    11\n",
       "La Rioja                    10\n",
       "Jujuy                       10\n",
       "Catamarca                    9\n",
       "Name: Location, dtype: int64"
      ]
     },
     "execution_count": 30,
     "metadata": {},
     "output_type": "execute_result"
    }
   ],
   "source": [
    "locations"
   ]
  },
  {
   "cell_type": "code",
   "execution_count": 31,
   "metadata": {
    "colab": {
     "base_uri": "https://localhost:8080/",
     "height": 542
    },
    "id": "pjjjBSo-UFZu",
    "outputId": "f6e5f896-ce49-4d89-b338-ee8d70aaf4d5"
   },
   "outputs": [
    {
     "data": {
      "text/plain": [
       "<AxesSubplot:>"
      ]
     },
     "execution_count": 31,
     "metadata": {},
     "output_type": "execute_result"
    },
    {
     "data": {
      "image/png": "[encoded data removed]",
      "text/plain": [
       "<Figure size 432x288 with 1 Axes>"
      ]
     },
     "metadata": {
      "needs_background": "light"
     },
     "output_type": "display_data"
    }
   ],
   "source": [
    "locations.plot.bar()"
   ]
  },
  {
   "cell_type": "markdown",
   "metadata": {
    "id": "XFR9HPhmotiB"
   },
   "source": [
    "## Conclusion:\n",
    "- There are 28 different regions.\n",
    "- The biggest region is Capital Federal.\n",
    "- There are a few regions where lots of cars are.\n",
    "- There are lots of regions where a few cars are."
   ]
  },
  {
   "cell_type": "markdown",
   "metadata": {
    "id": "oQb7I4z31tJp"
   },
   "source": [
    "# BONUS: 4. How expensive are the cars?"
   ]
  },
  {
   "cell_type": "code",
   "execution_count": 32,
   "metadata": {},
   "outputs": [
    {
     "data": {
      "text/plain": [
       "Index(['Make', 'Model', 'Year', 'Variant', 'Kms', 'Price', 'Doors', 'Kind',\n",
       "       'Location'],\n",
       "      dtype='object')"
      ]
     },
     "execution_count": 32,
     "metadata": {},
     "output_type": "execute_result"
    }
   ],
   "source": [
    "cars.columns"
   ]
  },
  {
   "cell_type": "code",
   "execution_count": 33,
   "metadata": {
    "colab": {
     "base_uri": "https://localhost:8080/"
    },
    "id": "kTTFLPdG5Q8L",
    "outputId": "b0a79d65-e299-41d0-9e24-baca42d5f610"
   },
   "outputs": [
    {
     "data": {
      "text/plain": [
       "0       360000\n",
       "1       320000\n",
       "2       209980\n",
       "3       798000\n",
       "4       146000\n",
       "         ...  \n",
       "9995    399000\n",
       "9996    240000\n",
       "9997    250000\n",
       "9998    295000\n",
       "9999    380000\n",
       "Name: Price, Length: 10000, dtype: int64"
      ]
     },
     "execution_count": 33,
     "metadata": {},
     "output_type": "execute_result"
    }
   ],
   "source": [
    "cars['Price']"
   ]
  },
  {
   "cell_type": "code",
   "execution_count": 34,
   "metadata": {
    "colab": {
     "base_uri": "https://localhost:8080/"
    },
    "id": "GkG2E8y-ECZe",
    "outputId": "f828c832-ae81-4b94-a9c5-0c371d72f17f"
   },
   "outputs": [
    {
     "data": {
      "text/plain": [
       "2800000"
      ]
     },
     "execution_count": 34,
     "metadata": {},
     "output_type": "execute_result"
    }
   ],
   "source": [
    "cars.Price.max()"
   ]
  },
  {
   "cell_type": "code",
   "execution_count": 35,
   "metadata": {
    "colab": {
     "base_uri": "https://localhost:8080/"
    },
    "id": "RmnKhVh3EUwY",
    "outputId": "141a9e1a-59b5-4f7e-c185-1b1de2b8f6ea"
   },
   "outputs": [
    {
     "data": {
      "text/plain": [
       "6300"
      ]
     },
     "execution_count": 35,
     "metadata": {},
     "output_type": "execute_result"
    }
   ],
   "source": [
    "cars.Price.min()"
   ]
  },
  {
   "cell_type": "code",
   "execution_count": 36,
   "metadata": {},
   "outputs": [
    {
     "data": {
      "text/plain": [
       "pandas.core.series.Series"
      ]
     },
     "execution_count": 36,
     "metadata": {},
     "output_type": "execute_result"
    }
   ],
   "source": [
    "type(cars.Price)"
   ]
  },
  {
   "cell_type": "code",
   "execution_count": 37,
   "metadata": {},
   "outputs": [
    {
     "data": {
      "text/plain": [
       "array([360000, 320000, 209980, ..., 250000, 295000, 380000])"
      ]
     },
     "execution_count": 37,
     "metadata": {},
     "output_type": "execute_result"
    }
   ],
   "source": [
    "import numpy as np\n",
    "np.array(cars.Price)"
   ]
  },
  {
   "cell_type": "code",
   "execution_count": 38,
   "metadata": {
    "colab": {
     "base_uri": "https://localhost:8080/",
     "height": 81
    },
    "id": "Rt7wWAhDEsA_",
    "outputId": "b2626f1c-6d8c-473b-9b8d-96256098fba9"
   },
   "outputs": [
    {
     "data": {
      "text/html": [
       "<div>\n",
       "<style scoped>\n",
       "    .dataframe tbody tr th:only-of-type {\n",
       "        vertical-align: middle;\n",
       "    }\n",
       "\n",
       "    .dataframe tbody tr th {\n",
       "        vertical-align: top;\n",
       "    }\n",
       "\n",
       "    .dataframe thead th {\n",
       "        text-align: right;\n",
       "    }\n",
       "</style>\n",
       "<table border=\"1\" class=\"dataframe\">\n",
       "  <thead>\n",
       "    <tr style=\"text-align: right;\">\n",
       "      <th></th>\n",
       "      <th>Make</th>\n",
       "      <th>Model</th>\n",
       "      <th>Year</th>\n",
       "      <th>Variant</th>\n",
       "      <th>Kms</th>\n",
       "      <th>Price</th>\n",
       "      <th>Doors</th>\n",
       "      <th>Kind</th>\n",
       "      <th>Location</th>\n",
       "    </tr>\n",
       "  </thead>\n",
       "  <tbody>\n",
       "    <tr>\n",
       "      <th>8007</th>\n",
       "      <td>Mercedes Benz</td>\n",
       "      <td>Clase GLC</td>\n",
       "      <td>2017</td>\n",
       "      <td>2.0 Glc250 300 4matic Atomático</td>\n",
       "      <td>18000</td>\n",
       "      <td>2800000</td>\n",
       "      <td>5.0</td>\n",
       "      <td>SUV</td>\n",
       "      <td>Bs.as. G.b.a. Sur</td>\n",
       "    </tr>\n",
       "  </tbody>\n",
       "</table>\n",
       "</div>"
      ],
      "text/plain": [
       "               Make      Model  Year                          Variant    Kms  \\\n",
       "8007  Mercedes Benz  Clase GLC  2017  2.0 Glc250 300 4matic Atomático  18000   \n",
       "\n",
       "        Price  Doors Kind           Location  \n",
       "8007  2800000    5.0  SUV  Bs.as. G.b.a. Sur  "
      ]
     },
     "execution_count": 38,
     "metadata": {},
     "output_type": "execute_result"
    }
   ],
   "source": [
    "cars[ cars['Price']==cars['Price'].max() ]"
   ]
  },
  {
   "cell_type": "code",
   "execution_count": 39,
   "metadata": {},
   "outputs": [
    {
     "data": {
      "text/plain": [
       "8007    Mercedes Benz\n",
       "Name: Make, dtype: object"
      ]
     },
     "execution_count": 39,
     "metadata": {},
     "output_type": "execute_result"
    }
   ],
   "source": [
    "cars.Make[ cars.Price == cars.Price.max() ]"
   ]
  },
  {
   "cell_type": "code",
   "execution_count": 40,
   "metadata": {
    "colab": {
     "base_uri": "https://localhost:8080/"
    },
    "id": "XCazoZrdEsRi",
    "outputId": "30f3d1fa-937a-4229-f728-1570e40ec815"
   },
   "outputs": [
    {
     "data": {
      "text/plain": [
       "8007    SUV\n",
       "Name: Kind, dtype: object"
      ]
     },
     "execution_count": 40,
     "metadata": {},
     "output_type": "execute_result"
    }
   ],
   "source": [
    "cars.Kind[ cars.Price == cars.Price.max() ]"
   ]
  },
  {
   "cell_type": "code",
   "execution_count": 41,
   "metadata": {
    "colab": {
     "base_uri": "https://localhost:8080/",
     "height": 81
    },
    "id": "nMpsvZWeHZx7",
    "outputId": "ff16ccb4-451d-430f-a612-efc911a737c8"
   },
   "outputs": [
    {
     "data": {
      "text/html": [
       "<div>\n",
       "<style scoped>\n",
       "    .dataframe tbody tr th:only-of-type {\n",
       "        vertical-align: middle;\n",
       "    }\n",
       "\n",
       "    .dataframe tbody tr th {\n",
       "        vertical-align: top;\n",
       "    }\n",
       "\n",
       "    .dataframe thead th {\n",
       "        text-align: right;\n",
       "    }\n",
       "</style>\n",
       "<table border=\"1\" class=\"dataframe\">\n",
       "  <thead>\n",
       "    <tr style=\"text-align: right;\">\n",
       "      <th></th>\n",
       "      <th>Make</th>\n",
       "      <th>Model</th>\n",
       "      <th>Year</th>\n",
       "      <th>Variant</th>\n",
       "      <th>Kms</th>\n",
       "      <th>Price</th>\n",
       "      <th>Doors</th>\n",
       "      <th>Kind</th>\n",
       "      <th>Location</th>\n",
       "    </tr>\n",
       "  </thead>\n",
       "  <tbody>\n",
       "    <tr>\n",
       "      <th>2965</th>\n",
       "      <td>Chrysler</td>\n",
       "      <td>PT Cruiser</td>\n",
       "      <td>2011</td>\n",
       "      <td>2.4 Touring</td>\n",
       "      <td>71000</td>\n",
       "      <td>6300</td>\n",
       "      <td>5.0</td>\n",
       "      <td>Hatchback</td>\n",
       "      <td>Santa Fe</td>\n",
       "    </tr>\n",
       "    <tr>\n",
       "      <th>8007</th>\n",
       "      <td>Mercedes Benz</td>\n",
       "      <td>Clase GLC</td>\n",
       "      <td>2017</td>\n",
       "      <td>2.0 Glc250 300 4matic Atomático</td>\n",
       "      <td>18000</td>\n",
       "      <td>2800000</td>\n",
       "      <td>5.0</td>\n",
       "      <td>SUV</td>\n",
       "      <td>Bs.as. G.b.a. Sur</td>\n",
       "    </tr>\n",
       "  </tbody>\n",
       "</table>\n",
       "</div>"
      ],
      "text/plain": [
       "               Make       Model  Year                          Variant    Kms  \\\n",
       "2965       Chrysler  PT Cruiser  2011                      2.4 Touring  71000   \n",
       "8007  Mercedes Benz   Clase GLC  2017  2.0 Glc250 300 4matic Atomático  18000   \n",
       "\n",
       "        Price  Doors       Kind           Location  \n",
       "2965     6300    5.0  Hatchback           Santa Fe  \n",
       "8007  2800000    5.0        SUV  Bs.as. G.b.a. Sur  "
      ]
     },
     "execution_count": 41,
     "metadata": {},
     "output_type": "execute_result"
    }
   ],
   "source": [
    "# combine two conditions\n",
    "cars[ (cars['Price'] == cars['Price'].min()) | (cars['Price'] == cars['Price'].max()) ] "
   ]
  },
  {
   "cell_type": "code",
   "execution_count": 42,
   "metadata": {},
   "outputs": [
    {
     "data": {
      "text/plain": [
       "349545.4545"
      ]
     },
     "execution_count": 42,
     "metadata": {},
     "output_type": "execute_result"
    }
   ],
   "source": [
    "cars['Price'].mean()"
   ]
  },
  {
   "cell_type": "markdown",
   "metadata": {
    "id": "x04i1kTlWyQ1"
   },
   "source": [
    "--- \n",
    "# Review\n",
    "\n",
    "This section is only for the reviewing team!\n",
    "\n",
    "Guideline how to review:\n",
    "https://docs.google.com/presentation/d/1YORFwlfVQo9ogj7jR9t6_pqxmGIlpBSGubbp1UdtcBQ/edit?usp=sharing"
   ]
  },
  {
   "cell_type": "markdown",
   "metadata": {
    "cellView": "form",
    "colab": {
     "base_uri": "https://localhost:8080/",
     "height": 168
    },
    "id": "b-AdRPmP3u5y",
    "outputId": "80b1bccc-080b-4a08-f33d-50830a4ed454"
   },
   "source": [
    "#@title Review Criteria:\n",
    "%%html\n",
    "<h3><input type=\"checkbox\"> 1. Are all questions answered? <br></h3> \n",
    "<h3><input type=\"checkbox\"> 2. Does all code run through? <br></h3> \n",
    "<h3><input type=\"checkbox\"> 3. Are the conclusions understandable?  <br></h3> \n",
    "<h3><input type=\"checkbox\"> 4. Are the bonus question answered?  <br></h3> "
   ]
  },
  {
   "cell_type": "markdown",
   "metadata": {
    "id": "x09QWAIP4UyI"
   },
   "source": [
    "input(\"Do you have any feedback?\")"
   ]
  },
  {
   "cell_type": "markdown",
   "metadata": {
    "id": "dWB9-gCBxr_j"
   },
   "source": [
    "# Further material"
   ]
  },
  {
   "cell_type": "markdown",
   "metadata": {
    "id": "H1LZOyLlzgF3"
   },
   "source": [
    "**Further summarization methods:**\n",
    "\n",
    "```\n",
    ".head()\n",
    ".info()\n",
    ".columns\n",
    ".unique()\n",
    ".min()\n",
    ".max()\n",
    ".mean()\n",
    ".count()\n",
    ".value_counts()\n",
    "```\n",
    "\n",
    "\n",
    "Where to find further methods from pandas: \n",
    "- https://pandas.pydata.org/pandas-docs/stable/reference/api/pandas.DataFrame.html\n",
    "- https://www.dataquest.io/blog/pandas-cheat-sheet/\n",
    "- https://towardsdatascience.com/an-introduction-to-pandas-29d15a7da6d\n",
    "\n"
   ]
  },
  {
   "cell_type": "code",
   "execution_count": null,
   "metadata": {
    "id": "tobCydLW7bTA"
   },
   "outputs": [],
   "source": []
  }
 ],
 "metadata": {
  "colab": {
   "collapsed_sections": [
    "dWB9-gCBxr_j"
   ],
   "name": "1. Kick-Off Lecture.ipynb",
   "provenance": []
  },
  "interpreter": {
   "hash": "344443636c3027c5042750c9c609acdda283a9c43681b128a8c1053e7ad2aa7d"
  },
  "kernelspec": {
   "display_name": "Python 3",
   "language": "python",
   "name": "python3"
  },
  "language_info": {
   "codemirror_mode": {
    "name": "ipython",
    "version": 3
   },
   "file_extension": ".py",
   "mimetype": "text/x-python",
   "name": "python",
   "nbconvert_exporter": "python",
   "pygments_lexer": "ipython3",
   "version": "3.8.5"
  }
 },
 "nbformat": 4,
 "nbformat_minor": 1
}
