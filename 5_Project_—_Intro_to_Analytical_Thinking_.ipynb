{
  "nbformat": 4,
  "nbformat_minor": 0,
  "metadata": {
    "colab": {
      "name": "Project — Intro to Analytical Thinking .ipynb",
      "provenance": []
    },
    "kernelspec": {
      "name": "python3",
      "display_name": "Python 3"
    },
    "language_info": {
      "name": "python"
    }
  },
  "cells": [
    {
      "cell_type": "markdown",
      "metadata": {
        "id": "W83QPTOvD8-1"
      },
      "source": [
        "# Project - Intro to Analytical Thinking\n",
        "\n",
        "--- \n",
        "## The description:\n",
        "We will go back to the Berlin rental prices dataset, this time we will ask you to answer broader questions and come to a conclusion based on your analysis.\n",
        "\n",
        "Apply the methodology you learned today to answer the following questions. On top of writing the code, we will ask you to be explicit about your analytical approach.\n",
        "\n",
        "Suppose you are an analytics consultant and your client is the Senate of Berlin, looking to draft policy suggestions to help make rent more accessible in the city. \n",
        "\n",
        "While they have not (yet) asked you for a recommendation, they need to understand the market's current state.\n",
        "\n",
        "For that, you are asked:\n",
        "\n",
        "1. Is there a shortage of *affordable* appartments in Berlin as a whole, or is the issue concentrated in select neighbourhoods? (hint: you will need to define \"affordable\" based on some criteria)\n",
        "\n",
        "1. A few companies are exploring *Apartment renovation* as a viable business model — what impact could this practice have in the availability of *affordable* apartments?\n",
        "\n",
        "\n",
        "--- \n",
        "## The dataset:\n",
        "Y'all know this one already but to recap, this is a list of rental appartments in Berlin. One row is for one appartment. The dataset contains 6 columns. \n",
        "- Region: is the Berlin district, where the flat is located\n",
        "- Condition: is the condition of the flat\n",
        "- Rooms: The number of rooms the flat has\n",
        "- Rent: Monthly rent for the flat\n",
        "- Year_Construction: The year in which the house was build\n",
        "- Space: How many square meters does the flat has?\n",
        "\n",
        "As you delve on this analysis please remember that this is a scraped **snapshot** of the marketplace (there's no time dimension in this dataset).\n",
        "\n",
        "--- \n",
        "## The Task:\n",
        "\n",
        "For each of the questions:\n",
        "- Define all the terms in the question that seem ambiguous — teachers should be able to help you with answers or assumptions\n",
        "- Break down the question into smaller questions that can be answered with an analysis as we have studied\n",
        "- Build a few plots or other types of analyses to answer the questions\n",
        "- (Nice to have) Explore any source of variability that your current analysis may not cover and note any additional analyses you would like to do if you had more data\n",
        "- Write as a conclusion an answer to the question"
      ]
    },
    {
      "cell_type": "code",
      "metadata": {
        "id": "uPrb3Qy-BSiF"
      },
      "source": [
        "# Imports\n",
        "import pandas as pd\n",
        "import numpy as np\n",
        "import matplotlib.pyplot as plt\n",
        "import seaborn as sns\n",
        "\n",
        "# Get the dataset\n",
        "df = pd.read_csv('https://raw.githubusercontent.com/juliandnl/redi_ss20/master/berlin_rental.csv')\n",
        "df.head()"
      ],
      "execution_count": null,
      "outputs": []
    }
  ]
}