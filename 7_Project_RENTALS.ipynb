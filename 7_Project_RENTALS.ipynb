{
  "nbformat": 4,
  "nbformat_minor": 0,
  "metadata": {
    "colab": {
      "name": "Project RENTALS.ipynb",
      "provenance": [],
      "collapsed_sections": []
    },
    "kernelspec": {
      "name": "python3",
      "display_name": "Python 3"
    }
  },
  "cells": [
    {
      "cell_type": "markdown",
      "metadata": {
        "id": "YAmw_s-VtIaV"
      },
      "source": [
        "# Project - Storytelling / Dashboards on Berlin Rentals\n",
        "\n",
        "--- \n",
        "## The description:\n",
        "This is our very familiar Berlin rentals dataset :)\n",
        "\n",
        "--- \n",
        "## The dataset:\n",
        "The datasets contains information about rental appartments in Berlin. \n",
        "One row is for one appartment. The dataset contains 6 columns.  \n",
        "- Region: is the Berlin district, where the flat is located\n",
        "- Condition: is the condition of the flat\n",
        "- Rooms: The number of rooms the flat has\n",
        "- Rent: Monthly rent for the flat\n",
        "- Year_Construction: The year in which the house was build\n",
        "- Space: How many square meters does the flat has?\n",
        "\n",
        "--- \n",
        "## The Task:\n",
        "\n",
        "Use the results from the previous week and build a story around the dataset. Prepare that in a form of a report or a presentation. Use your visuals.\n",
        "\n",
        "When reviewing and presenting your project focus more on the content - your results, conclusions and advise for the rental company! No need to share your code.\n",
        "\n",
        "Bonus:\n",
        "\n",
        "Remember our lecture about KPIs? Think about what metrics you would like to monitor for this dataset and design a dashboard (could be even a picture of a drawn sketch on a piece of paper)."
      ]
    },
    {
      "cell_type": "code",
      "metadata": {
        "id": "AckRu5ccGF61"
      },
      "source": [
        "# Imports\n",
        "import pandas as pd\n",
        "import seaborn as sns\n",
        "\n",
        "# Get the dataset\n",
        "rentals = pd.read_csv('https://raw.githubusercontent.com/juliandnl/redi_ss20/master/berlin_rental.csv')"
      ],
      "execution_count": null,
      "outputs": []
    },
    {
      "cell_type": "code",
      "metadata": {
        "colab": {
          "base_uri": "https://localhost:8080/"
        },
        "id": "pbDLWzyaZi1F",
        "outputId": "5f3f4470-1591-4d4f-c795-742d8364fb51"
      },
      "source": [
        "rentals.info()"
      ],
      "execution_count": null,
      "outputs": [
        {
          "output_type": "stream",
          "text": [
            "<class 'pandas.core.frame.DataFrame'>\n",
            "RangeIndex: 764 entries, 0 to 763\n",
            "Data columns (total 6 columns):\n",
            " #   Column             Non-Null Count  Dtype  \n",
            "---  ------             --------------  -----  \n",
            " 0   Region             764 non-null    object \n",
            " 1   Condition          764 non-null    object \n",
            " 2   Rooms              764 non-null    float64\n",
            " 3   Rent               764 non-null    float64\n",
            " 4   Year_Construction  764 non-null    int64  \n",
            " 5   Space              764 non-null    float64\n",
            "dtypes: float64(3), int64(1), object(2)\n",
            "memory usage: 35.9+ KB\n"
          ],
          "name": "stdout"
        }
      ]
    },
    {
      "cell_type": "code",
      "metadata": {
        "colab": {
          "base_uri": "https://localhost:8080/",
          "height": 94
        },
        "id": "t_oU8YSOt-b0",
        "outputId": "1b61c3c4-60ba-4732-aa0c-5b3ea0df4d13"
      },
      "source": [
        "#@title Review Criteria:\n",
        "%%html\n",
        "<h3><input type=\"checkbox\"> 1. Was the presentation clear / easy to understand? <br></h3>  \n",
        "<h3><input type=\"checkbox\"> 1. Was the bonus question prepared? <br></h3>  "
      ],
      "execution_count": null,
      "outputs": [
        {
          "output_type": "display_data",
          "data": {
            "text/html": [
              "<h3><input type=\"checkbox\"> 1. Was the presentation clear / easy to understand? <br></h3>  \n",
              "<h3><input type=\"checkbox\"> 1. Was the bonus question prepared? <br></h3>  "
            ],
            "text/plain": [
              "<IPython.core.display.HTML object>"
            ]
          },
          "metadata": {
            "tags": []
          }
        }
      ]
    },
    {
      "cell_type": "code",
      "metadata": {
        "id": "fRTB2f8LuOsP"
      },
      "source": [
        "input(\"Do you have any feedback?\")"
      ],
      "execution_count": null,
      "outputs": []
    }
  ]
}