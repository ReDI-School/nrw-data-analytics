{
  "nbformat": 4,
  "nbformat_minor": 0,
  "metadata": {
    "colab": {
      "name": "Data Cleaning & Missing Values - Project.ipynb",
      "provenance": [],
      "collapsed_sections": []
    },
    "kernelspec": {
      "name": "python3",
      "display_name": "Python 3"
    }
  },
  "cells": [
    {
      "cell_type": "markdown",
      "metadata": {
        "id": "2zxREd_otAge"
      },
      "source": [
        "![Immoscout](https://raw.githubusercontent.com/juliandnl/redi_ss20/master/image.png)"
      ]
    },
    {
      "cell_type": "markdown",
      "metadata": {
        "id": "YAmw_s-VtIaV"
      },
      "source": [
        "# Project - Cleaning the Expanded Immobilien Scout 24 Dataset\n",
        "\n",
        "--- \n",
        "After exploring the original dataset and trying to build a predictive model with it, it was discovered that we need more data. Unfortunately we lost access to Immobilien Scout's API so we had to scrape the data. While this worked, the data is quite messy and needs to be cleaned before we can use it. In this exercise you'll clean the remaining of the data."
      ]
    },
    {
      "cell_type": "code",
      "metadata": {
        "id": "cDxFVRHbq6eR"
      },
      "source": [
        "import numpy as np\n",
        "import pandas as pd\n",
        "import plotly.express as px"
      ],
      "execution_count": null,
      "outputs": []
    },
    {
      "cell_type": "code",
      "metadata": {
        "id": "2GD2ryFwto1a"
      },
      "source": [
        "# Read in dataset\n",
        "df = pd.read_pickle(\"/content/berlin_housing_with_scraped_class_cleaned.pkl\")"
      ],
      "execution_count": null,
      "outputs": []
    },
    {
      "cell_type": "markdown",
      "metadata": {
        "id": "PZmVxvM_4C5V"
      },
      "source": [
        "## 0. Before cleaning, print out how many missing values (sorted for readability) each column has:"
      ]
    },
    {
      "cell_type": "code",
      "metadata": {
        "id": "OELxGQNs-AhR"
      },
      "source": [
        "## code here"
      ],
      "execution_count": null,
      "outputs": []
    },
    {
      "cell_type": "markdown",
      "metadata": {
        "id": "UeSRMJD94EZ7"
      },
      "source": [
        "## 1. Clean: `heating_type`\n",
        "\n",
        "Please explain why you choose your strategy for filling the missing values."
      ]
    },
    {
      "cell_type": "code",
      "metadata": {
        "id": "BpfSyexk-Cju"
      },
      "source": [
        "## code here"
      ],
      "execution_count": null,
      "outputs": []
    },
    {
      "cell_type": "markdown",
      "metadata": {
        "id": "RLAa7wgu4E0V"
      },
      "source": [
        "## 2. Clean: `renovated_date`\n",
        "\n",
        "Please explain why you choose your strategy for filling the missing values."
      ]
    },
    {
      "cell_type": "code",
      "metadata": {
        "id": "HOpffadx-EhM"
      },
      "source": [
        "## code here"
      ],
      "execution_count": null,
      "outputs": []
    },
    {
      "cell_type": "markdown",
      "metadata": {
        "id": "BMqdgnI3Y7BN"
      },
      "source": [
        "## 3. Clean: `parking_space`\n",
        "\n",
        "Please explain why you choose your strategy for filling the missing values."
      ]
    },
    {
      "cell_type": "code",
      "metadata": {
        "id": "PjMfP4MvY5Fr"
      },
      "source": [
        "## code here"
      ],
      "execution_count": null,
      "outputs": []
    },
    {
      "cell_type": "markdown",
      "metadata": {
        "id": "d-FJavHVZM16"
      },
      "source": [
        "## 4. Clean: `utilities`\n",
        "\n",
        "Please explain why you choose your strategy for filling the missing values."
      ]
    },
    {
      "cell_type": "code",
      "metadata": {
        "id": "1gCHzQ5JY5IS"
      },
      "source": [
        "## code here"
      ],
      "execution_count": null,
      "outputs": []
    },
    {
      "cell_type": "markdown",
      "metadata": {
        "id": "BZrL7CM4ZRuA"
      },
      "source": [
        "## 5. Clean: `energy_requirement`\n",
        "\n",
        "Please explain why you choose your strategy for filling the missing values."
      ]
    },
    {
      "cell_type": "code",
      "metadata": {
        "id": "A__3sJhWZR3P"
      },
      "source": [
        "## code here"
      ],
      "execution_count": null,
      "outputs": []
    },
    {
      "cell_type": "markdown",
      "metadata": {
        "id": "HtIY4a3v9uas"
      },
      "source": [
        "## (Bonus) Clean: `type_of_certificate`\n",
        "\n",
        "Hint: could two features be created from this data?\n",
        "\n",
        "As with before, explain why you chose your strategy :)"
      ]
    },
    {
      "cell_type": "code",
      "metadata": {
        "id": "letuSY50-9w3"
      },
      "source": [
        "## code here"
      ],
      "execution_count": null,
      "outputs": []
    },
    {
      "cell_type": "markdown",
      "metadata": {
        "id": "xnQMN5CQt90T"
      },
      "source": [
        "--- \n",
        "# Review\n",
        "\n",
        "This section is only for the reviewing team!\n",
        "\n",
        "Guideline how to review:\n",
        "https://docs.google.com/presentation/d/1YORFwlfVQo9ogj7jR9t6_pqxmGIlpBSGubbp1UdtcBQ/edit?usp=sharing\n"
      ]
    },
    {
      "cell_type": "code",
      "metadata": {
        "colab": {
          "base_uri": "https://localhost:8080/",
          "height": 203
        },
        "id": "t_oU8YSOt-b0",
        "outputId": "55a6f79b-d2a4-4707-f67f-01e452a6d4bb"
      },
      "source": [
        "#@title Review Criteria:\n",
        "%%html\n",
        "<h3><input type=\"checkbox\"> 1. Are all questions answered? <br></h3>\n",
        "<h3><input type=\"checkbox\"> 2. Does all code run through? <br></h3>\n",
        "<h3><input type=\"checkbox\"> 3. Are explanations of fill strategy provided for all relevant questions?  <br></h3>\n",
        "<h3><input type=\"checkbox\"> 4. Are different strategies used for continuous vs categorical data?  <br></h3>\n",
        "<h3><input type=\"checkbox\"> 5. Is the bonus question answered?  <br></h3> "
      ],
      "execution_count": null,
      "outputs": [
        {
          "output_type": "display_data",
          "data": {
            "text/html": [
              "<h3><input type=\"checkbox\"> 1. Are all questions answered? <br></h3>\n",
              "<h3><input type=\"checkbox\"> 2. Does all code run through? <br></h3>\n",
              "<h3><input type=\"checkbox\"> 3. Are explanations of fill strategy provided for all relevant questions?  <br></h3>\n",
              "<h3><input type=\"checkbox\"> 4. Are different strategies used for continuous vs categorical data?  <br></h3>\n",
              "<h3><input type=\"checkbox\"> 5. Is the bonus question answered?  <br></h3> "
            ],
            "text/plain": [
              "<IPython.core.display.HTML object>"
            ]
          },
          "metadata": {
            "tags": []
          }
        }
      ]
    },
    {
      "cell_type": "code",
      "metadata": {
        "id": "vrmrmS4BavqM"
      },
      "source": [
        ""
      ],
      "execution_count": null,
      "outputs": []
    }
  ]
}