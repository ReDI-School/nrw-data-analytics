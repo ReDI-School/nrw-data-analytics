{
  "nbformat": 4,
  "nbformat_minor": 0,
  "metadata": {
    "colab": {
      "name": "3. Pandas Transformations Project.ipynb",
      "provenance": [],
      "collapsed_sections": []
    },
    "kernelspec": {
      "name": "python3",
      "display_name": "Python 3"
    }
  },
  "cells": [
    {
      "cell_type": "markdown",
      "metadata": {
        "id": "2zxREd_otAge"
      },
      "source": [
        "![Immoscout](https://raw.githubusercontent.com/juliandnl/redi_ss20/master/image.png)"
      ]
    },
    {
      "cell_type": "markdown",
      "metadata": {
        "id": "YAmw_s-VtIaV"
      },
      "source": [
        "# Project - Immobilien Scout 24\n",
        "\n",
        "--- \n",
        "## The description:\n",
        "Welcome to your first project! Have you heard about Immobilienscout 24?  [Immobilienscout 24](https://https://www.immobilienscout24.de/). It the biggest platform for renting appartments in Germany. The company hires data analysts and data scientists for analyzing the market data. They are especially interested in the Berlin market. The company wants to understand where to publish advertisment.\n",
        "\n",
        "--- \n",
        "## The dataset:\n",
        "The datasets contains information about rental appartments in Berlin. \n",
        "One row is for one appartment. The dataset contains 6 columns.  \n",
        "- Region: is the Berlin district, where the flat is located\n",
        "- Condition: is the condition of the flat\n",
        "- Rooms: The number of rooms the flat has\n",
        "- Rent: Monthly rent for the flat\n",
        "- Year_Construction: The year in which the house was build\n",
        "- Space: How many square meters does the flat has?\n",
        "\n",
        "--- \n",
        "## The Tasks:\n",
        "1. What is the average price per square meter for different Regions?\n",
        "2. Is there a difference of average room space (`Space` divided by `Rooms`) for apartments built after 2000 versus apartment built before 2000?\n",
        "3. What's the percentage of the apartments in high quality condition? \n",
        "In order to answer this question let's assume that high quality conditions are: `first_time_use`, `mint_condition`, `refurbished`, `first_time_use_after_refurbishment` and `fully_renovated`. The rest we can categorize as low quality condition.\n",
        "\n",
        "Bonus Questions:\n",
        "4. We added to the dataset 2 new columns: `Posted_date` and `Rented_date`. As Immobilienscout we are interested in 2 KPIs:\n",
        "\n",
        "A) How many apartments where posted each month? \n",
        "\n",
        "B) How many day does it take from posting about the apartment and renting it? We are interested in how this number change depending on the month of the posting.\n",
        "\n",
        "5. Can you think about other KPIs for Immobilienscout? (It doesn't need to use only the data from this dataset)"
      ]
    },
    {
      "cell_type": "code",
      "metadata": {
        "id": "cDxFVRHbq6eR"
      },
      "source": [
        "# Imports\n",
        "import pandas as pd"
      ],
      "execution_count": null,
      "outputs": []
    },
    {
      "cell_type": "code",
      "metadata": {
        "colab": {
          "base_uri": "https://localhost:8080/"
        },
        "id": "q5djRaCwtmk3",
        "outputId": "64c6b3c0-9757-417e-810c-d14b054c7095"
      },
      "source": [
        "# install plotly\n",
        "# https://plotly.com/python/pandas-backend/\n",
        "!pip install plotly==4.14.3\n",
        "pd.options.plotting.backend = \"plotly\""
      ],
      "execution_count": null,
      "outputs": [
        {
          "output_type": "stream",
          "text": [
            "Collecting plotly==4.14.3\n",
            "\u001b[?25l  Downloading https://files.pythonhosted.org/packages/1f/f6/bd3c17c8003b6641df1228e80e1acac97ed8402635e46c2571f8e1ef63af/plotly-4.14.3-py2.py3-none-any.whl (13.2MB)\n",
            "\u001b[K     |████████████████████████████████| 13.2MB 317kB/s \n",
            "\u001b[?25hRequirement already satisfied: retrying>=1.3.3 in /usr/local/lib/python3.7/dist-packages (from plotly==4.14.3) (1.3.3)\n",
            "Requirement already satisfied: six in /usr/local/lib/python3.7/dist-packages (from plotly==4.14.3) (1.15.0)\n",
            "Installing collected packages: plotly\n",
            "  Found existing installation: plotly 4.4.1\n",
            "    Uninstalling plotly-4.4.1:\n",
            "      Successfully uninstalled plotly-4.4.1\n",
            "Successfully installed plotly-4.14.3\n"
          ],
          "name": "stdout"
        }
      ]
    },
    {
      "cell_type": "code",
      "metadata": {
        "colab": {
          "base_uri": "https://localhost:8080/",
          "height": 204
        },
        "id": "2GD2ryFwto1a",
        "outputId": "6de40056-6147-49fa-9250-cb176a5e473a"
      },
      "source": [
        "# Read in dataset\n",
        "rentals = pd.read_csv(\"https://raw.githubusercontent.com/juliandnl/redi_ss20/master/berlin_rental.csv\")\n",
        "rentals.tail()"
      ],
      "execution_count": null,
      "outputs": [
        {
          "output_type": "execute_result",
          "data": {
            "text/html": [
              "<div>\n",
              "<style scoped>\n",
              "    .dataframe tbody tr th:only-of-type {\n",
              "        vertical-align: middle;\n",
              "    }\n",
              "\n",
              "    .dataframe tbody tr th {\n",
              "        vertical-align: top;\n",
              "    }\n",
              "\n",
              "    .dataframe thead th {\n",
              "        text-align: right;\n",
              "    }\n",
              "</style>\n",
              "<table border=\"1\" class=\"dataframe\">\n",
              "  <thead>\n",
              "    <tr style=\"text-align: right;\">\n",
              "      <th></th>\n",
              "      <th>Region</th>\n",
              "      <th>Condition</th>\n",
              "      <th>Rooms</th>\n",
              "      <th>Rent</th>\n",
              "      <th>Year_Construction</th>\n",
              "      <th>Space</th>\n",
              "    </tr>\n",
              "  </thead>\n",
              "  <tbody>\n",
              "    <tr>\n",
              "      <th>759</th>\n",
              "      <td>Wedding</td>\n",
              "      <td>mint_condition</td>\n",
              "      <td>1.0</td>\n",
              "      <td>959.0</td>\n",
              "      <td>2017</td>\n",
              "      <td>27.80</td>\n",
              "    </tr>\n",
              "    <tr>\n",
              "      <th>760</th>\n",
              "      <td>Wedding</td>\n",
              "      <td>mint_condition</td>\n",
              "      <td>1.0</td>\n",
              "      <td>649.0</td>\n",
              "      <td>2017</td>\n",
              "      <td>20.50</td>\n",
              "    </tr>\n",
              "    <tr>\n",
              "      <th>761</th>\n",
              "      <td>Wilmersdorf</td>\n",
              "      <td>mint_condition</td>\n",
              "      <td>4.0</td>\n",
              "      <td>2750.0</td>\n",
              "      <td>2017</td>\n",
              "      <td>110.00</td>\n",
              "    </tr>\n",
              "    <tr>\n",
              "      <th>762</th>\n",
              "      <td>Köpenick</td>\n",
              "      <td>well_kept</td>\n",
              "      <td>2.0</td>\n",
              "      <td>1259.0</td>\n",
              "      <td>2017</td>\n",
              "      <td>91.20</td>\n",
              "    </tr>\n",
              "    <tr>\n",
              "      <th>763</th>\n",
              "      <td>Neukölln</td>\n",
              "      <td>fully_renovated</td>\n",
              "      <td>2.0</td>\n",
              "      <td>888.0</td>\n",
              "      <td>1990</td>\n",
              "      <td>68.48</td>\n",
              "    </tr>\n",
              "  </tbody>\n",
              "</table>\n",
              "</div>"
            ],
            "text/plain": [
              "          Region        Condition  Rooms    Rent  Year_Construction   Space\n",
              "759      Wedding   mint_condition    1.0   959.0               2017   27.80\n",
              "760      Wedding   mint_condition    1.0   649.0               2017   20.50\n",
              "761  Wilmersdorf   mint_condition    4.0  2750.0               2017  110.00\n",
              "762     Köpenick        well_kept    2.0  1259.0               2017   91.20\n",
              "763     Neukölln  fully_renovated    2.0   888.0               1990   68.48"
            ]
          },
          "metadata": {
            "tags": []
          },
          "execution_count": 2
        }
      ]
    },
    {
      "cell_type": "markdown",
      "metadata": {
        "id": "PZmVxvM_4C5V"
      },
      "source": [
        "## 1. What is the average price per square meter for different Regions?"
      ]
    },
    {
      "cell_type": "code",
      "metadata": {
        "id": "OELxGQNs-AhR"
      },
      "source": [
        "# Your code here\n"
      ],
      "execution_count": null,
      "outputs": []
    },
    {
      "cell_type": "markdown",
      "metadata": {
        "id": "UeSRMJD94EZ7"
      },
      "source": [
        "## 2. Is there a difference of average room space (`Space` divided by `Rooms`) for apartments built after 2000 versus apartment built before 2000?"
      ]
    },
    {
      "cell_type": "code",
      "metadata": {
        "id": "BpfSyexk-Cju"
      },
      "source": [
        "# Your code here"
      ],
      "execution_count": null,
      "outputs": []
    },
    {
      "cell_type": "markdown",
      "metadata": {
        "id": "RLAa7wgu4E0V"
      },
      "source": [
        "## 3. What's the percentage of the apartments in high quality condition? \n",
        "\n",
        "In order to answer this question let's assume that high quality conditions are: `first_time_use`, `mint_condition`, `refurbished`, `first_time_use_after_refurbishment` and `fully_renovated`. The rest we can categorize as low quality condition."
      ]
    },
    {
      "cell_type": "code",
      "metadata": {
        "id": "HOpffadx-EhM"
      },
      "source": [
        "# Your code here"
      ],
      "execution_count": null,
      "outputs": []
    },
    {
      "cell_type": "markdown",
      "metadata": {
        "id": "HtIY4a3v9uas"
      },
      "source": [
        "## Bonus Questions:\n",
        "4. We added to the dataset 2 new columns: `Posted_date` and `Rented_date`. As Immobilienscout we are interested in 2 KPIs:"
      ]
    },
    {
      "cell_type": "code",
      "metadata": {
        "colab": {
          "base_uri": "https://localhost:8080/",
          "height": 204
        },
        "id": "letuSY50-9w3",
        "outputId": "207ed899-d28b-4e8e-fad0-a0fcd79cd213"
      },
      "source": [
        "from random import randrange\n",
        "import datetime \n",
        "import numpy as np\n",
        "\n",
        "base_date = datetime.datetime(2020, 1, 1, 12, 0)\n",
        "\n",
        "# A function adding a posting date from 2020.\n",
        "def add_posted_date(base_date=base_date):\n",
        "    return base_date + datetime.timedelta(days=randrange(365))\n",
        "\n",
        "rentals['Posted_date'] = rentals.Year_Construction.apply(lambda x: add_posted_date())\n",
        "\n",
        "# A function adding a rental date (which is after the posting date).\n",
        "def add_rented_date(posted_date):\n",
        "    return posted_date + datetime.timedelta(days=randrange(60))\n",
        "\n",
        "rentals['Rented_date'] = rentals.Posted_date.apply(lambda x: add_rented_date(x))\n",
        "\n",
        "rentals.head()"
      ],
      "execution_count": null,
      "outputs": [
        {
          "output_type": "execute_result",
          "data": {
            "text/html": [
              "<div>\n",
              "<style scoped>\n",
              "    .dataframe tbody tr th:only-of-type {\n",
              "        vertical-align: middle;\n",
              "    }\n",
              "\n",
              "    .dataframe tbody tr th {\n",
              "        vertical-align: top;\n",
              "    }\n",
              "\n",
              "    .dataframe thead th {\n",
              "        text-align: right;\n",
              "    }\n",
              "</style>\n",
              "<table border=\"1\" class=\"dataframe\">\n",
              "  <thead>\n",
              "    <tr style=\"text-align: right;\">\n",
              "      <th></th>\n",
              "      <th>Region</th>\n",
              "      <th>Condition</th>\n",
              "      <th>Rooms</th>\n",
              "      <th>Rent</th>\n",
              "      <th>Year_Construction</th>\n",
              "      <th>Space</th>\n",
              "      <th>Posted_date</th>\n",
              "      <th>Rented_date</th>\n",
              "    </tr>\n",
              "  </thead>\n",
              "  <tbody>\n",
              "    <tr>\n",
              "      <th>0</th>\n",
              "      <td>Mitte</td>\n",
              "      <td>first_time_use</td>\n",
              "      <td>4.0</td>\n",
              "      <td>2659.00</td>\n",
              "      <td>2019</td>\n",
              "      <td>117.20</td>\n",
              "      <td>2020-06-27 12:00:00</td>\n",
              "      <td>2020-07-15 12:00:00</td>\n",
              "    </tr>\n",
              "    <tr>\n",
              "      <th>1</th>\n",
              "      <td>Kreuzberg</td>\n",
              "      <td>first_time_use</td>\n",
              "      <td>1.0</td>\n",
              "      <td>1200.00</td>\n",
              "      <td>2020</td>\n",
              "      <td>29.33</td>\n",
              "      <td>2020-08-31 12:00:00</td>\n",
              "      <td>2020-10-01 12:00:00</td>\n",
              "    </tr>\n",
              "    <tr>\n",
              "      <th>2</th>\n",
              "      <td>Köpenick</td>\n",
              "      <td>well_kept</td>\n",
              "      <td>2.0</td>\n",
              "      <td>979.00</td>\n",
              "      <td>1997</td>\n",
              "      <td>83.61</td>\n",
              "      <td>2020-03-03 12:00:00</td>\n",
              "      <td>2020-04-16 12:00:00</td>\n",
              "    </tr>\n",
              "    <tr>\n",
              "      <th>3</th>\n",
              "      <td>Wilmersdorf</td>\n",
              "      <td>well_kept</td>\n",
              "      <td>4.0</td>\n",
              "      <td>1830.22</td>\n",
              "      <td>1900</td>\n",
              "      <td>171.18</td>\n",
              "      <td>2020-03-08 12:00:00</td>\n",
              "      <td>2020-03-24 12:00:00</td>\n",
              "    </tr>\n",
              "    <tr>\n",
              "      <th>4</th>\n",
              "      <td>Kreuzberg</td>\n",
              "      <td>first_time_use</td>\n",
              "      <td>2.0</td>\n",
              "      <td>2272.00</td>\n",
              "      <td>2020</td>\n",
              "      <td>88.27</td>\n",
              "      <td>2020-05-24 12:00:00</td>\n",
              "      <td>2020-07-03 12:00:00</td>\n",
              "    </tr>\n",
              "  </tbody>\n",
              "</table>\n",
              "</div>"
            ],
            "text/plain": [
              "        Region       Condition  ...         Posted_date         Rented_date\n",
              "0        Mitte  first_time_use  ... 2020-06-27 12:00:00 2020-07-15 12:00:00\n",
              "1    Kreuzberg  first_time_use  ... 2020-08-31 12:00:00 2020-10-01 12:00:00\n",
              "2     Köpenick       well_kept  ... 2020-03-03 12:00:00 2020-04-16 12:00:00\n",
              "3  Wilmersdorf       well_kept  ... 2020-03-08 12:00:00 2020-03-24 12:00:00\n",
              "4    Kreuzberg  first_time_use  ... 2020-05-24 12:00:00 2020-07-03 12:00:00\n",
              "\n",
              "[5 rows x 8 columns]"
            ]
          },
          "metadata": {
            "tags": []
          },
          "execution_count": 25
        }
      ]
    },
    {
      "cell_type": "markdown",
      "metadata": {
        "id": "jpNtL6UZ95BS"
      },
      "source": [
        "### A) How many apartments where posted each month? "
      ]
    },
    {
      "cell_type": "code",
      "metadata": {
        "id": "D9kaPTy3-GbF"
      },
      "source": [
        "# Your code here"
      ],
      "execution_count": null,
      "outputs": []
    },
    {
      "cell_type": "markdown",
      "metadata": {
        "id": "rLDYRqgx95ko"
      },
      "source": [
        "### B) How many day does it take from posting about the apartment and renting it? We are interested in how this number change depending on the month of the posting."
      ]
    },
    {
      "cell_type": "code",
      "metadata": {
        "id": "dIflu0ZH-IG1"
      },
      "source": [
        "# Your code here"
      ],
      "execution_count": null,
      "outputs": []
    },
    {
      "cell_type": "markdown",
      "metadata": {
        "id": "ls_fIFSMyOux"
      },
      "source": [
        "## 5. Can you think about other KPIs for Immobilienscout? (It doesn't need to use only the data from this dataset)\n",
        "\n",
        "\n"
      ]
    },
    {
      "cell_type": "markdown",
      "metadata": {
        "id": "T89MJnGkyVIs"
      },
      "source": [
        "Your answer"
      ]
    },
    {
      "cell_type": "markdown",
      "metadata": {
        "id": "xnQMN5CQt90T"
      },
      "source": [
        "--- \n",
        "# Review\n",
        "\n",
        "This section is only for the reviewing team!\n",
        "\n",
        "Guideline how to review:\n",
        "https://docs.google.com/presentation/d/1YORFwlfVQo9ogj7jR9t6_pqxmGIlpBSGubbp1UdtcBQ/edit?usp=sharing\n"
      ]
    },
    {
      "cell_type": "code",
      "metadata": {
        "colab": {
          "base_uri": "https://localhost:8080/",
          "height": 167
        },
        "id": "t_oU8YSOt-b0",
        "cellView": "form",
        "outputId": "df0afd5c-a0d3-434a-a558-ef1b42b858b8"
      },
      "source": [
        "#@title Review Criteria:\n",
        "%%html\n",
        "<h3><input type=\"checkbox\"> 1. Are all questions answered? <br></h3> \n",
        "<h3><input type=\"checkbox\"> 2. Does all code run through? <br></h3> \n",
        "<h3><input type=\"checkbox\"> 3. Are the conclusions understandable?  <br></h3> \n",
        "<h3><input type=\"checkbox\"> 4. Are the bonus question answered?  <br></h3> "
      ],
      "execution_count": null,
      "outputs": [
        {
          "output_type": "display_data",
          "data": {
            "text/html": [
              "<h3><input type=\"checkbox\"> 1. Are all questions answered? <br></h3> \n",
              "<h3><input type=\"checkbox\"> 2. Does all code run through? <br></h3> \n",
              "<h3><input type=\"checkbox\"> 3. Are the conclusions understandable?  <br></h3> \n",
              "<h3><input type=\"checkbox\"> 4. Are the bonus question answered?  <br></h3> "
            ],
            "text/plain": [
              "<IPython.core.display.HTML object>"
            ]
          },
          "metadata": {
            "tags": []
          }
        }
      ]
    },
    {
      "cell_type": "code",
      "metadata": {
        "id": "fRTB2f8LuOsP"
      },
      "source": [
        "input(\"Do you have any feedback?\")"
      ],
      "execution_count": null,
      "outputs": []
    }
  ]
}