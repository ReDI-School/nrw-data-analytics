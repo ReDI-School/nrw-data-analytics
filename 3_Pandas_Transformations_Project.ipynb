{
  "nbformat": 4,
  "nbformat_minor": 0,
  "metadata": {
    "colab": {
      "name": "3. Pandas Transformations Project.ipynb",
      "provenance": [],
      "collapsed_sections": []
    },
    "kernelspec": {
      "name": "python3",
      "display_name": "Python 3"
    }
  },
  "cells": [
    {
      "cell_type": "markdown",
      "metadata": {
        "id": "2zxREd_otAge"
      },
      "source": [
        "![Immoscout](https://raw.githubusercontent.com/juliandnl/redi_ss20/master/image.png)"
      ]
    },
    {
      "cell_type": "markdown",
      "metadata": {
        "id": "YAmw_s-VtIaV"
      },
      "source": [
        "# Project - Immobilien Scout 24\n",
        "\n",
        "--- \n",
        "## The description:\n",
        "Welcome to your first project! Have you heard about Immobilienscout 24?  [Immobilienscout 24](https://https://www.immobilienscout24.de/). It the biggest platform for renting appartments in Germany. The company hires data analysts and data scientists for analyzing the market data. They are especially interested in the Berlin market. The company wants to understand where to publish advertisment.\n",
        "\n",
        "--- \n",
        "## The dataset:\n",
        "The datasets contains information about rental appartments in Berlin. \n",
        "One row is for one appartment. The dataset contains 6 columns.  \n",
        "- Region: is the Berlin district, where the flat is located\n",
        "- Condition: is the condition of the flat\n",
        "- Rooms: The number of rooms the flat has\n",
        "- Rent: Monthly rent for the flat\n",
        "- Year_Construction: The year in which the house was build\n",
        "- Space: How many square meters does the flat has?\n",
        "\n",
        "--- \n",
        "## The Tasks:\n",
        "1. What is the average price per square meter for different Regions?\n",
        "2. Is there a difference of average room space (`Space` divided by `Rooms`) for apartments built after 2000 versus apartment built before 2000?\n",
        "3. What's the percentage of the apartments in high quality condition? \n",
        "In order to answer this question let's assume that high quality conditions are: `first_time_use`, `mint_condition`, `refurbished`, `first_time_use_after_refurbishment` and `fully_renovated`. The rest we can categorize as low quality condition.\n",
        "\n",
        "Bonus Questions:\n",
        "4. We added to the dataset 2 new columns: `Posted_date` and `Rented_date`. As Immobilienscout we are interested in 2 KPIs:\n",
        "\n",
        "A) How many apartments where posted each month? \n",
        "\n",
        "B) How many day does it take from posting about the apartment and renting it? We are interested in how this number change depending on the month of the posting.\n",
        "\n",
        "5. Can you think about other KPIs for Immobilienscout? (It doesn't need to use only the data from this dataset)"
      ]
    },
    {
      "cell_type": "markdown",
      "metadata": {
        "id": "PZmVxvM_4C5V"
      },
      "source": [
        "## 1. What is the average price per square meter for different Regions?"
      ]
    },
    {
      "cell_type": "code",
      "metadata": {
        "id": "OELxGQNs-AhR"
      },
      "source": [
        "# Your code here"
      ],
      "execution_count": null,
      "outputs": []
    },
    {
      "cell_type": "markdown",
      "metadata": {
        "id": "UeSRMJD94EZ7"
      },
      "source": [
        "## 2. Is there a difference of average room space (`Space` divided by `Rooms`) for apartments built after 2000 versus apartment built before 2000?"
      ]
    },
    {
      "cell_type": "code",
      "metadata": {
        "id": "BpfSyexk-Cju"
      },
      "source": [
        "# Your code here"
      ],
      "execution_count": null,
      "outputs": []
    },
    {
      "cell_type": "markdown",
      "metadata": {
        "id": "RLAa7wgu4E0V"
      },
      "source": [
        "## 3. What's the percentage of the apartments in high quality condition? \n",
        "\n",
        "In order to answer this question let's assume that high quality conditions are: `first_time_use`, `mint_condition`, `refurbished`, `first_time_use_after_refurbishment` and `fully_renovated`. The rest we can categorize as low quality condition."
      ]
    },
    {
      "cell_type": "code",
      "metadata": {
        "id": "HOpffadx-EhM"
      },
      "source": [
        "# Your code here"
      ],
      "execution_count": null,
      "outputs": []
    },
    {
      "cell_type": "markdown",
      "metadata": {
        "id": "HtIY4a3v9uas"
      },
      "source": [
        "## Bonus Questions:\n",
        "4. We added to the dataset 2 new columns: `Posted_date` and `Rented_date`. As Immobilienscout we are interested in 2 KPIs:"
      ]
    },
    {
      "cell_type": "markdown",
      "metadata": {
        "id": "jpNtL6UZ95BS"
      },
      "source": [
        "### A) How many apartments where posted each month? "
      ]
    },
    {
      "cell_type": "code",
      "metadata": {
        "id": "D9kaPTy3-GbF"
      },
      "source": [
        "# Your code here"
      ],
      "execution_count": null,
      "outputs": []
    },
    {
      "cell_type": "markdown",
      "metadata": {
        "id": "rLDYRqgx95ko"
      },
      "source": [
        "### B) How many day does it take from posting about the apartment and renting it? We are interested in how this number change depending on the month of the posting."
      ]
    },
    {
      "cell_type": "code",
      "metadata": {
        "id": "dIflu0ZH-IG1"
      },
      "source": [
        "# Your code here"
      ],
      "execution_count": null,
      "outputs": []
    },
    {
      "cell_type": "markdown",
      "metadata": {
        "id": "ls_fIFSMyOux"
      },
      "source": [
        "## 5. Can you think about other KPIs for Immobilienscout? (It doesn't need to use only the data from this dataset)\n",
        "\n",
        "\n"
      ]
    },
    {
      "cell_type": "markdown",
      "metadata": {
        "id": "T89MJnGkyVIs"
      },
      "source": [
        "Your answer"
      ]
    },
    {
      "cell_type": "markdown",
      "metadata": {
        "id": "xnQMN5CQt90T"
      },
      "source": [
        "--- \n",
        "# Review\n",
        "\n",
        "This section is only for the reviewing team!\n",
        "\n",
        "Guideline how to review:\n",
        "https://docs.google.com/presentation/d/1YORFwlfVQo9ogj7jR9t6_pqxmGIlpBSGubbp1UdtcBQ/edit?usp=sharing\n"
      ]
    },
    {
      "cell_type": "code",
      "metadata": {
        "colab": {
          "base_uri": "https://localhost:8080/",
          "height": 167
        },
        "id": "t_oU8YSOt-b0",
        "cellView": "form",
        "outputId": "df0afd5c-a0d3-434a-a558-ef1b42b858b8"
      },
      "source": [
        "#@title Review Criteria:\n",
        "%%html\n",
        "<h3><input type=\"checkbox\"> 1. Are all questions answered? <br></h3> \n",
        "<h3><input type=\"checkbox\"> 2. Does all code run through? <br></h3> \n",
        "<h3><input type=\"checkbox\"> 3. Are the conclusions understandable?  <br></h3> \n",
        "<h3><input type=\"checkbox\"> 4. Are the bonus question answered?  <br></h3> "
      ],
      "execution_count": null,
      "outputs": [
        {
          "output_type": "display_data",
          "data": {
            "text/html": [
              "<h3><input type=\"checkbox\"> 1. Are all questions answered? <br></h3> \n",
              "<h3><input type=\"checkbox\"> 2. Does all code run through? <br></h3> \n",
              "<h3><input type=\"checkbox\"> 3. Are the conclusions understandable?  <br></h3> \n",
              "<h3><input type=\"checkbox\"> 4. Are the bonus question answered?  <br></h3> "
            ],
            "text/plain": [
              "<IPython.core.display.HTML object>"
            ]
          },
          "metadata": {
            "tags": []
          }
        }
      ]
    },
    {
      "cell_type": "code",
      "metadata": {
        "id": "fRTB2f8LuOsP"
      },
      "source": [
        "input(\"Do you have any feedback?\")"
      ],
      "execution_count": null,
      "outputs": []
    }
  ]
}