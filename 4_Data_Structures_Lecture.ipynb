{
  "nbformat": 4,
  "nbformat_minor": 0,
  "metadata": {
    "colab": {
      "name": "4. Data Structures Lecture.ipynb",
      "provenance": [],
      "collapsed_sections": [
        "qBOCAyisA8i7",
        "s39SnnxrZxsx",
        "0mnOHaZpZ1CU",
        "Gt67LsqQaSlt",
        "jEIcUNYIbq1k",
        "6Ikzh8Nbcf8Y",
        "ttLJtH1d0guL",
        "UBSLRWEeqE-W"
      ]
    },
    "kernelspec": {
      "display_name": "Python 3",
      "language": "python",
      "name": "python3"
    }
  },
  "cells": [
    {
      "cell_type": "markdown",
      "metadata": {
        "id": "qer4yHhf4pcx"
      },
      "source": [
        "# Data Structures in Python\n",
        "\n",
        "There are different data structures in python. One you have already got to know: Pandas Dataframes. Today we will talk about two more data structures: Lists and Dictionaries. They are extremely powerful and widely used. How and why, you will see in the session.\n"
      ]
    },
    {
      "cell_type": "markdown",
      "metadata": {
        "id": "SyYKEmyAjd35"
      },
      "source": [
        "# Questions\n",
        "\n",
        "1. How many car makers are there?\n",
        "2. How many different cars does volkswagen produce?"
      ]
    },
    {
      "cell_type": "markdown",
      "metadata": {
        "id": "1jT_1Oq1MfzF"
      },
      "source": [
        "# Imports"
      ]
    },
    {
      "cell_type": "code",
      "metadata": {
        "colab": {
          "background_save": true
        },
        "id": "WihVFWdPIn9v"
      },
      "source": [
        "# Imports\n",
        "import pandas as pd\n",
        "import plotly\n",
        "import requests"
      ],
      "execution_count": null,
      "outputs": []
    },
    {
      "cell_type": "code",
      "metadata": {
        "colab": {
          "background_save": true,
          "base_uri": "https://localhost:8080/",
          "height": 634
        },
        "id": "ibugBvYeIqOj",
        "outputId": "0918451a-1a29-49a6-b705-dd46a8486871"
      },
      "source": [
        "# install plotly\n",
        "# https://plotly.com/python/pandas-backend/\n",
        "!pip install plotly==4.14.3\n",
        "pd.options.plotting.backend = \"plotly\""
      ],
      "execution_count": null,
      "outputs": [
        {
          "output_type": "stream",
          "text": [
            "Requirement already satisfied: plotly==4.14.3 in /usr/local/lib/python3.7/dist-packages (4.14.3)\n",
            "Requirement already satisfied: retrying>=1.3.3 in /usr/local/lib/python3.7/dist-packages (from plotly==4.14.3) (1.3.3)\n",
            "Requirement already satisfied: six in /usr/local/lib/python3.7/dist-packages (from plotly==4.14.3) (1.15.0)\n"
          ],
          "name": "stdout"
        },
        {
          "output_type": "error",
          "ename": "ValueError",
          "evalue": "ignored",
          "traceback": [
            "\u001b[0;31m---------------------------------------------------------------------------\u001b[0m",
            "\u001b[0;31mValueError\u001b[0m                                Traceback (most recent call last)",
            "\u001b[0;32m<ipython-input-6-d4210fe786eb>\u001b[0m in \u001b[0;36m<module>\u001b[0;34m()\u001b[0m\n\u001b[1;32m      2\u001b[0m \u001b[0;31m# https://plotly.com/python/pandas-backend/\u001b[0m\u001b[0;34m\u001b[0m\u001b[0;34m\u001b[0m\u001b[0;34m\u001b[0m\u001b[0m\n\u001b[1;32m      3\u001b[0m \u001b[0mget_ipython\u001b[0m\u001b[0;34m(\u001b[0m\u001b[0;34m)\u001b[0m\u001b[0;34m.\u001b[0m\u001b[0msystem\u001b[0m\u001b[0;34m(\u001b[0m\u001b[0;34m'pip install plotly==4.14.3'\u001b[0m\u001b[0;34m)\u001b[0m\u001b[0;34m\u001b[0m\u001b[0;34m\u001b[0m\u001b[0m\n\u001b[0;32m----> 4\u001b[0;31m \u001b[0mpd\u001b[0m\u001b[0;34m.\u001b[0m\u001b[0moptions\u001b[0m\u001b[0;34m.\u001b[0m\u001b[0mplotting\u001b[0m\u001b[0;34m.\u001b[0m\u001b[0mbackend\u001b[0m \u001b[0;34m=\u001b[0m \u001b[0;34m\"plotly\"\u001b[0m\u001b[0;34m\u001b[0m\u001b[0;34m\u001b[0m\u001b[0m\n\u001b[0m",
            "\u001b[0;32m/usr/local/lib/python3.7/dist-packages/pandas/_config/config.py\u001b[0m in \u001b[0;36m__setattr__\u001b[0;34m(self, key, val)\u001b[0m\n\u001b[1;32m    194\u001b[0m         \u001b[0;31m# can you can't overwrite subtrees\u001b[0m\u001b[0;34m\u001b[0m\u001b[0;34m\u001b[0m\u001b[0;34m\u001b[0m\u001b[0m\n\u001b[1;32m    195\u001b[0m         \u001b[0;32mif\u001b[0m \u001b[0mkey\u001b[0m \u001b[0;32min\u001b[0m \u001b[0mself\u001b[0m\u001b[0;34m.\u001b[0m\u001b[0md\u001b[0m \u001b[0;32mand\u001b[0m \u001b[0;32mnot\u001b[0m \u001b[0misinstance\u001b[0m\u001b[0;34m(\u001b[0m\u001b[0mself\u001b[0m\u001b[0;34m.\u001b[0m\u001b[0md\u001b[0m\u001b[0;34m[\u001b[0m\u001b[0mkey\u001b[0m\u001b[0;34m]\u001b[0m\u001b[0;34m,\u001b[0m \u001b[0mdict\u001b[0m\u001b[0;34m)\u001b[0m\u001b[0;34m:\u001b[0m\u001b[0;34m\u001b[0m\u001b[0;34m\u001b[0m\u001b[0m\n\u001b[0;32m--> 196\u001b[0;31m             \u001b[0m_set_option\u001b[0m\u001b[0;34m(\u001b[0m\u001b[0mprefix\u001b[0m\u001b[0;34m,\u001b[0m \u001b[0mval\u001b[0m\u001b[0;34m)\u001b[0m\u001b[0;34m\u001b[0m\u001b[0;34m\u001b[0m\u001b[0m\n\u001b[0m\u001b[1;32m    197\u001b[0m         \u001b[0;32melse\u001b[0m\u001b[0;34m:\u001b[0m\u001b[0;34m\u001b[0m\u001b[0;34m\u001b[0m\u001b[0m\n\u001b[1;32m    198\u001b[0m             \u001b[0;32mraise\u001b[0m \u001b[0mOptionError\u001b[0m\u001b[0;34m(\u001b[0m\u001b[0;34m\"You can only set the value of existing options\"\u001b[0m\u001b[0;34m)\u001b[0m\u001b[0;34m\u001b[0m\u001b[0;34m\u001b[0m\u001b[0m\n",
            "\u001b[0;32m/usr/local/lib/python3.7/dist-packages/pandas/_config/config.py\u001b[0m in \u001b[0;36m_set_option\u001b[0;34m(*args, **kwargs)\u001b[0m\n\u001b[1;32m    128\u001b[0m         \u001b[0mo\u001b[0m \u001b[0;34m=\u001b[0m \u001b[0m_get_registered_option\u001b[0m\u001b[0;34m(\u001b[0m\u001b[0mkey\u001b[0m\u001b[0;34m)\u001b[0m\u001b[0;34m\u001b[0m\u001b[0;34m\u001b[0m\u001b[0m\n\u001b[1;32m    129\u001b[0m         \u001b[0;32mif\u001b[0m \u001b[0mo\u001b[0m \u001b[0;32mand\u001b[0m \u001b[0mo\u001b[0m\u001b[0;34m.\u001b[0m\u001b[0mvalidator\u001b[0m\u001b[0;34m:\u001b[0m\u001b[0;34m\u001b[0m\u001b[0;34m\u001b[0m\u001b[0m\n\u001b[0;32m--> 130\u001b[0;31m             \u001b[0mo\u001b[0m\u001b[0;34m.\u001b[0m\u001b[0mvalidator\u001b[0m\u001b[0;34m(\u001b[0m\u001b[0mv\u001b[0m\u001b[0;34m)\u001b[0m\u001b[0;34m\u001b[0m\u001b[0;34m\u001b[0m\u001b[0m\n\u001b[0m\u001b[1;32m    131\u001b[0m \u001b[0;34m\u001b[0m\u001b[0m\n\u001b[1;32m    132\u001b[0m         \u001b[0;31m# walk the nested dict\u001b[0m\u001b[0;34m\u001b[0m\u001b[0;34m\u001b[0m\u001b[0;34m\u001b[0m\u001b[0m\n",
            "\u001b[0;32m/usr/local/lib/python3.7/dist-packages/pandas/core/config_init.py\u001b[0m in \u001b[0;36mregister_plotting_backend_cb\u001b[0;34m(key)\u001b[0m\n\u001b[1;32m    642\u001b[0m     \u001b[0;32mfrom\u001b[0m \u001b[0mpandas\u001b[0m\u001b[0;34m.\u001b[0m\u001b[0mplotting\u001b[0m\u001b[0;34m.\u001b[0m\u001b[0m_core\u001b[0m \u001b[0;32mimport\u001b[0m \u001b[0m_get_plot_backend\u001b[0m\u001b[0;34m\u001b[0m\u001b[0;34m\u001b[0m\u001b[0m\n\u001b[1;32m    643\u001b[0m \u001b[0;34m\u001b[0m\u001b[0m\n\u001b[0;32m--> 644\u001b[0;31m     \u001b[0m_get_plot_backend\u001b[0m\u001b[0;34m(\u001b[0m\u001b[0mkey\u001b[0m\u001b[0;34m)\u001b[0m\u001b[0;34m\u001b[0m\u001b[0;34m\u001b[0m\u001b[0m\n\u001b[0m\u001b[1;32m    645\u001b[0m \u001b[0;34m\u001b[0m\u001b[0m\n\u001b[1;32m    646\u001b[0m \u001b[0;34m\u001b[0m\u001b[0m\n",
            "\u001b[0;32m/usr/local/lib/python3.7/dist-packages/pandas/plotting/_core.py\u001b[0m in \u001b[0;36m_get_plot_backend\u001b[0;34m(backend)\u001b[0m\n\u001b[1;32m   1788\u001b[0m         \u001b[0;32mreturn\u001b[0m \u001b[0m_backends\u001b[0m\u001b[0;34m[\u001b[0m\u001b[0mbackend\u001b[0m\u001b[0;34m]\u001b[0m\u001b[0;34m\u001b[0m\u001b[0;34m\u001b[0m\u001b[0m\n\u001b[1;32m   1789\u001b[0m \u001b[0;34m\u001b[0m\u001b[0m\n\u001b[0;32m-> 1790\u001b[0;31m     \u001b[0mmodule\u001b[0m \u001b[0;34m=\u001b[0m \u001b[0m_find_backend\u001b[0m\u001b[0;34m(\u001b[0m\u001b[0mbackend\u001b[0m\u001b[0;34m)\u001b[0m\u001b[0;34m\u001b[0m\u001b[0;34m\u001b[0m\u001b[0m\n\u001b[0m\u001b[1;32m   1791\u001b[0m     \u001b[0m_backends\u001b[0m\u001b[0;34m[\u001b[0m\u001b[0mbackend\u001b[0m\u001b[0;34m]\u001b[0m \u001b[0;34m=\u001b[0m \u001b[0mmodule\u001b[0m\u001b[0;34m\u001b[0m\u001b[0;34m\u001b[0m\u001b[0m\n\u001b[1;32m   1792\u001b[0m     \u001b[0;32mreturn\u001b[0m \u001b[0mmodule\u001b[0m\u001b[0;34m\u001b[0m\u001b[0;34m\u001b[0m\u001b[0m\n",
            "\u001b[0;32m/usr/local/lib/python3.7/dist-packages/pandas/plotting/_core.py\u001b[0m in \u001b[0;36m_find_backend\u001b[0;34m(backend)\u001b[0m\n\u001b[1;32m   1751\u001b[0m \u001b[0;34m\u001b[0m\u001b[0m\n\u001b[1;32m   1752\u001b[0m     raise ValueError(\n\u001b[0;32m-> 1753\u001b[0;31m         \u001b[0;34mf\"Could not find plotting backend '{backend}'. Ensure that you've installed \"\u001b[0m\u001b[0;34m\u001b[0m\u001b[0;34m\u001b[0m\u001b[0m\n\u001b[0m\u001b[1;32m   1754\u001b[0m         \u001b[0;34mf\"the package providing the '{backend}' entrypoint, or that the package has a \"\u001b[0m\u001b[0;34m\u001b[0m\u001b[0;34m\u001b[0m\u001b[0m\n\u001b[1;32m   1755\u001b[0m         \u001b[0;34m\"top-level `.plot` method.\"\u001b[0m\u001b[0;34m\u001b[0m\u001b[0;34m\u001b[0m\u001b[0m\n",
            "\u001b[0;31mValueError\u001b[0m: Could not find plotting backend 'plotly'. Ensure that you've installed the package providing the 'plotly' entrypoint, or that the package has a top-level `.plot` method."
          ]
        }
      ]
    },
    {
      "cell_type": "markdown",
      "metadata": {
        "id": "zGosk8ZzDmMu"
      },
      "source": [
        "# 1. How many car markers are there?\n",
        "\n",
        "In order to solve the first question, we can look for APIs to pull the information!"
      ]
    },
    {
      "cell_type": "code",
      "metadata": {
        "colab": {
          "background_save": true
        },
        "id": "zQnwpIHEUhrO"
      },
      "source": [
        "import requests\n",
        "url = \" https://vpic.nhtsa.dot.gov/api/vehicles/GetAllMakes?format=json\""
      ],
      "execution_count": null,
      "outputs": []
    },
    {
      "cell_type": "code",
      "metadata": {
        "colab": {
          "background_save": true
        },
        "id": "hZZUDIL8exDu"
      },
      "source": [
        "url = \" https://vpic.nhtsa.dot.gov/api/vehicles/GetAllMakes?format=json\"\n",
        "all_makes = requests.get(url, timeout=5)\n",
        "all_makes = all_makes.json()[\"Results\"]"
      ],
      "execution_count": null,
      "outputs": []
    },
    {
      "cell_type": "markdown",
      "metadata": {
        "id": "kHkZV38fGi_b"
      },
      "source": [
        "New data type! Lists! \n",
        "Why are lists so powerful:\n",
        "- We can store all sorts of information inside them. Even other datastructures\n",
        "- We can change lists and their content\n",
        "- We can add, change, delete elements of a list\n",
        "- Lists can be transformed to dataframes"
      ]
    },
    {
      "cell_type": "code",
      "metadata": {
        "colab": {
          "background_save": true
        },
        "id": "HQa3iq4pZaKS"
      },
      "source": [
        "all_makes[-1]"
      ],
      "execution_count": null,
      "outputs": []
    },
    {
      "cell_type": "code",
      "metadata": {
        "colab": {
          "background_save": true
        },
        "id": "bL30VHKVHMXT"
      },
      "source": [
        "type(all_makes)"
      ],
      "execution_count": null,
      "outputs": []
    },
    {
      "cell_type": "code",
      "metadata": {
        "colab": {
          "background_save": true
        },
        "id": "lCAR8DbyG6Dr"
      },
      "source": [
        "# access an element of a list\n",
        "all_makes[1]"
      ],
      "execution_count": null,
      "outputs": []
    },
    {
      "cell_type": "code",
      "metadata": {
        "colab": {
          "background_save": true
        },
        "id": "udndnrWmLZGC"
      },
      "source": [
        "# setup a list\n",
        "simple_list = [1, 2]"
      ],
      "execution_count": null,
      "outputs": []
    },
    {
      "cell_type": "code",
      "metadata": {
        "colab": {
          "background_save": true
        },
        "id": "Fp-5wk1qLfcy"
      },
      "source": [
        "# add an element to a list\n",
        "all_makes.append({'Make_ID': 1340, 'Make_Name': 'Julians carbrand'})"
      ],
      "execution_count": null,
      "outputs": []
    },
    {
      "cell_type": "markdown",
      "metadata": {
        "id": "Az3kd0m-FtvI"
      },
      "source": [
        "New data type! Dictionaries!\n",
        "What makes dictionaries so powerful?\n",
        "- Key-Value pairs\n",
        "- We can look up information. Actually not super easy in a pandas dataframe\n",
        "- we can store them as json\n",
        "- big parts of the internet communicate in this format"
      ]
    },
    {
      "cell_type": "code",
      "metadata": {
        "colab": {
          "background_save": true
        },
        "id": "1xQakZO09hU8"
      },
      "source": [
        "type(all_makes[0])"
      ],
      "execution_count": null,
      "outputs": []
    },
    {
      "cell_type": "code",
      "metadata": {
        "colab": {
          "background_save": true
        },
        "id": "b0mB1uHjGMTc"
      },
      "source": [
        "all_makes[0]"
      ],
      "execution_count": null,
      "outputs": []
    },
    {
      "cell_type": "code",
      "metadata": {
        "colab": {
          "background_save": true
        },
        "id": "M7g-uq8NGXv1"
      },
      "source": [
        "all_makes[0].keys()"
      ],
      "execution_count": null,
      "outputs": []
    },
    {
      "cell_type": "code",
      "metadata": {
        "colab": {
          "background_save": true
        },
        "id": "379XfdcZHbSB"
      },
      "source": [
        "all_makes[0].values()"
      ],
      "execution_count": null,
      "outputs": []
    },
    {
      "cell_type": "code",
      "metadata": {
        "colab": {
          "background_save": true
        },
        "id": "NONlNFZxLBja"
      },
      "source": [
        "dictionary = {}\n",
        "dictionary"
      ],
      "execution_count": null,
      "outputs": []
    },
    {
      "cell_type": "code",
      "metadata": {
        "colab": {
          "background_save": true
        },
        "id": "HFOgLCZ9HehO"
      },
      "source": [
        "{\"Make_Name\": \"ASTON MARTIN\"}"
      ],
      "execution_count": null,
      "outputs": []
    },
    {
      "cell_type": "code",
      "metadata": {
        "colab": {
          "background_save": true
        },
        "id": "uGQLKIIpLHPo"
      },
      "source": [
        "# Change the value for a certain key"
      ],
      "execution_count": null,
      "outputs": []
    },
    {
      "cell_type": "code",
      "metadata": {
        "colab": {
          "background_save": true
        },
        "id": "3mDSrgEHHWH1"
      },
      "source": [
        "# Here is the list of all makes and the dictionary of all makes\n",
        "makes_list = [make[\"Make_Name\"] for make in all_makes]\n",
        "makes_dict = {make[\"Make_Name\"]:make[\"Make_ID\"] for make in all_makes}"
      ],
      "execution_count": null,
      "outputs": []
    },
    {
      "cell_type": "code",
      "metadata": {
        "colab": {
          "background_save": true
        },
        "id": "0kOXXuBbHoda"
      },
      "source": [
        "len(makes_list)"
      ],
      "execution_count": null,
      "outputs": []
    },
    {
      "cell_type": "markdown",
      "metadata": {
        "id": "sAL7P9q2HsVw"
      },
      "source": [
        "**Conclusion:**\n",
        "There are 9517 different car makers in the world. Maybe we don't need all of them inside our tool?"
      ]
    },
    {
      "cell_type": "markdown",
      "metadata": {
        "id": "U09JM4LgH6FO"
      },
      "source": [
        "# 2. How many different cars does Volkswagen produce?\n",
        "In order to solve the second question, we can look for APIs to pull the information!"
      ]
    },
    {
      "cell_type": "code",
      "metadata": {
        "colab": {
          "background_save": true
        },
        "id": "-c00xMs0L34O"
      },
      "source": [
        "# Check if a certain key is in a dictionary\n",
        "'Volkswagen' in makes_dict.keys()"
      ],
      "execution_count": null,
      "outputs": []
    },
    {
      "cell_type": "code",
      "metadata": {
        "colab": {
          "background_save": true
        },
        "id": "cKiiF1AiIGGn"
      },
      "source": [
        "url = \" https://vpic.nhtsa.dot.gov/api/vehicles/GetModelsForMake/VOLKSWAGEN?format=json\"\n",
        "vw_models = requests.get(url, timeout=5)\n",
        "vw_models = vw_models.json()[\"Results\"]"
      ],
      "execution_count": null,
      "outputs": []
    },
    {
      "cell_type": "code",
      "metadata": {
        "colab": {
          "background_save": true
        },
        "id": "ApokqVJEJmvA"
      },
      "source": [
        "model_names = [model[\"Model_Name\"] for model in vw_models]"
      ],
      "execution_count": null,
      "outputs": []
    },
    {
      "cell_type": "code",
      "metadata": {
        "colab": {
          "background_save": true
        },
        "id": "OeF56MU0IINo"
      },
      "source": [
        "len(model_names)"
      ],
      "execution_count": null,
      "outputs": []
    },
    {
      "cell_type": "markdown",
      "metadata": {
        "id": "qBOCAyisA8i7"
      },
      "source": [
        "# Data Types\n",
        "\n",
        "There are four major data types:\n",
        "1. integers\n",
        "2. floats\n",
        "3. strings\n",
        "4. boolean\n",
        "\n",
        "\n",
        "Data structures are a way of organizing and storing data so that they can be accessed and worked with efficiently. They define the relationship between the data, and the operations that can be performed on the data. There are many various kinds of data structures defined that make it easier for the data scientists and the computer engineers, alike to concentrate on the main picture of solving larger problems rather than getting lost in the details of data description and access."
      ]
    },
    {
      "cell_type": "code",
      "metadata": {
        "colab": {
          "background_save": true
        },
        "id": "LaGeJFcLML5c"
      },
      "source": [
        ""
      ],
      "execution_count": null,
      "outputs": []
    },
    {
      "cell_type": "markdown",
      "metadata": {
        "id": "6s0Mxgo2Bi3G"
      },
      "source": [
        "# Additional resources\n",
        "\n",
        "https://www.datacamp.com/community/tutorials/data-structures-python#primitive\n",
        "\n",
        "[Lists](https://docs.python.org/3/tutorial/datastructures.html)\n",
        "\n",
        "[Dictionaries](https://docs.python.org/3/tutorial/datastructures.html#dictionaries)\n"
      ]
    },
    {
      "cell_type": "markdown",
      "metadata": {
        "id": "s39SnnxrZxsx"
      },
      "source": [
        "# Additional Information for Data Structures\n",
        "\n",
        "- `list` One dimensional, variable length, mutable (i.e.\n",
        "contents can be modified) sequence of Python objects\n",
        "of ANY type. \n",
        "- `dictionnaries` Keys have to be immutable like scalar types (int,\n",
        "float, string) or tuples (all the objects in the tuple\n",
        "need to be immutable too)"
      ]
    },
    {
      "cell_type": "markdown",
      "metadata": {
        "id": "0mnOHaZpZ1CU"
      },
      "source": [
        "## 1. Lists"
      ]
    },
    {
      "cell_type": "markdown",
      "metadata": {
        "id": "-oSu6gR9bjdj"
      },
      "source": [
        "### Create a list"
      ]
    },
    {
      "cell_type": "markdown",
      "metadata": {
        "id": "MgQzM2FbzhpW"
      },
      "source": [
        "#### Creating an empty list"
      ]
    },
    {
      "cell_type": "code",
      "metadata": {
        "colab": {
          "background_save": true
        },
        "id": "1gUdm3jfzlCB"
      },
      "source": [
        "empty = []\n",
        "type(empty)"
      ],
      "execution_count": null,
      "outputs": []
    },
    {
      "cell_type": "markdown",
      "metadata": {
        "id": "fLx7Rtstz3Pn"
      },
      "source": [
        "#### Using square brackets with initial values"
      ]
    },
    {
      "cell_type": "code",
      "metadata": {
        "colab": {
          "background_save": true
        },
        "id": "X6_VTC9moTAM"
      },
      "source": [
        "numbers = [1, 2, 3, 4, 5, 6, 7,8]\n",
        "numbers"
      ],
      "execution_count": null,
      "outputs": []
    },
    {
      "cell_type": "code",
      "metadata": {
        "colab": {
          "background_save": true
        },
        "id": "LwVoRA5huZrp"
      },
      "source": [
        "empty"
      ],
      "execution_count": null,
      "outputs": []
    },
    {
      "cell_type": "markdown",
      "metadata": {
        "id": "h9l7kUOC43iL"
      },
      "source": [
        "#### Mixing data types\n",
        "Lists can contain multple data types"
      ]
    },
    {
      "cell_type": "code",
      "metadata": {
        "colab": {
          "background_save": true
        },
        "id": "jBqfcq6Q4-Yl"
      },
      "source": [
        "mixed = ['VW', 19000, 22000.00]\n",
        "print(mixed)"
      ],
      "execution_count": null,
      "outputs": []
    },
    {
      "cell_type": "code",
      "metadata": {
        "colab": {
          "background_save": true
        },
        "id": "fIeu752k15FL"
      },
      "source": [
        "mixed"
      ],
      "execution_count": null,
      "outputs": []
    },
    {
      "cell_type": "markdown",
      "metadata": {
        "id": "2niJlWMAZMCu"
      },
      "source": [
        "### **Exercise**\n",
        "- Create a list named ***first_list*** containing a name of a car brand, a price and a kilometer amount."
      ]
    },
    {
      "cell_type": "code",
      "metadata": {
        "colab": {
          "background_save": true
        },
        "id": "70zc8aGr0p2O"
      },
      "source": [
        ""
      ],
      "execution_count": null,
      "outputs": []
    },
    {
      "cell_type": "markdown",
      "metadata": {
        "id": "_rehYX145nEk"
      },
      "source": [
        "### Access item within a list\n",
        "Items in lists can be accessed using indices in a similar fashion to strings."
      ]
    },
    {
      "cell_type": "markdown",
      "metadata": {
        "id": "PuGNKkIV5_64"
      },
      "source": [
        "#### Access first item"
      ]
    },
    {
      "cell_type": "code",
      "metadata": {
        "colab": {
          "background_save": true
        },
        "id": "b5kUpdmp2bKY"
      },
      "source": [
        "prices"
      ],
      "execution_count": null,
      "outputs": []
    },
    {
      "cell_type": "markdown",
      "metadata": {
        "id": "wYljuMmX6FDo"
      },
      "source": [
        "#### Access last item"
      ]
    },
    {
      "cell_type": "code",
      "metadata": {
        "colab": {
          "background_save": true
        },
        "id": "j5XB0hVZ6S5E"
      },
      "source": [
        "numbers[-2]"
      ],
      "execution_count": null,
      "outputs": []
    },
    {
      "cell_type": "markdown",
      "metadata": {
        "id": "tZJYdQW87vwk"
      },
      "source": [
        "#### Access any item"
      ]
    },
    {
      "cell_type": "code",
      "metadata": {
        "colab": {
          "background_save": true
        },
        "id": "7EJZyQUl7y_5"
      },
      "source": [
        "numbers[4]"
      ],
      "execution_count": null,
      "outputs": []
    },
    {
      "cell_type": "markdown",
      "metadata": {
        "id": "Gt67LsqQaSlt"
      },
      "source": [
        "### **Exercise**\n",
        "- Access the first element of the list\n",
        "- Of what type is the first element of the list?\n",
        "- Access the last element from the list\n",
        "- Get the length of the list"
      ]
    },
    {
      "cell_type": "code",
      "metadata": {
        "colab": {
          "background_save": true
        },
        "id": "46gi16Y0izNh"
      },
      "source": [
        "# your turn"
      ],
      "execution_count": null,
      "outputs": []
    },
    {
      "cell_type": "markdown",
      "metadata": {
        "id": "jEIcUNYIbq1k"
      },
      "source": [
        "### Access multiple items within a list"
      ]
    },
    {
      "cell_type": "markdown",
      "metadata": {
        "id": "qDp9RZbhb3K4"
      },
      "source": [
        "#### From an index to the end of the list"
      ]
    },
    {
      "cell_type": "code",
      "metadata": {
        "colab": {
          "background_save": true
        },
        "id": "Oe67RP8Sbuo0"
      },
      "source": [
        "makes_list[-10:-1]"
      ],
      "execution_count": null,
      "outputs": []
    },
    {
      "cell_type": "markdown",
      "metadata": {
        "id": "N-JdwCNRb_Pf"
      },
      "source": [
        "#### Until specific index of list"
      ]
    },
    {
      "cell_type": "code",
      "metadata": {
        "colab": {
          "background_save": true
        },
        "id": "PH6bK9P3cJ3A"
      },
      "source": [
        "makes_list[1:]"
      ],
      "execution_count": null,
      "outputs": []
    },
    {
      "cell_type": "markdown",
      "metadata": {
        "id": "4fqf0QgGcMrI"
      },
      "source": [
        "#### Between indexes"
      ]
    },
    {
      "cell_type": "code",
      "metadata": {
        "colab": {
          "background_save": true
        },
        "id": "eMgI2TPVcPxI"
      },
      "source": [
        "numbers[4:6]"
      ],
      "execution_count": null,
      "outputs": []
    },
    {
      "cell_type": "markdown",
      "metadata": {
        "id": "6Ikzh8Nbcf8Y"
      },
      "source": [
        "### **Exercise**\n",
        "- Extract items 0 to 5\n",
        "- Extract items 1:3\n",
        "\n",
        "\n"
      ]
    },
    {
      "cell_type": "code",
      "metadata": {
        "colab": {
          "background_save": true
        },
        "id": "GkMlNmxBykCS"
      },
      "source": [
        "# your turn\n",
        "makes_list"
      ],
      "execution_count": null,
      "outputs": []
    },
    {
      "cell_type": "markdown",
      "metadata": {
        "id": "g4-XjayC8KO7"
      },
      "source": [
        "### Adding to a list"
      ]
    },
    {
      "cell_type": "markdown",
      "metadata": {
        "id": "VVoxc0Co81iD"
      },
      "source": [
        "#### Append to the end of a list"
      ]
    },
    {
      "cell_type": "code",
      "metadata": {
        "colab": {
          "background_save": true
        },
        "id": "7l9O1BOz89Sg"
      },
      "source": [
        "makes_list.append(\"Julian carbrand\")"
      ],
      "execution_count": null,
      "outputs": []
    },
    {
      "cell_type": "markdown",
      "metadata": {
        "id": "GOWYij2p9bwL"
      },
      "source": [
        "#### Insert at beginning of list"
      ]
    },
    {
      "cell_type": "code",
      "metadata": {
        "colab": {
          "background_save": true
        },
        "id": "KgMcKp5W9fI7"
      },
      "source": [
        "makes_list.insert(0, 'Tesla2')\n",
        "makes_list"
      ],
      "execution_count": null,
      "outputs": []
    },
    {
      "cell_type": "markdown",
      "metadata": {
        "id": "z2pfGnq7-PHc"
      },
      "source": [
        "#### Insert at arbitrary position"
      ]
    },
    {
      "cell_type": "code",
      "metadata": {
        "colab": {
          "background_save": true
        },
        "id": "SgovUUMS-TxT"
      },
      "source": [
        "letters = [\"a\",\"b\"]\n",
        "letters"
      ],
      "execution_count": null,
      "outputs": []
    },
    {
      "cell_type": "code",
      "metadata": {
        "colab": {
          "background_save": true
        },
        "id": "MCzG_Dqf9V9K"
      },
      "source": [
        "my_dict = {\"car_brand\":\"tesla\"}"
      ],
      "execution_count": null,
      "outputs": []
    },
    {
      "cell_type": "markdown",
      "metadata": {
        "id": "W2WMgepZAjkO"
      },
      "source": [
        "#### Extending with another list"
      ]
    },
    {
      "cell_type": "code",
      "metadata": {
        "colab": {
          "background_save": true
        },
        "id": "UYn06yndAoNH"
      },
      "source": [
        "more_letters = ['e', 'f', 'g']\n",
        "letters.append(my_dict)\n",
        "letters"
      ],
      "execution_count": null,
      "outputs": []
    },
    {
      "cell_type": "code",
      "metadata": {
        "colab": {
          "background_save": true
        },
        "id": "ur925zmT9EbW"
      },
      "source": [
        ""
      ],
      "execution_count": null,
      "outputs": []
    },
    {
      "cell_type": "markdown",
      "metadata": {
        "id": "wzPgAr_s_CrC"
      },
      "source": [
        "### Change item at some position"
      ]
    },
    {
      "cell_type": "code",
      "metadata": {
        "colab": {
          "background_save": true
        },
        "id": "l--tYWXG92go"
      },
      "source": [
        "letters"
      ],
      "execution_count": null,
      "outputs": []
    },
    {
      "cell_type": "code",
      "metadata": {
        "colab": {
          "background_save": true
        },
        "id": "BZGy8c8bov2q"
      },
      "source": [
        "letters[0] = 'Hey I am new'\n",
        "letters"
      ],
      "execution_count": null,
      "outputs": []
    },
    {
      "cell_type": "markdown",
      "metadata": {
        "id": "SxpzGoM_Z_RU"
      },
      "source": [
        "## 2. Dictionaries \n",
        "Dictionaries are mappings of key value pairs."
      ]
    },
    {
      "cell_type": "markdown",
      "metadata": {
        "id": "l9nWQuW1oLCE"
      },
      "source": [
        "### Create an empty dict using constructor"
      ]
    },
    {
      "cell_type": "code",
      "metadata": {
        "colab": {
          "background_save": true
        },
        "id": "45C_FS-eoR-3"
      },
      "source": [
        "dictionary = dict()\n",
        "dictionary"
      ],
      "execution_count": null,
      "outputs": []
    },
    {
      "cell_type": "markdown",
      "metadata": {
        "id": "oLd8LV02ofza"
      },
      "source": [
        "### Create an empty dict using curley braces"
      ]
    },
    {
      "cell_type": "code",
      "metadata": {
        "colab": {
          "background_save": true
        },
        "id": "El6HcTagolLw"
      },
      "source": [
        "dictionary = {}\n",
        "dictionary"
      ],
      "execution_count": null,
      "outputs": []
    },
    {
      "cell_type": "markdown",
      "metadata": {
        "id": "yXNaZRMdpQoK"
      },
      "source": [
        "### Use curley braces to create a dictionary with initial key/values"
      ]
    },
    {
      "cell_type": "code",
      "metadata": {
        "colab": {
          "background_save": true
        },
        "id": "oRTWGBtvpYcb"
      },
      "source": [
        "dictionary = {\"1\": [\"Tesla\",\"Crysler\"],\n",
        "              '2': 'VW'}\n",
        "\n",
        "dictionary"
      ],
      "execution_count": null,
      "outputs": []
    },
    {
      "cell_type": "markdown",
      "metadata": {
        "id": "ttLJtH1d0guL"
      },
      "source": [
        "### **Exercise**\n",
        "\n",
        "- Create a dictionnary `country_main_city` with keys\n",
        "\n",
        "\n",
        " `['France', 'Germany', 'Syria', 'Turkey', 'Nigeria', 'Argentina']`\n",
        "\n",
        " And values \n",
        "\n",
        "` ['Paris', 'Berlin', 'Damascus', 'Ankara', 'Abuja', 'Buenos Aires']`"
      ]
    },
    {
      "cell_type": "code",
      "metadata": {
        "colab": {
          "background_save": true
        },
        "id": "kgaQnYxfAjyj"
      },
      "source": [
        "country_dictionary = {\n",
        "    'France':'Paris',\n",
        "    'Germany':'Berlin',\n",
        "    'Syria':'Damascus',\n",
        "    'Turkey': 'Ankara', \n",
        "    'Nigeria': 'Abuja',  \n",
        "    'Argentina':'Buenos Aires'\n",
        "}\n",
        "country_dictionary"
      ],
      "execution_count": null,
      "outputs": []
    },
    {
      "cell_type": "code",
      "metadata": {
        "colab": {
          "background_save": true
        },
        "id": "hM4prk4bA4HO"
      },
      "source": [
        "country_dictionnary['France']"
      ],
      "execution_count": null,
      "outputs": []
    },
    {
      "cell_type": "markdown",
      "metadata": {
        "id": "0JQVmd5_1aUn"
      },
      "source": [
        "### **Exercise**\n",
        "\n",
        "Using the dictionnary `country_main_city` extract the capital of Nigeria"
      ]
    },
    {
      "cell_type": "markdown",
      "metadata": {
        "id": "UBSLRWEeqE-W"
      },
      "source": [
        "### Add a key/value pair to an existing dictionary"
      ]
    },
    {
      "cell_type": "code",
      "metadata": {
        "colab": {
          "background_save": true
        },
        "id": "37H75RGQAANc"
      },
      "source": [
        "country_dictionary[\"Ghana\"] = \"Accra\""
      ],
      "execution_count": null,
      "outputs": []
    },
    {
      "cell_type": "code",
      "metadata": {
        "colab": {
          "background_save": true
        },
        "id": "IAsTUtUeAHOk"
      },
      "source": [
        "country_dictionary['Italy'] = 'Roma'"
      ],
      "execution_count": null,
      "outputs": []
    },
    {
      "cell_type": "code",
      "metadata": {
        "colab": {
          "background_save": true
        },
        "id": "J98co3mWqJ5I"
      },
      "source": [
        "country_dictionary"
      ],
      "execution_count": null,
      "outputs": []
    },
    {
      "cell_type": "code",
      "metadata": {
        "colab": {
          "background_save": true
        },
        "id": "juO8YO9_BQVD"
      },
      "source": [
        "country_dictionary['Nigeria'] = 'Lagos'"
      ],
      "execution_count": null,
      "outputs": []
    },
    {
      "cell_type": "code",
      "metadata": {
        "colab": {
          "background_save": true
        },
        "id": "CPTX60bMAnR3"
      },
      "source": [
        "country_dictionary['Germany'] = 'Rostock'"
      ],
      "execution_count": null,
      "outputs": []
    },
    {
      "cell_type": "code",
      "metadata": {
        "colab": {
          "background_save": true
        },
        "id": "eOX_6T9DAtiJ"
      },
      "source": [
        "country_dictionary"
      ],
      "execution_count": null,
      "outputs": []
    },
    {
      "cell_type": "markdown",
      "metadata": {
        "id": "xmHWK2hHq7c_"
      },
      "source": [
        "### Update value for existing key"
      ]
    },
    {
      "cell_type": "code",
      "metadata": {
        "colab": {
          "background_save": true
        },
        "id": "UsTOsCz0BdoU"
      },
      "source": [
        "country_dictionnary['Germany'] = 'Marseille'"
      ],
      "execution_count": null,
      "outputs": []
    },
    {
      "cell_type": "code",
      "metadata": {
        "colab": {
          "background_save": true
        },
        "id": "hCtv6j3IBjam"
      },
      "source": [
        "country_dictionnary"
      ],
      "execution_count": null,
      "outputs": []
    },
    {
      "cell_type": "markdown",
      "metadata": {
        "id": "fuO7wPXA1p8r"
      },
      "source": [
        "### **Exercise**\n",
        "\n",
        "Add the capital of Italy to the dictionnary `country_main_city`"
      ]
    },
    {
      "cell_type": "code",
      "metadata": {
        "colab": {
          "background_save": true
        },
        "id": "Hb6SpZoXDEdO"
      },
      "source": [
        "country_dictionnary[('France', 'Monaco')] = ['test', '1']\n",
        "country_dictionnary"
      ],
      "execution_count": null,
      "outputs": []
    },
    {
      "cell_type": "markdown",
      "metadata": {
        "id": "_ot60Snlra6K"
      },
      "source": [
        "### Get keys"
      ]
    },
    {
      "cell_type": "code",
      "metadata": {
        "colab": {
          "background_save": true
        },
        "id": "Lv726tMhrYnh"
      },
      "source": [
        "list(country_dictionary.keys())"
      ],
      "execution_count": null,
      "outputs": []
    },
    {
      "cell_type": "markdown",
      "metadata": {
        "id": "WGJyKhKgrf11"
      },
      "source": [
        "### Get values"
      ]
    },
    {
      "cell_type": "code",
      "metadata": {
        "colab": {
          "background_save": true
        },
        "id": "F7F-fNMMrhT5"
      },
      "source": [
        "list(country_dictionary.values())"
      ],
      "execution_count": null,
      "outputs": []
    }
  ]
}