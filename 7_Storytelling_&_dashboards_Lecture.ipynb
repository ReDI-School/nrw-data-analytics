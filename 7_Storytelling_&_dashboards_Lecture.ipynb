{
  "nbformat": 4,
  "nbformat_minor": 0,
  "metadata": {
    "colab": {
      "name": "7 Storytelling & dashboards - Lecture.ipynb",
      "provenance": [],
      "collapsed_sections": []
    },
    "kernelspec": {
      "name": "python3",
      "display_name": "Python 3"
    },
    "language_info": {
      "name": "python"
    }
  },
  "cells": [
    {
      "cell_type": "markdown",
      "metadata": {
        "id": "k_pU9VBooOvz"
      },
      "source": [
        "# Storytelling & Dashboards\n",
        "\n",
        "As you've seen so far, there is a lot we can discover through the EDA phase. Last week we tried creating some hypothesises and testing them by looking at the data and creating some visuals. This is helping you to understand your data and to get the best intuition.\n",
        "\n",
        "Being a data analyst or a data scientist, we need to understand however that this part is mostly understandable only for us. At this stage we are using notebooks or other tools that are not necessarily something that you would like to share with others. Your CEO doesn't need to know exactly the data structure nor all of the steps you made to analyze the data. \n",
        "\n",
        "In your work you will need to present the results of your research. It could be done in many different ways depending on the project and on your audience. Sometimes you can go more technical if you are talking to your software development team, and sometimes you will need to try to avoid technical details. \n",
        "\n",
        "Few different ways to share your work results with others:\n",
        "- presentation (slides)\n",
        "- written report\n",
        "- colab / jupyter notebook (presentation / report)\n",
        "- dashboard"
      ]
    },
    {
      "cell_type": "markdown",
      "metadata": {
        "id": "M5kIbIeUoPAO"
      },
      "source": [
        "## Tips dataset\n",
        "\n",
        "Today we will continue working with the `tips` dataset. As a reminder, this dataset contains 7 columns:\n",
        "- `total_bill` which is the total amount spent at the restaurant\n",
        "- `tip` which is the tip left on top of the `\n",
        "- `sex` of the customer\n",
        "- `smoker` Yes if the customers were smokers or No if not\n",
        "- `day` of the which the meal took place\n",
        "- `time` of the day it happened\n",
        "- `size` which is the number of people at the table"
      ]
    },
    {
      "cell_type": "code",
      "metadata": {
        "id": "_8cSae4UnqhM"
      },
      "source": [
        "import pandas as pd\n",
        "import numpy as np\n",
        "import matplotlib.pyplot as plt\n",
        "import seaborn as sns"
      ],
      "execution_count": null,
      "outputs": []
    },
    {
      "cell_type": "code",
      "metadata": {
        "id": "UuOESGzf_B1u",
        "colab": {
          "base_uri": "https://localhost:8080/",
          "height": 204
        },
        "outputId": "5a335281-eaaa-4c77-af63-9098a22acd8c"
      },
      "source": [
        "# Load the datasdet \n",
        "sns.set(style=\"whitegrid\") # also do this to make charts look better :)\n",
        "\n",
        "tips = sns.load_dataset(\"tips\")\n",
        "tips.head()"
      ],
      "execution_count": null,
      "outputs": [
        {
          "output_type": "execute_result",
          "data": {
            "text/html": [
              "<div>\n",
              "<style scoped>\n",
              "    .dataframe tbody tr th:only-of-type {\n",
              "        vertical-align: middle;\n",
              "    }\n",
              "\n",
              "    .dataframe tbody tr th {\n",
              "        vertical-align: top;\n",
              "    }\n",
              "\n",
              "    .dataframe thead th {\n",
              "        text-align: right;\n",
              "    }\n",
              "</style>\n",
              "<table border=\"1\" class=\"dataframe\">\n",
              "  <thead>\n",
              "    <tr style=\"text-align: right;\">\n",
              "      <th></th>\n",
              "      <th>total_bill</th>\n",
              "      <th>tip</th>\n",
              "      <th>sex</th>\n",
              "      <th>smoker</th>\n",
              "      <th>day</th>\n",
              "      <th>time</th>\n",
              "      <th>size</th>\n",
              "    </tr>\n",
              "  </thead>\n",
              "  <tbody>\n",
              "    <tr>\n",
              "      <th>0</th>\n",
              "      <td>16.99</td>\n",
              "      <td>1.01</td>\n",
              "      <td>Female</td>\n",
              "      <td>No</td>\n",
              "      <td>Sun</td>\n",
              "      <td>Dinner</td>\n",
              "      <td>2</td>\n",
              "    </tr>\n",
              "    <tr>\n",
              "      <th>1</th>\n",
              "      <td>10.34</td>\n",
              "      <td>1.66</td>\n",
              "      <td>Male</td>\n",
              "      <td>No</td>\n",
              "      <td>Sun</td>\n",
              "      <td>Dinner</td>\n",
              "      <td>3</td>\n",
              "    </tr>\n",
              "    <tr>\n",
              "      <th>2</th>\n",
              "      <td>21.01</td>\n",
              "      <td>3.50</td>\n",
              "      <td>Male</td>\n",
              "      <td>No</td>\n",
              "      <td>Sun</td>\n",
              "      <td>Dinner</td>\n",
              "      <td>3</td>\n",
              "    </tr>\n",
              "    <tr>\n",
              "      <th>3</th>\n",
              "      <td>23.68</td>\n",
              "      <td>3.31</td>\n",
              "      <td>Male</td>\n",
              "      <td>No</td>\n",
              "      <td>Sun</td>\n",
              "      <td>Dinner</td>\n",
              "      <td>2</td>\n",
              "    </tr>\n",
              "    <tr>\n",
              "      <th>4</th>\n",
              "      <td>24.59</td>\n",
              "      <td>3.61</td>\n",
              "      <td>Female</td>\n",
              "      <td>No</td>\n",
              "      <td>Sun</td>\n",
              "      <td>Dinner</td>\n",
              "      <td>4</td>\n",
              "    </tr>\n",
              "  </tbody>\n",
              "</table>\n",
              "</div>"
            ],
            "text/plain": [
              "   total_bill   tip     sex smoker  day    time  size\n",
              "0       16.99  1.01  Female     No  Sun  Dinner     2\n",
              "1       10.34  1.66    Male     No  Sun  Dinner     3\n",
              "2       21.01  3.50    Male     No  Sun  Dinner     3\n",
              "3       23.68  3.31    Male     No  Sun  Dinner     2\n",
              "4       24.59  3.61  Female     No  Sun  Dinner     4"
            ]
          },
          "metadata": {
            "tags": []
          },
          "execution_count": 5
        }
      ]
    },
    {
      "cell_type": "markdown",
      "metadata": {
        "id": "cXQZesE1oPDH"
      },
      "source": [
        "### Let's remind ourselves a few findings from our last class:\n",
        "\n",
        "- table sizes"
      ]
    },
    {
      "cell_type": "code",
      "metadata": {
        "colab": {
          "base_uri": "https://localhost:8080/",
          "height": 382
        },
        "id": "YkSSD1UM_Cmr",
        "outputId": "6f37a3f7-d16e-4b46-aa6b-6643663ae70b"
      },
      "source": [
        "sns.displot(tips[\"size\"])"
      ],
      "execution_count": null,
      "outputs": [
        {
          "output_type": "execute_result",
          "data": {
            "text/plain": [
              "<seaborn.axisgrid.FacetGrid at 0x7f4bd482d410>"
            ]
          },
          "metadata": {
            "tags": []
          },
          "execution_count": 5
        },
        {
          "output_type": "display_data",
          "data": {
            "image/png": "[encoded data removed]",
            "text/plain": [
              "<Figure size 360x360 with 1 Axes>"
            ]
          },
          "metadata": {
            "tags": []
          }
        }
      ]
    },
    {
      "cell_type": "markdown",
      "metadata": {
        "id": "BsNG8Z8VKov-"
      },
      "source": [
        "- correlation between total bill and the tip"
      ]
    },
    {
      "cell_type": "code",
      "metadata": {
        "colab": {
          "base_uri": "https://localhost:8080/",
          "height": 302
        },
        "id": "9quhMmaqB_mW",
        "outputId": "fd4666bd-161f-4145-d4de-c30e5fe9c2e9"
      },
      "source": [
        "sns.scatterplot(x=tips[\"total_bill\"], y=tips[\"tip\"])"
      ],
      "execution_count": null,
      "outputs": [
        {
          "output_type": "execute_result",
          "data": {
            "text/plain": [
              "<matplotlib.axes._subplots.AxesSubplot at 0x7f4bc4d37450>"
            ]
          },
          "metadata": {
            "tags": []
          },
          "execution_count": 6
        },
        {
          "output_type": "display_data",
          "data": {
            "image/png": "[encoded data removed]",
            "text/plain": [
              "<Figure size 432x288 with 1 Axes>"
            ]
          },
          "metadata": {
            "tags": []
          }
        }
      ]
    },
    {
      "cell_type": "markdown",
      "metadata": {
        "id": "YAKURVFQKh4c"
      },
      "source": [
        "- correlation between total bill and the size"
      ]
    },
    {
      "cell_type": "code",
      "metadata": {
        "colab": {
          "base_uri": "https://localhost:8080/",
          "height": 302
        },
        "id": "sI2_ecKeKXyj",
        "outputId": "0acdf7fc-1d00-4eb2-ea10-595a684410af"
      },
      "source": [
        "sns.scatterplot(x=tips[\"size\"], y=tips[\"total_bill\"])"
      ],
      "execution_count": null,
      "outputs": [
        {
          "output_type": "execute_result",
          "data": {
            "text/plain": [
              "<matplotlib.axes._subplots.AxesSubplot at 0x7f4bc4c562d0>"
            ]
          },
          "metadata": {
            "tags": []
          },
          "execution_count": 7
        },
        {
          "output_type": "display_data",
          "data": {
            "image/png": "[encoded data removed]",
            "text/plain": [
              "<Figure size 432x288 with 1 Axes>"
            ]
          },
          "metadata": {
            "tags": []
          }
        }
      ]
    },
    {
      "cell_type": "markdown",
      "metadata": {
        "id": "qUW8hmbQLlzT"
      },
      "source": [
        "### Refining your plots\n",
        "\n",
        "When doing a quick analysis for yourself, you don't need to make your visuals pretty. However, sharing that with others, you need to make sure that there is no room for misinterpretations. That includes:\n",
        "- proper size\n",
        "- title\n",
        "- axes title\n",
        "- unit information for axes\n",
        "- legend\n",
        "- customization (colors, grid on/off)\n",
        "- ...\n",
        "\n",
        "\n",
        "#### Add a title"
      ]
    },
    {
      "cell_type": "code",
      "metadata": {
        "colab": {
          "base_uri": "https://localhost:8080/",
          "height": 398
        },
        "id": "iibIN29hMcWB",
        "outputId": "5a3c9510-6f79-45f5-a94c-4297d8eaa848"
      },
      "source": [
        "sns.displot(tips[\"size\"])\n",
        "plt.title('Distribution of number of people per one table in 2019')"
      ],
      "execution_count": null,
      "outputs": [
        {
          "output_type": "execute_result",
          "data": {
            "text/plain": [
              "Text(0.5, 1.0, 'Distribution of number of people per one table in 2019')"
            ]
          },
          "metadata": {
            "tags": []
          },
          "execution_count": 11
        },
        {
          "output_type": "display_data",
          "data": {
            "image/png": "[encoded data removed]",
            "text/plain": [
              "<Figure size 360x360 with 1 Axes>"
            ]
          },
          "metadata": {
            "tags": []
          }
        }
      ]
    },
    {
      "cell_type": "markdown",
      "metadata": {
        "id": "LtI021EVNVCD"
      },
      "source": [
        "#### Change axes"
      ]
    },
    {
      "cell_type": "code",
      "metadata": {
        "colab": {
          "base_uri": "https://localhost:8080/",
          "height": 285
        },
        "id": "oTj4PnDfNZJS",
        "outputId": "a57ebbd5-cab6-49a5-9819-345ddf00ec7d"
      },
      "source": [
        "sns.scatterplot(x=tips[\"total_bill\"], y=tips[\"tip\"])\n",
        "plt.xlabel(\"total bill [euro]\")\n",
        "plt.ylabel(\"tip [euro]\")\n",
        "plt.grid(False)"
      ],
      "execution_count": null,
      "outputs": [
        {
          "output_type": "display_data",
          "data": {
            "image/png": "[encoded data removed]",
            "text/plain": [
              "<Figure size 432x288 with 1 Axes>"
            ]
          },
          "metadata": {
            "tags": []
          }
        }
      ]
    },
    {
      "cell_type": "markdown",
      "metadata": {
        "id": "q80WLLJJN-T2"
      },
      "source": [
        "## Storytelling\n",
        "As a data person you have the power the present the world in a way that you understood it. Spend some time thinking what you want to share with others. Maybe you have some important conclusions? Maybe you have some suggestions for the future? This is your time to present that!"
      ]
    },
    {
      "cell_type": "markdown",
      "metadata": {
        "id": "xPTMyJnCQAch"
      },
      "source": [
        "## Dashboards\n",
        "\n",
        "Dashboard is an information management tool that is used to track KPIs, metrics, and other key data points relevant to a business, department, or specific process.\n",
        "\n",
        "#### Business Intelligence tools\n",
        "\n",
        "There are many different solutions available on the market. It's not possible to learn them all, but it's important to know some concepts and how they work in general. The rest and specific tools you will learn later.\n",
        "\n",
        "Some of the Business Intelligence (BI) tools:\n",
        "- Tableau\n",
        "- Looker\n",
        "- Metabase\n",
        "- Periscope\n",
        "- Plotly Dash\n",
        "- Datapine\n",
        "- Zoho Analytics\n",
        "- PowerBI\n",
        "\n",
        "If you believe that sth should be constantly monitored this is your tool!\n",
        "\n",
        "Below you can see an exemplary dashboard:\n",
        "\n",
        "![dash.png](https://docs.microsoft.com/de-de/power-bi/consumer/media/end-user-dashboards/power-bi-dashboard.png)\n",
        "\n",
        "\n",
        "\n"
      ]
    },
    {
      "cell_type": "code",
      "metadata": {
        "id": "r2xIhiAd_GKU"
      },
      "source": [
        ""
      ],
      "execution_count": null,
      "outputs": []
    }
  ]
}