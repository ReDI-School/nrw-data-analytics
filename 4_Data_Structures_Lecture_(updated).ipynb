{
  "nbformat": 4,
  "nbformat_minor": 0,
  "metadata": {
    "colab": {
      "provenance": [],
      "collapsed_sections": [
        "dUkg9VlWwICc",
        "-oSu6gR9bjdj",
        "2niJlWMAZMCu",
        "_rehYX145nEk",
        "g4-XjayC8KO7",
        "wzPgAr_s_CrC",
        "ttLJtH1d0guL",
        "UBSLRWEeqE-W"
      ]
    },
    "kernelspec": {
      "display_name": "Python 3",
      "language": "python",
      "name": "python3"
    }
  },
  "cells": [
    {
      "cell_type": "markdown",
      "metadata": {
        "id": "qer4yHhf4pcx"
      },
      "source": [
        "# Data Structures in Python\n",
        "\n",
        "There are different several different data structures in Python. One you have already got to know: Pandas Dataframes. Today we will talk about two more data structures: Lists and Dictionaries. They are extremely powerful and widely used. How and why, you will see in the session.\n"
      ]
    },
    {
      "cell_type": "markdown",
      "source": [
        "## Questions\n",
        "\n",
        "1.   How many car manufacturers are there?\n",
        "2.   How many different cars models does Volkswagen produce?\n",
        "\n"
      ],
      "metadata": {
        "id": "dUkg9VlWwICc"
      }
    },
    {
      "cell_type": "code",
      "metadata": {
        "id": "ibugBvYeIqOj"
      },
      "source": [
        "# Imports\n",
        "import pandas as pd\n",
        "import requests\n",
        "pd.options.plotting.backend = \"plotly\""
      ],
      "execution_count": 10,
      "outputs": []
    },
    {
      "cell_type": "markdown",
      "metadata": {
        "id": "zGosk8ZzDmMu"
      },
      "source": [
        "### 1. How many car markers are there?"
      ]
    },
    {
      "cell_type": "code",
      "metadata": {
        "id": "hZZUDIL8exDu"
      },
      "source": [
        "# fetch the data from the API\n",
        "url = \" https://vpic.nhtsa.dot.gov/api/vehicles/GetAllMakes?format=json\"\n",
        "all_makes = requests.get(url, timeout=5)    # The get() method sends a GET request to the specified url., timeout: indicates how many seconds to wait for the client to make a connection and/or send a response.\n",
        "all_makes = all_makes.json()[\"Results\"]     # Selects the values from the \"Results\" in the first element of the JSON structure"
      ],
      "execution_count": 11,
      "outputs": []
    },
    {
      "cell_type": "code",
      "source": [
        "# inspect the data\n",
        "all_makes[0:5] # gives the first five elements of a list - called slice notation (list[start:end])"
      ],
      "metadata": {
        "colab": {
          "base_uri": "https://localhost:8080/"
        },
        "id": "FwOC-xQW1bt2",
        "outputId": "f7c3a973-c649-4aa8-d492-53371fdb3e45"
      },
      "execution_count": null,
      "outputs": [
        {
          "output_type": "execute_result",
          "data": {
            "text/plain": [
              "[{'Make_ID': 11897, 'Make_Name': ' MID-TOWN TRAILERS'},\n",
              " {'Make_ID': 4877, 'Make_Name': '1/OFF KUSTOMS, LLC'},\n",
              " {'Make_ID': 11257, 'Make_Name': '102 IRONWORKS, INC.'},\n",
              " {'Make_ID': 6387, 'Make_Name': '17 CREEK ENTERPRISES'},\n",
              " {'Make_ID': 9172, 'Make_Name': '1M CUSTOM CAR TRANSPORTS, INC.'}]"
            ]
          },
          "metadata": {},
          "execution_count": 53
        }
      ]
    },
    {
      "cell_type": "code",
      "metadata": {
        "colab": {
          "base_uri": "https://localhost:8080/"
        },
        "id": "bL30VHKVHMXT",
        "outputId": "669ed52c-eb09-4b29-922b-83f7975b7450"
      },
      "source": [
        "type(all_makes)"
      ],
      "execution_count": null,
      "outputs": [
        {
          "output_type": "execute_result",
          "data": {
            "text/plain": [
              "list"
            ]
          },
          "metadata": {},
          "execution_count": 54
        }
      ]
    },
    {
      "cell_type": "markdown",
      "metadata": {
        "id": "kHkZV38fGi_b"
      },
      "source": [
        "New data type! **Lists**! \n",
        "Why are lists so powerful:\n",
        "- We can store all sorts of information inside them, even other data structures (only one data type per list)\n",
        "- They are mutable: We can change lists and their content, we can add and delete elements of a list\n",
        "- Lists can be transformed to dataframes\n",
        "\n",
        "- Is written as a list of comma-separated values (items) between square brackets. Important thing about a list is that items in a list need not be of the same type."
      ]
    },
    {
      "cell_type": "code",
      "metadata": {
        "colab": {
          "base_uri": "https://localhost:8080/"
        },
        "id": "lCAR8DbyG6Dr",
        "outputId": "120ed5e6-a76b-4cf1-b4ca-082ee55fdd7b"
      },
      "source": [
        "# accessing elements in lists\n",
        "# To access values in lists, we use the square brackets for slicing along with the index or indices to obtain value available at that index. For example:\n",
        "all_makes[1] # gives us the second element of the list, since the index always starts at 0"
      ],
      "execution_count": null,
      "outputs": [
        {
          "output_type": "execute_result",
          "data": {
            "text/plain": [
              "{'Make_ID': 4877, 'Make_Name': '1/OFF KUSTOMS, LLC'}"
            ]
          },
          "metadata": {},
          "execution_count": 55
        }
      ]
    },
    {
      "cell_type": "code",
      "metadata": {
        "colab": {
          "base_uri": "https://localhost:8080/"
        },
        "id": "HQa3iq4pZaKS",
        "outputId": "3c958a94-3002-4117-f435-aa7610d6a31b"
      },
      "source": [
        "#  -1 provides the list’s last element, -2 provides the list’s second last item, and so on.\n",
        "all_makes[-1]"
      ],
      "execution_count": null,
      "outputs": [
        {
          "output_type": "execute_result",
          "data": {
            "text/plain": [
              "{'Make_ID': 11713, 'Make_Name': 'ZZKNOWN'}"
            ]
          },
          "metadata": {},
          "execution_count": 56
        }
      ]
    },
    {
      "cell_type": "code",
      "metadata": {
        "id": "Fp-5wk1qLfcy"
      },
      "source": [
        "# add an element to a list\n",
        "all_makes.append({'Make_ID': 1340, 'Make_Name': '1A Kathis carbrand'})"
      ],
      "execution_count": null,
      "outputs": []
    },
    {
      "cell_type": "code",
      "source": [
        "all_makes[-1] # constists of two key-value pairs"
      ],
      "metadata": {
        "colab": {
          "base_uri": "https://localhost:8080/"
        },
        "id": "EhN0QA6X4b0j",
        "outputId": "39acc74e-7811-449e-e141-d1a9198a16e4"
      },
      "execution_count": null,
      "outputs": [
        {
          "output_type": "execute_result",
          "data": {
            "text/plain": [
              "{'Make_ID': 1340, 'Make_Name': '1A Kathis carbrand'}"
            ]
          },
          "metadata": {},
          "execution_count": 58
        }
      ]
    },
    {
      "cell_type": "code",
      "metadata": {
        "id": "3mDSrgEHHWH1"
      },
      "source": [
        "# Answering our initial question: Here is the list of all makes\n",
        "makes_list = [make[\"Make_Name\"] for make in all_makes]\n",
        "makes_list"
      ],
      "execution_count": null,
      "outputs": []
    },
    {
      "cell_type": "code",
      "metadata": {
        "colab": {
          "base_uri": "https://localhost:8080/"
        },
        "id": "0kOXXuBbHoda",
        "outputId": "b8d6d21d-b10a-48a3-ee9b-690adaea9a27"
      },
      "source": [
        "len(makes_list)"
      ],
      "execution_count": null,
      "outputs": [
        {
          "output_type": "execute_result",
          "data": {
            "text/plain": [
              "10687"
            ]
          },
          "metadata": {},
          "execution_count": 60
        }
      ]
    },
    {
      "cell_type": "markdown",
      "metadata": {
        "id": "sAL7P9q2HsVw"
      },
      "source": [
        "**Conclusion:**\n",
        "There are 10689 different car makers in the world. "
      ]
    },
    {
      "cell_type": "markdown",
      "metadata": {
        "id": "Az3kd0m-FtvI"
      },
      "source": [
        "New data type! **Dictionaries**!\n",
        "What makes dictionaries so powerful?\n",
        "- Key-Value pairs\n",
        "- Mutable\n",
        "- can be referred to by using the key name.\n",
        "- we can store them as json"
      ]
    },
    {
      "cell_type": "code",
      "metadata": {
        "colab": {
          "base_uri": "https://localhost:8080/"
        },
        "id": "1xQakZO09hU8",
        "outputId": "bcf105ef-c811-450d-ecb6-2e223a3b0971"
      },
      "source": [
        "type(all_makes[0])"
      ],
      "execution_count": null,
      "outputs": [
        {
          "output_type": "execute_result",
          "data": {
            "text/plain": [
              "dict"
            ]
          },
          "metadata": {},
          "execution_count": 61
        }
      ]
    },
    {
      "cell_type": "code",
      "metadata": {
        "colab": {
          "base_uri": "https://localhost:8080/"
        },
        "id": "b0mB1uHjGMTc",
        "outputId": "0acc3f62-b7d6-4c6e-d427-25d079c0ab2c"
      },
      "source": [
        "all_makes[0]"
      ],
      "execution_count": null,
      "outputs": [
        {
          "output_type": "execute_result",
          "data": {
            "text/plain": [
              "{'Make_ID': 11897, 'Make_Name': ' MID-TOWN TRAILERS'}"
            ]
          },
          "metadata": {},
          "execution_count": 62
        }
      ]
    },
    {
      "cell_type": "code",
      "metadata": {
        "colab": {
          "base_uri": "https://localhost:8080/"
        },
        "id": "M7g-uq8NGXv1",
        "outputId": "430ae34d-819d-4dd8-a42e-456ca4a9fc23"
      },
      "source": [
        "all_makes[0].keys()"
      ],
      "execution_count": null,
      "outputs": [
        {
          "output_type": "execute_result",
          "data": {
            "text/plain": [
              "dict_keys(['Make_ID', 'Make_Name'])"
            ]
          },
          "metadata": {},
          "execution_count": 63
        }
      ]
    },
    {
      "cell_type": "code",
      "metadata": {
        "colab": {
          "base_uri": "https://localhost:8080/"
        },
        "id": "379XfdcZHbSB",
        "outputId": "ed3b9ca6-cfa0-4b37-ddef-de969221853e"
      },
      "source": [
        "all_makes[0].values()"
      ],
      "execution_count": null,
      "outputs": [
        {
          "output_type": "execute_result",
          "data": {
            "text/plain": [
              "dict_values([11897, ' MID-TOWN TRAILERS'])"
            ]
          },
          "metadata": {},
          "execution_count": 64
        }
      ]
    },
    {
      "cell_type": "code",
      "source": [
        "# Answering our initial question: Here is the dictionary of all makes\n",
        "makes_dict = {make[\"Make_Name\"]:make[\"Make_ID\"] for make in all_makes}\n",
        "makes_dict\n",
        "len(makes_dict)"
      ],
      "metadata": {
        "colab": {
          "base_uri": "https://localhost:8080/"
        },
        "id": "8IakqG9P7Yoh",
        "outputId": "1bcefd43-a172-4dc5-d6e0-1b2cff1af798"
      },
      "execution_count": null,
      "outputs": [
        {
          "output_type": "execute_result",
          "data": {
            "text/plain": [
              "10687"
            ]
          },
          "metadata": {},
          "execution_count": 65
        }
      ]
    },
    {
      "cell_type": "markdown",
      "metadata": {
        "id": "U09JM4LgH6FO"
      },
      "source": [
        "### 2. How many different cars does Volkswagen produce?\n",
        "In order to solve the second question, we can look for APIs to pull the information!"
      ]
    },
    {
      "cell_type": "code",
      "metadata": {
        "colab": {
          "base_uri": "https://localhost:8080/"
        },
        "id": "-c00xMs0L34O",
        "outputId": "50bc6512-6839-4548-a1a3-fe9d3b7eba79"
      },
      "source": [
        "# Check if a certain key is in a dictionary - in the values above, no Volkswagen are listed\n",
        "'Volkswagen' in makes_dict.keys()"
      ],
      "execution_count": null,
      "outputs": [
        {
          "output_type": "execute_result",
          "data": {
            "text/plain": [
              "False"
            ]
          },
          "metadata": {},
          "execution_count": 47
        }
      ]
    },
    {
      "cell_type": "code",
      "metadata": {
        "id": "cKiiF1AiIGGn"
      },
      "source": [
        "url = \" https://vpic.nhtsa.dot.gov/api/vehicles/GetModelsForMake/VOLKSWAGEN?format=json\"\n",
        "vw_models = requests.get(url, timeout=5)\n",
        "vw_models = vw_models.json()[\"Results\"]"
      ],
      "execution_count": null,
      "outputs": []
    },
    {
      "cell_type": "code",
      "metadata": {
        "id": "ApokqVJEJmvA"
      },
      "source": [
        "model_names = [model[\"Model_Name\"] for model in vw_models]"
      ],
      "execution_count": null,
      "outputs": []
    },
    {
      "cell_type": "code",
      "metadata": {
        "colab": {
          "base_uri": "https://localhost:8080/"
        },
        "id": "OeF56MU0IINo",
        "outputId": "78fd08f5-1cb7-4394-db9d-12e615969d81"
      },
      "source": [
        "len(model_names)"
      ],
      "execution_count": null,
      "outputs": [
        {
          "output_type": "execute_result",
          "data": {
            "text/plain": [
              "44"
            ]
          },
          "metadata": {},
          "execution_count": 50
        }
      ]
    },
    {
      "cell_type": "markdown",
      "metadata": {
        "id": "qBOCAyisA8i7"
      },
      "source": [
        "\n",
        "# Data Structures\n",
        "\n",
        "Data structures are a way of organizing and storing data so that information can be accessed and worked with efficiently. They define the relationship between the data, and the operations that can be performed on the data. There are many various kinds of data structures defined that make it easier for the data scientists and computer engineers alike to concentrate on the main picture of solving larger problems rather than getting lost in the details of data description and access.\n",
        "\n",
        "![image](https://av-eks-blogoptimized.s3.amazonaws.com/17699Append-a-Dictionary-to-a-list-in-Python-5-i2tutorials.png)\n",
        "\n",
        "`list` :\n",
        "- Mutable i.e. contents can be modified by methods such as append()\n",
        "- Sequence of Python objects of ANY type\n",
        "- 0-based index \n",
        "\n",
        "`dictionnaries` :\n",
        "- Mutable\n",
        "- key-value pairs, with the requirement that the keys are unique (within one dictionary)\n"
      ]
    },
    {
      "cell_type": "markdown",
      "metadata": {
        "id": "0mnOHaZpZ1CU"
      },
      "source": [
        "# 1. Lists"
      ]
    },
    {
      "cell_type": "markdown",
      "metadata": {
        "id": "-oSu6gR9bjdj"
      },
      "source": [
        "### Creating a list"
      ]
    },
    {
      "cell_type": "code",
      "metadata": {
        "colab": {
          "base_uri": "https://localhost:8080/"
        },
        "id": "1gUdm3jfzlCB",
        "outputId": "41cebf49-bee1-4f80-8648-b9f7b7a50c08"
      },
      "source": [
        "# Creating an empty list\n",
        "empty = []\n",
        "print(empty)\n",
        "type(empty)"
      ],
      "execution_count": 1,
      "outputs": [
        {
          "output_type": "stream",
          "name": "stdout",
          "text": [
            "[]\n"
          ]
        },
        {
          "output_type": "execute_result",
          "data": {
            "text/plain": [
              "list"
            ]
          },
          "metadata": {},
          "execution_count": 1
        }
      ]
    },
    {
      "cell_type": "code",
      "metadata": {
        "colab": {
          "base_uri": "https://localhost:8080/"
        },
        "id": "X6_VTC9moTAM",
        "outputId": "f077d612-7184-4323-b7a3-0a5213150839"
      },
      "source": [
        "# using square brackets with initial values\n",
        "numbers = [1, 2, 3, 4, 5, 6, 7, 8]\n",
        "numbers"
      ],
      "execution_count": null,
      "outputs": [
        {
          "output_type": "execute_result",
          "data": {
            "text/plain": [
              "[1, 2, 3, 4, 5, 6, 7, 8]"
            ]
          },
          "metadata": {},
          "execution_count": 70
        }
      ]
    },
    {
      "cell_type": "code",
      "metadata": {
        "colab": {
          "base_uri": "https://localhost:8080/"
        },
        "id": "jBqfcq6Q4-Yl",
        "outputId": "fa0eeabc-7e26-4f03-ae3d-99364568bb3e"
      },
      "source": [
        "# By mixing data types: Lists can contain multple data types\n",
        "mixed = ['VW', 19000, 22000.00]\n",
        "print(mixed)"
      ],
      "execution_count": null,
      "outputs": [
        {
          "output_type": "stream",
          "name": "stdout",
          "text": [
            "['VW', 19000, 22000.0]\n"
          ]
        }
      ]
    },
    {
      "cell_type": "code",
      "metadata": {
        "colab": {
          "base_uri": "https://localhost:8080/"
        },
        "id": "fIeu752k15FL",
        "outputId": "4acb4c87-ed79-4bf7-f06f-577e9dcec7cd"
      },
      "source": [
        "# creating a multi-dimensional list (nesting a list inside a list)\n",
        "nested = [['ReDi', 'is'], ['fun']]\n",
        "print(nested)"
      ],
      "execution_count": 2,
      "outputs": [
        {
          "output_type": "stream",
          "name": "stdout",
          "text": [
            "[['ReDi', 'is'], ['fun']]\n"
          ]
        }
      ]
    },
    {
      "cell_type": "markdown",
      "metadata": {
        "id": "2niJlWMAZMCu"
      },
      "source": [
        "#### **Exercise**\n",
        "Create a list named ***first_list*** containing a name of a car brand, a price and a kilometer amount."
      ]
    },
    {
      "cell_type": "code",
      "metadata": {
        "id": "70zc8aGr0p2O"
      },
      "source": [
        "# your code here"
      ],
      "execution_count": null,
      "outputs": []
    },
    {
      "cell_type": "markdown",
      "metadata": {
        "id": "_rehYX145nEk"
      },
      "source": [
        "### Access item within a list\n",
        "Items in lists can be accessed using indices in a similar fashion to strings.\n",
        "\n",
        "![image](https://media.geeksforgeeks.org/wp-content/uploads/List-Slicing.jpg)\n"
      ]
    },
    {
      "cell_type": "code",
      "metadata": {
        "colab": {
          "base_uri": "https://localhost:8080/"
        },
        "id": "b5kUpdmp2bKY",
        "outputId": "b45a0da4-9234-4dc1-ef4a-54f9dd342d47"
      },
      "source": [
        "# access first item (remember: index starts at 0, NOT at 1)\n",
        "numbers[0]"
      ],
      "execution_count": null,
      "outputs": [
        {
          "output_type": "execute_result",
          "data": {
            "text/plain": [
              "1"
            ]
          },
          "metadata": {},
          "execution_count": 72
        }
      ]
    },
    {
      "cell_type": "code",
      "metadata": {
        "colab": {
          "base_uri": "https://localhost:8080/"
        },
        "id": "j5XB0hVZ6S5E",
        "outputId": "e4de3b3f-34ce-4c5d-ba41-70eb971b934c"
      },
      "source": [
        "# access items in reverse, starting from the last indice\n",
        "numbers[-2] # second to last item"
      ],
      "execution_count": null,
      "outputs": [
        {
          "output_type": "execute_result",
          "data": {
            "text/plain": [
              "7"
            ]
          },
          "metadata": {},
          "execution_count": 73
        }
      ]
    },
    {
      "cell_type": "code",
      "source": [
        "# access multiple items within a list from an index to the end of the list\n",
        "numbers[-7:-1]\n",
        "numbers[1:]"
      ],
      "metadata": {
        "id": "nDcW0RqaEp6x"
      },
      "execution_count": null,
      "outputs": []
    },
    {
      "cell_type": "code",
      "source": [
        "# access all items until specific index\n",
        "numbers[:1]"
      ],
      "metadata": {
        "id": "CsD4qhJCE0ru"
      },
      "execution_count": null,
      "outputs": []
    },
    {
      "cell_type": "code",
      "source": [
        "# access all values between two indices\n",
        "numbers[4:6]"
      ],
      "metadata": {
        "id": "968A8K_zE5Hl"
      },
      "execution_count": null,
      "outputs": []
    },
    {
      "cell_type": "code",
      "source": [
        "# access elements in a nested list\n",
        "nested[1][0]"
      ],
      "metadata": {
        "colab": {
          "base_uri": "https://localhost:8080/",
          "height": 36
        },
        "id": "vhjkggT-M7_b",
        "outputId": "a24ee61f-f692-4fd2-ede5-eec82de2e662"
      },
      "execution_count": 3,
      "outputs": [
        {
          "output_type": "execute_result",
          "data": {
            "text/plain": [
              "'fun'"
            ],
            "application/vnd.google.colaboratory.intrinsic+json": {
              "type": "string"
            }
          },
          "metadata": {},
          "execution_count": 3
        }
      ]
    },
    {
      "cell_type": "markdown",
      "metadata": {
        "id": "Gt67LsqQaSlt"
      },
      "source": [
        "#### **Exercise**\n",
        "- Access the first element of the list 'nested'. \n",
        "- Of what type is the first element of this list 'nested'?\n",
        "- Access the last element from the list 'mixed'\n",
        "- Get the length of the list 'numbers'\n",
        "- Extract items 0 to 5 from makes_list\n",
        "- Extract items 1:3 from makes_list"
      ]
    },
    {
      "cell_type": "code",
      "metadata": {
        "id": "46gi16Y0izNh"
      },
      "source": [
        "# your code here"
      ],
      "execution_count": null,
      "outputs": []
    },
    {
      "cell_type": "markdown",
      "source": [
        "### Since lists are a mutable data type, once a list has been created:\n",
        "\n",
        "* Elements can be modified.\n",
        "* Individual values can be replaced.\n",
        "* The order of elements can be changed.\n",
        "* Elements can be added and deleted.\n"
      ],
      "metadata": {
        "id": "YGNbYFx-ON7E"
      }
    },
    {
      "cell_type": "markdown",
      "metadata": {
        "id": "wzPgAr_s_CrC"
      },
      "source": [
        "### Replace element"
      ]
    },
    {
      "cell_type": "code",
      "metadata": {
        "id": "l--tYWXG92go",
        "colab": {
          "base_uri": "https://localhost:8080/",
          "height": 36
        },
        "outputId": "23138ec8-f8d0-4624-8715-e58eff1ccda3"
      },
      "source": [
        "# currently the first value of letters is 'a'\n",
        "letters = [\"a\", \"b\"]\n",
        "letters[0]"
      ],
      "execution_count": 25,
      "outputs": [
        {
          "output_type": "execute_result",
          "data": {
            "text/plain": [
              "'a'"
            ],
            "application/vnd.google.colaboratory.intrinsic+json": {
              "type": "string"
            }
          },
          "metadata": {},
          "execution_count": 25
        }
      ]
    },
    {
      "cell_type": "code",
      "metadata": {
        "id": "BZGy8c8bov2q",
        "colab": {
          "base_uri": "https://localhost:8080/"
        },
        "outputId": "9a597583-f94c-43cc-bc80-e3f90fdaecb1"
      },
      "source": [
        "# we can overwrite this value, by specifiying a new value for the same index\n",
        "letters[0] = 'Hey I am new'\n",
        "letters"
      ],
      "execution_count": 26,
      "outputs": [
        {
          "output_type": "execute_result",
          "data": {
            "text/plain": [
              "['Hey I am new', 'b']"
            ]
          },
          "metadata": {},
          "execution_count": 26
        }
      ]
    },
    {
      "cell_type": "markdown",
      "metadata": {
        "id": "g4-XjayC8KO7"
      },
      "source": [
        "### Adding and deleting elements"
      ]
    },
    {
      "cell_type": "code",
      "metadata": {
        "id": "7l9O1BOz89Sg",
        "colab": {
          "base_uri": "https://localhost:8080/"
        },
        "outputId": "7a18cdd3-f8bc-4807-8694-a047414ca9dc"
      },
      "source": [
        "# append to the end of a list\n",
        "makes_list.append(\"brandnew carbrand\")\n",
        "\n",
        "print(\"brandnew carbrand\" in makes_list)\n",
        "print(makes_list.index(\"brandnew carbrand\"))"
      ],
      "execution_count": 27,
      "outputs": [
        {
          "output_type": "stream",
          "name": "stdout",
          "text": [
            "True\n",
            "10690\n"
          ]
        }
      ]
    },
    {
      "cell_type": "code",
      "metadata": {
        "id": "MCzG_Dqf9V9K"
      },
      "source": [
        "# Extending with a dictionary\n",
        "my_dict = {\"car_brand\":\"tesla\"}"
      ],
      "execution_count": 28,
      "outputs": []
    },
    {
      "cell_type": "code",
      "metadata": {
        "id": "UYn06yndAoNH",
        "colab": {
          "base_uri": "https://localhost:8080/"
        },
        "outputId": "fc8f098f-42d9-4256-bb1e-14740d5f7016"
      },
      "source": [
        "more_letters = ['e', 'f', 'g']\n",
        "letters.append(my_dict)\n",
        "letters"
      ],
      "execution_count": 29,
      "outputs": [
        {
          "output_type": "execute_result",
          "data": {
            "text/plain": [
              "['Hey I am new', 'b', {'car_brand': 'tesla'}]"
            ]
          },
          "metadata": {},
          "execution_count": 29
        }
      ]
    },
    {
      "cell_type": "code",
      "metadata": {
        "id": "KgMcKp5W9fI7",
        "colab": {
          "base_uri": "https://localhost:8080/"
        },
        "outputId": "36f73490-ac35-4a9f-e13d-ce3ec83087b9"
      },
      "source": [
        "# insert an element at the specific index\n",
        "makes_list.insert(0, 'Tesla2')\n",
        "makes_list[0:5]"
      ],
      "execution_count": 22,
      "outputs": [
        {
          "output_type": "execute_result",
          "data": {
            "text/plain": [
              "['Tesla2', 'Tesla2', 'Tesla2', 'Tesla2', ' MID-TOWN TRAILERS']"
            ]
          },
          "metadata": {},
          "execution_count": 22
        }
      ]
    },
    {
      "cell_type": "code",
      "source": [
        "# deleting an element\n",
        "print(letters)\n",
        "del letters[2]\n",
        "print(letters)"
      ],
      "metadata": {
        "colab": {
          "base_uri": "https://localhost:8080/"
        },
        "id": "l6xFjpEhRARX",
        "outputId": "fbde23cb-453f-4bbf-acf9-7a71a84b70a7"
      },
      "execution_count": 31,
      "outputs": [
        {
          "output_type": "stream",
          "name": "stdout",
          "text": [
            "['Hey I am new', 'b', {'car_brand': 'tesla'}]\n",
            "['Hey I am new', 'b']\n"
          ]
        }
      ]
    },
    {
      "cell_type": "markdown",
      "metadata": {
        "id": "SxpzGoM_Z_RU"
      },
      "source": [
        "# 2. Dictionaries \n",
        "Dictionaries are mappings of key value pairs."
      ]
    },
    {
      "cell_type": "markdown",
      "source": [
        "### Creating a dictionary"
      ],
      "metadata": {
        "id": "_x-j9qBhUXGD"
      }
    },
    {
      "cell_type": "code",
      "metadata": {
        "id": "45C_FS-eoR-3",
        "colab": {
          "base_uri": "https://localhost:8080/"
        },
        "outputId": "201ccdd2-2b66-45b9-faec-92e092995681"
      },
      "source": [
        "# Create an empty dict using constructor\n",
        "dictionary = dict()\n",
        "dictionary"
      ],
      "execution_count": 33,
      "outputs": [
        {
          "output_type": "execute_result",
          "data": {
            "text/plain": [
              "{}"
            ]
          },
          "metadata": {},
          "execution_count": 33
        }
      ]
    },
    {
      "cell_type": "code",
      "metadata": {
        "id": "El6HcTagolLw",
        "colab": {
          "base_uri": "https://localhost:8080/"
        },
        "outputId": "e48edab2-bfca-451c-d99e-f00f42d1e4b8"
      },
      "source": [
        "# Create an empty dict using curley braces\n",
        "dictionary = {}\n",
        "dictionary"
      ],
      "execution_count": 34,
      "outputs": [
        {
          "output_type": "execute_result",
          "data": {
            "text/plain": [
              "{}"
            ]
          },
          "metadata": {},
          "execution_count": 34
        }
      ]
    },
    {
      "cell_type": "code",
      "metadata": {
        "id": "oRTWGBtvpYcb",
        "colab": {
          "base_uri": "https://localhost:8080/"
        },
        "outputId": "1f810ba0-c3f1-403f-f738-a2b8d781d060"
      },
      "source": [
        "# Use curley braces to create a dictionary with initial key/values\n",
        "cars = {\"1\": \"Tesla\",\n",
        "        '2': 'VW',\n",
        "        '3': ['BMW', 'Hyundai']}\n",
        "cars"
      ],
      "execution_count": 37,
      "outputs": [
        {
          "output_type": "execute_result",
          "data": {
            "text/plain": [
              "{'1': 'Tesla', '2': 'VW', '3': ['BMW', 'Hyundai']}"
            ]
          },
          "metadata": {},
          "execution_count": 37
        }
      ]
    },
    {
      "cell_type": "markdown",
      "metadata": {
        "id": "ttLJtH1d0guL"
      },
      "source": [
        "#### **Exercise**\n",
        "\n",
        "- Create a dictionnary `country_main_city` with keys\n",
        "\n",
        "\n",
        " `['France', 'Germany', 'Syria', 'Turkey', 'Nigeria', 'Argentina']`\n",
        "\n",
        " And values \n",
        "\n",
        "` ['Paris', 'Berlin', 'Damascus', 'Ankara', 'Abuja', 'Buenos Aires']`"
      ]
    },
    {
      "cell_type": "code",
      "source": [
        "# your code here"
      ],
      "metadata": {
        "id": "jhE7Sy7SU5lU"
      },
      "execution_count": null,
      "outputs": []
    },
    {
      "cell_type": "markdown",
      "metadata": {
        "id": "0JQVmd5_1aUn"
      },
      "source": [
        "#### **Exercise**\n",
        "\n",
        "Using the dictionnary `country_main_city` and extract the capital of Nigeria"
      ]
    },
    {
      "cell_type": "code",
      "source": [
        "# your code here"
      ],
      "metadata": {
        "id": "F9mhllmmU8As"
      },
      "execution_count": null,
      "outputs": []
    },
    {
      "cell_type": "markdown",
      "source": [
        "### Access an element"
      ],
      "metadata": {
        "id": "XuThCpfWWAFk"
      }
    },
    {
      "cell_type": "code",
      "source": [
        "# accessing an element using key\n",
        "country_dictionary['France']"
      ],
      "metadata": {
        "colab": {
          "base_uri": "https://localhost:8080/",
          "height": 36
        },
        "id": "Wn7rORndV-lR",
        "outputId": "637c8fdf-872d-41af-e158-4b7c523246cc"
      },
      "execution_count": 45,
      "outputs": [
        {
          "output_type": "execute_result",
          "data": {
            "text/plain": [
              "'Paris'"
            ],
            "application/vnd.google.colaboratory.intrinsic+json": {
              "type": "string"
            }
          },
          "metadata": {},
          "execution_count": 45
        }
      ]
    },
    {
      "cell_type": "code",
      "metadata": {
        "id": "hM4prk4bA4HO",
        "colab": {
          "base_uri": "https://localhost:8080/"
        },
        "outputId": "b9938ac3-2f5d-4609-b2e2-9cbee29c62cf"
      },
      "source": [
        "# accessing an element using get()\n",
        "print(country_dictionary.get('France'))"
      ],
      "execution_count": 49,
      "outputs": [
        {
          "output_type": "stream",
          "name": "stdout",
          "text": [
            "Paris\n"
          ]
        }
      ]
    },
    {
      "cell_type": "markdown",
      "metadata": {
        "id": "UBSLRWEeqE-W"
      },
      "source": [
        "### Add a key/value pair to an existing dictionary"
      ]
    },
    {
      "cell_type": "code",
      "metadata": {
        "id": "37H75RGQAANc",
        "colab": {
          "base_uri": "https://localhost:8080/"
        },
        "outputId": "14de6b19-cd20-42f6-e1b6-33e2a63d106f"
      },
      "source": [
        "# adding Ghana\n",
        "country_dictionary[\"Ghana\"] = \"Accra\"\n",
        "country_dictionary"
      ],
      "execution_count": 41,
      "outputs": [
        {
          "output_type": "execute_result",
          "data": {
            "text/plain": [
              "{'France': 'Paris',\n",
              " 'Germany': 'Berlin',\n",
              " 'Syria': 'Damascus',\n",
              " 'Turkey': 'Ankara',\n",
              " 'Nigeria': 'Abuja',\n",
              " 'Argentina': 'Buenos Aires',\n",
              " 'Ghana': 'Accra'}"
            ]
          },
          "metadata": {},
          "execution_count": 41
        }
      ]
    },
    {
      "cell_type": "code",
      "metadata": {
        "id": "juO8YO9_BQVD"
      },
      "source": [
        "# adding Nigeria\n",
        "country_dictionary['Nigeria'] = 'Lagos'"
      ],
      "execution_count": null,
      "outputs": []
    },
    {
      "cell_type": "markdown",
      "metadata": {
        "id": "xmHWK2hHq7c_"
      },
      "source": [
        "### Update value for existing key"
      ]
    },
    {
      "cell_type": "code",
      "metadata": {
        "id": "UsTOsCz0BdoU"
      },
      "source": [
        "# initially the value for France is Paris, but we assign a new value to the key\n",
        "country_dictionary['France'] = 'Marseille'\n",
        "country_dictionary"
      ],
      "execution_count": null,
      "outputs": []
    },
    {
      "cell_type": "markdown",
      "metadata": {
        "id": "fuO7wPXA1p8r"
      },
      "source": [
        "### **Exercise**\n",
        "\n",
        "Add the capital of Italy to the dictionnary `country_main_city`"
      ]
    },
    {
      "cell_type": "code",
      "metadata": {
        "id": "IAsTUtUeAHOk"
      },
      "source": [
        "# your code here"
      ],
      "execution_count": null,
      "outputs": []
    },
    {
      "cell_type": "markdown",
      "metadata": {
        "id": "_ot60Snlra6K"
      },
      "source": [
        "### Get keys"
      ]
    },
    {
      "cell_type": "code",
      "metadata": {
        "id": "Lv726tMhrYnh",
        "colab": {
          "base_uri": "https://localhost:8080/"
        },
        "outputId": "cfe7d816-dca2-451b-ac3f-63d8a7edcec2"
      },
      "source": [
        "list(country_dictionary.keys())"
      ],
      "execution_count": 43,
      "outputs": [
        {
          "output_type": "execute_result",
          "data": {
            "text/plain": [
              "['France',\n",
              " 'Germany',\n",
              " 'Syria',\n",
              " 'Turkey',\n",
              " 'Nigeria',\n",
              " 'Argentina',\n",
              " 'Ghana',\n",
              " ('France', 'Monaco')]"
            ]
          },
          "metadata": {},
          "execution_count": 43
        }
      ]
    },
    {
      "cell_type": "markdown",
      "metadata": {
        "id": "WGJyKhKgrf11"
      },
      "source": [
        "### Get values"
      ]
    },
    {
      "cell_type": "code",
      "metadata": {
        "id": "F7F-fNMMrhT5",
        "colab": {
          "base_uri": "https://localhost:8080/"
        },
        "outputId": "b30c3b01-73a0-41ab-c4bf-ccc7bc137e98"
      },
      "source": [
        "list(country_dictionary.values())"
      ],
      "execution_count": 44,
      "outputs": [
        {
          "output_type": "execute_result",
          "data": {
            "text/plain": [
              "['Paris',\n",
              " 'Berlin',\n",
              " 'Damascus',\n",
              " 'Ankara',\n",
              " 'Abuja',\n",
              " 'Buenos Aires',\n",
              " 'Accra',\n",
              " ['test', '1']]"
            ]
          },
          "metadata": {},
          "execution_count": 44
        }
      ]
    },
    {
      "cell_type": "markdown",
      "source": [
        "## Additional Resources:\n",
        "\n",
        "\n",
        "* https://www.geeksforgeeks.org/python-data-structures/\n",
        "* https://realpython.com/lessons/lists-mutable-dynamic/\n",
        "\n"
      ],
      "metadata": {
        "id": "Xgca5W-mKGDK"
      }
    }
  ]
}