{
  "nbformat": 4,
  "nbformat_minor": 0,
  "metadata": {
    "colab": {
      "name": "EDA & Plotting Project RENTALS.ipynb",
      "provenance": [],
      "collapsed_sections": []
    },
    "kernelspec": {
      "name": "python3",
      "display_name": "Python 3"
    }
  },
  "cells": [
    {
      "cell_type": "markdown",
      "metadata": {
        "id": "YAmw_s-VtIaV"
      },
      "source": [
        "# Project - EDA on Berlin Rentals\n",
        "\n",
        "--- \n",
        "## The description:\n",
        "This is our very familiar Berlin rentals dataset :)\n",
        "\n",
        "--- \n",
        "## The dataset:\n",
        "The datasets contains information about rental appartments in Berlin. \n",
        "One row is for one appartment. The dataset contains 6 columns.  \n",
        "- Region: is the Berlin district, where the flat is located\n",
        "- Condition: is the condition of the flat\n",
        "- Rooms: The number of rooms the flat has\n",
        "- Rent: Monthly rent for the flat\n",
        "- Year_Construction: The year in which the house was build\n",
        "- Space: How many square meters does the flat has?\n",
        "\n",
        "--- \n",
        "## The Task:\n",
        "\n",
        "You want to find why some flats are more expensive than others. For this we will explore the different variables. \n",
        "1. Have a look at the variables and formulate for every variable a hypothesis, how the variable affects the price of the flat.\n",
        "2. Create an analysis for every hypothesis. Show your conclusion with a plot. \n",
        "3. Write a short conclusion to every hypothesis test.\n",
        "\n",
        "Some hints:\n",
        "- Look at correlation plots and try to find patterns that explain the price of a house\n",
        "- Try to use the hue variable to compare different categorical variables (e.g. condition)\n",
        "- BONUS Try to create your own variables to extract one effect and seek to explain it"
      ]
    },
    {
      "cell_type": "code",
      "metadata": {
        "id": "B9acuR4KbdVQ"
      },
      "source": [
        "# Your code here"
      ],
      "execution_count": 2,
      "outputs": []
    },
    {
      "cell_type": "code",
      "metadata": {
        "colab": {
          "base_uri": "https://localhost:8080/",
          "height": 167
        },
        "id": "t_oU8YSOt-b0",
        "cellView": "form",
        "outputId": "df0afd5c-a0d3-434a-a558-ef1b42b858b8"
      },
      "source": [
        "#@title Review Criteria:\n",
        "%%html\n",
        "<h3><input type=\"checkbox\"> 1. Are all questions answered? <br></h3> \n",
        "<h3><input type=\"checkbox\"> 2. Does all code run through? <br></h3> \n",
        "<h3><input type=\"checkbox\"> 3. Are the conclusions understandable?  <br></h3> \n",
        "<h3><input type=\"checkbox\"> 4. Are the bonus question answered?  <br></h3> "
      ],
      "execution_count": null,
      "outputs": [
        {
          "output_type": "display_data",
          "data": {
            "text/html": [
              "<h3><input type=\"checkbox\"> 1. Are all questions answered? <br></h3> \n",
              "<h3><input type=\"checkbox\"> 2. Does all code run through? <br></h3> \n",
              "<h3><input type=\"checkbox\"> 3. Are the conclusions understandable?  <br></h3> \n",
              "<h3><input type=\"checkbox\"> 4. Are the bonus question answered?  <br></h3> "
            ],
            "text/plain": [
              "<IPython.core.display.HTML object>"
            ]
          },
          "metadata": {
            "tags": []
          }
        }
      ]
    },
    {
      "cell_type": "code",
      "metadata": {
        "id": "fRTB2f8LuOsP"
      },
      "source": [
        "input(\"Do you have any feedback?\")"
      ],
      "execution_count": null,
      "outputs": []
    }
  ]
}