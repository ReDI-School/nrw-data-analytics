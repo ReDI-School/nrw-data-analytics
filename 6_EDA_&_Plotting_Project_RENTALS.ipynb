{
  "nbformat": 4,
  "nbformat_minor": 0,
  "metadata": {
    "colab": {
      "name": "EDA & Plotting Project RENTALS.ipynb",
      "provenance": [],
      "collapsed_sections": []
    },
    "kernelspec": {
      "name": "python3",
      "display_name": "Python 3"
    }
  },
  "cells": [
    {
      "cell_type": "markdown",
      "metadata": {
        "id": "YAmw_s-VtIaV"
      },
      "source": [
        "# Project - EDA on Berlin Rentals\n",
        "\n",
        "--- \n",
        "## The description:\n",
        "This is our very familiar Berlin rentals dataset :)\n",
        "\n",
        "--- \n",
        "## The dataset:\n",
        "The datasets contains information about rental appartments in Berlin. \n",
        "One row is for one appartment. The dataset contains 6 columns.  \n",
        "- Region: is the Berlin district, where the flat is located\n",
        "- Condition: is the condition of the flat\n",
        "- Rooms: The number of rooms the flat has\n",
        "- Rent: Monthly rent for the flat\n",
        "- Year_Construction: The year in which the house was build\n",
        "- Space: How many square meters does the flat has?\n",
        "\n",
        "--- \n",
        "## The Task:\n",
        "\n",
        "You want to find why some flats are more expensive than others. For this we will explore the different variables. \n",
        "1. Have a look at the variables and formulate for every variable a hypothesis, how the variable affects the price of the flat.\n",
        "2. Create an analysis for every hypothesis. Show your conclusion with a plot. \n",
        "3. Write a short conclusion to every hypothesis test.\n",
        "\n",
        "Some hints:\n",
        "- Look at correlation plots and try to find patterns that explain the price of a house\n",
        "- Try to use the hue variable to compare different categorical variables (e.g. condition)\n",
        "- BONUS Try to create your own variables to extract one effect and seek to explain it"
      ]
    },
    {
      "cell_type": "code",
      "metadata": {
        "id": "0v0eabqTIVKW"
      },
      "source": [
        ""
      ],
      "execution_count": null,
      "outputs": []
    },
    {
      "cell_type": "code",
      "metadata": {
        "id": "AckRu5ccGF61"
      },
      "source": [
        "# Imports\n",
        "import pandas as pd\n",
        "import seaborn as sns\n",
        "\n",
        "# Get the dataset\n",
        "rentals = pd.read_csv('https://raw.githubusercontent.com/juliandnl/redi_ss20/master/berlin_rental.csv')"
      ],
      "execution_count": null,
      "outputs": []
    },
    {
      "cell_type": "code",
      "metadata": {
        "colab": {
          "base_uri": "https://localhost:8080/"
        },
        "id": "pbDLWzyaZi1F",
        "outputId": "5f3f4470-1591-4d4f-c795-742d8364fb51"
      },
      "source": [
        "rentals.info()"
      ],
      "execution_count": null,
      "outputs": [
        {
          "output_type": "stream",
          "text": [
            "<class 'pandas.core.frame.DataFrame'>\n",
            "RangeIndex: 764 entries, 0 to 763\n",
            "Data columns (total 6 columns):\n",
            " #   Column             Non-Null Count  Dtype  \n",
            "---  ------             --------------  -----  \n",
            " 0   Region             764 non-null    object \n",
            " 1   Condition          764 non-null    object \n",
            " 2   Rooms              764 non-null    float64\n",
            " 3   Rent               764 non-null    float64\n",
            " 4   Year_Construction  764 non-null    int64  \n",
            " 5   Space              764 non-null    float64\n",
            "dtypes: float64(3), int64(1), object(2)\n",
            "memory usage: 35.9+ KB\n"
          ],
          "name": "stdout"
        }
      ]
    },
    {
      "cell_type": "code",
      "metadata": {
        "id": "2xJJxJOtRi5T",
        "colab": {
          "base_uri": "https://localhost:8080/",
          "height": 297
        },
        "outputId": "9cbc3c48-0db4-4f91-b1ea-397af89fe232"
      },
      "source": [
        "# Hypothosis 1: The bigger the flat the higher the price\n",
        "sns.histplot(rentals, x = 'Rent', y = 'Space')"
      ],
      "execution_count": null,
      "outputs": [
        {
          "output_type": "execute_result",
          "data": {
            "text/plain": [
              "<matplotlib.axes._subplots.AxesSubplot at 0x7f88ff3f7950>"
            ]
          },
          "metadata": {
            "tags": []
          },
          "execution_count": 3
        },
        {
          "output_type": "display_data",
          "data": {
            "image/png": "[encoded data removed]",
            "text/plain": [
              "<Figure size 432x288 with 1 Axes>"
            ]
          },
          "metadata": {
            "tags": [],
            "needs_background": "light"
          }
        }
      ]
    },
    {
      "cell_type": "code",
      "metadata": {
        "colab": {
          "base_uri": "https://localhost:8080/",
          "height": 297
        },
        "id": "B9acuR4KbdVQ",
        "outputId": "aa958673-63a8-4edd-a520-30f5f289adbc"
      },
      "source": [
        "\n",
        "sns.histplot(rentals, y = 'Rent', x = 'Rooms')"
      ],
      "execution_count": null,
      "outputs": [
        {
          "output_type": "execute_result",
          "data": {
            "text/plain": [
              "<matplotlib.axes._subplots.AxesSubplot at 0x7f88fe897490>"
            ]
          },
          "metadata": {
            "tags": []
          },
          "execution_count": 4
        },
        {
          "output_type": "display_data",
          "data": {
            "image/png": "[encoded data removed]",
            "text/plain": [
              "<Figure size 432x288 with 1 Axes>"
            ]
          },
          "metadata": {
            "tags": [],
            "needs_background": "light"
          }
        }
      ]
    },
    {
      "cell_type": "code",
      "metadata": {
        "colab": {
          "base_uri": "https://localhost:8080/",
          "height": 167
        },
        "id": "t_oU8YSOt-b0",
        "cellView": "form",
        "outputId": "df0afd5c-a0d3-434a-a558-ef1b42b858b8"
      },
      "source": [
        "#@title Review Criteria:\n",
        "%%html\n",
        "<h3><input type=\"checkbox\"> 1. Are all questions answered? <br></h3> \n",
        "<h3><input type=\"checkbox\"> 2. Does all code run through? <br></h3> \n",
        "<h3><input type=\"checkbox\"> 3. Are the conclusions understandable?  <br></h3> \n",
        "<h3><input type=\"checkbox\"> 4. Are the bonus question answered?  <br></h3> "
      ],
      "execution_count": null,
      "outputs": [
        {
          "output_type": "display_data",
          "data": {
            "text/html": [
              "<h3><input type=\"checkbox\"> 1. Are all questions answered? <br></h3> \n",
              "<h3><input type=\"checkbox\"> 2. Does all code run through? <br></h3> \n",
              "<h3><input type=\"checkbox\"> 3. Are the conclusions understandable?  <br></h3> \n",
              "<h3><input type=\"checkbox\"> 4. Are the bonus question answered?  <br></h3> "
            ],
            "text/plain": [
              "<IPython.core.display.HTML object>"
            ]
          },
          "metadata": {
            "tags": []
          }
        }
      ]
    },
    {
      "cell_type": "code",
      "metadata": {
        "id": "fRTB2f8LuOsP"
      },
      "source": [
        "input(\"Do you have any feedback?\")"
      ],
      "execution_count": null,
      "outputs": []
    }
  ]
}