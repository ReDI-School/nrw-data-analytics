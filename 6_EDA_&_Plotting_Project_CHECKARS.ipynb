{
  "nbformat": 4,
  "nbformat_minor": 0,
  "metadata": {
    "colab": {
      "name": "EDA & Plotting Project CHECKARS.ipynb",
      "provenance": [],
      "collapsed_sections": []
    },
    "kernelspec": {
      "name": "python3",
      "display_name": "Python 3"
    }
  },
  "cells": [
    {
      "cell_type": "markdown",
      "metadata": {
        "id": "YAmw_s-VtIaV"
      },
      "source": [
        "# Project - EDA on Berlin Rentals\n",
        "\n",
        "## Let's remember cars dataset:\n",
        "The dataset contains the information of 10.000 cars. There are 9 different columns:\n",
        "- Make (Car brand, example: Ford)\n",
        "- Model (The Model of the Car, example: Focus)\n",
        "- Year (The Year in which the car was build, example: 2012)\n",
        "- Variant (The car model version showing the PS, example: 1.6 Trendline)\n",
        "- Kms (The kilometers the cars has been driven, example: 90000)\n",
        "- Price (The offered price for the car, example: 10000)\n",
        "- Doors (How many doors the car has, example: 4)\n",
        "- Kind (Type of car, example: Pick-Up)\n",
        "- Location (Where the car is located, example: Buenos Aires)\n",
        "\n",
        "--- \n",
        "## The Task:\n",
        "\n",
        "You want to find why some cars are more expensive than others. For this we will explore the different variables. \n",
        "1. Have a look at the variables and formulate for every variable a hypothesis, how the variable affects the price of the flat.\n",
        "2. Create an analysis for every hypothesis. Show your conclusion with a plot. \n",
        "3. Write a short conclusion to every hypothesis test.\n",
        "\n",
        "Some hints:\n",
        "- Look at correlation plots and try to find patterns that explain the price of a car\n",
        "- Try to use the hue variable to compare different categorical variables (e.g. condition)\n",
        "- BONUS Try to create your own variables to extract one effect and seek to explain it"
      ]
    },
    {
      "cell_type": "code",
      "metadata": {
        "id": "AckRu5ccGF61"
      },
      "source": [
        "# Imports\n",
        "import pandas as pd\n",
        "import seaborn as sns\n",
        "\n",
        "#reading data\n",
        "cars = pd.read_csv(\"https://raw.githubusercontent.com/juliandnl/redi_ss20/master/cars.csv\")"
      ],
      "execution_count": null,
      "outputs": []
    },
    {
      "cell_type": "code",
      "metadata": {
        "id": "uHU1xAZVWvvp"
      },
      "source": [
        ""
      ],
      "execution_count": null,
      "outputs": []
    },
    {
      "cell_type": "code",
      "metadata": {
        "colab": {
          "base_uri": "https://localhost:8080/",
          "height": 165
        },
        "id": "t_oU8YSOt-b0",
        "cellView": "form",
        "outputId": "31add047-1b39-41a8-de14-6457c6adefe8"
      },
      "source": [
        "#@title Review Criteria:\n",
        "%%html\n",
        "<h3><input type=\"checkbox\"> 1. Are all questions answered? <br></h3> \n",
        "<h3><input type=\"checkbox\"> 2. Does all code run through? <br></h3> \n",
        "<h3><input type=\"checkbox\"> 3. Are the conclusions understandable?  <br></h3> \n",
        "<h3><input type=\"checkbox\"> 4. Are the bonus question answered?  <br></h3> "
      ],
      "execution_count": null,
      "outputs": [
        {
          "output_type": "display_data",
          "data": {
            "text/html": [
              "<h3><input type=\"checkbox\"> 1. Are all questions answered? <br></h3> \n",
              "<h3><input type=\"checkbox\"> 2. Does all code run through? <br></h3> \n",
              "<h3><input type=\"checkbox\"> 3. Are the conclusions understandable?  <br></h3> \n",
              "<h3><input type=\"checkbox\"> 4. Are the bonus question answered?  <br></h3> "
            ],
            "text/plain": [
              "<IPython.core.display.HTML object>"
            ]
          },
          "metadata": {
            "tags": []
          }
        }
      ]
    },
    {
      "cell_type": "code",
      "metadata": {
        "id": "fRTB2f8LuOsP"
      },
      "source": [
        "input(\"Do you have any feedback?\")"
      ],
      "execution_count": null,
      "outputs": []
    },
    {
      "cell_type": "code",
      "metadata": {
        "id": "ibYL2jc0ktR2"
      },
      "source": [
        ""
      ],
      "execution_count": null,
      "outputs": []
    }
  ]
}